{
  "nbformat": 4,
  "nbformat_minor": 0,
  "metadata": {
    "accelerator": "GPU",
    "colab": {
      "name": "SuperMario.ipynb",
      "provenance": [],
      "collapsed_sections": [],
      "toc_visible": true
    },
    "kernelspec": {
      "display_name": "Python 3",
      "name": "python3"
    }
  },
  "cells": [
    {
      "cell_type": "code",
      "metadata": {
        "id": "GH-DUbQqwAWe"
      },
      "source": [
        "!pip3 -q install gym-super-mario-bros\n",
        "!pip3 -q install matplotlib\n",
        "!pip3 -q install torchviz"
      ],
      "execution_count": null,
      "outputs": []
    },
    {
      "cell_type": "code",
      "metadata": {
        "id": "_XS82zJ6B-CI"
      },
      "source": [
        "# from google.colab import drive\r\n",
        "# drive.mount('/content/drive')"
      ],
      "execution_count": null,
      "outputs": []
    },
    {
      "cell_type": "code",
      "metadata": {
        "id": "BE1gecnPCBNV"
      },
      "source": [
        "# %cd /content/drive/My Drive/9223 Deep Learning\r\n",
        "\r\n",
        "# !pwd"
      ],
      "execution_count": null,
      "outputs": []
    },
    {
      "cell_type": "code",
      "metadata": {
        "id": "kSZOpXLBb_5o"
      },
      "source": [
        "import torch\n",
        "import torch.nn as nn\n",
        "import torch.nn.functional as F\n",
        "import torch.optim as optim\n",
        "import torchvision\n",
        "import torchvision.transforms as transforms\n",
        "import torchvision.utils as vutils\n",
        "\n",
        "import random\n",
        "import numpy as np\n",
        "import pandas as pd\n",
        "import matplotlib.pyplot as plt\n",
        "from IPython.display import HTML\n",
        "from matplotlib import animation\n",
        "from matplotlib import rc\n",
        "from collections import deque\n",
        "from tqdm import tqdm\n",
        "import collections\n",
        "\n",
        "%matplotlib inline\n",
        "rc('animation', html='html5')\n",
        "# rc('animation', html='jshtml')\n",
        "\n",
        "from nes_py.wrappers import JoypadSpace\n",
        "import gym_super_mario_bros\n",
        "from gym_super_mario_bros.actions import SIMPLE_MOVEMENT, RIGHT_ONLY\n",
        "import gym"
      ],
      "execution_count": null,
      "outputs": []
    },
    {
      "cell_type": "code",
      "metadata": {
        "colab": {
          "base_uri": "https://localhost:8080/"
        },
        "id": "9EOY9DYP02Kg",
        "outputId": "007208ae-42c6-44ba-dd08-fb12ad02a592"
      },
      "source": [
        "if torch.cuda.is_available():\n",
        "  device = torch.device(\"cuda\")\n",
        "  print ('Using GPU: ', torch.cuda.get_device_name( 0 ))\n",
        "else:\n",
        "  device = torch.device(\"cpu\")\n",
        "  print ('Using CPU')"
      ],
      "execution_count": null,
      "outputs": [
        {
          "output_type": "stream",
          "text": [
            "Using GPU:  Tesla V100-SXM2-16GB\n"
          ],
          "name": "stdout"
        }
      ]
    },
    {
      "cell_type": "markdown",
      "metadata": {
        "id": "tJHtTWcq1orL"
      },
      "source": [
        "# Initialize Environment"
      ]
    },
    {
      "cell_type": "code",
      "metadata": {
        "id": "VUNsaNI7db5z"
      },
      "source": [
        "env = gym_super_mario_bros.make('SuperMarioBros-1-1-v0')\n",
        "env = JoypadSpace(env, SIMPLE_MOVEMENT)"
      ],
      "execution_count": null,
      "outputs": []
    },
    {
      "cell_type": "code",
      "metadata": {
        "colab": {
          "base_uri": "https://localhost:8080/"
        },
        "id": "tSjT2rZRdecV",
        "outputId": "55e2cba3-4284-4615-ff16-98f5ccdd512e"
      },
      "source": [
        "action_space = env.get_action_meanings()\n",
        "action_space"
      ],
      "execution_count": null,
      "outputs": [
        {
          "output_type": "execute_result",
          "data": {
            "text/plain": [
              "['NOOP', 'right', 'right A', 'right B', 'right A B', 'A', 'left']"
            ]
          },
          "metadata": {
            "tags": []
          },
          "execution_count": 7
        }
      ]
    },
    {
      "cell_type": "code",
      "metadata": {
        "id": "yFxX-HRWdgeJ"
      },
      "source": [
        "def display_frames(frames):\n",
        "  \"\"\"\n",
        "  Displays a list of frames as a gif, with controls\n",
        "  \"\"\"\n",
        "  patch = plt.imshow(frames[0])\n",
        "  plt.axis('off')\n",
        "\n",
        "  def animate(i):\n",
        "    patch.set_data(frames[i])\n",
        "\n",
        "  anim = animation.FuncAnimation(plt.gcf(), animate, frames = len(frames), interval=20)\n",
        "  \n",
        "  return anim"
      ],
      "execution_count": null,
      "outputs": []
    },
    {
      "cell_type": "markdown",
      "metadata": {
        "id": "nqrpQRmXGPiH"
      },
      "source": [
        "## Test using a random agent"
      ]
    },
    {
      "cell_type": "code",
      "metadata": {
        "colab": {
          "base_uri": "https://localhost:8080/",
          "height": 248
        },
        "id": "xbTBbrOudmBy",
        "outputId": "079f84fc-a3ab-446e-f586-729d3919e90a"
      },
      "source": [
        "observation = env.reset()\n",
        "rewards = []\n",
        "infos = []\n",
        "MAX_STEPS = 100\n",
        "frames = np.zeros((MAX_STEPS, 240, 256, 3), dtype=np.uint8)\n",
        "xs = []\n",
        "valid_actions = [1,2,3,4]\n",
        "for step in range(MAX_STEPS):\n",
        "  # Render into buffer. \n",
        "  frames[step] = env.render(mode = 'rgb_array')\n",
        "  observation, reward, done, info = env.step(valid_actions[np.random.randint(4)])\n",
        "  # print(info)\n",
        "  infos.append(info)\n",
        "  rewards.append(reward)\n",
        "  xs.append(info['x_pos'])\n",
        "  if done:\n",
        "    break\n",
        "        \n",
        "rewards = np.array(rewards)\n",
        "# env.render(close=True)\n",
        "anim = display_frames(frames)"
      ],
      "execution_count": null,
      "outputs": [
        {
          "output_type": "display_data",
          "data": {
            "image/png": "[encoded data removed]",
            "text/plain": [
              "<Figure size 432x288 with 1 Axes>"
            ]
          },
          "metadata": {
            "tags": [],
            "needs_background": "light"
          }
        }
      ]
    },
    {
      "cell_type": "code",
      "metadata": {
        "colab": {
          "base_uri": "https://localhost:8080/",
          "height": 309
        },
        "id": "ZjPYKvC6ufz0",
        "outputId": "44a03dbf-aa8c-4f86-d7d0-fd0fe83869a3"
      },
      "source": [
        "anim"
      ],
      "execution_count": null,
      "outputs": [
        {
          "output_type": "execute_result",
          "data": {
            "text/html": [
              "<video width=\"432\" height=\"288\" controls autoplay loop>\n",
              "  <source type=\"video/mp4\" src=\"data:video/mp4;base64,AAAAHGZ0eXBNNFYgAAACAGlzb21pc28yYXZjMQAAAAhmcmVlAADbb21kYXQAAAKuBgX//6rcRem9\n",
              "5tlIt5Ys2CDZI+7veDI2NCAtIGNvcmUgMTUyIHIyODU0IGU5YTU5MDMgLSBILjI2NC9NUEVHLTQg\n",
              "QVZDIGNvZGVjIC0gQ29weWxlZnQgMjAwMy0yMDE3IC0gaHR0cDovL3d3dy52aWRlb2xhbi5vcmcv\n",
              "eDI2NC5odG1sIC0gb3B0aW9uczogY2FiYWM9MSByZWY9MyBkZWJsb2NrPTE6MDowIGFuYWx5c2U9\n",
              "MHgzOjB4MTEzIG1lPWhleCBzdWJtZT03IHBzeT0xIHBzeV9yZD0xLjAwOjAuMDAgbWl4ZWRfcmVm\n",
              "PTEgbWVfcmFuZ2U9MTYgY2hyb21hX21lPTEgdHJlbGxpcz0xIDh4OGRjdD0xIGNxbT0wIGRlYWR6\n",
              "b25lPTIxLDExIGZhc3RfcHNraXA9MSBjaHJvbWFfcXBfb2Zmc2V0PS0yIHRocmVhZHM9MyBsb29r\n",
              "YWhlYWRfdGhyZWFkcz0xIHNsaWNlZF90aHJlYWRzPTAgbnI9MCBkZWNpbWF0ZT0xIGludGVybGFj\n",
              "ZWQ9MCBibHVyYXlfY29tcGF0PTAgY29uc3RyYWluZWRfaW50cmE9MCBiZnJhbWVzPTMgYl9weXJh\n",
              "bWlkPTIgYl9hZGFwdD0xIGJfYmlhcz0wIGRpcmVjdD0xIHdlaWdodGI9MSBvcGVuX2dvcD0wIHdl\n",
              "aWdodHA9MiBrZXlpbnQ9MjUwIGtleWludF9taW49MjUgc2NlbmVjdXQ9NDAgaW50cmFfcmVmcmVz\n",
              "aD0wIHJjX2xvb2thaGVhZD00MCByYz1jcmYgbWJ0cmVlPTEgY3JmPTIzLjAgcWNvbXA9MC42MCBx\n",
              "cG1pbj0wIHFwbWF4PTY5IHFwc3RlcD00IGlwX3JhdGlvPTEuNDAgYXE9MToxLjAwAIAAABt6ZYiE\n",
              "ADP//vbsvgU1/Z/QlxEsxdpKcD4qpICAdzTAAAADAAB4HShe6DhKq9DAABt7r64XZo5gAIiRgcHN\n",
              "pxljVavgwg/Bpiqv3f+EZxoDIrN/tLgNUrfMpRyctSzj/SgQPsbkHBUiwauIOvn+Ud/DelyqcYMe\n",
              "Kvy5BCxg+yjuSa23EWskLG/K1oaPsV2v579rkdzKpH5fphkCS9EcsTmwbh158dpA+kMuctCfFhCw\n",
              "WALGl3gbhldvqEcl9XGQkemQKVxLE+NIEJHbeP8r2OLyqkn3VOMM4fML7Pq+krr5L8Yrx2DJT7tF\n",
              "XRJY1NoboG5asQsuYHozwi4K1W3V6rJH7PyUYuPJxBZ+tmHa7p9Mt/473JcwF9Eui2vmnVvgbPPI\n",
              "5QlTzEjMU2s+hmnfjZHZQFyOF+Yn6LOjE7kF/rp0FeV6+RRXbxxGV19H1vQyyEpgM2cGFgVD4dah\n",
              "ln7/wo/rzbm9DuPxvWM9MfUy7P7lv815qjzLoFsgnokSmbg687tgGz0gcyfAxeQFXH5shTNpxFs8\n",
              "949iox7NCRL/2PV74GveAYmew7Q3JH4b0UjX8+cJYLYtvTU69kHLcipzZKiQPTta2CEjDSnDJuf+\n",
              "gpIDvpVfy8XeRtQ2XbtxdqanYrOmYPmWCEuO7t0hg4sQ9NXddimCq99CuLCOiQ7kZ6ml6fh5957U\n",
              "SqcNzWyWm/wdRQvVo+PQ5j2cvJqgYnVcvwOYJj/FBuia+IbqAX+X2b7tyJy1DxKDeaITQNBl/YZf\n",
              "XZN5Qu4vSS1yILCkBEm5g90pxkL3bYUaJUlBuwaplEJTE5U4AunBuRGydIwJ0EiQvy8dGcIipRsz\n",
              "cYAjb6kMyuUPX6ZFslgKe4Fh/GZiJROD8HMLzXbblkU1uMvliGM4UCNGYhtoCmFf+6Ra2oe6+hJT\n",
              "HyNC8jLXShrPRG2u52cStLwNab77x+FVc8UGeY9ZFCTXTJzdfSy7AKqvdnHgdnblb0ifhHnzjqJ8\n",
              "HyKCTtxUQZEi3Y3zXxc2qIdrlZqHGy/6bPGu82UhdgRHCbR3Mdoauf4wtGq4URIPbpGvBo2SWM2g\n",
              "gROm7cOHl3X+wh6YZyyw3iImSC4yu/4jzpxRM/hJtSCvUTrck+Pw7rCTfbcjBt4spc2XhBBrU4HZ\n",
              "5qCc/tDZ8oL/OSfdD3RbAFlNrTlmqD1oKVzJwsHGjoexxZLygtFLwso1nBv1ihjPITsi/X2sfwhN\n",
              "dIuoYVAi7zWyl8wdyc0bNPGf5kF0tlswHBXuj51EckUrtRx6UdoMKcqpqSjkueC7myS924B1kizk\n",
              "4N3znUk1lis/Ic7kQT0MEb+BT8g3M300nWj5lsrrRBxvd9va7zPO+9tI+ClQG694L4nXLpJpYH2w\n",
              "g3AzqD2nE+8cC7KAIKhi5lVxq4g6slM+cI7VEllZPTIemuZu/n5VxFvf8kte/U+mVVQpncg0YDoH\n",
              "bkN93UL0jx4v+dsbHK3pXufOb9wXxIx9QljEg126T28YQjj1jQIE7dII3sjn5HQ9wvViJ5T4VL1z\n",
              "JTPwCEX9fWCfLrgWh0DPf3MG3Lzpw4dEsSACo1dK87wKDUvlc1zA7OOufjxZeEF1g6Yk/V5Mfsbv\n",
              "4tMZ6kv9RRY1U7XKdcoZof5ZKC9roFqDZEWbWlsRFCSjLOEufrx63h2MmOgwxerTNXSidxAnd/ut\n",
              "RBHHkEibmAUBicpI7eBNRmojdV0+vpFZCrXQ+oF0dUiC7K1+XcC33tXyTGM6MKpoCyPMMRpaA2Tb\n",
              "bqWdj18o+KEcTWBQNus8k3DDiXPIHm3VORjCJS/txnsnjAIdCgjbvuCK59ONvMBQpkVHFcXD+beZ\n",
              "wX+e9i/aglw+P669YvXLQhCAM8k4SB2PVulxlAQXmAukM8ZhKYM8iV7w60PhzLFexy0ST+iXsR/j\n",
              "nhTM8FgZ2chZrO5JDdVhrHxSGtTkGhw8veL/9rH3Z5Q/rC5lCQdWPek7DXuC7521Fgw1MQQFoybP\n",
              "tpRxFkIzg4qZ2Dv0X8HxGF7F0Icdl8FZmfuzvwrSmoL9rEe5fFUEJb1UNF9mVBBCk5NKTK5lm5FM\n",
              "2n7SQQSfjyW1NoC+BrIs9e47r7aWqmZ0KL36sc0IxacPwuyoshVD9ttvOC4+cP957K9HzD4FH7Kn\n",
              "CtMqe0pB123HpS/Kh0guvS4PoOCnGtRwoNEZATAuBCBtLK2QB4omWcWydJcEm8bviXbJR5wRf3bT\n",
              "CkSi5n4Vs7Oo8JojaTW3dgnbq11bNoL7EzW0DvK8TnjzNVWPgAqfCAwdcFkN2RgXrfidsFzliSmP\n",
              "Zx6A7Fqh5s5RcJ43KXdr6X5hVPURH9D0HOd4hfLGfzhXITksadwqmfIM/0CVs/PDa2acs7f5Qx4g\n",
              "lxFGjNyseqlflTbo0TN+av3YeGFRrm+MwDEpTT6d/gKMb7KR5XKthVAXX9ScJJNikPsrCJcfvXZl\n",
              "DdGZvMvWEI+XVsaU20l2SZTd7T+KSJ9KtH+DQYlmXPDZ8IrNmFetYwfO1uKfiswZ4WAADqZbhvP+\n",
              "ej03g3wRr5hqwv9UWzUZZz5c9P4g6KZK3nXj5T6FAPc1NjKsK/IB8zhMPQfPSZYynZ4ICgwPdiUZ\n",
              "e79EZMmsAUOOcLvgH4Ro07UsSO3bVISSqYxKnb9KwVn1yTc/UXpZnSTFl+JLj9vt2N1407AKlDQx\n",
              "H+XqeI9/Vq7s5iqeXJZbTbUK4YuWKNOfdJK5XzU1KddaI3AcvaLvDYMYXFA7GxQExuCMmjD2l/ua\n",
              "G334lRsesOvKu7khUCGPqPFrKnpJFcpOZTBtb9hSgYsc8KEo548dH8KDbQbqKRGRpgKuhLLqx6hE\n",
              "4zE+GRLqKO2ybCvcIfkLMM2Bdz80RVQwXeHybRsbVB5XMyy4lZUp3uWAL7Xqwfogd+IhkUE3wNdL\n",
              "qEIrdDQvDOoBg+2xBZ4M0gYZ4X2+Eis2vLZwVphWyXXS9dyBRk0iY4J5uBgZOIe6Y6GqnXVf6Jea\n",
              "5xouwX6C2d0X4fHhrnMTx6QJIsfuTYScBrlsSCC3WPHpQ3ABq5S1MdyRynQ4chHOfS5PfioA6HnH\n",
              "Q2s3E9LTfcR00t0teusNRj9ifj6IwVHL807+2x/L/XjmsCZ7XjeqoctHiGgmK3iIRXHnEbfvPyZa\n",
              "MkQlily0JC8srJbOT3YZ6hHEPWxcqJ+aObk7cu0O3mCZ7tFYR91SbvMDvQTUVEyfh/KgJ4O7ynD7\n",
              "E3GMQDaq7f4ykFRxnB5CwipZu0oZKZSBM5g4729QfKvvURx7Hc/nnNTVvJZ+sqMqFjYjVaBzHUq8\n",
              "SQQbdnU9r/jgx2+xq+hCwcblwSrTe5k1OnuHQV67FkgVsPVoDC6wUz8tq7kJYdCrKPl89vsFA1/S\n",
              "Aj0Iw2WVgI6Qfyht8kDLzt78R3ObQ/tksrYxsgFWPvO5l/K4GEPLnXbxPYcjwAyMiD1RJ02nGa+G\n",
              "cwEEYE0ZfknILOIgCpXhsNMadk/2TEs/Z6gN81xE+JDnFueb/wposLO7ogz11juyRqRYW0vFPbVU\n",
              "56+ak3zH0g4Egk11yF6y/vEZJrY1DQYwW1Kj78X16xa0Es3BERYSUT4oCrGLbIPqdvmUU1rKB3Fx\n",
              "HUSPJLeMXSQM/t//aACi7Xm06d4xmGIHQy8YHzQ3W/hnAFGxkJS+0UvqG/XIkAP8RKxm2Yl65CA0\n",
              "yxrC1TZTiPlSo8i+qBqyEEj71Q9HKcpCAB2O4Q+6CLCiyuQ6NAbtIgXKojpSC3RWizogxOWwNggA\n",
              "TYGhhz8zLT8gju69am7JOiOcUsNR4zjJtWVJ+5LD85vYSthtIF1GCfvF4F1ApziG9YglBSxgJ3Rf\n",
              "AetwCK0dADGDFZf9Hdsz+vABSO/xC3mWiauehcGqHqoooVJcbcGGtLPJv5Qnb0TvFsAUvEDJ373W\n",
              "x8tTMti1CmVY5lggxZzYyuQT+exaB5W6DDok4zS/pZAjAxIaB9MTjUxLTYiYanRptnqbZLXgX3KB\n",
              "OB1jurqt3p7whjB30FblIQL7fscVkJXUpHgfemprenC8sCewi26yixLCGx0Ic7eX7vh0y+Ma/UcF\n",
              "XYM7oOiJw3bSn9h0ZQeKO1jpApdh5INnxEtKF89N4WPnVdRtu4GqJZutRuBMS7RnSjMzhssqVJaI\n",
              "nHwqYUhd7KOTTp56ymlSH9ZaIg0Xkx0vL2A+IHp6DAUj3rlKEuWMNjyEMNdNmBMqq75NrQe+Vts5\n",
              "YFfQwW7iN4jwBgOogIdspk8iA+K6zuLDKwYaO1Xpx34UZCi8vR8Pek8pd/XDL/0P6kmUaYrlZkwF\n",
              "zYB6XUcB4IQtg+nKezXa03OJ2uP54TnUtyKsg57FwNjWm+0xPNVuGyoEXAEyTgo6zAtFwi2MrhsL\n",
              "vtikoOXzo2ovMg3vQD/Ba0hP3KGXObszuKpEs5SoH4XIFuJreT4aDG1riSSKNAfbdAdsfsn4b3JB\n",
              "69d3zY6ePEZjizM6fmu0O38GKHdb+ngx1TsO4Q8SM4r6F12CN/RLYmJlZyqfkm+w/7/oJAFGZLCn\n",
              "aXDcEHrtGOomfRqITfd2ZYzgvDcov3MXmD+04YYXbikwPu7ZEffcXEgSf/gXAC1J6+MSettIXWJm\n",
              "PKK5t8sM1aaZXYjoGt7FbzdLBgVkKEiRLIpvjJtFXiUQiqBcBT5IYC3s1xdRsoVxbSFuxOCBsdNb\n",
              "Of05rsEAMexbF5LgiBROBsPNh9rFjb8nsrIIOXGcfQcgr4iUsHULpctL53+3Oh+3w6VWUmhEB0XW\n",
              "QmNaBpHZZUJirwHsFJiMg/bvb5AJy/YuP9TB0FLuiFEgkCFhcJPR12DffcYwpvIghzDCi7XJ9XBC\n",
              "/5q+Kp2JUhVpK2OFqLM/zG9flDj7NT7Uc5XAHMpQnyS0wGQLMDkVa2Ajuocawfz44Z7yw04ELFIy\n",
              "Mqi5oI+g/6VJNdgaIgEOGmrCcLJVTLzvYexpMA9Eq19TMejSa0vJKwZvPEfvhCbOSLeIpiPbpEj1\n",
              "hwzNm8KsJVKe0yeuK01XKTzbBQd+NqUFdfTXIOxV0SYWr/ZL3dCqCs8mRLGJSeePEMRkmaDcVCeF\n",
              "gopHUmSlxhCscnIa7OmNTKL7AMVj1E+YdDu0Qwup7s3jerBdWbpCn4SHc9Me6dVQTAZFCM2Fsds7\n",
              "gDezGpXQVnqMdlBspRdSptPFcpW3SAFt8C68UkiOUV2zfS5VLCThTL1FbE2TAueTnGgNPjpcu1ul\n",
              "43ky32Vb0vpn8zJP4tJ0HSWNs0dAgUox5ckUBh8p//TqMPWEGie8F2+/n5keQyEaLcLWDiqC//iY\n",
              "RzidAAupB6iGam/FxNYi1vBDGCHWBWh0FbMw/VmkOG/8yoIbtZGDNmhJRxF8GUv3FpS9qfQ9PZgu\n",
              "5cfYc80igbAsIAvxBwWLGDCGcfFGy4mxBW+WePinokVHx7vg7+rJ0TpK/FNxM4wo4yJ8OFbbYGIS\n",
              "8fudFpiek3i0sCm18zit7JE1kWeYogmTXYudb7uoEulp1iw21e/Z9oNx5s9jiVzKa2h4TezyNVEm\n",
              "UaRmEWsl1vV1xhuo+za9dHQK8gZVrQiFEvIQ8TboKWRrxUP9KJffX09KGXXm0ys1yqIjo3ODBKuh\n",
              "hOfcaG3F1T17PUfleNxNk4KRCn5uYzdJtAeTMWPNq/9TMtR+XqDUym68C7cfNLwVaWeq8QDGuOkZ\n",
              "cUY9S50ALrcyHLtC3DyUk6FKmFlJTUYX6zc/W4I0JkhOGHS/tDXUxYx6JfhBtBAuiI1fKCAbLqxu\n",
              "qqk8MUkk8ivxmmwSwCIC75TdP6d0G6ISEWHqghCX0gXrFSNw+Cur4GPIHrvH4ONQRMOTckQEMX5a\n",
              "wt/+29WcozqY70hTA5NKY0Mo5WOvbMLMhVZagBcAW6iiQYdT0FOxDrtv/JE+xRyYKy4GCa/ME877\n",
              "FxL5Hhe9jaZAhKTJYdzQ++nnMK6gUBiH16WvJS+g7TJEUAWnZX8aTwt04CeaC3vLfWnKvm5A6pJT\n",
              "hhEEp8kQkfp0wnVvHiuxYngKYLWbW+C/AZxEzQPQo2L3jif8nwSR50YFlMEoZ/fyY4XdOBEYrtwf\n",
              "qBUHjFytk9nbOBPljB8KhChnBHmRIu1d53epq+AXFGd4g5gQp9UK1jaIyWSxrsdieJVjOAAMKPDl\n",
              "O2b3IJc2qDYkWrCSNeLX4Hk2/27UQDC9UfdVhzK6Qr1S4Db75dqOyk85C7uBfo+oJwky8aZEjtgn\n",
              "R6LqHtizQlbw6Q7EiO4Xes2OZdA32sYL0bqA9GRC28NIl1a2Fl7Sy6/ACMmQR5/EH5Wo14drxFgz\n",
              "chwi0wGIrIq2Ynb27/ZD4Dl6Lj60cY6Wf3AOas+zl8G5mynm1BLXvj0idDi1ZGAK9lZ8h9CQ1Xga\n",
              "oTi9ZvPmFsAao2AD5+YUc9NHJ8f6YnNbez4txUrhd/l/QrIARdc0Pruypq8KycFKh1lrv6NiklBW\n",
              "8jJKqSgQ0eZusbmOXeidabGqA9mWfbvJOZnareXfHZ5RiYrbYMDoMCN1Fz2+UbDtzqyR41OOdO3o\n",
              "34hph0I3CD6dS0KmmI8tW9LmcMFXYW+DBQSJS2D7Ph5HeL3KYHOGMgF+SCBQF9t6dQCktGnzapzt\n",
              "zLKAvcArrsqRFwari8fnyAOEZ5izhpFta/c4pGT2o75TEf52pb/X6s8HJLYS/EdRUdFMC7632WI/\n",
              "OXq/wMkC+P+sSNQzaSadZU2fCAgtk8nXukoNsxsiV0tN00f58MkTBbNW4vNR1Fys3ga/0Gqiuypn\n",
              "C+Z6LqDWHmfLaFkXDP3/P+xNP0OozV+gvjuqcMPUwSq7Ai2FawbEu9yt+gj4+ItLipzQZsgxUT9J\n",
              "ks+tccu7InHIpd2FtaKe2XQDzSW5iDtFT3aBEPJZtbMj4eajVW8FbaF4OgADnd1ltUMgaHgLUcmX\n",
              "zOPhhXzK69DAv5nw3eDOAmUlC62Sh441C0D7BOIAK9c0oW0rVe9f4VajYQNiY/1Od5HskaZRC0MJ\n",
              "fExAd9ZuntWQB/AsIECnqjtjrCyyIux2udvoguQQBAKlIptb0Pupc8muFv/gwxFlL60phijZybRJ\n",
              "OvuJmXwv2lyW7aGT2opWH4Hwnt0G89ht8tS5WWSzQSz/D9vdRCFv4HFyk7U7dSV/tWBUQBiO4SrR\n",
              "1rSb3+lyyFhzNRtkoAnitVBFsytcsTgAMPwmnjbZxtDL2crRy+9Sy7PAo6LAiUR4XOynvA+ePsKB\n",
              "iTa00yaIEJVghBCyq9OrOPpzrfJHAh++XyDL9FDsidCbWdSQfOW9tG7VRzWsKb7rHumc3PXocZOs\n",
              "uhVuseYgVg7SR8bqsztsSkR9lEJI6sQCJsCJ3lDLc540u3Y5eA3wMkpuxRGhhIEbMSwqnIgwr7UA\n",
              "NxumZC++pgc2sCsGvmJPhCkHqo8lyZ9GUhlrPC6WE9a9cyI8UwC8R7MEJvBO+YVSrCdRWDc59nbH\n",
              "I3WLsRQHrgRch63nGWed0HPuf/f3cCH0Upt1M+IpUj0Ycmr/3qShZsz6PU6ub4ae5LBtuXp7xRSe\n",
              "N3MCJHe7TQtcY3/8Xieu3M/xRadBX4jQE2dOpg1VghKrp1Y7e1YmsXPPSX9MqHmolJI+2owy0I6G\n",
              "uxp4OOYL1AtnFr61WNOyh9yyV9mJbXtuQFv7LI3iI9nQ+KyXnx8zEHJoQyr2rUNkPnx6YsAE5boR\n",
              "9xtvLtTHhdBOSRnyHKiW8XbBfD3yNC2yJfVSXYAINN3GHJs4o55LTuRTWmry5LjidE8AXLOkRgML\n",
              "SkUsDq8GMh8QSjL7GfpCaz0oy38cpT+4AN84rrAZzvwiDz5cHL9lPlUZMZ/l5PLwM67Y5l0yABdN\n",
              "msZf7K0cjybr0aVtTcvpYpjr4ZLrh8sllrNnLG5Ia3Z3h8AtK9y0TNBC9PLK7kD2CWJ676vs8cwL\n",
              "vfqFwQIgXMoogMTMFtEkxkO65zW+F2OXqoWgzGuuoZMqN+DBjKx+NElcoY5b5mFM1IKGKtzsxXSw\n",
              "QVbNebjwlO11YbLHj5gNxUZ5KjMo6If2HpnkMsqp123AfMX80SNq37urTF2BS7hVPCgVWPtR3H/F\n",
              "w+0beU5C1+wefzl+cZzewrq4HGtZMHOJy/IE/dKs+QejwUt+xBzZZsxxHT6yqg81HDwNTh2R6P0s\n",
              "m9+hEeB5fI2Gmj90BwEXEMNXRGW0XmljzwyCwhmS2JED/PyZNBwSGNlZmSrWMiLAFM87F1WnbIWm\n",
              "TZeS+LgNmPyLOIKipWYUOdI4l8rNELSTwTcYreqvNcdsgcl+hAZCd4RZc7hYNb1kgqcXFSP3C/AB\n",
              "QILcMnK94uI3FuXcqkUYUt0pOI8zDosjVyVC3eydLiit9Dvyh5aLwwDvrSQOt/dgh74rO4XUi0Ny\n",
              "A4mnEr5C2vOdHaNTYxDK789Uba6sYuOA3yEIOf0v7Tdr7hawtO3/fKQ/IhvBbxiqp5nM/+QS9Czk\n",
              "XY0ZXZoNuWh+ORRsbgOhOn5ZMeEmJhyB7r0GoaxD077ZEAukm78bFedHQVMs/5KBkXjEjXCTLY4B\n",
              "ZmT3vZKvgqLlv3ybsnsIjW9nIzhG9kDAAovqrYyx2rjYwx1pqfGi5vSl1xpd5Z0cRPsMUNRc9kVK\n",
              "m0eIRg2MFsG8ua8f8H0dIHgdaw73uqVAoy2pGxnullOUC7IlkVoXfpjaECLwQTh3SgTf6y1ap1TZ\n",
              "NAZQV1L7OBWM58nWOkmt3j0fZXcwH1npSO2fFjjzFPnoitZXwvAomhohfH+OYetsw+gQMwyHrt4E\n",
              "A8QGfUazvMIc6z0Mvrq2rgD16LMT6gZ7UbwRtiPxlTOlrHDWRGKi+wpFrCGnBrZi1d8SQbrqhcUE\n",
              "W4K4TzUOCpx/DUMrJK4kwzCGxEL9XwE1cijbEBKft+p5tl7wnx/hGuTI9BLcYnDID9+TXMOYOwcH\n",
              "0xE5J0SpPQwiP8mHxDhtXcvgozpFulCqp450DTvOk3uLjKc0x8wWd6YUFbALJR4Rd7KrjbfN4hLG\n",
              "9q6WLsMuPa2JCDvr9QabEgzbMyJ7ORAISQX7oX1LwpNg63edYZNi7bjU1cUajlLmDUrQg+0yhmMx\n",
              "pMbTvUPxeLxWJCox7I+uDq46poSEmvTy76g3Ym238WJpumyeRVBTPP8mXBBHjoEFuxG8EcTkD24i\n",
              "oO5cPFbcnkmgaxYWUUQynFjiPQmOxxA1/DwXnkuqH4Xht9RW8k+pNCF9WxxYu43C8Lgxze36L8yh\n",
              "VhwzzhnWUx1pQQugMzV+kFgouprH3R+tjOgx/IZEe1Epjkv34kzmuHGDzm9NNWCqBzlV3rYrQojB\n",
              "GNo/5t738H1l5g/u3La9GUDBYUyyEmA3ES6UuVDfZBNzu9DsIS5PyBJn+1w/a5KdKv4X/hh+k3MX\n",
              "09eWXOaZCV95a+gfQn2STCdgP6GFUA2zAGHj/RnmWb5rjKlT9SqVUPj+qBya9UJXAaPliTwNZ7NQ\n",
              "Q6c5pEmDr4SCgPMAAAMCktPEX8EAAACwQZokbEL//oywAAF3BZYABkQBBKDQQRNe3u3moJHG92JT\n",
              "MWMFXrBd2xqXOPtY3iaxOHJLIPXbPbPOTBnJEwiJbjM2hmQFwDwyyRnbXIRLL1HCjtF+VYxqyItO\n",
              "0Ul2nFGydlAy57OD3KBJvlw7sXjkxGB7eVBXJooQeRoph0NfOf9/OxbyKSWNphHCseCGdHwOZhVL\n",
              "0MMF8pfdHbbAmogd/Insqk7AmmQnDI208VjS55oAAAAPQZ5CeIR/AAB27DO2mHaLAAAACwGeYXRH\n",
              "/wAAAwO6AAAASgGeY2pH/wAAv06WQAW747JvvkP2MxUUSCUPX32JhtGKgQou6yLRtUCyo02kRGkS\n",
              "dvut81v57aQP92MtOmaSmS5tv72n2oE4TbtFAAAA4UGaaEmoQWiZTAhf//6MsAAC8cwyuuwAlvk/\n",
              "z4l9vDx+gi1FnPTZo8EEC+OmTeKnKlblHvmJDfmmyCT7AR5qV0/66hyUGlQzPRXCX0mmfN0K7pVv\n",
              "QliStmv1gOpAiQQrv3Hsa90Gomz7+ujBs8Kn5TSZc5OGg53mCPydiEFrBUJ4401Ar1PHCshFBnHJ\n",
              "uYDD2qRzOi3a4JoEuzHlOcm0Ln23iO30nRwmLu1mvw24Q+1ZVZBJ/GJ8hlPucKIq1rC5h69ojUVF\n",
              "HGUZ/C5iwYK9Y/F6yZosxoHeamVIsWB2jvBctwAAAGBBnoZFESwj/wAA6wAeF2uesHgAtDwEiG/M\n",
              "61HbGR0ihpSgobMRijsvIsS/30tZ8uh3fdUzfLGcj6S/prpT8Tspbks0NnkDPObfL5Z1lHbGFTUD\n",
              "k4S6c6Omo6bGQ52fqCEAAABNAZ6ldEf/AADEZgqADdcs6Xsr9OCchM3qg6YmedPGd0MxRJes46Bw\n",
              "lGsH5fuR9Ld/wzUlhv7n5goD5oHSlhU+4gnJVjjyrpxEAaHlToEAAABHAZ6nakf/AAF+RfzYcRqE\n",
              "TKRFAA4x3dvtoei542LBuyOqryrU5WykVsVEAsS43lmCKePsUGbSHFLkKak+ysT+7jxNQ33+T5AA\n",
              "AACDQZqsSahBbJlMCF///oywAALxzCJ3YAJYXQTQR7WN3eJEvcJ6VKoQ4Ss2uLE5WBtZVS+e8IpG\n",
              "bkHFaNgS23nFLGot36AcUj1ll0UygSpk57r1Ocj4USqA4YH1+TCAb5ts+Gw9387CZqn9MTdB9Vam\n",
              "DNKM0/4olh/pCYuR3UQUUSOZwIAAAAAwQZ7KRRUsI/8AAO1nrscEPNwAEVWZ0LPWX4cTI/OvmP0g\n",
              "mA98xeD8GZbX08DWMaqBAAAAPQGe6XRH/wABeQQfjMJqADddqQofa/WaIg58fVcEqSut49osF3nQ\n",
              "6yRNk88+EqqKrZOh4r35jLQDge9gIIAAAAAfAZ7rakf/AAF90N+AA0n31uABq/xZTou26+xfqxmV\n",
              "7gAAACtBmu1JqEFsmUwIZ//+nhAAAufEBitWePSYAAM0BhS3dnEXoZpsjFlr5rcpAAAAs0GbEUnh\n",
              "ClJlMCGf/p4QAALr7P5FXkcRntr13ygA5/34D46ukcpyD9rt8hQLOTVzcwYc9iQ8yTfV4a6QGfSp\n",
              "dQgYTGcw6Cs7uDR9C3FfN/a3OOIaZwmJL2THxVFI4SOs8ptSgoXtqb6ua3zo0JnPG5qvVrufCZrB\n",
              "Vo5Yzsj2SXTQ6jyKI+zL4Bsg+HL34Z3FWeO++TaKcDFkIlQQqCYzfKV43YpaHmAo3SNzuw1uGWMG\n",
              "TM9PAAAAZ0GfL0U0TCP/AADtuubXDgBn92s1/Wc2MIFTIH4LqTPQCc5b+1ISHCwTF1sf5C9zyoFe\n",
              "us3gyMlQFHuZHeo5XtzydQ0ot4qdXF89rh4Pi37E/SwYYJZz6GN4gogpHfNu231BnUBvkJ0AAAAz\n",
              "AZ9OdEf/AAF+phbyAA3+ywtiW1gLAZt3Es3Bls7gZHjhIBt+ntbuFyldrCSDtliIWvAgAAAAPwGf\n",
              "UGpH/wABffqEkB5uHgAFxNyWRZVcNmNTC0RtCFB/+ij5A3JKfR1buzPHKalxLKgL2ME8mDIc0Pbr\n",
              "d62L4gAAAPZBm1VJqEFomUwIX//+jLACUq56EAGvacdhBcGOFOK4JK1zWbIhOHJSz8qIFltQO0/s\n",
              "hyGdi//Zg31QOdYXH82Trrj7Pm2lYlgsQO/g9kg6njoGUb22QbygdiOiSRFrm8c7I97O4IqRerWi\n",
              "eaUKFWm/mf+c9JraWPkAnVByUNL9Ws1r5DLq/nWnh5DAOYMcOfdvuUAHaflguACuQsMRhTF83agi\n",
              "PSj5WkxUDgsZPG/SPv2BWsLH1LhUK9KGklIQr9eHhC/8Ueq5mqzgLaEL3sHqYbMxNAbObU0NJiS2\n",
              "4ZJD4wtHhhOP5AmAw1fwe9mb4tWBX74TWRsAAAB1QZ9zRREsI/8Av0wedhSE2GAavIQAkdVFLLu1\n",
              "+7kILvSgGu6b+cTpJJYSiTJVAjB1MTyvl/CCTBcCfchd0krkhpcjqR230/at8eP8f3QBoGvB3Khd\n",
              "Nol5/BcJIJFhdxLn5BYjtvI+rX+CqOyKrRS4dtVNAjXhAAAARgGfknRH/wCSsQDW0o7U7u+AFuAP\n",
              "6XDupokidce2V6YLnP0mSoucjUf/jf/4ycnmnsZBBbCiQmHblTzjdqXsyvPuPhfp90AAAABIAZ+U\n",
              "akf/AS2OYQCTZwhAWHrhJEAKqCd52yT7TRYIzn9Dlxa4C183mF9Cpc/OHQtWL8NEvSaX7SMMum9w\n",
              "AMkgHi2NeXdTaR9/AAAAgUGbmUmoQWyZTAhf//6MsALJtM+AEvqm2rvj3JSNt3cvqr0sLvdQIh4t\n",
              "5Z1IR2jPJYt/5NVAYSCf9admBARZIJLbL4L2Hujwa+4fjZOaLKmcOcWOshG3JB58gtuz+/fbboJi\n",
              "DqchOKh9i5ZcmZYttyrpsaWpsYjHn3NrCEyKwMy3SAAAAFJBn7dFFSwj/wDfhZBPZ1xvlX5TfSVQ\n",
              "AON4FfpZ9GjWGpUkmWPNp3YFsTMBasEBzK9bgh853BoG8inoSE5nzMubb9GBXJvfZTps0f3XQS3e\n",
              "LZ/BAAAAHgGf1nRH/wCWr+HD15BXBqeAFgXfmbq1mpWtMBKR4QAAACIBn9hqR/8Ba82YsGrnk0Xz\n",
              "Az8hw+AFjr3wJrJx+QRQiZqgAAAAwEGb3UmoQWyZTAhf//6MsAAC3/229r8rr4CF2jzd1LKXuUuO\n",
              "StOnFABMNv04rr7MFXP9yfpm7cND7er0k9ugsy0Ia5gzMxz+BoWVAr6hZy4uZvg5N5NpQlw0RwRU\n",
              "/Z24AfUShceWE6C8J/nkpm4e60DrxckfqeQTyK1nAw9qSfxqAclr8NRMsuad+b29V9RZvaOhRAOl\n",
              "mZYImEgTbrA1mGFbJG6FtF+69y8Bfzs/1BsspFAO2GrZPocDBSXwQD9v1wAAAFVBn/tFFSwj/wBf\n",
              "t20AqcM+9JC4OABcFIh690y0WPlFcvZ6cvFZYlNvA+N9oIScjUilcXuvGmUWaeOkkoDTQcZFC0et\n",
              "3qPuiUt3EbOSGu8awAo1Uh10AAAARAGeGnRH/wCWr+HEGvybe19tmZ99QAzhIB8mdNFCBHNqFd/0\n",
              "UQiy7HoldapjNiY46IssmaUDe4WJtcF56clCcc4Tv/uVAAAAOgGeHGpH/wCS/Hj+Cq1W0TjwgAAl\n",
              "j4fGFtsDKdAk7ZNxUkeVQDsmf09yCu4ZHHZndpX31xKKsetuzjUAAADAQZoBSahBbJlMCFf//jhA\n",
              "CsUvR2gCqdnm2ekG20oP3yBFCupsKaTFA+He5n0dqO0t+9IMa+dtGECwfF6Ap7pt904iBKr6peeG\n",
              "w8TaNB0ZsB/++i8jhEzxSZhWlOmpKnBbuxW2yj8pRlcWO4LyLBYOCyEknob/GLOv9f0YSfVsUqo8\n",
              "mwvbGOjEqerPqkRC3pcxNYmm3Ip0A+wXr8idVCEN7cS/58hl/s7A/J7ZNfuyUfTnNooBkZBnDaoG\n",
              "ZW+obMpgAAAALkGeP0UVLCP/AOLEjNE4HVuU5EXTpGjYSkQAULfnGod9AAzStpfk4y6No8wriCoA\n",
              "AAA8AZ5edEf/AJav4cQdcBUACfsaQyvA+u3pCjPxepY3llLmVz6RSpAPL5fD2JktVTrAU/qotKS6\n",
              "3tztNryhAAAAGgGeQGpH/wFrzZiwaugSzbf2cQDKuTor9Hq4AAAAIkGaQkmoQWyZTAhf//6MsAAF\n",
              "m9zRHQIHQtAyg343m3mulLMAAABIQZpmSeEKUmUwIV/+OEAACx+1mOj61DT4AQefI/74p2M5CTp6\n",
              "F7H6yEq0FxbUTq6EJcp4W9Jgd602dRXFZtPPSMkc5JoquMu4AAAAOkGehEU0TCP/AF+vjnkVGrzo\n",
              "AUhh+UvTomDasGbCACC7tPIguBTOy5sZMawjhZmmgE7EiqjiAXOiZh0AAAAgAZ6jdEf/AJav4cR1\n",
              "+Tz0D/F9H4D6YIAf+j6pchQuX2EAAAAeAZ6lakf/AJL8eVuQLQyJ86mP7LSIAFGqXbHDJiYRAAAC\n",
              "kEGap0moQWiZTAhX//44QAT2VAP0GgYkARSUqXdwE+6L/ufEquk8SzmCBoqxbGfxvAt5J7NZ1h84\n",
              "5bWlkcu+TxTQxxCD84Fe/beft7Zu3mv5Gf6TfUq39VEUlsZCGebreOl3IbLm68matTNv9dnhx4hq\n",
              "yyR+pHAXgq2/VD3v8o4v2jBxMcECPh9yezFCfl/b6uBzTmhimaL9Py/EA6ZOqwys/7MMwh3d2FaS\n",
              "fZfv8x7Vyjql5CJ+EpV2AEjZOTiQfh1V8MxgMecijvLbN/TKtOhbahn/n/Y7al9fCV/CRPAsZMan\n",
              "HiOJyph7Vab2RQt28ttNx8ofaYUldEen38oGgvZu+dcWAbZSeI+q4XRLFluBf61w3dCntSzN4z8v\n",
              "lFXswp5+HL5YjVa+g+MzLrvd6rbOTaVM1LxjW9SBPVVCCPVcNCXfEEA0xsMQNFM9G3JDM0s88G0O\n",
              "Pgq561WAf1VnkvnRqXjgkSMd2kbURCJAoh1lvjsV+gLAiTQZACU7py8o0l7NN3tblPagZnFVInwg\n",
              "Qslrr7V0XT8RXPJPiC5QnAq2Bz7v6yGHqfV8QPMO3i7A6cuMS1piYHI5fO9Q76JJS22VMW0xcfvS\n",
              "JIcW89w3ZYF33RDyZFkDFjmGjE2i2MLlpNBIVBtVvp+ByuQXpC096hh4wgPIaOykA5hVyXKJJ+jt\n",
              "HHP3OxZ5ZNRNaAmNwZKtBmdAe9YBKUEfUL6ytfI+f/5Ci2cLTnnQvnhkixbSwBXZvGw9HYXViD7b\n",
              "flOOiJbeeh3AwSkNBnp1aEkPR8DLZKyw9vMkd8rPc35JnH8rDvIDkw+BxLlAEGzsqrEjlAriHD8V\n",
              "AewJcTX2aeugOWvngXXeECoEtnzs89X0BZXmTQ9pAAADyEGayEnhClJlMCFf/jhAFa8XAAU7l/iD\n",
              "F3HpTHTgazBhbDQ7klBltk35YW+nS3UarZ8r/US3R83bTmq9SOcfUVeKkESKAlJGTre3HQuBFsHn\n",
              "TRGR/ECqvv8oGaUsp/tScnsSDw8fJrHBiH/MpkB8WYxKJ5QkCAae1bfQDPRDe0bC4RL9NDkusCns\n",
              "EJJKZ8TmzO20ycXoC8uuwfWzgmdUwyAcFfTVZqBzL1UvOqv9QgHuAlalWBPG9VlcsCU0zVaCAuME\n",
              "Vt9p1VnIIyCv5IWSuDKzWtwy1Fx/jGdEv8+epA6ASlOxKvMbZrDYOoOQgQEsD4iFZtxoyakHK7Cd\n",
              "IIR3mn0XWtE+X93R25imkJXoOqTFi1QCnPCJ1SBzchirQ/RuFRz7wEivdYig15jQz1qjBEIA+zss\n",
              "SuuxdEhs5K/Vx0QzQl2S9kaP1xj/mmWX6GNjlqk2NQauJWAAiRV0gr9r5N2Db9zmhJKRWzhRCzfs\n",
              "gTQwMWY2ymAxLp+/CI7kxPriBuOhhwkCAZr2i1Cmxt5L5ztn4obKTNFnAypCzTxmQfb9mAYbN2C1\n",
              "+ncdJaclBTJVRamaHKI5eubP53FmdftgWKvLqcJu3pyBThhbKDx9b6B8S+qRf/1Usq5Oo3Zi6JKY\n",
              "4fyOtnVO4ujOL+5tvL+vb184uyyPSUVZat5LhB264JazlmwV5Sk6hSxiRfkNev5e3vRlwyzx0HcA\n",
              "GGcr1n2nH6vZ454d1DXmCDo8jMU5/OOVAqpu3xHZMKs63UhtOs0EpWIqCLnWmMMUF+HcvDiOd9CI\n",
              "mctDlhe2hgJAIYXTqFi4XoQKI7eCEECq6xIJQUgmBGx5N3EMQfC5zrl2xUe01AITpFxbwWXEectJ\n",
              "qMDKEy1JDel9D+qxEWLS2sdLnerO0baYZMHrT+wcMU2Zy8ftuwnkY5hen2HCpglGdU9iaFRLCzR2\n",
              "ibmzHJP5d5fImCkRJtRw6sw8B5/mNjL+/LVi0+2i5HwyI/ftRzmQzORv+URm15vebpJX6g3ZiMoQ\n",
              "xCqFZKj7JD6rh+VBju065zOFoxX7r4UjV4LzRMa8oJPdhHAhhym0SQrY2+m3JOylNxtKTKhvA9FY\n",
              "6NmIf94bRvIi54Jqk4WMcO8J0BiIpvhhaODY+5hfY6JMsNcvmVeZerpRxSeCv+j+lxy3OKMzZLQG\n",
              "qhLTAwfmL79Yc6FzFlAgk6S/U032ZnebrqBCu5c2ZEPk98DSGlydjKrBQDlfgDsVYb+MDNWuU4KF\n",
              "3chRHXwaIEioAKXz+VFro0e5T+iLUWZWvW8UyMKNIFteAAAEZEGa6UnhDomUwIV//jhACr2eIADB\n",
              "kmnmY39WHcYOm3nz/CtIrle5+HzuGO30a4zYlsni4teiKOkZVCntaVqZM/y4nAAuoXt+9GCIOZUL\n",
              "RS2DUm6tMCmDbQs8PNDlfOBmokm9nBfjkq3suLupSBFY0d3buGWULrBksLAJYgFPj+sKuspmi/xu\n",
              "fYIqBtC75Mt0POW+xbluxCmTV3U0QSX003FmQqtgZUcQOh8SB2JyHDIJFtp8Nhd+MZuLdqbRd75r\n",
              "GWBwx5R7Uuxudf7Qm+aU+v4n/JqvIGP87JzUVV6btF+mrkUQe006qTJagxhRmtDgbXHew3m4wsc4\n",
              "FTCsoOouLH7hTlZvO8KyKf/cq8+bGeWgIeaUb/bIeSabsQFRJou7Y5Niacg+WEnBQOEaGhkvHVI0\n",
              "KM/mOE63wWxPrBCS+2ZhMzfEfhInVQP+cWWNXRVUKOGV24r16ZoVgVFKCp+wsqbh+93r50JW5a9l\n",
              "PJgtxAiytdAskAWP4a3nbxl7kcOOA6T2XDrerKzcJcoJ3v/852x3tbZGWTdxUdPkmJb83SyhJ0VE\n",
              "2A650w5RybwrXZwMUxT2eX7rZEiCaPNBAkOfMKWc5mrSVoSW8gkHT5s5ScjaPw6H7eo21lu99xdJ\n",
              "o4M01s33VeBEEnK3xrvRWXFmr4RwOsvM8PDEHlEyTkITkpl2WyyKZ+5qaB54TPuAvjugZCWGhgiE\n",
              "ehIQLFFg56IFJqz9AyZY2tkyzOprIkJbMqkoLOetaiiEXYHywtnXrOiBPKgqUuuEGjdc5K5FTqSV\n",
              "xpGLS3iATnV95g8TxJUf6s07P42grK2an/CrjYdJQHoCrDO+Ewxb9HsCSPUjuyUjv6U4sY5BQ4vK\n",
              "+FVv/7QrtKaBh4req/PKoYMP7SXRIafmjo8N8v6E7tM9bTvWaTwBqM8/edcEpNYOWAPARFHtu8Ry\n",
              "MlyCnPbNF2spelbj6dqrs556U2kqK5f+fmdiTH8yezkcFaDbANWjF4yRBX4b6qmQaEAJSCdRaqZV\n",
              "JpNpshpPABIRwxGCoAnOyOc+KKkEq1LmoP/+UqrKRocdNODo8Gn1fHxcSFOrW5Mzn98r9ysE/Gnj\n",
              "98F+2/G0ClnOlApUj0t4YP+oMwu6arhhpXx91uRREVtoueu1vQi6A2lfU5uAsVoEZY33xXnnveRs\n",
              "zotJqO3HRVoMVmj4SSeuro6u0T9f7iQAbMLwc89LUmlX/MBPwaT++sGnyP/tbcufqtB0hbDk/aUF\n",
              "XNsGUYjtPLwKSkelUD0hn5BpswhBCIGzuNMgWdWuunjbprddHrUOkR6SZEtNYds4SyNTKCuW+iBg\n",
              "otaB+zybnl+lbsVQtM0xzl82tRniow0hk5ImAim5LG3SQ0AmrsIkNEuxoOXYh/hICyfZTdVbHrOP\n",
              "VeDwUZOdjNPUwHfXUUoyYmCTXcO+Qw9zjH57P74GLlar3QvT5KXEETSxMIqsi6Ieyq1xfndNdbDn\n",
              "JowqYEa/7cm9IW+l00fSddZLcJ+AAAADwEGbCknhDyZTAhX//jhABPZT+k4JLwE8uuz+4U1tqaHU\n",
              "tL8/m7f092TOkjyDPMpz8sLuL80i4onkky6IJ80H4SA6XJobAEp0n6+dHTsxS5Hq9uIKiukdDAfF\n",
              "T3hbh2DpJS1yqYrwhq2Wcd8o4KQZIHlkZG3VtU2zTyl/yeTOSrVyiP0cAXh/DHRyTQibRUfqm1T0\n",
              "TuEo3VsSr5/pPCp8m8eRkYZbpnagDisnlxI2pwbs8WKpyF1Q5vg9hCnhDT9CNv4J97SD2tCKHBOJ\n",
              "pjviThv0XIvg4DfAPQGgWJ8Ep1HH9WF9MT4tku+zYqlakAdiXIOLr5OvR156fin+bwnUz6xyJ//P\n",
              "kRPt7OE044qoVcXaCW50VEFbFE49h1JwCJREWFbvJNWLzHUgX/q0q2oWGX0aANkBvr+I86Bt6nIE\n",
              "MUJ0SC2L5q2DTOJ1z8IIsYasRPb3ywTZqS6YMxOymzyYoIIh0ODrbN1qVHiTvsgUbVqh76Y+ge8G\n",
              "vqA/0RMkECBMyy5ERMZze7znFms/u6k6nkuH4PZ+Fv8t0DXH40XJVbEcDElcLhyuaRSfwpP0QqmV\n",
              "4WbxSdaw7V0/PJRy/Y2yjEtiCuGfkAZrVVuqcWGmFBB0y+KPpesoPOB+Au7fsCnqD8ktFgb3OBDp\n",
              "L0Bynao1icLT0tbImPka0be69xozuNmR5wqbl/p1ZwpHWkTER70ZDilr9MxQ9KHeFKSJZTeyV8f6\n",
              "Y+tYcc3xVgh3y4AISGua5MJjPOuhQtc2BDIeteUxjcA1rREHJpV3KZjZdrzS8zdgyvgWIA46jCNZ\n",
              "hEcaYo4igcBTYXpoEuDWZrH5D01+VZHPoV/1ocFkSyLk+RD6ZaqL9vS4s0IF+9eWSs6ymMO1mcL1\n",
              "kPEBdXHTz1f83RIYS4esgywQrbuKBYhYSW6nPe/4kkOyAHGuco8o7e/lniOZP4E0ixiHLUmzsW10\n",
              "0I1H9Md1uyNSj8TRvNSOVXyyu+SN49EyQj+IKolVJylD9WL4maEi3KTOvbWgRXYYAo3d8zAhnMGB\n",
              "/fuCJ0vwNzMtDmkw0jkXKgytZW4qX55JiZGgFRSnlY8By87Om+zLHKmO1ZUG4mebaNLicSs15jJ9\n",
              "amOPLnmYKZ+mYY99cBVi7ks4vOc7Ukflqegmlhvg1DRDiMbp6C/s5xtZIK0gxqUD9S4NZqiyEQog\n",
              "miuRCsiZ+TtXdLufu1qMjA1QSRaD20KuvSp4qlUUtt8lbjJSxctEsiGksXqhdlv8D7O0U2q4W5Qy\n",
              "Cx1TFjTYDdJVDzHMVr/2gQAABCBBmytJ4Q8mUwIV//44QAT2XHKC/Ws5211XI+xfQHTUu//ARgOR\n",
              "vNI15bOdfGhvBtdKsuYFEAP2+oU/Y5VpUo0mvW/BmZT0z3atNtJ902nCSiIlrL9CoB8jhTRryEnh\n",
              "aQgAS3DL5Ym8sulHdn0mxmvTeKc5ZRIud9sWsdL1h3+QEFyCyL6vDW0sVuobojjGheQYP4qY/60+\n",
              "yfu0cM+JxK4G4hb4Buf0v97ovNdlx+w3i9KLwTXEJUxju6Q4a8v1r1w96Rd1XvEC10E0yGMvUh6w\n",
              "Lf0BPTQsu+E2azLOl+ifDYfU5EPrGFgmEorhw9Z2owGkxZXVFWxojkDxylQTBIn/S3p5bjErJiDE\n",
              "d3TWLzEsYr12XIzCiY6WKat1DtyG30AxZ4KKwIGkeT+8O70OCQZY4NNSOvtwJ3cAlY/qBozH+AmY\n",
              "AItFmvLfn8MtEJymaTBl3WCFUuBGNsRBmbLmxGw/U0wwlBn4PqTfd/uB7InwrTDoiW4kv/NCAO3Q\n",
              "Z+a9Q8gn7BH3GMjd9t4FZNF2comFi4Zq4ytH+TQkVLMkOj1DJMPPkSmj18AFuu3BDTXd5v3novAv\n",
              "5wGRV11U/QYRSF0cLoNISqLCwInTTP8nhp03sCB4PXHx6/45AKoziTkzdmWJDTXLEj1c3ftxiYlR\n",
              "s8WirAtdEyd0L+BPmLlK1dItpFBpwoGPn4kwysJOuw3WuCRlp4XyNZuAm9lyrD8I0cHYYiA/kitG\n",
              "rSbHZ5Wmvt4LJwRqKGK8krmE+goX2Zi0d7H2o/vFIyMNYOLsCzqIGf8ZKAq0kkbIGzV8HaAfkZ7J\n",
              "99D9plvadHQHy+BdNqwjVcjE8EBcpzv0nXV/kpp/sZXnECn3z2lO5GOtyulOSt7pKOBjRrXucw4C\n",
              "VQiIdgXiQunX4TbBgPtWUDv15r/BSg85LWlavgQZS+xGbqp2Et2Asm4CdSfIE8TM3XIz5in1BK5z\n",
              "rzYstGeXnGgA+8n9L33Ey7zLkG/Kbxbg9cYBiqOj8UfibP3+/Bw0F3TzEqVA4r79+26wxOW1THen\n",
              "vt2gk5BNYwKZXMOcRtuJt6NWFU8Gm5WwITBhdS/ZL7PgUVS7e7vAQYBafBd1twavMGbWWAtGKvYW\n",
              "IQERyx4iBsP3PD6L91QkrmJiQJVkRRrpD/us46ByG8PpgqPVm/Y/a2VNAG7LxaGq4vngwJcSyM75\n",
              "wC/qCOdzwoy/HQG+AC9Rxls5xDND5/QUsL8nUv4dnY7Gdt47SKUJj92ouTZTkrAJ05hK0c5at/M+\n",
              "ThUXtBKDH6gvng5wYBpxedzGOOWiKIfmvz7Nlvt8CSBJUZ/JITDKJdN7diPvSDLRb5qcFb1NJW/f\n",
              "pzcyrUOaRPX8S9umkQR/dY04lB0EJm+sK01Q3bG6llxBSb/eJvkidnrHmhATMp/6vdgAAAPyQZtM\n",
              "SeEPJlMCFf/+OEAE+ZA6WAPwnA3u1Skr+0hwJovVVHIvY3YjnIbUk9OdjqXrg484DM0nsJQ16Rnj\n",
              "t5MJAvt514ehB+0L6MFCjQ04DQYoqGR5rSRwOlLd8f9+IHNojSPzPaMWufYt6m3Kkh4boo4kQhcL\n",
              "MO0aW4fBKEI8UsHQS6cPeaSQQNeCFfjkBqt6W1M0hwA6fLfQKhqKVsEsqRFbU8P9rd5OI7SLd9Hs\n",
              "wlj4b0B33R9hVUXE0gs7pa+KE0QMa86U4KJqrWJSV3LgfCNccuVnLQvf648PmRG3k+oSAbCTDHgU\n",
              "PxyD7j+zT6wf3UfnyI6RHi3Vn0jnKXtu97gSY5FmW3sJ8Yy+X8sZ5lCmsXOgeVSu8YzLntfnfw+I\n",
              "ohNKLHb1ReG0b/PvzEuJW5iYv95t1Dfur8wVUcyw3jA6lqquJiTz+gQoXXEjp5UQaidqPa2RifSf\n",
              "xOTySPczEKEYmKPyAmebmIlMigZw0bew+UjhykdtL4hvKkF88Toy8ziE6MxynG5oqpXjJ6uoR47D\n",
              "H222NaoxhDCtIj76D7aA5pUTprVGMcy8wHfCvCJG+xH6+CGQRrHDd2nkW00nxU8Jp/mFl24rNJXe\n",
              "4krxJHaH0RFqysPphWE4LRp/CqHHhvK++DHZDjq6+oSkoPg3gOsRPognDltCC3ahd6IdKebu242m\n",
              "qxsyUD/jmOcV6EsidNJxwXiXp8Hhw7B5h1JPbyZxC4uoabP4FzsWZNABEgGxN+O0EMtHGkrvGmEJ\n",
              "6TDD3vntihMoGbMlYqEiCt1jdRougtGIRH73E+CgquEEkzhOlIApkedi+PIGlr1VEgiXnhgyuRu5\n",
              "c/Qlb1hpbwcloZruX9boXfCH13zgQbM44HHbYQdj8mHgOhqYY0JIAnXDORbl/sp2HoqunRbo2Yqp\n",
              "7iwFZ6/Qg+Un0NbBJH27HMqYuDtLnb1CsTGH+B6x0rL0dR1AUwv0pCRUwbNHbHvmLZP7QHNqnXUK\n",
              "ya7+S45ByDv6XqWPUjhxAVu8usKSpTLCh2cgsTxBQZWVrFGrIzs5I8P2qpt+2WtqjRbD6yUNTWYC\n",
              "IC8WZzoJ98NPUXCgQyCtsxa5CFeFCkBzB6ZytXWwc+V9BxU8XxD07qAWb9eBi1gazgsIpm5nSfPp\n",
              "k9ux6fdTnEEq7x79NaaVosUnJ3A2jwX9mbgzscwzeMXXhQObjutn/f4dE/tMcGv9BFrMRyVJNcDo\n",
              "mJ2mdTxlvgoPIEE/sQuYsXmSJ+IwdieQk07PChxhCNXhorq3riGyebk9opsg+5jTX/1lFO51RQP4\n",
              "ik29pEJ+038jGLlGv71FGwkjUrgdCSg989WF4ILaY/9DFDH+9mQAAAQAQZttSeEPJlMCFf/+OEAE\n",
              "+ZFp9BDqVdEm5CU9tTy+6U1vo/eX3wBTR/fCowPDSB6IFtKeD7ix0q17OW8gYphKiRD6pY5pP28l\n",
              "1NryiS2uaXquzyXQDOoMfHjoS9IaFiExkUsrNGGLdVN/BSJjLMkJPmpX9ZWN3bwSLDo7dHzr3SR6\n",
              "E5Dx4NUpzIBoFPpauRBZav8taOFwgRSzPsTnCQZITuOyQwY+LJH5LRzj+7nNgmM3lqiSYT/jGfQ0\n",
              "rs+WDXb0S0kUYpOIEsdCv7x/IMOl6yrT4+0xXiUT+jHmeOVCcUfSUnOmsdoPXkEgcxZ8rc5lmqI9\n",
              "NC5ok1VwSUHSoEfMYuuPM0G3bHeGBAkwlCmU0ji7UsN3xpvCwxpGWiq8yLswGlRpIsRNJ6Eby0WU\n",
              "PU6eoFTiVwI5IUWOx+TLHrtnD1LA/7zj2A2ji6JEJ2/ORS6PZc92gqASH6vSJIQaBZH/nh+Zv0aP\n",
              "YrMaIyo/O0k7J/5YYtO8ohy1/OGuFEulrK5GJ4NzNrpZjQEmWw8Z/kcak5gqZzSpGOWLXuxx9RUY\n",
              "EonYSkV2Ow7YvZz42oFoyB7y9WiFk/Tvv84SErULs97QWDzEj9jrheKXOTaW0IQQmcakfNq7hW62\n",
              "Ccwfe8h1M9pnjmsyk84oaFC688Uc0VmY6Nk0OYbBZvv6xArUzY8hJM0uxE6doBTj38FTsn+5xaBQ\n",
              "7oBX+H5iDGI/o0iCfiUqkXKvVCY/gpfl45CdduxWZca1loTv3BSu2lQ/68d9q0rrlYqrn9+20925\n",
              "PnV95GSvvaL8zdYfvpaLVGs9reYcJkgOCrSLXpgWX0ow4qJjhC56oLns8OSGELtCJgPyUT+QiryS\n",
              "UkCulCvNLLfZOQs6CMGeUjss20QcCVWTHWOkT4mp9Q3bsX0j9dUBNKtDTGn8+RyqGTLFaBvwNYpB\n",
              "2QDCQcGuhJRY2zhimjzH7bVNzCCd/+BxoUAuQlpGC1mzpp1bJiYWKMLtl8VedatUOWKunVY7m3Ha\n",
              "9PH26tTqBPKTy3gI6PROk5eaUbbAPW1s3nhSMIvUhAh4syNnLN21ugnEcq9r0uXAW4KIWiZ4uiLw\n",
              "E4AFx1pKrwvmGaAxklhcCEPmUicqbqS69Q6blEkPEIW346VwBKgHcsHCyC2yj6IS9t7IYhX2FXgJ\n",
              "aONcAJ+mop0gXl2/0UXH1zLQ7cBO1XO9wG1aX+8NY0ugv7Mx81G11OhjIFlO/rnGJOF3DK+hs2lX\n",
              "0wVjIXSfTMALwzv5Jr19OxCKXOh1gUL2JzhW421Sqj28H8sIc3EaMXPcAf5zqNGQ67L37w4QkL94\n",
              "Xj7AfsFObAW+fvMfykkzEgWEjcR1xXoCX5mHS9p+kAYoYqiffmvWCQAABI1Bm45J4Q8mUwIV//44\n",
              "QAT2VCBpX/dYDyhX05DaHdCs84fHAbmUfZlYEhNbf/nMHnK5oLZgk19zIkCEhi+GwTmxPQcwr7hc\n",
              "F4ZGMVTwiiOAwT2Ofnwz/ww0faez2IKbP8qAFrU4ug5EoUiwES7QLXVHkWluqeu1ia+kXYL33IBB\n",
              "n7foDghsDLHolqAxfD5p8zNfsiwaEBfciQCCQ0O3pIbXiJR8wo6WuEp7VIII+9eI9rE9+VkhRaEY\n",
              "52mhHY6kQeRrYi6/ouzkPKPqlRBdHTPPEZZ2JWzTW/sBLO/lctLpAM4NWohhUXia827nNbV9eLQm\n",
              "piDnPlXz6j+BRp8J7WrreOXpdZnQA+dagiHYl8PcMr+BgTgFGYhJCnebOANVZWq0vNfa58hhz6Kl\n",
              "5ObbkZHIrwzccA36wmcmQhAQC7OZ8fOvQHIa0lVMxlDJYB+bG7Jmix2gHeels9APOzrMcfda0ZcO\n",
              "zbNAagpcv8yCBPv8hXluwJTPOXRTmmtw8T1PgxLduZpGxy24zQuCDspf+bEDs8W2kkGFdgSdFl7r\n",
              "HqWeQlr55FIbz8PrK41Oh0e59gMhCl2C9EhErNfd+FWyvXg1MNs/mtQ2oE/S3HSWyxbEAr7x+RZ0\n",
              "cN5z3oPBKTtgWyL6iKtQoLsKQ7BeVpkzZBZ79bUwpCqeeEdPoWVNa7JsrCdE/cNyjzBG+Nv4oSAw\n",
              "PYjz+Poc2m4exj6RbrANavmSjRXgfo+EToj4tJXAuPn5QunkAr1+PiAVGRrlKlz+n1RUL30T71jp\n",
              "5gQT6bEovBsNu49OKqrSvHjWMD6V19qqBt/Lxt4RREndiKZT99IRJatAIij3/2v1MBzx59q2f/nq\n",
              "cuMdGP8RDOyEmf+eZPtaQqYfgwZDQ7+rqbzWePJ47ynMixnFcG+8NVB8ui0hzlXBPqdyY0cDHL7p\n",
              "m1LF/XxvCE+Gj6RfmW6u62BmpmCZGq4Tz0fZ6SazR+5tgpL8FzpC+7alQuLeFRs6pJvgwxTMN1Le\n",
              "ZGDNwLzoWOY17hrRd0BSg6WnMDB6IO9mmMKKsnWFkENIshm5e8frvjN42oqT0r1RCFIZGeNsFIo3\n",
              "NJ1Kph16AH4abqxySnqfzqLtfKeFVJMnVYoNIWUJ3RLePGFKoBRX8/JM4zJceyK795mUrOSuoCfS\n",
              "UiEj4efntE3Tpqmvfr3JeaICT+chzIsVmpw/n3JWFRgW+suNrfckAkuKw1b8wz5ygCpdzvdtgfgR\n",
              "9v/7ym6Qzvir0sLtaEwjIEEC4M6cAMfA1teDZkYYVYNaTbIscLMRfsQ5cPthwFxe3n4ud40VTKy9\n",
              "XIQqB2NLoI28AKXRsuC8KbTFIQQ007tZ3IJBjqfdjxn8u8IM4WOzWeSWhQnMo6A5CpXHweGXm9t2\n",
              "BjHd8i1v5JHX5qTD2RsbpWHPlWPhZKNlHyL4quAkiSoiFMCeJE8Jze9YZXp1g4lYxr9yhmc/Gw3s\n",
              "jpc53Poed/Dc4TMiCK9QXw0euAHEkeqGveuPkOBMKFlb1tkDVT/cI91Wu+nBqFChgNcLABKppaZA\n",
              "XwT8uQ2QsI2cqnNRAAAEN0Gbr0nhDyZTAhX//jhABPedJ61ng160QCezDFBbJE9s2L3JAi29PE5k\n",
              "xCtqb1iAd0DxzpZ3WtCkvbRs6ozd8BEW1FabLzzcea9Km3VmlVa6y2yMNr5G6Vnrr/ibggP6LOmH\n",
              "BvQOPFnwqtr51Zmu8iCqtQxIMIwJ66biwyPt6DKMb6rm4TXpyf90VoK9gJCJjPhFCGYUGB/pDNkV\n",
              "TGZNeN1A/ZWF+wANmQdnvd5pNmvMQ8z0FzS7ltwPz514eYiffS0KMEiqAOS+2ECb/Y8vRaYD5zto\n",
              "vWDXHxkL7PftPlwIQRCYv6gHL9QlMB2XT4VThpXdZ7SNwgX4NuilyxRi1ihCTSE+RfEvacBtY/x7\n",
              "2yxnfNXzex45F4fi3pq3R5mhqCDJ30J5DeFbYFB1ze+iRWNzbO7pkYPsYGeOBRF8O7Oy9q0IVA/s\n",
              "yKf6a6DkmQxZ9UmktHmd206dgCTdzOwQ1oP39XBxEklBjsDnMZMywc3xaUScmvMKGAOPm8nnGVR7\n",
              "SQTSeLbE2TqH+2G+ty2I638NGc9ybIu2wOpaJFCRcRJ28zx4Bav+3gG9zB28eZ8nDuiFOaOC9Chs\n",
              "Z0iFlTMXq7F5af7RWDtlRrJKchFqYxdWvPxg23ZBiWXAMMncYLr9Y+qZzMEh2knyedcvJlDQgVyB\n",
              "mFGZoCeROPF76uoJYUXC2yLHCji4EKwYit10YkIBUw+Ymx7IJczGq/BkuIXhotpIwe2w8PWvOzvn\n",
              "6Vd+eDTX2rQv5jmoomG37bgwgtUtaj+jNm/9+qIdfjJab/Xh6JV1Tq5kStXScRy78o4TAbsG7m/A\n",
              "igFULLR1aJg0Rux6APEYIfT3r/OKzLutIebY7lfyvwknY/kpfz5tj84nUXWMjry28ShAYDG9qc50\n",
              "wdsmyYnr36kKmUu3MbtNUUUiZJiTRMY9bViHB6PsdQarWrglAAytouMEWBucyknjqL2qRoMUX7X3\n",
              "V/MsrZ8/PA2+joXvmtUWfO5qQnXORJSoi0XQhyNtIGcDwW05m3HSGXxSnrbEQ732eectwQnfBWW+\n",
              "c15ZfGMGQzZGaUGBQSHfw1KFS36JkGguOwRPN8ykL1sJp5uXFLRNGhGWILcmqbTgLK7NtO1EseTy\n",
              "avihmkAGTmSWaBIrqGv+IcKgn+MKxrbjm0B9YvRTpLHiJ7TMAI5p+Jhr7u/EdMD4dlb42g+dqBdI\n",
              "wrwQVN4ixhnHRVBhJREHoHjKc3VvxksWdaAhrZX6B1QScuauL6VX1RF9Y3EMM7xxgzWix3IK5Fje\n",
              "at114cfLC6J0DpM1QfqkMQcHziyfbzt146wSS9G2KtjOkBHUbx+ngTB1hduc+D2D9P9RnKxY6oD1\n",
              "cwQoPQWsjvAvWZYpeA9QAf1Vtd8qpVM4Lg3HVbYizl3x6oGqQHVG5ijKTNigTuTukdFsD1CH7+48\n",
              "cp27AfdFnTULQSdBAAAEWUGb0EnhDyZTAhX//jhAFa8XAA16sv6cbfYiTXlb1O7h8SG1GWHxSFAQ\n",
              "db4+y8sFATvxUJT6EKZhxkgj+MIjiyNJLSxPGdyOAI/T5itxBm0co2sIb362VGUY8liUJHkDSJsP\n",
              "WRzKouHJZXA/4mgoxPSRIPcWEvbq8syQ2MRGg09auK4YaqqJwYP6wyR6YpQAJi3qM9wNmdzuQ2o1\n",
              "xLi41GdQexlkHA/s4+mxjxPTGp5RvC4QmFQgnNB04GuEjXJIACA9AhtLEye92MZqYd5pxXWN6yPU\n",
              "1Gz8qHv5MHypRvOn1L8kzvHQrLoyqGCeDoHY0TbWsLUmbwy1Vrc+NUcC7OKbSdabIuzbHDy58iYr\n",
              "fOIpmaj3yjrVEsBVJgIMvaqquIf0cgYRMlK91h4C+osYLV8pVUNTpYCtK2E1LqCHMF+gKWQ8WJU9\n",
              "vEThlvPR/UkwTXXvYh2HbzJCI2kk4SnSAtbvWhGqOAXE0FoA+fCmv97R8MlheD+DzOWb7nqkwiay\n",
              "7jvLgXz8DX60lgTTPFI+OHeFmwOlx3ePqAAyTcMeyYokPvcZ4gwH7aEdyOcoD2G616QlKGv2Zo/r\n",
              "I6abC0ukQoJtGd4bjsAqAGRIx4ypu5Q9a867oD+uTePkaf0xsN2yXBW41TAKz5eUPpXbK36xNGCj\n",
              "jsbpY+gWyenNMq5MFJISPriO7NJdNYjstLALo+AEosI5Cj3Mef/m9c2jAxVkan3LB5qYGrEOo55d\n",
              "9owdNjZUPXOb3yjjLfkGwZe1unr06szSJIQyPPpi1QwCOniRZXNNbEyF5I85MzNaA5KIaao6XW73\n",
              "MxVeCmdknYyHyIIV9Njeg4hyT20MbzE9dcCCIFjv+92tfdynbSYRGkNggP8jf5PBW7r7TyaCeQId\n",
              "gY+gMvv5+ZxJBMMKd0BlndZg7bWTdaLFkYBp6HE0EV0S4Sy0his37C6c3Xj5ep6VmuSq44GwJsxG\n",
              "PQZirg4UlWzXbsg+Rd7DTiy08fmEPkpjbAgVydqjpLCNFxFnti8m1eIG4uAC9Fti7rNc84XkwrS2\n",
              "TFLIWVMhVLWg0l5LlzeG+zQwjkTP2cXa6VftEysL5tYxs864LJ6E6TZyQRGJ6lNUVUaRFInxOId2\n",
              "xwBMBZcNbgHAfmnA0p5rWL1NZ+XQVjyiZ5Btz7rQ+8LiN9BHbF4E2VkPx6l4SchID5WiUname1pi\n",
              "FL6FtNrvkh6gAyjHbICcSImZv6M2oxqzheRNl9rvXaBv80PuLTHycZPtkXHQ/nM96lpCzAzDYHsO\n",
              "aqRaThIx1rsxk/fwL3ABNFGz77NQ2+QE7DSJSa5C4vbHAm48PtceQjCjCV5qOKSFTyQ0+hG7o7lB\n",
              "fahgRmjGhM37UeYuxfmg+NhfOfBMC37mKopxeBgngX4Sfli5hfk9agDmqi6qigxwB4VN7gTFAQyY\n",
              "gwcYD6mIEBl5nbR9HON8lg5STFL5gUZxVRubRSZjtfOtMyYQuFg9lOHedxhJWAAAA+pBm/FJ4Q8m\n",
              "UwIV//44QAq9niABqRzuhVBHdislNR2qHagaqaX/2Gvzk4UOxXjExpK7Cu8qlFFni+iTogNHg/f8\n",
              "kFIOe6DgbUibeGiWF1nhHDyXinXE4RIGfBqL0IPZ9WffEDI4vNydGA9KewC43sfAJOI0Gbmh1abh\n",
              "SFA7VTfzCKGXOWczKGjro3PX1wpr/LnRjDT7/h/ZzGBw6WjgoDxOOcOet+kfWS2GV9hATiRK61MV\n",
              "+ta/OMCWTRUUmSBvAcvkHgdtjfB10ML6DC4cOc83ud7oDOqSLoVsO3Ib9BhC00pD/R4aLp685EJw\n",
              "L1xlkVRzGWsHTaZrQGVzFJoNfLm8bcIKrO5ZIWhfxWhuJ9uY1r5dZUcqz6o47sitNer1Uagpdyob\n",
              "blkQiVomA4B0AtcjvAZKA5/aITrGAE7cL8Nam2Hyv3uLFG7ZeOqBz21tzj5uFS6O+6Zj0yTShLbu\n",
              "xwczY3QZlNQxp9uOO1PqOM1eBPYyYrKuvK+aFy8hJQeZDjUthHK/u8Spod0ql96g4HJ/QDVFK2M3\n",
              "8HUXY7x5Lp+PJeojs1LsTHPWVILVAVoVzdMyDZ5YtFekSoX3mJoW+uGLGsK47ven3rF1rhzKusb4\n",
              "4qAYdkiOh8LJZvofGuYpOxRSPgWcbYS0eRoVJEa+hOLHVdIutcjgj1/fmwKecLLNbkG8a8KL+rwf\n",
              "tFPnpOhVT/j39ic2V5pnaJR0wQrVYa0n7B1kw6yJWe5i28jkowaaXooXbJaJS8pYkHeGVxSNlGEC\n",
              "qp3Rv6mXIbcBsBDe2TFBM6w1T3ZV/FRmGKvQA2pSQw/GoYQwJAiAx4gWMDok/O7FlIeWyVgkpdCL\n",
              "wOF4gtmhI63Y3OiGo5xDDs6+7eMrvJvcUqGcKOaqHudSSLIsTVfGodwVu5RE+V0N0cRnDPhGqYSd\n",
              "jBVZYloZ93jj+fkivoFp2n45p7xVxpUGNBScvguAy24ShJXW+ADiExrV4jPLbhuLmDwJT29Ywmk9\n",
              "/BxWR2quW/YnBBPA7nxUY0fb3UIUo2uGM0Gkk89jwX1B9AThe41GHTFAYEDrFIreJvixlRZsN4qi\n",
              "mwFsbFuug/JJl2V82ESsg4ir7Pqjzx2IG77hHm9n6t5GqKz6mcoZF2om19SvxNexavMoC5sBSRSy\n",
              "quG7j4KNK6j/n+hqeEFo9EwuaYsrLjY6IGR1QVM8H0lcTbSOCWR2hMpz9z08A3hpJnSMOZx8qLn8\n",
              "S6/kqUmxmkgqk9z73TdzwlkyKqx9lALswlXvEWOahLMaNX1/kwJKAV414vVjwaoe2i8q6poj+OlB\n",
              "URPSuNyX9IeJBNz8syS0COHXXjxV1ZNH4sAAAAYoQZoSSeEPJlMCFf/+OEAE+kET9TznewbAHLq1\n",
              "Lkk/6olKoE9WW4zuImag/Z/vsCGBLGcXP4pVIpDX2BsWpgzVMHc7KqB4/2RBXbMSvnOF+7eKXjml\n",
              "z7Ye1dpy+UuHsiDY6Ad5c9UKO7UmTovJy2CC+Z+EvCeDgie2KU26k/h1rA5eLScPcUlbI3G/G4Bq\n",
              "5axkGyUkT3U7TAP/Wj1GxD6/M6s3DGQruOq4riO50s1VvTM6uXloqn87KU9fZqxgyUabzlBdB4Ug\n",
              "+9PGKQPCymw5EfDNCN3z82Lxze20LT5HbZE9b4gi954FPnquWAlBe7feWXPcmbRyZuC55sex+9pQ\n",
              "qHC6BEENJ0Tq1Hx0j3jv1uHM+eGcaS84rhxZkC6HNZ2BXNS2bZ4CQYTZ1ZeNUp9RfYWvIIqA9HZt\n",
              "s5mBxEuGq0jyfOzTW+LDXYZu0Xvj+oVrfkTeDCkG6+JnB6WTLXDnA8qftURbFeohPiqrIN9J6T9o\n",
              "2imF/LU7SQHuSQ5VeNFTyE5Q4D0lifhL90B4SJMUpm5uNkLbMr9UldpnsKcFq+pbAdtL3LW65kRD\n",
              "kJRJrfPjCcbxH9aU6kRYjEq6qbn4kyofFjfSrSrzSNuauCaG3yxwONZ48BH5H2DrskIQq5nujEB2\n",
              "oIqE46oJ837EnD/qaUodBgIU80E0BHLM1Dws9tnv/7xmMUWuQ6FjizDdhuipU1rehNQC/zBtumhu\n",
              "XdGJvc21f4jpgCN/4s2Yz5qSHcGTNY/wgQXskv+3lPItuHMJXa5sLioG/CcAAVdQ2qrxK0g8+3HH\n",
              "/+L9ypbv+4ZGW7LoYJaCdyAgPgWk5tY9R6s7ecBzs97QC9pwnrWouElxq1OM064ULu6K9BlrtK0Q\n",
              "2TncQZC+4Jcq1DVYFk8nkqfm7yRWNpaZlEWoBJXTACR+gdoKK4VD5b4hQeOwCG2QArvn33Uuoi/v\n",
              "2lk+02UR69RAxtAjDCE6SBgWbz8DJpitDuiE4Pkac/opinrVaqPtxrKev8juCowL7mZkw+WKN5vT\n",
              "9ua9gXJzhclzwZDo0xaL24bO6gJB2cWW6CJTFW3ioI98IW7ba8vFWnlQzz3KFFZspFwu0Y/bT51k\n",
              "nYu2KN4grb7TXxqfT1Gu3n+5lJ81SB62lLsPBqU6kGKsax/azTS3k2TQak515dpceqW8WO/KotLs\n",
              "qt+fyP1kXNMv8DPA8t1RVwZU0ekwWE4XodWqnMKuiMiJPEGkzZHWXtKTPEWu4FKDnJnDPvnz3EiS\n",
              "n6F4EtJrU+p2e9YsyeNltvoSMKmfkFu3T7g776UVzgP6PfVWT5r02p8XGAH/1FwGlD8CV9X5MVJp\n",
              "Jgfgyu/71eG9gaQtGWVvDrSBrVwZbLXEI9QjXRKCe+efQlnGqMGu6yxZX6F70zB3Ur+n5thqByJg\n",
              "8IL/76BkZe/Irez/ApFJpm49NIkCiqSDpd5UE+oeauM7W3tdlkyYKrNpujBiWfzGjcviUJnghf+u\n",
              "lAbufdPA2LU1imd/Pya4O8ntpLQarYK3AEwYFI/ika9CTMUg12vEd5DZsBwjXOZcQ8KStNG/jjyY\n",
              "c8wz9cd0wTLNwhjhmg06NLBQ10x8KrFhjgaCQXbLc1BbStvjxQrsr60FKyOA/EbTH3dwrfd0/emC\n",
              "ymvIvreEQ7CYgLpL5JFqJus7Sgm8nTYEQCPHAXJJZplhSoqfDelEGg3dGMlhk+HaE/4oR6BKxDtQ\n",
              "bLFAsQjQ8Z3t12Mbwo0yxor6IhGOUDBYVoZIeXcD3GHUT0B0w/4iNu5j3Z50FFn4zodO4kKwMeYO\n",
              "iDWPTKLZy1oRz5xRxPGpNQJRccAZGnu3qVLjxyQL1FS5wxP/5gY2/BJ0GcjmkBWL3qfM3GNa4aFm\n",
              "FPNLZbp1nSxPDaXb5X91RfOG88trmxjaK/FHRUsZtXbkvGWwjPNnlPAaiBfA+3Vm9h0N4e9Q4LiN\n",
              "oCr9LcnRKmUb7+3pa0yal1rea2LWOJkVL5+KgUm+wHBuwEXMCa5kgmo182xdFeCFRX2JYVPX21w/\n",
              "uvKRUPXlDpV7VeppbY/7UzFo9Xu0SYLM0wG0FhswuVCP7+3aXQ4/wmF/jTSzVk6uD8O5k0+Uqmr1\n",
              "DnU+zN3bwiKhQQAABFBBmjNJ4Q8mUwIV//44QAT5Vx1Oc7dLXQBWxs8zjLXcywHLVxBlK9oKQyD7\n",
              "nbuPyToJMWJRA1g1x3cQOYA3VQQuFEaRbuieTZzcJPBxABboNVXQ1PtykMzV+KgjEegSYhqOujDS\n",
              "vrqRBLm9uXw/k0fl0xHHNzebZZAYU+e7ZXVa/wviSkGeqg5I2H+ALJVXA3Lc1Tstb1kbK3qTVmGO\n",
              "o5s4BcluFMSRgKLJvSfBz7aoCe2BRO8ugDWYv21bQ5TZG2LlW0f9g+GZFxst0g+JK2IPrVGkClMr\n",
              "KEi4ggZ2/FyxevBfB9sflDbxG3A49grCTdvU7jICpvOFlzxZUmA06chp3inasvAGK/iA+XVevqrm\n",
              "+wU8EIEocppq7HfGHr0skv7JcPvFK2jtMk1eNTZXdmL7Rm4DQpChY/FezZwz2yttP3j/Lw8+5yaa\n",
              "Z12v7yiNFBVSG/tnWK+P9hy5vPuR/TcFgIvk6Ev0oHflYeNfWSdKpvUzeGHqWw0jTSDJKCpTFOsj\n",
              "mOgyG34vIcL+LTdKPSFdXnZt88njwI8bd0+drfC9edXjV9Xw4ysZpr5K1FoTrn2vFqMfaV+RvVlr\n",
              "jJ+oDfD7R/aWT7XxUftwc9p0LZ0cNe8vd9ID+0pZFLxOhC/O4SnG0IfSinsQ4NrM3lRHfc5upHvr\n",
              "jaCqjTlB7u1+KK1eUlYdenXrwHuyYOR1XxdqGSsbxFwDqUsocOlhCMKeZ5+oV4SbqHuwKh0mtRd6\n",
              "fKz89E+Mjl9DAAHYOr0JWEzj5/WIP9IL9iggbQpmzrkK0JBovNuzbEI6WK4JgrNRg8GyVlHe76Pf\n",
              "oscn/32MftH1WCEFF6ybzOED7JTC8v7OoxVfyW8Pkp1UZmAAGnriAEt7VIE9oFzfUhJsB7LRrFrv\n",
              "XCQfY0kXSDd3xoQzzT19mqgx7nITbbJ5vgDtRku8m86sIYrtJbJkRtNctmDrKd8dYBqlcy2fUjVG\n",
              "Iu2zsVCptFDd03N1rwk4EpmtyPUYM1X5aQsPIYK5o6EoE0kSVwZJQdFoH0y+8Pds9KBuyWBHqzCt\n",
              "DuDjhlH0uqHNm0flS9TcQK2PR/LAy6ZnKw1gHolfr5+7bSoorQHEyZI7EXWIwadV51ByamYkalg/\n",
              "XUiLu7K/QttIkxKh52Qnu95dEHSMRxZvYEmdY8686O03hpuDa/cbZjcPHIIX76TDacuRWwh1FtRu\n",
              "N0bb4Lp+HsBaWwnOHf91q+IDy75oCKNvEr0piD/L8pXl1k4MIsIo2MM2D9naPQBhp4Lvq1VreQrS\n",
              "UqQZ3iY1Zz4afDGdivPBNOgkn9+IZ3591BVewUVeqBRfTetjCzdB0Er/KbxxgZdTar95eo9ZRjgt\n",
              "z/l9rjM3MGR53gyQRGrIYPwTg6c4go9ND1qENNhtB7pl0daOfXgtCXxDYJEJSJarHaH5wV7Q36sL\n",
              "Y8sEeXQlaU+lYBXY1H5ZxYjZNvaemSTxb81sottdL7Y9USAAAARfQZpUSeEPJlMCFf/+OEAFHAyn\n",
              "eISVz0S2coAjE/tSxX+lhltp5D+jttJV4WlsybFa7qgqdUb+62rBYCmUwwutVW4B55S0lV7qmr2Y\n",
              "6kfQuSdaJB0seuaiSdPNZC8y7iGzs9MyrLXkpcP4OefjIz6fP6cz+L5kK1S7uYTStbuKL883q3GC\n",
              "p+zHrAeUFiV4DdEwne+w5CFA7yid2OX8sQypeE7yYImSL/vW/urqeIam2v6jfFXH6wFB3pjgD9rA\n",
              "gdwVtkQCx/OJmC8INiDAM+oD1AIndvESnnH1aIgzBPx0abIq278+ZiQxZ3bZTYlBOPrSbOu63lQ7\n",
              "z8PELyGgNRi584rJTBNcwrc3/4s9aEPbQj9H5XSHBf1tPbiGVbAkEeEl6zeb1HAh3S4tSTQtHXR9\n",
              "7kM11F6PAP3xdsIWM9G8KFQuhKRmWbNExqSPwz4Kzd/69tERdv0ROhazgSRw/roYMrlLxwWk2kiS\n",
              "bcHoY1yjgMj/U3bweWEdm3zhHQhcCcCIIkpdjoxAKkBB6pouOaX+LfQ6amv2qJxajhDFc+AdXIjm\n",
              "dPu6XLM0It1Ajfaw51hG4UHxnOlHXGSztkmSfupnrRrr0MvwFFDwDABRnapccFQqisPVlCqdExUq\n",
              "GpTDfJXZfg4pb+S4C+pKHieWPjyXtH4KRZQVzEoZrNf1jtIRukbDVr22pa29FZhfDZOaTFBP254B\n",
              "vMEemSbpX6vNBWahANGDx2cjQb9DNWidkUy5xwZRWSj28OGkb5mLTTROPYa+pNItBvinbbxxcfx7\n",
              "/zrS27Bv2el4/DC8NHB2TVoEYJLpWzLcYqgQ0r7yR+At9oKMjTFI8TDoWI1bwrIl0UMjGvmKLU/t\n",
              "I1AQHNHUnDqutMDaEeYUPcZQZM4yi939Z/RBfLBkTZgSN2zQPY/HuKXHVv/4RnirAJBhbDxDxYda\n",
              "WJ4zSTkQCS5DIEzioXuVFRenTH+1SW5TmhRsymOmfKDNlaG8/jAQjWW8QVeP7bCr3ha31li3j6o4\n",
              "rib1cEOqME1AdVQrfjPpFwmN1FolE8rsodeBy0HEwRr3gDicX18V3cVR0rjLKo9blO+CdOonrdau\n",
              "1aZ1NMJQR+NzYlgHjqXXILSNfV5unmT9AygmhaKbuaxYODvY0/hOVgmCxmE1hMyct9JaxyeIup+C\n",
              "TsZrdCSBmiF2Stn23id1BeXymviwqP/l+t2UOMfXG0s2Ob/Tg7O3uYVDhz7+uHowxgCGwkkmPdrb\n",
              "fQS+OevsEwMrP5xSWPzKsbhSRQaNofj7OVxlwKCbT1RyV84fq4K+lt+B5NTb06aaIs3MPyM7obty\n",
              "9E6zgzXkdk1+pYwg0JjuXS8SxD0P9NAfrmQUBNM7nJpiMEBEPoJ4lgiei6ISiGz9XJVXDDSMnnva\n",
              "N2WPyNXaAA4FPMO1HCWStTuULgp9dBdHNqOZ9TbJYZEgSmwVBnmYVK4sjqUoa0itP5XCnzEP7wOI\n",
              "O18O9A0qrNHSH3SRTi4WMQH9AAAEEkGadUnhDyZTAhX//jhABRtfGwRX1AFpI9JthIKTUZP4wuO7\n",
              "IJUXWzpAHRuFw48/nU1F1ynb4cDJxq0OIMu4cEEyFoYTP5T/xi6QaeQO4/Mcy7L98gJoqptb1tF3\n",
              "/tNbim7h+qBRZlhcjscgPSxAvLfwzYe2uUbK2TMy7hHMUJt9slr9pKa5oT6jnro9TIUgRlY0Jp7F\n",
              "f2AKnU4loXGgALAAPd07a3Gb7rUFKwSEApLjiRktATNhE/e6LD4EFVGGFPcwE0hQnoXccHmtJHhy\n",
              "u5tKNNWBgc4CBBFJBzeOqIuTXOnuhs7qw5uH3zIFkAVi5aNGzgLE6Eo72e2hwT+Dv4RLMV/8Ofbc\n",
              "dWdq52xxy8Dx0Wjj5G3M1p32F02pLOoWZMaYJH0xWEWt6QSI722ti+8QIzd0+3KGen3a0UKbZwrM\n",
              "9pWLx9KRCR+/s7yDTnS9wdjltLhhLTJOLZ+pcw+Sa85wkuVDyV4xxHscb9O8cExsx2Q1yP2skUj1\n",
              "PY9jZPdOMUQbTNQPChWVH2cYsrfFTMVqk/KO8XAqVHMa/lUJJ3/QW5TGzDj+n+4eRQfbAE5RIbKd\n",
              "jATY7v/q2MTPVaCskDn6BFpyym28oEPThw5ZSPw5toXxgVFQPqeYVYPiFKIcYw/ZsLtcVBaT7Fsj\n",
              "TR0XapFDtodbF914VjsxiALE2ZXUn8+Bt8PIsdf+dVtwHKNWojSBOyFqwtaLIlmRjVfOk9J+SFE6\n",
              "7sd/Hbm/Y0H48JDaW0mi783a9w7LGMiVkF9OK5qskoOddWsEt7HvhmYSQeVVFscsvfvtSOm7i+p3\n",
              "j/Ep3hqS+oC8C3B5I1ar4Ode1ztzCn+w+ikibdHjRqIWe7XF0W+dworcpcI3bVn5QWmVMKgIklKs\n",
              "IkBovnFa/68x9Yd1oU7/+b/VSslvq9Br3+1I1o3OQOy4+z6VHeIbtnRuv/nkP51rqZatnHFqrRC1\n",
              "LJWtv+OeBv8pqA+aPRfXaA6eeUaTMVjHWw5n33II5r5PcJwDBtfMy6+QKuBuqE1upJ+01DEiGoC6\n",
              "KstgzX8tUN1k/WnnT+m8Sxf+v8sROIvYyodbNMiid5PhZlPMSSmE9K3ANMHii3P2Cjl7s8+SxDtp\n",
              "QRFBo68mWOKozI9xoR0PE1rTv9H94Lyt80G4kKDW3QG/Uuai9vAvAqj2vTz1kZ5iAnk3heri7wTt\n",
              "EMHmuQQb39qG3bONKKow+UJ7FOAtT9MW7pwfMD892xZzRrfsGclTl/pmQE2hPt1HY/m++pLgC6Xq\n",
              "Wy35pnPuxGGRZrJM9FJ9lbKC9AulaaEmEFGOB3N9htgfBexQ9D0y8hCGVR4Vq/QLmnMoWJ4IESuK\n",
              "hJs3vpsOZENXEFPKaDRVSaw1Jm0ei1jQaBO3CB8iJRt3HHnTdkEAAASxQZqXSeEPJlMFETwr//44\n",
              "QAnp+zdVFWjALUouYMK4NE/q3Tyo1EzXgfW/9TZf2orp07fcUa7TXLwafUhpvQx9OkYuuM+fHO1h\n",
              "tDzbNPgrxMDBai+3eU74BQ0ldVqWVc485zl/0ar15EKR4/Xj7G2dr5NEyM+rRLIcqivpY0n7C8RY\n",
              "14GHPFLLhFRlevY+2DHe85kt6WD/mDgfiDYSfz1doNT2Ch/LGNmZN3vgUySYf9uCb/SJSwNRuUJO\n",
              "5TXUASSoXCUoPtZ5kcUB7vhzp1MS++bymnWdwemokeBAj6b17UGk7tyQ4Uw7GqCibR8a5Lyhx3aK\n",
              "GiYlR7e7U9qfuNGdTe/QYqSuiyTm5qcWnW8nNTYQxDuiM7x5zTQhX8yIxvYgK11b52IUAAAV1G8K\n",
              "ji3UWwWDAG5ykLXJ/Z7oFeDJbak3XmcKSr8KlRmaIKrLTzCKYKpE+VNDvBQyxe1fJAJw4dprq5q1\n",
              "xoexubPfmB+lKzKAWOIBXTY3cqeZ7ichwXHiiKahXVDtUcL6h+x5db6pK1e562WzotdwqOaUiL9A\n",
              "XYvF9B7c32NMF2kJCZWqkrkqBFyZJzTR+F03M2Ti4oRX/kCACQCuhhEJ4oFI+Ize8GYS8UN/pHI/\n",
              "pNPBe6wCJe/fRVhOcJSVl+e1xW7Qzz2sJI1okn4MbBh0gmOjI6Gru4WlIa+hNpqbC4XFUJ79YR3S\n",
              "pXZwFVCM9WqtLBlSRp35sdeszdVuQJDh/zLLOwZbVWcITKVc0DVqKNHiOE/eekYlflCCp77EaO62\n",
              "ET08AnAzI6zXfOFqmm/5pGIANRWYAEERdT0bd587zBH7a1HsplQBAp1+9Znt/Ue7K6toZh0e99uY\n",
              "/DCPv6r/FzeNK7mfqZdLXK2SQa7X56FUMw+87V92LmS5LRtcWSGcmfNl80urxP5aWqwIwWnraCa9\n",
              "Ug5WyAmSoA7P+Sxlm66QnLEDrgDJPdOg6qu9l0Ig5ufJUfeUXF5e3LvYX4cKpoXwN9zA6iirUEpe\n",
              "cOZraKmx7U2qxphqIvhVaKzEkJmw3dPovgKTHRZCMDTRk9xZHJq9wzMiwwFOsSpXWnGBlh85H8Zs\n",
              "YWIyOJtBSB5aL8+KWSrTQ7mc8SYZphnGM4ipfhLvb3pPzoUIIJHbp64hx5RsVEqeFFIG5nN+rKd9\n",
              "xQQ569+jCew3uI3u2eAA2C1hT2vWUcO8511gyXEDe2u707VLSiM7ttSceUtvAtwQGwuFIB5BAUQ8\n",
              "zNXxpr70Wxd5mLroWjt/BF7I+1DKBsr3vGVr+QaTcxkaZ/WtABf2EuZjsYj/yJV71nLyiWKBXCT+\n",
              "uAI3FyQZ4PDwfHNMmEQJc4YwzxdLXGG6hGDcKuNZX6HCci2qcNIZrPmcQ6dwCA0t/781DEkL7wZz\n",
              "Jw5VqFOXm/R3wle1HT4fGfw2Y6wQt6fFfU0G1UP5xe7SanQUGSR4mqhOW+dJz7zTgPqSRg+2Xuw/\n",
              "A9xy/wncZDjgTfgS0UsQP0cKvlM7eX5DS24TtTBa7CPeYpOXNyHmVvSjWs6Yr57HaciMO7PbWxyV\n",
              "T20//d0rtnE4pGwBlcNQ2PkfHzav3KdRpweGp1FIE9jH2R7CFSwyiDbjXOHmUAAAAMMBnrZqR/8A\n",
              "rQvxybMkiS9ydSPuxh1oQn1xvGcrYAAsvDOwyFZbC4X3mmkQmvOvQzqAVwIxip0vuyWMDa0qrkIN\n",
              "E4nFJJG8QKpkPVBa+ySiNaN+mfdL1mo2vNeu8RPXe2ysrKAimYyr6qPALyCAXvabph7Q5fJXa/AS\n",
              "sCAbqtAfmU6yKFaA8SImjdiDFJmkX8pxhcCpVvhU/n9tsfc31FxyIP+JoLrP8zU/GQl6c2NISlfY\n",
              "FQIxtUHeSPosWiFzJ5zaxW0AAAMsQZq4SeEPJlMCF//+jLABUq8GUPqfpvJ3OEKBxEANwVoq4kNf\n",
              "kVYfJyQwXk0We8TxlIKsapHPUvzooJ1J7/k8oa5gn6souZ0mkf0iJ5/iJUv6tMB5g9Gq2UkETt3c\n",
              "A2l//N+buhvGxgg/HsqwOl7FSRZPDYfWolab9pnZEge7x9+QnDYIOToHJ6g5uHI10uX3RYQjr1kG\n",
              "Mdei8Q+55pzsMrlxNYjFJapMUMbGDOCVS2KSVP+jWLYhWBgNOB1jt4sqfQPpQ2yubId7Zd07oqm/\n",
              "3CfFt/2vL6O00Q8fJ2XVhwriTKCU3Xunnb/89O4Lj272O4nBBpKHnG1WXGnszgouvuDqPZInryAU\n",
              "78wu2rg3lWOhdVUdNR/JThUd9gdTtLlu71RjtcnJVTxpDt2VvBra9Nc1O1nGUYR37Kg+sc36t9k4\n",
              "Qn2FCqlUNDty880kD4trv75pyfZzOMNnFPWuQy4l/TJSN2pa5H8FJHGjgv/CukixZcRb19LrdV1H\n",
              "2tMKAp0PmUvfo12trqmcqfrZ2bhBq2xYFZ8ozFlUAOrrwsqD4jhpjI3PaFjuZGLxiUPBIKhGjiLm\n",
              "xHxLNC9JV9xFuP3AYjLdF/EjxegI9h877wnJcTkUODZaiiVNtsMSZ1AAYPzlAJjk1xOLrHtPwB3s\n",
              "iUhRycJhoW57x0e2ij9T6ytn7EV6MOrQIxxj1IMhTdrHgUAUA191o7CAvlDFtCwVKezw1u3KzGGr\n",
              "tFKNL3/Y1t3M9sCJWXkpDjP3eO1KmPyxOVjsykYi5AOJQ1ET+rt5Ds4Xvya3ESLT3VN4eDcikk9V\n",
              "PAyLhdYfLKRyIBPznUz+pvOLn4gWMOC8sQ4XN0Xtzx43Pg158qX36Jpg+5aCiwCxCkNroekKXRdA\n",
              "lToJBXxy9eCTHPu7umexItGuKv1jfgID7ZQAesdov662hyqxcGxlpXaa6ABlz7GjsD80CyHC+W04\n",
              "G1vBJsWUPA1PTarcCbiLigwwDdnVCqhU1YCLqyE8hmPEkw0I8eHm3NWUWmkRSI//9FuYrr7E501X\n",
              "3i38KrCn48O6CGTRgtqm75szdKb5eI5GxdxRs6g0HinwCnkAAAILQZrbSeEPJlMCF//+jLABUqiY\n",
              "4sGvE4rHHANTsGqci0NyOjc2MH6n6n+KLPo0LoiqUGLOtReaIz42cCV6oh1hX8vLLDL07Lqk7OCC\n",
              "9xpkvnH0tYXjYAc5/wG1pepIZsJAkBX96o3wM9dLcAcsfVkcvaAOzumyPX0svHgOZOtoEhKmpYmw\n",
              "Xe9cVU5veTbmzQxJtoh2knDSqV/rbc9O9GJjnl3jJ3SSb4ruoQFo+djaRjIbEJYOC3mDTbM+h0QJ\n",
              "i7g6M1y3UUrBB67peA9iCvyNpwh5qlTleKc0wryaKAIghgxU6Bd2sayfmyk85rM6X9nORG11CuFW\n",
              "FFUjdybv26+RmYX3JJa4POjTWYapar72IjZmnk6oNEpAF6ivmLV53IjFYH9VUR1S5itaGjW7+yG9\n",
              "VczDqXxPwA7J+wD7fraJxhd29B7uKtZAG8g2E1RScVliXX89+RB0RN7iqm4bzfeSFqIXkGifbNnr\n",
              "JfqnftrMtKv4KYfQ828poI6blmo6b37M2jrGHfwt0OjZ7SZpHC0ZxjKZYCt0IpWnVUBDNjvgT+ug\n",
              "kIyO2pDn4aU9miAyPBBqlBZmNoWjml5CXpgrmO52/1rLy2ZmJs4MuVfifNaphqDzIMMUgB1wVRK5\n",
              "JONVQD6+lnvska5UXw784BfNQgAi4tOhuyWPRa8GGWiVY4Js+PtJk2BFCUU8nOpKwAAAATBBnvlF\n",
              "ETwj/wBsIo5K1Fm5QejT13XwNffp8kYg6EUVg2KJKQygAZ0s2a13eqN+BKAag0YGz/b865g2PlHW\n",
              "EJs902IyT9gn2s9RchlMVXW/PA/1+zObKqmK+d5dn0rIZXukKU5XerpQwhBIrmnpU6yvsG+jfRv5\n",
              "51rvukAjugSx8vacCmXdeWqDn7avBZ7Bcz8IPO5blN9erk/KCIG6vMcCa9Qj2d50c/RjD/ANJ0j8\n",
              "O0EvBzd4Nzh20QSKx+b/FTt8KRBWPv5bUUROCNErpX8RJTqxV0JVWpJhDKkxK1duybaGs17adEWl\n",
              "e70csfc26ETXsZoshOyG0VvWTutcFoovzFMtyxFeA0FojbqPQSj2UNoFSmxX7P8pVkGyFbg+tuxl\n",
              "jy45vDsAFPL7pBhU0ZQxAAAA1gGfGmpH/wCskGb0JeXWNDuxLvrbrgawoQXATd4AElZ5aW5X3FrH\n",
              "gSUmbs2wCILdDxsZ+Pwq1cYucTmqY41hCzvTrJMFPhAf7IcninzBeE2dr3919M9HQhU5Gkd7apjm\n",
              "Dl85ILgvAlAFzNZRk2Ae2BzjlIkRHBpsSR9kDeXc2fhQ8+cV4lK6jWqeneW9ZI/fVnzfx8oAQlBD\n",
              "CMEjpAJi6+gZQHPHWMhCHCeBR28mm3Rrce1S0kYm0sff1/xVycWfh+hUT6nU+MXFx8rCn3zaZk5n\n",
              "Q2WWa2IAAALwQZsdSahBaJlMFPC//oywAj+gVe48qAIHweu0P6JGo6accPuQXqD4Cnv3E+w1iC9m\n",
              "WD9aet7rycUzz1+3LHbACK5igRrUxoD1S2o+Kv+4nsSuOzm3NuuvsDxPDK6oO7IDTtA8Q3u4wKdU\n",
              "ouDkMdsqQ1pTkaBViafbiCnXL7YZQV/JjQil0Va8/mQgTU8I+0J1UMx8kmaE8QjQWDjLXFx1XAvK\n",
              "GSxxvuPAeX1jYULP/5GmfS5RjNX2yWF0S/5uFTa1WPLYgKkQabY2zaPVcbjjyWI9ovz64EMpr+vj\n",
              "7cF9ZzmCr9HBWxvddokrDNLUoAoLi0BbQZ4hrwIGQURja4WXQy8BtmK7IBev3u/V9SH4wz4ky6WV\n",
              "DdZuYfDe2k3mY4vTcLV+JWlk5djfP5vZcex5l5fn7st3kiRfJ61HVDGv6jR62IC1Ybs0t72KGf92\n",
              "i9q1kcp65yx6cNlUxvVRdJu6e1/87FgRY2Yb39/YMm0XzZfEj4bUb6SkGUX9S+h0LGUMok4k1zq2\n",
              "MH/qqPSeEmlTuekOqmfd1xoRI5nmFTU0p7eyCbBDvXHZU43EZ3sB7ZyVJ9rEzC/C8Xd1dz3wI4e/\n",
              "Zb+wmAxKAP37dbrcCWH1EUlSLOvp/PzftGZwYRBQymBvFv9zBwqXHsaVqxMZaQTFbEUZN9ko3X4F\n",
              "xdArxr3Ryl08F6/bZMBRXF5cJ96uj2unyP5Bn21GMTOrubNMv1xJ1CHdKp8kZ9mlnBJ0zAvBoV3Z\n",
              "T5z7gDnI4tmuhhfqzY7bDVfGNSj8JQJ0+IojN35YelzW6EwD2M0zOsFbS9EtyC+Ula4yidmjpfS1\n",
              "/P62oHM8HXJ8aXYzlSOkiPe6F0DlSe/DpXVfE857Zv94pZucg4iLAIbBi7e3b1PgKXC0MYmf3MrT\n",
              "uKhB+f08+5ckGetJSu0a7R9yJWFwMO7eO2baiEJxmMPihIvXiEw2AznBaDQVTsQJvUXflv+VTbBF\n",
              "2qQ2I/Rpk6Sjb1vQXbS0jTDoL2EAAAEOAZ88akf/ASWSkkLvrq34Mtx3zndz9jAm6zOzPTvAhuN7\n",
              "kLU/9l7Z1b+fHcDkFoXO0YgChBPkw7zNWYjknwmnFySa5mr0AAFpTWcTrtps65OH2JX3NenJXC39\n",
              "oKyLSM1AcDZFngomkxwTJ2pECV5cnruccS539a59vF6HVck0yMTHsg0phcKfeVH7/ST5mj0Whzq6\n",
              "dI8V4Cnp3hDGyvTfnXBTz0hcTsa514wV2HaDx+Xc05/vf6T44SWNKIr6LAXpZrLeb7nhttMKzxiF\n",
              "RS81Cs6HbhajE0OHQpjdJ6xupecLl96v8e1zMotHwXzNsXaZFdw7d0JHuUKinN0uiPHsFMih7J78\n",
              "GC9UCpxxHarlAAADRkGbIUnhClJlMCFf/jhABUTeSQA3HKvANJNUK1rkCGTWHhf6HZP8dOvrdBiX\n",
              "r40Iu2Nqr4+9wDus1JKzMafyibIHr8LChkhtV0KHSSA9YkiF+uNrFxSIKXw7VJqNHk9ttV/PEjRR\n",
              "dymGiGWY8ChxSw8yDRMSfwZBg8A8rsybd7kXUVD/abvVxdFViOjr2jGUo1pZSCVYRqTdLhFd9WpD\n",
              "xcCDgFw8RzY0etZB8QJiCYROOT53jQWLIJrB+Iyu2fbWMPdLVVVjb0T1jGEa8TFDy9d+4jLZbSvV\n",
              "iL1oAZpWMzMBnEvFsIMubaErKTRG00ERDcPYo2YnCWxWBZMFL890ahLPhjG5TFwLlZWmOep3pvvq\n",
              "zxxFEFC0P1og+uaV2RSRC1CtlYM1849hoP+8susorAyQJZr9hIXVTmHENlDhv3yHk5xBW8fTalwW\n",
              "zmfiGM/RlIoQatsRFq/ceqtJF8SfndSU+x1UmFYUDd3sAtO5dF6otESnYBt1WyRD0wmqVk2SE17X\n",
              "xwmB7bUjcjHuW26e4/EKaD1NZs5/s90mv3EICG7c5tCViiAmrxSv79FRffSm4Tk6+DJpNGphm7ry\n",
              "pMjUPR66cHwoWBCjG4Csbl0Gp2EH+TwGtnb+kTmC5ZQdDN3VVLjzeGCOzbehGP7hrsrz4FBimtuj\n",
              "8pKHvUIVufN23wRR3/jyAsd0Z8Bs8Hw6jup+ptQV0AV02yZS2ZAEk/a69d57F9ug+FSgALb+nCfD\n",
              "oTQ4d2xmLwiGgF2UyCMcqBHyagAXzvBir0RAN8gzodaEXAF/heJEOBzl+pMQnGJSdczCrmSbQ0fj\n",
              "USnX24/7iQzTSRmVtGx3EHxP4z7035iW5gORJgaOSi4D6p8H8vpOfpfLRLzD+peq+fkExTf22Irv\n",
              "dwlotXOb+T7mGzNSM+XqkyrT/5XgowG6AkNr7lrmiwuFpeAV9QXiuyIs7HYGG2944RKEhl8AjvSV\n",
              "OBylkjhQMVgzeCnzivbtHmM7hxbGA9P1SST8kI6YnWxKuF0dUQbU2rfYnvooUaPeG3JFg82HqFi0\n",
              "wHlNfWicQxzzBO2ULBxurKB7k4AUD8S7GS/NM9hwxSA6jvJCEt10b3Z6SGLOUhtyIFTjNewAAAGV\n",
              "QZ9fRTRMI/8Ablh/qAWxAGfXRjSkaH00dGXxC/Q/bT4eYAi1763+jtzk4e+3erxwYdACETQ85kcp\n",
              "oFCefrW75my8vYnrlJmhULey8+Kfzb4ZK6jDu3CvTAgj4SuNRUQrznRhlMZOVsfm7XBSWgkHEA88\n",
              "IHMaL6LXWhovQXzfGdaMocIztCnfZJmlA5hYgyQv7y9dfEHYxCyVvom2Y152C1l2g5rvGmEXrJ9/\n",
              "hpFcmQM3FqvgUeNg1TS81RAMz0uKgh5cllFk7yth0ERHe/lt2dE2S+c2ryLst0/MWDGUK75RqTMv\n",
              "zDeGd9O3hO+maVqDPOd0HX65McstgTkmUn/w8qbCo7Px1i5tqd8t+BePuccI88oHHjYjAs0KxqFu\n",
              "cFt15LwXGHyDFm450ISHbLW7BcEfAmL4G3DUr64oZDQKihuhZ+6867XaQ4p4+Y4oKfPEWpavOqAi\n",
              "l9bCYk/cuG7xb5NxNoGqYsOdCsOgvXSs/ypCDoBocmFO1VV3GPOpcyBRGh0kHJWoj6iUp6juAZuf\n",
              "yRgSlxyAAAAAygGffnRH/wCvTXuoYozb/ec7QE1uCC88JXIagCLnf7i2NhO+2chADfeW+M277GnL\n",
              "nsfkQ55Vo2Vd9BMaSNHd/rTmv/bMm5M9akVINd67p9LyyW69nsinUblzRxqA0et4YnWJVJz8FtAw\n",
              "GY28KAG6GCAs/Dp2qpLhYVhOGpYIaV40yHMJwyw4CpED8vN0YSZ51qTKysCbHB0QxmkEAAzF5uvx\n",
              "OhgmnIvWbMTZqrb2v/fm71RAYEtKVwvioewsFx/BrBEcbngwMhAIiEkAAAC/AZ9gakf/ALERS/Yy\n",
              "BVMuHT2kgorj0L4e8YrkmwAMGNYnya6Cre17FZSinn0t4wOqBxbyOThNfLFSq9GUGKy93sI2irP3\n",
              "WP6enRUiC1IGeT8FO3mt8gu11YA6fxN3rrF3X4DqpClR0fp6ULqcmCu5kE79fvjroK2l6geqP+Ww\n",
              "GlCfML3fsuAgM0zk9vKR8xcov2lK3+eowJmuGelumDm/fzOwyz/dIo9q2TlAQMsKL8vca+D4UKni\n",
              "iLfChZ9wFxAAAAOXQZtiSahBaJlMCFf//jhABUACahTACb0NBZUXr/CRamPvd/wfjG6LZGaUnd+k\n",
              "VKgDs1Xv9PFJw1Hud+Ruv5u/3+1nVsVhvvxyFVxjvVr7U52OxahVM/RxRgfc7DqvmyWCXHY2Yyf7\n",
              "IuVkbtyuV2D+NdBTvltq2Ue6S+QsdHwbRaHnCi2iV3idCfNqna/3AB5l1vQZRV19sK7Sj8L77aGS\n",
              "3m933Q3sTVw8Dv+NjQ/NyIxbtytFiO6kQRfWlxWcmg2of/Y8fLQweT/qFxa4p9TOw67WcxFBGLa5\n",
              "UnAbbXoH26m68JJmJX+ohYMT/6yXmmMKWVCShlIjsPhcLQuR2rZ6RERX8T1tbXBJbz5JsGfwQ4BO\n",
              "pl7Q6STJaT5tcKBBLTDjqdRuUnXpvisU4ViTKztvyCMzVXSTE68+tcWdjKM69sHeQg4pURb6FtXR\n",
              "5nUVR0///2oGi1A+deZB/jtIJTtgYVz7q49kqBNKr8y40+3ZcUe3uBcMt8o2dP9HBoVU0t6peZgW\n",
              "VNdc9ub/0qCzs3Uels51aKyc/wUsqZL8qJZxunvqUafud1a9k5O7ircH+bnKYAZUhVOaQf91jvyB\n",
              "Q2ToqH1TSdwVddT3QoBOllcWTEIugJkP9J5j8qxJGKywLvxh8aTn2Rd5n3wVIwg5RvUyo5ogYGl0\n",
              "Sw4qiVcnnlKNCOEglIqJOLhOFoVcB/ZYNTWoK/iYGxSP+IRLKNWzFDLI+reMb9sUt03cVvfYJsbx\n",
              "OqdlPc567XQ+I/jPmDfKy2OzDmTEhDfjW6CHPXExcDI/Ugk2TGTQn7vxAbGqsV3P5lOdaH1hXHUD\n",
              "2NhZSHfEIs9OBrhZfsEZriN8oULBfvGCh1n+GJJYJyiZNb2uFVdns5ohcQdy/MX8Z/NEX9Ve6d51\n",
              "Tk5qySW4JyGUY+x1+c1n5YU1CSTSg2FYPucqKoOLE354obzjYGqStn7jJJlwLOMOGrLfk/pi88Am\n",
              "Fb2Wk3dNNy3hSh+DhAr9h0LnxkdW5S3JlFo06j/ja7wtYAA2ztreQEeeYP3bS8iw0WQIXLj181oJ\n",
              "CLceI805Oql+Y0D1yUvulX00hwLT/rZgP/ySUv9jv/Kg06P0MQoFDp9bIGOITFboplze/Zg6Du+I\n",
              "0vsAQUwF81hWTuMShnyraEosxOdb54gy308RyN4B7S+fmZwkA3HvUMHwEN+MXkRTI5pGGqqrvULB\n",
              "KDhBCLFbR812Jjg1G0FAg3oJuQAABB9Bm4NJ4QpSZTAhX/44QAU+QpYaQx8ihbSIC82VfmGDwpor\n",
              "XGlGSuKtm6hyZIpHRw01Dya0ljHyLuTrtzGHbOESCntaBHsOCAbxKcqxvjRk16DR/ItJNAWOGf/U\n",
              "TFrEn+FBScQDOiOfVeJ5rtXajULluu44SdUyZ0qzu2XHyrVmV29VJivdGHGJs9kvLQkzPabA0CcF\n",
              "ukcLMBH/2zeN2BP6zoOFHMIIOIMrwY6weAJE1EooKAFUXA9EEZAQ9quPbJBZXZYFL7IMaA1QcI0L\n",
              "zg1DMRafh/i1SZzDPFIVvsak+V6+pZZibuk7k7Yk+qjeGJbCArK7Rx8PUQgMOrDfP3ZNibJqAMD+\n",
              "viexNmR4F/svQeXq1p+IvmziLzDHnpdYfwYFC+hqajBACeaP0M/x/xKh9MVvWUt534HgF75FKjQq\n",
              "PbwaJZrrQnBFwA+vilt/oSr7TWY8UGWFmlmghKFxYVMnJyHLckUlsWumyUYx/EyEiZax9SAITl9R\n",
              "sc1qiwcQCVGNv1Lh1mRd9hsFeJOBj4RS3+l/QBS3DdXejfrSHru4hbS30Tt1nmACWJwLt7ABDClD\n",
              "9a+0Dmdi3VoTcfCvNdKKGLX31+8DU68NQ7DjNsU+ZI+txOLwbRzJHq5PLIXq2SaZNySHSLTehGyS\n",
              "ywfEmnl//M6KUm3rlwipxg7I1deCT8GEhb7zCgLIjFFJRG3xcaZh8F0z1vsjb49tE9pjUnRBxvZM\n",
              "Ed1vanxllqa5CXnHLdklTp7idM+fZMKQKlWHMPsowOUe8pWekw03/GYC8/4IcD7qN5qjpawRyGNG\n",
              "7AI43BeiniBVsqySv3BZDMUioCriHE2nb/n1rhZ4E4FmqVnwSJA3bKW9cyxVFvlQJvlUDE9fLHwV\n",
              "VebZ7SJq2JT+sTbvnAisOfYyP8IHWTqDnsguybJiQwBM48DRMegG1BM+1va8w11GKztDw++luX0L\n",
              "H95/62ZxP7NWbDcp71hBoVXQiZjGkJBlZ7s7rPd2wxbBn/rkHPeEwnoiaIH+4ve2foixuirK6xCU\n",
              "mE6qdJKWRW/Xbohs5Z3BZrIyXMe7/65IXNK48gD09SOZfbBTgqve22uFEiB3RjrJ/93scblqjePJ\n",
              "ZubEL8Uy7B+QkUjKrdmqxQu4PLLQ3Y1c3HvtfsJOlRZxwC/R+XhCmrF2TpQ8nN0xolvu6YpynvKE\n",
              "azcIvX1WUutPkeoAlAZNq4A64p31X6ycoEJSVWqeYyQcxZwac30L1dnk6sXkUlMaDcUn9nKAh4Hu\n",
              "pIxWNL9MojfAUJ590mO48RObCyH2QOtzp8Nxk5rZzPmhs30AU+wfK69SYA0g7uDf9oYbH9+AMVkx\n",
              "MqEumeNOALgpGdl8TuMJoCSLNJdBcJP3391K2bZnUdevOZKIc8XxvKuyajDB7QscpitVgAAABY1B\n",
              "m6RJ4Q6JlMCFf/44QAU+Pp60sDFABtdiFhRlvIveqiIrMlOMMQIXo5cAdaVDTmmW3fzChGX8guMK\n",
              "s98zgAPJQK5yVOKLZwZGHTQzTLq90/OHN+jQ4L5qthauq5k6i3MEfWowc52+Ov9bpBK0Oggb6MxG\n",
              "wyHWn7i20vNk+ll7GoxmuizRD4Baq9fNmyapMdk5avO4g1GN7/72JnV1PEnHbz4j6qQHSKQk+G9B\n",
              "7TQF9EyFBosLtJW+MhAmCoV5pDEd3NAO2j4qXpvI1W40OzxgaaNq9MH77psF7ajlUf2sC2lJdadV\n",
              "7ia7dbPeP+AQhMD6CMyFrxEeWeDqQNCBfuV8CK0KEM7eMURhQItvElewS5CCcf/bah0CWhY5vaOG\n",
              "URiTX3K8NTdnlPLjD7cqBf+7YBpjXe9HM/RvyJpEihhot2dGG3lp8sHCdDLHn5KAw8Ob+rymAXIm\n",
              "e4qkGxJkNtnkbdy+Yxw/hfO+MgSi9nsiTrm030htnxjeJ9t+S8+hIWLl54s+NY/M6Xkm10zci3m4\n",
              "UsR7eCXPd/o1Yzk6P0Gl3tEO5cmmnG6+KapKfyZRS7+qzg9ZwRPsyPc8Aqs5rTLc0jrSH6W5pcwx\n",
              "hGaim6zXR0Zm7No8sdLK2yJDC9O159A229LeOiepYz+locT+YaWeOBIM0gh9vCmkQpIdgoxi1vvp\n",
              "VufEe4wwyPvKhsLbDE+cJFovDWvhzJqd1c7Y2FKWuuWZrHM8lQjuVTmJGwFAJDHqaCi42Xl44HZI\n",
              "1EfcdgJHI5QQPV5ToClp8FEIiShlvfO2K00HHeDJiRkOb3yjW7WGP8bq3KOqItxCeOvg5STrGzlE\n",
              "pK+dVx36LPBdF6KcrN8E4nE1+CoRj6gBlVOd6nR080SFmzEuAh8sqmEPofYbRDodXsA45Sbw+sGs\n",
              "FI4/S2cXInK15Zii5KVMq7NhFESo0/k+uaaz4mvRgAm571an1p8VOTsRhV+JhPXRqjQzl4czPyDc\n",
              "PgQkuQYdj7Qq3AtXA4KO271Me/wgRhSqXg2SHAIngRM5yXrK8gW82p/piDnQFw3+zbOlQ/r04icc\n",
              "VNDcCS9nY2vZ08cBheAM+zdWLgNz9vPVgeY5Uvqcw4TyJ2r+FO5rtXpNu83eI0aBEdVF/Q80TyIz\n",
              "8Dy3v2Br4GMv9tajMfgJa2sp47r1+W+iN7wEAZ6gNrBuITqyRCHiSsa6kMwSC0qvIG1NzXWIr1jV\n",
              "b4diOpKNi7lJmWWEbGMkQg7KS8sU801W+y8+i5AFJt+21oPnUc27AlsNTrS5s90tn/OAmvSLviH3\n",
              "FQ7GULdm700iy4MJw7RLACEel4+sGzUkBmHqF4QDQSF046hPdoI8clV8uwpGG/oXxdPqPzgHF00L\n",
              "NVmuHQelcNxGwMt8gVKkvRj1z9WV9DvU8j5pGWiqvjUvm5bbbwFsO5XWTEYN7b4ioAglzNYMenUH\n",
              "jNx6bCbYhezq0PNA7EDd53ZXXOyM489afvD/KUYIfBHzhmYESGu2/hyaegz9XFzYzmV12bJTZGWB\n",
              "WfKBxtVkg0shLyL4JVSEupOJvRjjx3pMH8oPW7utFeHctW3aN9zVeVrW6TGXiXkohBjcCupBz5WR\n",
              "h+cb4LhC4E6o4WAARZbKce1M1lEvC6rCoXm9cp3tolvhMqt3yrov944NLo3n3Rfv9b/buhCFj/aY\n",
              "aWNhBWTDawPAvc/v/Rg/G3WoN1X+SYezk+XzRtkG/zuow0uX5Mfis60ZRfpaqq0G21dId81TLIqL\n",
              "mcfJGqSeRuY99TAoWHmMNKCW/GByOeaan3agGgvbWCU0bTAa//ld/vNlKN2R06AKfGPzzT8meWv4\n",
              "bkpbeiYosfjb1eK8s53CO1RFJjDltaMgshR89pb8XRPxsf8rfEtphluMg66DTBHc3XJEgQAAA41B\n",
              "m8VJ4Q8mUwIV//44QAVBUpNs6gUwsAiB3Sil+UZO0a3c1kbZ37tgHEtqz4xwIsn52ve+5D5arE27\n",
              "uHT8VYnB9EvkIrPn9pbxrya280dUZSrI2FN/lqkePWkfjENvr14x0FcCY63DbL+evJvtzGm70Bsg\n",
              "jGy6HYU0BxgNvb5nsn18Ry4Jy0n21nR34G1pa3u3uwO2CmmJHQx731YtpnzWJY5CVaNLgQH11sJN\n",
              "J/XS0+1MkXlFKFa2oQk2mlhPRmE9DQHkVAS7K6ugAgelviJe6htIG3uL6ibX47+h38w5cUR7czWv\n",
              "v84vNkpRIh+NVD2kbdlCZ3gfkoQ4iyz//FkOHnl+fllTO4aZqAknwjFbU1+CuCwix5CEnIj+AJM+\n",
              "PQjSEXLlVWtouOWHGT41fP+vOqbBh1tzpjnLqvMII/pP6xlv7o2UNTsdZ2nkCHfI6IyqAPSgpYDa\n",
              "d0VFGssaMk6cG2rM8NXhbfQminQzoLeW7qnwjG16u8Y6Vsu8cWX6UozzxCStaYFGgJYfSjXNCIFF\n",
              "a2l9/YAektckQGSUatfBKQanxFtDia1cVJgi/THtqStTmPi5NxFZLknC/93bYPhGwcBPUnBZeNQR\n",
              "fZ0OZvgpBmKq1G3SOi9o2SR7aTarJV9DTnRAY4aNMyo5amtdD2FnJoavfNZJGJgG4XBaMEQigYnk\n",
              "Xse3vsvWY0pccaCDJzd/r4Zr38uE6Q47eIsin6671BHsYNb1kQZ/cfWpNfALRdEViWls1YwP1LNK\n",
              "XJkwOYbCx4jkUViO3IKHTckhImk89D1wBBaqMhBtx8v3RiHAE18MmNty6dU/yX7bg0Lm2+PC3zxA\n",
              "FZ7HbFhwn2c4D3aXephXmrW2W2RO1iGbiNwKSWdnAq3TQdNDm1YP7dvxLR2Dgta2s/6E6Q57/2JA\n",
              "TBjbE/qU88o8mCRGhSOo4JGCZUzNH2L866uQzISAbGJunrGWR4WQEiPPq+rtcfqW1JhPYJBij70f\n",
              "u6SK7TaEdI9dRLzSz7fMsAUXcaVdE6VuDE2sqpykHyFsY7NrohvDP06Y5Q8hJV5u7IlwwjcR1YL0\n",
              "Vgr3XiCdQ/rSJaN5P3kmQpd98lQww5SHDo+kqUTXDXj0UsLeSnoIEZheT1WqbaF2rUdWFjGzqdSZ\n",
              "/0rm1+KX5feVKuCdsh2vYaI1IWETc2LgBaOyh4HbCXsNqJHepMA1Crl4BeXlUHc3mHM1d0EAAAPv\n",
              "QZvmSeEPJlMCFf/+OEAFP54/zADm6gbfnedXc00OBScEcYo0hQAiK9ta2lgzAIuu4j6yQbV8aB+l\n",
              "npA1drk+89Vj32mYFnpYqvfZNsru7NWLWBRvsRGrqsFpuhMRL2J0jVSHHXb4bbaaq+WK7xRfwAzv\n",
              "G3LXXnP8FAs8uFSvms1tNl1PJcDddbRmZ9xRMcbw+NlGdBxCAIc85oWUkBz2+FfIjqr/uAL5gFo2\n",
              "nAeXdMfaJ3SmYE9SqSLNoiZn39nY2BTs3sD3yOJ6GuRB/kIBR2iMG1uDpQuWi5N4s9EHIxj5EGrN\n",
              "gbT7ShUMJ0z3DYQGaANuxSODYzf1BbGFDoWepz4+fzW845j+0852Z2VBHpTJLjX5VT1vIbM3P2Da\n",
              "IadZSSZdIitMt6b8oYwwDeJCgqckFsKdsuvJXici1YRo1naq2mrIfHxqFUgI0oP8Zk3CGqo4981G\n",
              "Y9F1p/efADMAeRewlwIkSHzY2WfU1u0P6OfabptV9SvQXwsPcsnhvV0J6nO78MgkHIAlw01HckcB\n",
              "Llt/CxJBOkGD2fYv++SFv6pHDV6TLdFCnYXIadDiJDijSo5lI1wjoSy2szKWL/fDOzshOpkn6ftw\n",
              "h37+D8COM9emcGmm4ChyulTHNxdFU7K3BC1UkhyFv+ifrNUcwxNWh4HcIFwLJIet0X91CJ3smiig\n",
              "4PNKpzZ3xGKnZmUVWbvgqnGQd9DkzsNIVyrmiKOdEk5wzwZGDuwfdb71tMGs/fx/sIOzg9hd8D6v\n",
              "0JB3FwByzmlUIM9S8g94qtBQgsxL6wdS5O7jbpFHhprqSDlk0iDwa8r6oTy4lHj+A3oLsfBOgtFM\n",
              "J1fvy87lSTyKc1PexBPwEmNKQ9HoZ+z2ZDs/ksjIbk55m6zniSfp2vPv0HOo4ADa+V/ZVl2VSlya\n",
              "CdgNTW3V39fOlNxTTIM4YrXkjknGfXwcwqD3ALVPwhhwcbl35T50tkRVa40GtzDjihMweuD/GVNB\n",
              "apqWGDss3xkG5yJyiAINAbWEZf9maO0AdNLK/oIaKnroRav48hmWCnLzwB4C1Btgab6JFxLBHh90\n",
              "M9lTM5wlbqV338izqvPKjoLyrUe4M/PXVKNRhd3E+pUilXWiCkJ/fLlOq9zNFI+XfT0J82WbU9hG\n",
              "WmnQEJiTnTEowjE3QufrZh9dAUw6iINSmKKHiiwmSN6pPhHPFuh1N0UABxUl/NlIs+t0W1Z4OsIF\n",
              "X986HZGoCodgy09Qww4culTaGbseIcB/EF3wEOK1fkS/+MWAjPw/qLlll+PAIfgboqDxiAzELdEm\n",
              "kOrv2YV9qIbNAQA6499xAnjOdylrio2mkLsI8WGnjs4PgkmxD3EAAAPtQZoHSeEPJlMCF//+jLAB\n",
              "W68OW2KNhAEQqAy9u0iPPN4qInGUNWbCFB/TvaDnG66Qhmoyyh2kCuaWQMWhop9dFWCeBKnOoETC\n",
              "M6XUuOPvj2+YKgOZBxE7DbiI61Wst0pWYBq9Xa/AEjmwfqA+BYEEHcE5X+3VQb3TDMWEoMavDQKm\n",
              "ytPxFhOnxwDtSUZwLfKmFdY63zwtP7ig9Szu004/fGFKawwkhFyEy05V++Wdkkz61TZyhYiiZpSD\n",
              "FilT0MOrmBT71dK+YfVHrMl/kAiP92Gr4b+Mw9NCM90CyRNwqIzP5wlRSF5EQLsbMukZQHEi7x2M\n",
              "tZKkvGA+5pj5ZhVXBx/FP0RzbNPZjng1wG9G/VDDRz9HqEJhg8BGPN3gpOgKL0xsztGDjVjuVSWG\n",
              "SADYaPFLBlhvrgQxoTI9mkCszQeYIW87iTIWJpvznPkpWZn3Xe38ddd3/Ifuafp8K49NQ2udGqvd\n",
              "zC48DOe1vsiuQiuftbhjBqKg85J831Vk813f0LXFF8L4PR+U1BOTCD+lRUrF2qkpwwArezLP4Eec\n",
              "Vvi7nXvXrF3yoqQf5wHstpkItSbvyVmLMfFvd301Tk7+K+xC77mIiUeq7Gjoi3BiHoNVmX0PGfoH\n",
              "h47PFBPAE/rhwMA5jvQLa9am/VvY2fNDQxqpLiV86uhpeKWfVjSXboEZU77e0Q7307Qmb51i/fMS\n",
              "H3SFWbVUsPwYkeklKAjXBM3Y57qwdlFXvdHmDoELVVpweXH0wb+pWgncDQNWwwFwFDAYpKkPiblp\n",
              "11P6YUKNWoxmww9+CH3FD6wD+a+4VWd4ZOGRoeI0zUwQf3BEkbqTbqaKKWuqPWXL+EywPwyzeawy\n",
              "sWEXEaKaK2R6BFmUIC+ZPd0l+VHArjRNOC1mUZiTcAUIL/846dO/GsGhfeLAkPl7qJCgo7FoVZGc\n",
              "WoZPJDyMkroSREfwZra0qcnD6KO5R5RUF1MJIAJMWuKgPD5mxghI01kYcyj3iAFxymt8lVysSPPg\n",
              "X9HoL0uRW8xv7Ci2Hysqm8DR3rxuA9qZ3M5NIRf/2RVmoi6JHqRJ/jJTG+P2uTNnUBXsLAWCPQn6\n",
              "g6fekaTEXyuYXc417j8dm6rk0K0w6gR7zzIER/mQYVpAtZXU+o5MHtLN38gzngZ9Mw4fmQkO44FK\n",
              "T9C1VafYk2ef78lkRTWAL3HQj+pEIssoNVz71zfPwsiV7Rm47gUyOLyqbe2LFLUdsKT9NsiSAtY+\n",
              "DNqKlmNElrCNSRWdQ2KftXZq1cyH1TUZAyp2HdatyVSzNgMfqUp3SpUj1YS4604N6r+k5xSK/kD9\n",
              "XzwZBmv1lpnkX8NyfA74FiXBSI5XAAAEnUGaKEnhDyZTAhf//oywAWb/IMiAh1DqWK67SuRnITis\n",
              "oTYAzII/XDJwRrHctCij1ENFkeVPxomn3Pm1e2gP1gQWnpoyKLQBPTHPhXYoPvcXvG+2bmxlQ1Ru\n",
              "sZhq5RJaDePqO//4SB36NTNejb2AULrGo3/krZzQ0ykiXyemEgg/9lbe/qKpLupYzGqQr0SUmlSo\n",
              "/sHJ+rxV1RfYdOq4/POO9gxfgaH9Iy6Sfgy2cwIBETI9zDcF+OlPeVEPGmlDX+LA+PLftQdGSCMi\n",
              "RXMoenoyp1EklabroxpbDXzaS0Cj6FnEB5ry8blJTVTlMfnA5z3vhoxEF7HoCSU/VdpPogWW9kim\n",
              "bs+rfozE1jtDi+p/2D23DbSCmlc0zQdb/3mZKuovq5XXOOkTWVR5R8457ydRfUUgwTfCpwYLuC61\n",
              "vMtUoxGSvjqcfxR/YzPYMccBhp7LLQKbxNOZSylrtL2yizo6ZGacQYsqqttsX+T651cF0kjmGADT\n",
              "Ucgk/sgAv45GwijvmZxVbBzDXUsQuKZ8yhxx/CRMYP9rotRZ20IdUYkru8m0oMcNgvWm9UmRG15m\n",
              "P/noI68U0UbFVoeux2g/B8T9jmfwyk0mR4CRKnM0VE6xe/R9AiEmk7Jy6ng/e7GMC96h5iVaEWxF\n",
              "0DphnBn4lfgUc/WzsrmdAf6Yj4E3fNql7iRakji57dEEvioqEQ647kF8jIZN3fxuGO/VC67mASYP\n",
              "wkyw8DOGcMAt84RJO1j/uIa58DrupgvzBeyOQlmnqGyNoAQkXzRKUfnwsouwwYus5+MNTEZ/IUeg\n",
              "CbQZAgiLfr9fpSbpCEcWzXBXNiYAGe9KU5MlbMw1UY0R+cQt8eFR2Noe/9+tOh7PSQe9zHPMxjZ9\n",
              "F71Kf3i047AQ5o08tG61rL1iRhDbn6PI2TtYz26atrAH9WVeOobFVPgQUGVlQzLcjiN6T8I0O6Si\n",
              "H5ESDb4Kk3VRSmFyKOHD5mwfW9KXRllpED2WsCADdivPLhK/VLXRD7Vnc/J8KcY0+LEu5MVQTx0x\n",
              "dY/znP1CazlSnqFJK8FBNbktmekrJXAEYI9z+BC5u2B1dVUmdmLIoFPN1tbibu7/AW/iORwFEcna\n",
              "cKsup+pu9KwO1wASIzdBDFx987C4fQfPEF6wiw8XPwAO98wVuXBga2z9020W1RSRw/0Zae3my3ri\n",
              "ptaM/Vr/+2c37JYZqVO4qwPwxhXXt0NeApXrFdrq7MevnY2g4ESKwivbwcsVn27TQFvN/NxcFvtu\n",
              "5XUEYk4wG/cCszgBzAQ2zE91kTp4XZyE53LHkALYCZ/NPM795UBd+SCLoqmhauGKAc7+TdrsEBiN\n",
              "1JdIRikMAMLZ1g7+em51PtfydHAnmk8ZQXqCaBzONS2xdtKjstmWbGPX7+NwjK+CQkt6RQMeHmFl\n",
              "rRaM3dF81Rbu/0ipUiQGGYpVOIfVpbxoOCBNZHpa99kij+D6p5DOIAIuVUs8bJvQviAuBmk0TBRV\n",
              "gZYmgcD1m94m+fBqVWHKdtbJUabiHxkpfzj/DIvcS9EH2y+NsDUbD/w/3CcC3Gr69pf/rRZFJFel\n",
              "ji5e9LHX//iAAAAFQ0GaS0nhDyZTAhn//p4QAsSRafUAQOtyYS9iSR5Er1obPSGeBbq1yIdE25cA\n",
              "a5hWVGyHIC+2q6anxsSNzozyAkFwrCyPpajUFrAmQrYEhDMe04y+KpUSa//E5Nf2ETegxVRoHbGy\n",
              "X36kr9v0o5t7JgduQNSp3g2E5lpqFoQjwyvX1ntNjN6X/uuWeixL++W4qyR7S36dRY6EpODuBZsc\n",
              "xYbEs9GasAM2uoJQGcvHrLe+6GW+renIeFv3dPTTAEkc7rJjlanUBElLDb4N8EUSgCFa1M8ZP+tJ\n",
              "qeXGRyGTDPMY1pBoHN+U08av48exHV7wVEjz1CRTdzjRQyS39kbhYQfSthoaX3zXEHW0aSqiO1eM\n",
              "lR846Nc8s8pNLZgtATsrCWnDXVCQ2Okzdufk/tMeTfn9O+lP7MTFFWh+Ba0JLg9dr15uFvYyve7q\n",
              "DoPYVjpi+F1hiizguKYIIwSLnZ+u0ZVZxaALcsie6wDBQxSlcXV7U+//tsTbw6ixS5bBKxcupW68\n",
              "b3P+I9sVHi5ifEu026C595JHm2nF4aoSmCbAYJLHZsrqHrq7yMGMKqpgNZY3/kVADHhnYN4Q8VL0\n",
              "QJwxf4GtAsF1UWvD8/srbnx1Mw3BpK3DP/WNE8V4CRaQiICTdasAgFXWzUlG3AxvRvYiwDkdtz3X\n",
              "UVBrvc9WBVy5DlQuwuw3+btKcFUmhs0jO7LdYNBJJOH8fAajkg58SCQQP+l8ZwUvZjjoxLQMP2n0\n",
              "LqER12D0FZeLxnhzuglcFqbxFJ0JdnzfRvKLxCBlGu4kDuStWsbyJW2pyj3EU0kuaG5VoGNxO96n\n",
              "1QTUCz9iL18/wndmd+HTv2hgzuHKjkVienuaE7NdRoqtOK2uCDPdB8ClAzP/lIRf2/iObQbb9bHH\n",
              "bbiIqruveaThzZIAqGT4KtgArMHrSx61dWh1xYSiI+g7DFvz/X5cp6nEgLkaFI6RJQkohMBSWTme\n",
              "keCS5HgYQzFfaGNjvFc0cjWckzAtTRTsopd0ujWlMtz8HLJCdf7evri2wTycSyUk6G1GzRLSdBeP\n",
              "O+aDs64ZJmAsX4QNBkzDmhDxHUPPYbPEfySI99W9c+QrhkpxJme86eaYkNzfSuqaB56Rz7k6S8c/\n",
              "AzxmHNBesiRy8cibW8B8gdSkv0HvwwfSE/eXFoewcxUmXk8WGq0L07AigT0aucQJVGiHPXAouULU\n",
              "atrUv4SrSVtGDkVmILWKWVPgU3caY7nnqrdzFXDs8ClR/ctT3xs7ofpVYwLb/MTa5gasxtCsidFQ\n",
              "NM9PXKS5yvfWofSy52kPHt0Zt3tNCBddXytAp7Ul1Pv4sJNh+zkngq7O7dozzgGZG4LyiWMNP28H\n",
              "ylas2EUbDSCs13nw7ElEImt8MZmX36a2K8w+Y/Kx8B9IgsdmWzq4rRFCvqJHr9XOo+BtXAXoCyRT\n",
              "lSpeHmwWfsXLPJr/DXQrTqL4WEUgkniBpRP8WHd7Qv911YRQKOLMGxCiYHTne3Wfq5MDfjoKjyj5\n",
              "HqHmgOGAjCuMpUM+dJ6mTCy558ryX0QZkNbmKFl6G+S8igfA9LUrIdjP50GWI+EW/Hhr55ya7kwP\n",
              "7bP+sryjnVBBMQTlFP8kfXn+0yTUIflkqYSEclgOcspGOM3MH2FPwX1bmXQQ/HuUiKff1cy9VG+c\n",
              "W1XGNZK3OiV6Iug+O2ceia+WH2/SyEH9h6OjPGrUCpx9aHvg12N1IQwuMT0E1TvCcvI5E3QLaRKL\n",
              "RttBWdL7JICI50qa5sW0kVzJg6l29Az2eIxUX+0P/K21VodfzQ+C+vEak8ll+HFiwAAAAd9BnmlF\n",
              "ETwj/wDigO6BAfuE0Bl2qZlbp/zlbAQAJOHqA2bbyG/u0Yql+b/fHwpEZcX0Kkucg9PcfzD8TVb5\n",
              "Sh9UAPoEJmJKiD7wlLeURaKPhrvEoxNcHnrENGoAhdMRQplQPK/C3f/23oEM2poDrOs6PhDYekvN\n",
              "eTiu/gIGgtKISHV6haUfTkKSgFejyiS/6dZHjcMvj6/CONi/drRfuVqeROc6M2rNu3+FB3zq9enk\n",
              "5nBO191MrexmNhS3/PqIl8wlFOgJthgWflW+pNN9ztKKkcOnbj1iW+XR3zbxLaT0BM+cPAsH1sUn\n",
              "P/t/Y+JJFP3Co9vC+lB+/RKwCRnU3hvTtsqaZ39lU4xva9WLBfGFjNclrTXDpKH1berasb0/R/c1\n",
              "J/49nMvo2qqucD1BnqVDcwS1y30zMSx1bxvomjyp0xbMxyGpF0VNwpKce+fkGJ4sbg2CCDguxYI7\n",
              "afY9vDpyB2k66K/vVd0CCs19q4/c3QLYPPfJerSYnh6IAJTitJkhCAo4bK+DSE6wDXG252HFFqe7\n",
              "EKRtC2Q2sW6cnlsFS5mexVH9Niw+gKyghg8HQNImpVIcaQDetPWk4T8c4TTSF3nKRX1yAxJhYKB8\n",
              "WXZDPNzASXUk0auS8zAbJjoMEQAAALcBnopqR/8AtdzMbGRZaXH6NKgd9wCB2Ixj5S4FGDNI0HT6\n",
              "RNE/mYtFJ2Z0o9qgCdlwLZitNj3VwCgvw9zXSrKs/Ig87SGFVA2hqr7M6kzgAsy7w8RdssMeUNdR\n",
              "yGQVmCoVI95uPZ4HPiNESA5Z9rPUe4zot5PAu2nq0sSeiZYRtQfZmmZB7OlFNeUJhuckBYH1LBTf\n",
              "AbKoVuNMfd+4L7aviL0TDEImXmf40EwXLX9LqFfD9wTvpEQAAAKzQZqPSahBaJlMCGf//p4QAWGu\n",
              "6priyhuUMJmZaHuq4vBgA43qM0mMDBop9x6uwoRD2VOKSapDX7ykhqpUfo49MvU58JDiNsiEZi+c\n",
              "u1oNXqutsCWVYzj6/WKLCGxXL8SnW+Jm16Fzuvdh1GYqAD1hGVq+NuCOk7kLFiAkYoC5ePLmjNLQ\n",
              "xVqI4TcKJX26ToJeASh/Q8SIgep5ebTeJSU4p6O73t0+bugl/CFCaaoY3216fe8EiaDEOaQqnFZd\n",
              "5sw0JEp4zp7gKvmEx2DJPH+VVNq4sKWPGmQJ3PlrmgIpdgsfnB41PzLkxSNAn8yAKZARrqvTSl3g\n",
              "hbsKgRlZhSIvPL4TRAUFcAsa+7pu2m7u5mn/qjpdwX8V+NvKPT9jRs+Lfy1rXcz4JMeIKEPd/EcK\n",
              "1h1c4Mat8Ccnd8esYD63NthEMAC1evKXn/i2G/+f3rrr1wBIAeziRyZamGjqYnJKUvf72mzy5XKX\n",
              "2sgucmQ1qTCoeO5LWreBYjAPiAZcirRe1JnUe+FxDZgAslrrdyAVpi9SkvgVTpaUuZEjbjoxb5k6\n",
              "3lpNpUEQYmBGn1HzH3PUT759tfaGwkIdQDLTfQvYfZgKPwiwqjF+ZQ4mf0feCBU2s1Z7O50mRpFm\n",
              "TeekTDV3dmOEazrvrAL2JVX+9UjNTKn16mL1kH+JKGVt3XFbX3tmZMaez7NGvGGyWHIe/kcLqqtK\n",
              "azo4LbKGqexn6oXNPEL2ZHEy8g8uJf0HyR8uOhWyBnYCiJuUq5mdzsy3NnaecpH8l/SOuJwlmM37\n",
              "X9afRfGqcvvNOBxeUJQMuZAov5sZxIeyYDsBsvcytifQ3DhXktMFME6ApotW7+IPKifrv+8m+IjE\n",
              "Rh33AbhbcJCuOj9/Xx1xbqNDkJ3MhVsdCy6hXrF9uofrcBx4O8QmBH4kLwDsXAAAAPVBnq1FESwj\n",
              "/wBxbIcQNZnX2TKdToAiTG33vI9F8SnqBvanVhVi9oRtpgBp6S9AmDSPbL524zPDIaYHuqcIRayj\n",
              "sD+TotQQLbx1FJa+p22v8xjdPGpsnEqlitKHO5w9usAbVKYzYn6cFYwScmAX3i+pfRXXax4rfXBl\n",
              "hN+Kct0ASK/hJrJHxwlGLvH+HtfPwc1t02e/lPxnzaXRr3D1Q1nNxIslgeYa8xlWoJ5GUrQJ+6HS\n",
              "1MYzQPMqWdlanY4d+nWQfWiLT92JYKxeRNP3s73qRupyWgA0xaZcElgXcplRIRpUgCR9o9vgLyyQ\n",
              "W4MWkQt+MP+qqQAAAQoBnsx0R/8AuniUk61QzabMnq1wAbaz/ZI7YTOj+bh7hlaj8oKUBBvmgdSs\n",
              "GnadD4nEC1tYJzEWEDudiOkyWfxmIkzJAvLD9Y6m/JN/jLeRlUd6wMmSZ1ibvSH0z9bLGcadX83I\n",
              "zRfO8S8mjF1BF9/mUTX1wACIXKbqiYBPKBCmzmSkf8+kifpKcYFdEvI9QYihRUmNbx703fS+B+kT\n",
              "Y/KyXNWMn2FwyfiqtYvp5nI7dc/ihCC2Rgm9jIjfUzSfMBdtRsDbQpP8RdDGJAxLRb+XeEjSoutn\n",
              "7li2R8E0x/jew9LQjmdqqboGvnmLdEUdGcYtQb6ISILoilE1FDlYC+6XGamX8b4ScZYRgQAAARUB\n",
              "ns5qR/8Auo/xMIR1tJAkohz8B+7L0yf9i5ehB54Ab+vwxogxHRDP9ZylRaXUkbje/QxvhwhWI3Sd\n",
              "HWHnT8NviK8yl4jYYpqsIhvKvZDX9TmPO16QutMsAg41uUCV7plqYnArmdpI4LUDqoQm1+KlzlUN\n",
              "U0fIhv2Dpb0t8ZlZX8RvWIkaNhY/MD9qQrK7RyOxflJVNsupnRYLXxo+EsUzRdB0Hpkrl2vX03jC\n",
              "jCkeGzfwm0BaXGLXkwjQ1yn1MATUPnWK13ufVrsPrtx0WZLmg4m11jLJpuEv95LWgJHkDfZX9yyT\n",
              "hVBG5mKwttBL+PC6X3XSWZgXsadnTqGNM7kBZM9VkD2ny6YaD13F8UQGYvYr9VeRAAAE00Ga00mo\n",
              "QWyZTAhf//6MsALJER+AAgJdXHikqgtebr1pTRFOLnFDBXmLCVTX5RCbhs/067vhQSNEeJkpTH7e\n",
              "y1tgb5yejYynw/JE2Izb05zBwfbCzg9EHbmDQ8vsWcA1hmb3ySxz8fex/ckdPFDKZeE1oTdeEfYm\n",
              "aKsTjZJjXFb8yb9CJ8zhvMoZZMcza/t2qY3OluN5lQ9XURH8GFXadXoCd1I9KT4+v4KdcSI4BSog\n",
              "TdJHKopYxGkcpbruEjumdxOB+EOVCOKLq/BM8drCf3yTsxc3qAjOD+TZBLgWmgwkKhrHo/wRIq8l\n",
              "s3r85SEV/kloabTug+oljFlIb0IJd58rGOT+7Cby9KVw8Tm9BcpmU0r9ddynKuEQJzDxC+6l/L/C\n",
              "+JYN8VzCSSXuKsYGyMdflG/gsvzrfFLqdWnimsEUQ1DUtjDOtvwUXJDN0uK3BYSRBc8Y5YCP3R4i\n",
              "6Ngw8lTUxHiKq2qEzK4XwjNaY+qxubjZma1JA+TKH5lCSPS+xq50cWu+q7hWRER1V/JyvJwwBDs6\n",
              "te4k9BYyH6HecbwfEcCUg+wV4R+Rmtg4VLvQcM4KZZdXsiMTnv6m21/6tvGaTRS0WCJwV8/2eZdU\n",
              "nTh855CCflm1eQ8EAZzAGs8PXjpGQlpMLDqX6rBwpeWMilBuUxNhlCcVzLc+slCK2HLm+KSWgS1D\n",
              "tqn5bVm4sCE1Z5T0T/NlvdZ1ZZUo++Xz2CP+NtvrKOJGYdfBKGeFcyQWC0+2YPAG28F4tu34oBJG\n",
              "WbA4ReH64NP9dONEgxAwTz6VE9O8UHDmIOtJvaLtllnjTBgMZZuhLH7X94p0q2WTCEvsF3sZI7SX\n",
              "p6zIMCRgeva3PYBBtA7U8bajcEBET6vmQ9gd/vJ1qM7Yy7OEs1qmBJ0QvKrsQCfmYGjghedYl6JI\n",
              "xNYrEbvbdJFNNm1IyXzXQwVbDarcgmS3MY1OLAjvM7lEVB5SLhwJyiot4XG3NKtPKQZMA0erbhe+\n",
              "XhymuNws4mI41t/LWCGSb+TpTXSNJ4jwc9xsq1PhcdJPuUO2qms9eOBGYUIHwZ4/TWiazU9/rwgs\n",
              "sJ2BLVDraSXBitEt+plxrlC766VmGfUcK3s1Qp+E79ws7pakzXygoOiePZ4QMeF8YgTg1pUoYpIw\n",
              "s4dJyliWbxRyD4vMe+OHrMVLntHsxIE39VbT9+wSr78TkSLRBXrQMgjVUHu0J6m2Dy3C0+M6uLEe\n",
              "kuqBXqizZuDYX+nzgWyV4+HB5a8mh0QOCCxZL9upkJF8UlzcT8lS+mzjz16YW8TZjox5Yi4WtiC2\n",
              "01xhGwO4j3qK2ikiLv8LpUR5/DNa6rzXWQy6Eg1b9nLwuTa/dKLDdgOlx74VdGYX9mlRa0AxzdvJ\n",
              "+Xl5DH6lksFYfnBP8qaiP2DBUVpIj4UL6YLaafLJEeeyuUkYTARs0B9bjEYn3sIIoTLv3N46yK6g\n",
              "METl0LUWUJ9O5MBj+rmJlTBH0Tf4wtikb8Iup6+44/aPbZh2ctJ1/A6mICEa5a4GVlmLXCgUPzt2\n",
              "gdzkJonkJvNzbUCgEZJ6phh1gjtXKJBkOydT89E1XtT5VwgauiQ01dmay4Gd0fyUtS6QNSVm+dw0\n",
              "I79UXmZUbe3odnD9CB0WUUwD/qsYINzpDCW/+Y9g2FtAAAAAqkGe8UUVLCP/AOLE5/9EjZEARION\n",
              "p0/iPv8dFIEY1pOwDgN3gffGpCAxOqhR3B2KvugtB+uUZMwie99eYooQzBg2x10cFzeIGYHrGgzp\n",
              "qf/bT+xAN9lGlOajp7i69No8c+MW3E28ac8smiBUoDFvgNF2mqQhmBBB73GRaXp8hJp/FtlHjFZz\n",
              "M8pV5eKt7j0lAQm1Py3ljLDmhP5iEoIyE8M11yGL/6sO76SxAAABKgGfEHRH/wEWGtc4hLmFaFOH\n",
              "sNaeeW1vnr5hlMUmsKu2SHMtdDrPj3Akxf6cbABY3bvP3nkVgq3zpe9X1y4IhMk8W6ibpeHghI1c\n",
              "qa7kzoHc27QSZwFv+P5CrhEaqdSDgGceQs1DMr9sIY4dWoWwf7g+7uNql0BNV6E1ZA4SH7/FTP6w\n",
              "yOp2oN/E91jSNEqrLQZBdErBCnM8BtwvP4FyXdSkKFhfQ0B66RcnNsBSSdSy+ZaXm0BxG4mwLeUw\n",
              "f5t4tkJgC1iLSEXSTtOSwKRibh4utGWRoGIEGCXsdCmHK81sexgvFiLakMKalnopamFHG6PdXYcE\n",
              "D3pAcleGCYqUqS3+Kr0TzKiz2oxeeuZI2/wqDHAkaXaGvA/q7/UwNggxv/fxDMAEryomW4kAAAEv\n",
              "AZ8Sakf/AWtSNZgIFGYmhSbitr1jGguUABS1kzVzFnXfI1gBJSm81G0Shf51X8Adxh4OE00hOwaF\n",
              "vPs9/x/A6/YufAtr0ff0D0srDIPmQBXKc/ZharDBjYa0nEYSjMB7DLfFX7YFEPRmiIuQaA9QaOAi\n",
              "aqSDVOhmf0FGnW9nhoVC6K3inhHKlRYmseX82HHpKTQwTFlaNpxdShSt5RvClM2KEHVWkPLaeSAT\n",
              "D5kagtRORXBjVw6GmBvcL9RwYON4QhLnjQIZc7vX6eZLlyfhrBXm0GqXKYoWAtsh11yuT+VTprtO\n",
              "oXU+zwAhwTjoTtqHLFLikHZdzv4d1c0pdJAmH+1wvPd9nrjLGoDXgJWo71JEp5in3/kN59TB0qy4\n",
              "3lufZzpayFpIz1KNnuC05HLAAAAFPEGbF0moQWyZTAhf//6MsAIwkYjQAmmieh2P6MP7C3NcSo2d\n",
              "AaphjOrDymvYeR1OKBuNLoKzBcnxFaHLmQwo1SU6Lva02bt0g4oZ48LHAbmJNYU+dM+GpPTo7F3a\n",
              "f/y2M5sViqIBA6BOg/J9lFNeDZIMJq6oWxzrIEeiLj1Wv49VXV6S3WdXJ5TQcn953GXk0Sl5Ef0W\n",
              "KAmlqAJ4UGuJfLyCyNZ6IJfFZ4w4psZ2Kl11v5os8eN9a6IjJuq1hu163nPyexhJ96FQibYy6Ecy\n",
              "nyZ0q2MMXA3+6JWJyt4o5eVUPxUb6lRRifrW+cwox99xsLNTUR6d26mtggOJGniK1KmqE95LRVZX\n",
              "NOo/1RfOQzpXX555+4DMk61D8b+uVepoHlkcLY9Vv9fZcwc5tN2mTvzURNOdeO+cV4Gdqd0NfNJ+\n",
              "Z2DKTWwb/4HD0sSKxOCciOmGpz/Rz5U8d58qLr5ljDQuMhfQEf91GbEDuXXjxCKKVnz/2JxU3mRY\n",
              "bzLQwgaK16+Mwn4WBONocaR92F+h0VSRgYYfsPfZxKYvpHO1nSal4IJ5dxSwkzwKIgMRR6MA4myB\n",
              "9KTPzdtb30B8UvlcvhGkIOfg7WXL2yIRcMlNaARUAmQTqbjdAICs7XwImV0W20u8V23PYc5aK9GQ\n",
              "+pmmBIKYG1A9E3d72KaHb6tOnMvdQ6O5sMdFvPAyCcpoo5bNWNSkXxP51xdHuB2OrrrV5Q2W62K1\n",
              "OULOAGfrzoEk1i4IRipGiDE1oj7EH3Ngq74WkpmByZ+m8QNkXC64lnm60/9WvOs4KFpCzoF/d0kn\n",
              "lAiWzADcpMQg6gxmGcwkiCrsrIh+AsMQ98uhOj94LV4SxVALRwBssm9cBBIcX5JMhz6mv6A6+En8\n",
              "5BwvGzKWAdh5mjByL8Kub8JZ7D2xtsM3HRDDL/QdODFOm9HPvD7hfG3Eg36xO88nRR+LFZTY6DeU\n",
              "kPYNjQvhM5+F1Ln6IwWdlhctwML1LdaRRkLTKK4dh4FhsNY7Kc3f9jfxWZ0/XKoQpD06LMSl0G4M\n",
              "Ti9s4dABqA6uavPL8oSeVUH9bFIS/cWlJMnnH/Jf4Sgi1NgYwgyHexRIs+6Ehz4zegCohBdM+k3H\n",
              "rZkEGpLtt9zaQ7KpRKMyKk2dZ5APr7EnZVae43UerQDAmrx83t8o04TPjAEAdDRtyhf3HTcRSeWE\n",
              "J5WY6KFs0hvlIGAtt3s6iYIxPnke0iKuZODA3pYGoKWRD4mOxsQHSYsRqSoqm6jjpcVmu0fmiWvn\n",
              "UUFcXhJXWYtwNigIgdszW6g93shdk+9FFJEU0kOMAQeRorUsgvKp0fL0tj/ijboSxiCEkbxYuqjO\n",
              "IZ6rQ1FAz2PbD3eKk2Ts2dqv4a85LM01Xi30N9dd2pbA8RPELZ7xT1x8MkwdDA5xthgMR0tfPOVp\n",
              "U1PsMK0G7zzfb6T2RfLhMtet7M8zWrs+O2SNNXcfjJPeiD+udQcQMFPIifXiI5Tram7glBV0bept\n",
              "cHHL9QOV8mHwG7rLg8hUwrpWkpaOzz+cVCz7GuKSCJkeRfrKXzwqO6dHsWpelED90tmwjADxCuWV\n",
              "fsMRmzMEzmHFG8SPbkuNsvqsRS4E10NLKuB4SwGQo/y7QH8WJOOyOcH2crW93BBxtDyk6J/u9Dz/\n",
              "8QIeMvxyjKgw7nPSBgXp0Gpip5zuEZm1m/ZZfjTvERHvtckUf0rwyFx0taUPU+PVKpvga2555Erd\n",
              "fkAIbwnjnOgIE2tXMNdQGJW79U8dffYb6rhlgd9tLK2zf5C1D86AGDM5UO9c908orAa8AAACd0Gf\n",
              "NUUVLCP/ALWSRvqZocyxAjxUDFWZs/njy83CzzYAXWBH8QyJ34Af5fc7FiKsBxPxlXR2VrremIKP\n",
              "e7+t6Yi54/bUBPlJgDj+7mfJc4tQ3ZhItDvdXIYBIJgK37zCCt2Ywvg/j+O+vPVPydfx6NAUwbY3\n",
              "1sC1ZAZPZqyN56F1J1iwr+dQ4Vtke5ND7SJ0j5XRh87lF7P/vDEfZWmE27Bc18WKkj54kledwt+9\n",
              "Drwp8vwA1Tshe+tRw8SyoGaTwm55inEIKj1k2uspTOc+3Co+c5KWb6jKruwWpDBNxVfgKtPmFzeq\n",
              "tvF1j5qmWW7zdTjWQxBaQs/O2z4hLdk71DEevqBpoVga19d89sOpBmN8DIWY8CURAI0ETOdT3FNd\n",
              "mtYMrO7HjAJQB51lzIAWR3lmkXxiu98R8RuH3mfH67RTWtrO2LAzWmGoZyQat1v4aKKCMcEECTyj\n",
              "+pfariAzHTIOua3m8C2GLvYfogxzskTCgdn0JHQpbasHQajZPVQILQIdRUwbqYEP3i5Nq+7PHLsa\n",
              "C8kh/rACtMuSNfrAEvWjv+9XY/mZ4t2UCRvyIO8XMBQhfmy97vcgb1/4OW2tfJrmnJiq3B4YEs9v\n",
              "dFpZloet0wf+/BSNnYtJw+elGywyddLYPwJUFf55Oidqq3jvh94OJDse431ozeMSwRfKdwZgXF5c\n",
              "uS1Q1Dl0Y5K6BDTVgTvKgVJB4XJZMcuUuZsm7xhLItgLK7KtVJC/IIkA8DUwFnnDQHadEIXWqEOC\n",
              "ZJCeK1j2fcoQ5b3QvlMZUnp7HJxVXMrSOPXRSPXh7TwCbOJZiq7Tm6sU5kMFkCfDRyknjph3Gs+a\n",
              "EasAAAF4AZ9UdEf/ARyUq6CgCCNGxxy8pGbPAqxHYPTxlI2OP6asRAJTmW6hH+u/xJ5rKoiSYcDE\n",
              "7676IMQM+1Li+9lS5RnZrw0Sq/it6cdxtLGgk9DeFqq8X/G74v9+v3c5/NNSb69SOCCfTcfJqLb6\n",
              "4IWl+51KLs7GIxGYCcCQa02o4oEVAaDgNTHmK0fu5uyJIgAg/Pn7LtrHDgHCiqtakSjdt+Tb2sOb\n",
              "pZUzAXbqmRDkcVVUz2MfMldq/rbkmPgaxZnhPwheAlXEa1u2gZEfzp3bXWiz5qR6TBOS8CDjK3h8\n",
              "cO1Bs2xdMzQt1APAr6NvHHB0oS/q0vm7RL4mImxe/c/GW6by3wDDbfGj3X/dUdnOWZL1nGxK+SC5\n",
              "YBZQkjTDeTHHl4Fq98/ZItj5uLtRIq4ZcJhhmYp9l58+5PFeTMc2/aLDGeVvfvrgVh9gEAR42EHT\n",
              "8/B54wZtdGkXKxG7ZJIHZAGaipX7N4NCjUpVXID1bNQWGcmIeYG/4AAAASIBn1ZqR/8BHV6/ipJy\n",
              "ek3JxtObAgAJ1yMsJ/OqsutVX1tgJY1me3uXhGyXNltcFdwmVxSAASvuNhbAb74VFfD+OlafU7xs\n",
              "56D4nX/BKa5TfNOA1+cvYot0kDcrCVDnvOqYKDkfff/xuT0fwWI7GBt6BnL0h7zqf/0QcvrXLozR\n",
              "sGCy/QenRJZmTj38TBvdVClma1lPJFDMpPnI35wt0sGBBx5UHsA3gYtMWnG8mFqKOGYbuTqgKAfm\n",
              "ogO4h5y39VES53Ybmm45fp7o2bdrFBz0fBLD5OHOfPXLAqqeG6S8xJykF6UtJvnyjW0xC9LCH/MM\n",
              "tXgjcRLc3mDjnAZepAYdHj7qT4bNQAtpPytOqxFKjZPeLHaGQ99oTDofuQCeN4YWcQAABgtBm1tJ\n",
              "qEFsmUwIX//+jLACyY9aABQVR1TTzsVYgv8fxc5tIPXJhHkv0RskbjOy2dMVqzNvehP11GnoLbP6\n",
              "eTvLA5EG6IcZXYfbtJELu0llsTDfcTrR8+jwsLLwByip3wWOG5UMg1AH5Oo3Ys14/1jnSsY+A9vT\n",
              "7QUCsb1HtuoDTKEfnf0D19sgeLzg7GP9lm63tnaiFftc6Qq34kUeIbE1KGZcR/2dP9/970r1Y0l2\n",
              "p0iZ/2lrP8H1Z6bqbPUWONjMtS4kg9zAidi10tv4OA1mhv9qx2k9DJeCTAouwhZtKLsJ3RP9O3Ge\n",
              "COctk1UCx2buxPPVrAkM6JpgQnpBPm7lXTh/zohdgga4oZYU1XYasy9pf+YPaGKpTcZW7X8LiVSo\n",
              "kg1HRDFxuqRFxxdK5tlPTb7V5MfsLl+ZZ0+58FsimVyMY+W2fVS/pTEAE4WG2rZUswLFkK7K/nNi\n",
              "yX5p4zgHUx8jWkDIDB61uEvXERctN1KAUW2s5tTo0CgwMZAHMUli244rBpvWKIrjAbpD6wWQtBEj\n",
              "671i0gP9ipbvV/r1DoWUkx6I9oGgbzjIRahiXPjcmQa5ee1nbYlL1JCwo+951q5HgYtO8rvR1sMg\n",
              "wvoBpBnIhH860MvohsWeUsxJNVdSL1ygCkwA+514rpYJ3QWFdTtv+ANiJKmrvYi8gD7Un4bwDHcL\n",
              "uPb8sY5eOVEQJr6VqSbuujDLiymHrVsAN6vIBqnumTZvTW0FrSHwzmLjAuRSdMGMFdnlYEpYr8Y4\n",
              "uP464usWXmZ+/SDtjQ9K60jZItw00JgHFWJ8r6Qf44QzvEadgxAUUYtpstXa7Z+6O5/ZHK+iLvgz\n",
              "+E9ZYlvxDmZdO9Edqero4QLAcgiMRG7cujKbhIFK2mlh01n6Ige0To5iGDhe8L6l87GREECoZ2xz\n",
              "Jf2rmDWnbRPKZYMaaVbcniiGSzX6v0gp2uy1wwyI/Sc9MeX264c7m9GNHwr9emOyqHC06oAAI6e7\n",
              "DcuA90M1+h/vR5PEhFgm3KpRQLJicqLFzOIwU5eWtnFR31gWgf7bgYVdKqO5efVmA+kJNbEZ/sgZ\n",
              "T4OmOU0LnT7sscaAuH9OHVfD+vb0uHyM13U18+JWkLidmvfrOWSpG3v/C8BxYxCEXz/7pZp0Qy/P\n",
              "N5QWlzNGFgvIhYkhp123m97Xg4oPyEh4PNZ88u+M6pnlSkrVg+IVkDl2FL3nlR+t0FhvoZwA/wIF\n",
              "E82pFM4x8lToVTKYAQNsUOnovQ9BHcvg/M6Ql9ITB/qVyunnV7BPpA+PbUmdfWQX3pXusxitfo6Q\n",
              "2xlMyQxDn0DH+/iORru1wSrMTZyQyHqtVMQsjpQO8jUTW7PEDfKNhD3bvuvi90OGH01gtzK51hL+\n",
              "5J/mB9AaQB5raRL+AIlFiyAGykp7KpkQMmOb1kq4zspwUAiySij4YuZrz0Z8mwt5oLVVP6rHPRoN\n",
              "T8a8+BEf6+WLabfs5spVZmkj9iHAyTty/Fvtc20NNjLfpjx7LxewAsHLkWT38K1QUqrSqVIDcPZ2\n",
              "E0h6MZbcMGXF3WH/Ca+MDFxFFQoFNr9TMabvbUAQN+0uiqB2CgZQ8ckwP9fJPHC1shb8U4mZADwY\n",
              "vM8geNCmrpPAtJ/TlJ0UnYRDS44HE9b9fv8UL0W2nh87gH2Zpj4QKvscOrR7/lsRPMRKqTDHRGaP\n",
              "1Eruzi+rTLE2yIFkm5rjXmsEexceaP96IGytcp6hpPQVVCuKw1ql8ioq6CA/7z8v8Lxw0dEoGl9l\n",
              "5ChE/dOZ5H2wFbFEtEWqD8Vh/7BSKQX2XoiEvi+sGzn1hfuQVTxheAEBEGPa44Z9C9nx8NuI0KOj\n",
              "efFOJuHVxEOeZ3t1wdgplxzjx7l/JtmU8Y56hyCV6b8Q70b97xE5Yj8Wmyq1MkcA6+i/w0NApMvF\n",
              "s1L3yygkWk4wTbG3HHFBxKoqWJxbazms9tEaBqt6Wc+X8sKnfmXhQGv000zarVE+2woNyP68kjXs\n",
              "9nKtsjV7tZxHSpJJTiAjsI+VWXfq8yXfnvy3Jq1mkOLAGQf68awXd3oU5dt7zcS23PM5XKsGstZu\n",
              "+9AScQAAAk5Bn3lFFSwj/wDighFNugBbgyTKjgLV5h7keuYg8z5QbWReadmZi9lriTp/3B8Iln9G\n",
              "9pvrc9sf2VyKLfbgv6tNCz97q4FWCKnVbHdKx3sUrPuNA21emkwyrRFGBjDcYmVj0ehoX2bMw1ya\n",
              "HYP6RKjS31vE4r2aJRbRlp61RI+I67cG2YhdV6oZaMzXBgOCdy1zzN4/03Gr8+LRkbqQcSXAGgG0\n",
              "wIZwzNGKuQiDN/sSFSZM/0GdCrPKXMwtLHNcKPZus3dpGUs+LYagLFQCl4jVLtnZ7rhH2a4qCCqA\n",
              "pBPoIJjSc3f/flEpPddvqYaTehpbroB4Z2I7KNUPWsO0CUTvL421no2WbhjxHihqPLzSFmjln9W3\n",
              "jvU6iK2qnjMPo8hE+WAEfvDvJqhSwtLp56RfzEtXZ9Pq4inQ4UY0cWyulG78jjjmqp42qYw0NkPn\n",
              "vXaFVZxnUmLnivjhGsXjEbOtzwG43O/RzIFBkx2zUI+eDlniJ9kmw+jYW429FZl5EntLxSqel+GP\n",
              "Ci+d9Vz+bQrf18dPfcF7KX0AzZcEyoPkKQzb+p51HBTDR4KpNqi4Jh4u1Pz2hujXYUZnEbdpvS9i\n",
              "Rwiyd+ECRHVLggMCXIeHQ1MxJsg5CFaaRz7KY3/DX0Ay1RJ+ntrRN0phyyl4GEiSdyH/YYi67Zk0\n",
              "WT4qVyNeQbUiU8f4k3UjoF95Q1558zeGE26BmX7yKqjL1TAGFzJZ8Wdw8+fEdcXjpGFWbckVvIgw\n",
              "z/uFz45eeIkXYZ2VoNQcdnjyv+yu+onvcvrcwAAAAacBn5h0R/8Ba/W8CrABLVaAtAAiWaWKgRZl\n",
              "9GrxLM6qYhx381IFCXMI5HyINNuvOaD0GKz8BSACmj9XQCW9GcfuQFUdraC9ihiasU/F1xPHmryj\n",
              "aaFCvvjZgxdGjinHd3apt3/g3iP0FGNdhKuP+QigD0S1wIy2Nm579bZx0o52qv/ih8ko0rqH49LF\n",
              "27wJux/4UK/BbX+oQSXCV+8nXbmdUnBpsFKVF6srYthrho8jFeJd8P7Vbsy0R33UT64PIrLljKVg\n",
              "uEuB7gmg7MyYIH0qHUWF4Glcavmcpjof9rD08wupbAbNxIyMtFB5CeXl5gievew+egI5q+ZLwD9R\n",
              "45IUF567yVW8MaIfuM8FbuMl+8hsz6e7qR9EBQ/IW8rgP83ZFQQBppcTV0BzP7yFDQVOWZ9kBRUh\n",
              "qG/Zsp1cNL8FQeA735bM/7WzLZDARyA1btr8/7TCn38fKbU04YwYY7tJk6JfM68EYEXAm05pwUFg\n",
              "ciKWdHJRM1IDE6ngWWVpxFFOSmLLiW0PE8YcQxQtLHXYq7cJ/DtDk4H7Cesu1BZbW9jAyqVZFrcA\n",
              "AAHNAZ+aakf/ASSWPRABc662jowuVyxDO0GHbE7D7tgZlSMUmcZJLcI6d6EL+61YtIGvOqHlHzmG\n",
              "lCAz6WnCZdysl0973tJYaYNZPVwsZRzf3wYcN3rANPEEB0qIQgO2J0Q95dKGEllvav60bsDIg5VD\n",
              "oI68yAG0XYbfZAGt5+rC3apqSDEmahnCya5hWbfDYHSCDETFhqBZ5xASAvot9HlJr1u632lU2u6s\n",
              "Te0Bt1e/a+9Ji960Uu1xXgd1L5OjMerH2mMTSP8UHZa5wsZEgeyxZPwrcXt190Fo92Gpz866QTS2\n",
              "1VEZWIWpGatLecsXn5DUTnd+cKoVJm0qnr+DPpIaRsf1U1EZeQwlg5aHpyj7JFnHSDd7W31cgwKl\n",
              "7HJDEkUdW0zND3S938vRN7yLZX3ZtSbc7qvRYtpb7+7FjONkKYYHN0DQIWpp49p/Mgp8AyAUcutF\n",
              "ugzy17wZm5UC+lQFdGnw/yErxvRzAQ4bkHTB/sjzYi+STcWcRiYb9zKp5EoNY1Omp+qnOlMtx4JW\n",
              "R3Lfi4WgRqauy7/X4wGxdIxnNi6urLhmP5cLXe/JwGhYEnqtavcIDh2K84eUu7tMQzbgg4W+Bw9H\n",
              "tiKdPIPgGnAAAAQ0QZueSahBbJlMCFf//jhACOiF4AHHtObZWqFeEC78kr3jByPM8eFkcWZ2b5OX\n",
              "EjmBtp2jJOi1iSByu0POSjvCTvjYw2KDDC4W9s6nLZphyTB4aTt5sDIf8NqUPYVzmbp29645QhFn\n",
              "o9aRvkjjs3T1AqKdpFuDQjy+GnJR5A0bzgOrhwoRq29YE+kF5JhgotW9a5LYpDencDZpVHjaLdve\n",
              "aw7BlETi4PKuYhfscr8omZuvqD49Q6FIo9N4l3CWbAXR9/yVSd2KizyJzi7HgpQl0tEKzoC90r0E\n",
              "6r0TgfXK1Sql7r5pp0eAOBun2dJQ9GRTLJalI87onySXI0rxlfLsARThVAb3ol0CVKdplFuraSvE\n",
              "hk+X6NIyd+zWWTk3KmF/d8l+1g9RPm0kwQfwP+7OgoSzxckmju1cPS2O9Fdrpw0WXoMJxNl6FPQ2\n",
              "tqHgi6WOoNejB+JL7Eh3nqTPsXqy1ZfBzhlMwKpNl16SrWAlikyPcZYnHrv0+GJh5VuBYIlf/5Vh\n",
              "wUOrxNjm+UYTjjqZKBXK/gIU7AiMAVBeNYLiup/nSSduM+/oB+u8saD/uKUaQpy8QiEpbXlsQmlT\n",
              "wM7N+ve3kbjYRDg9sbDYF8LO4gkZNKvDPxH/iFyrnn9oxg/eT+SBHY35l6zt6jODAkuO0+3ABHi0\n",
              "7KKKdFkHIeADN16Dt6Snbn09IDg3dpskSLV2xi2E804ph7dwPeLbCuhpz1U2qKPMJpRjbkR/spNs\n",
              "/VLu5U1mw/F4XCfuLzf1TRwLj0Q8TtaKO0n0kjdTo0IO+p18Q9LypOuAgW20WMOTLpH82YCFjvbI\n",
              "wQMsk8LLXP9kRBwQlKH8eS7/atRG22Iqb6quy3VwaqB2jGsT82ed5npj6LubhRiJbd8dWDFdWvML\n",
              "moiBJNxuNCIL88OFEIz9R8aIk36YOR1ftovlFxSVdam/Wu1UFqb1xvPzl0rrjRaebVQUt4i3BCyn\n",
              "aFCGMamnuJqsbAn4gfMxvqd+FanzQqdcxkd4Oi5VzGPospXdZQUvqDD9mHhiOJw0CA24VztkgAiN\n",
              "hJ5fnHGnmD4JxPfHhHYMfsELSojPj26XUQ74nCIAmNBg3zrtV1+jEvHAZax3oOpdw0WZJq31unYe\n",
              "5459frRR3fbHg/4XZiCCHtQs/oDn2jWNCzPgcc+eVXSR1aMLSCoD9jF5cl1RbWUqVUqwZwKo6xte\n",
              "PONcrup1vjmv5gEPqsrXWDTdyt1D2LNptAkxxmwDGxmC/29CwBtAN8r0+dcx/PG0PfqEI9Ojrczw\n",
              "hiA5d0CK1UqgNO50NW9ub/KAq7W1elEdykO8SCw1tXDA0bzhdmpD4uz0wEaUwQ7oqVUKgBjfZIGp\n",
              "KugQS1Do4azex83OS65YYdLi/QaZLiEi3xJ0fGDv4afAoReofFA3b8P4CkQr2CPhJW69iU4Ol8c7\n",
              "tYjIdkEAAAGyQZ+8RRUsI/8AutaEAC5ckzxCilJUgFUtX/UY7enGE6u/UjlFVrWdw3++rF1+LK4k\n",
              "OPWqw3Z6QSDYI69emX+gDWUEgz7jSZpR5xE3I8h2J01REokzbgDqIPNK5INneuunDqiCSduZVJKH\n",
              "3hJDAHZuLLwzBwKMBK0dSOWDBFxI4VpQiJTxOQlRnxNtTQukqjt+jGtoh49jQw+NPgr+pyllsTnz\n",
              "ppulCNy6SdjobCW8tSkMEdS5JW32X68Ds6QLt2RRwtNIXp/Fqbs/I8nH/VI+X3syIZRI4QHRDF1H\n",
              "0iwzw5wF4Dj/kO0OpIOgla/fffTOOvgLScgcOeib9uZ+YJ9JhFYnNlzTNN03a2BxQ6Au87Wx5kLN\n",
              "AUbMjdkqJ0jx9tsjb4MV/6i+G1ouilIgUViQOtnJghzQ4C9ZEzwNFrFG/m0J4iRfL+IGy9AhMIIk\n",
              "db2cAzSyAHrhOHMHinGLrAxqNSxns4H2rSfruByGzwe/psr190RT3G55oauzc+LhqbgpAiPeTUtP\n",
              "olCGGLfqovaSQRFUx3TkrPIBQQaze5KOsoShS8iChVynigiVAsga3APivPEAAADcAZ/dakf/AS4+\n",
              "FqSAC3BERrJKe7o9MmnVGhZjuro4FlJzXblSOpwILSnN90KX+985rrBjwRHeR8JouncJku5IVLCr\n",
              "U3SLDbuusCRgl7/2tdaQprA38CmM3E8t9ODWt9d5vJZDm1N/PEAdaieGaKChfF1L6VR4XXoh0den\n",
              "WP1eih81dzeoc4kpI64MR+Wz8yXYUUhroQ62qjusEKq5KLTpF9m+kDYG4DV6mmRuZ4AL1nkT7iKM\n",
              "mGd9ZYf1ftzG1NVQHOYhH7vPsjrwHs0jUPLg3xn7SgjNG+00FDvxcwAAAspBm8BJqEFsmUwUTCv/\n",
              "/jhACOqNewAXUdOQZppCSyma/ZH2zw3DRC7OQNLg3jIqCsCL04EN1THA5MnJB0hD0K4FIERWQdpV\n",
              "F4YgGVVM+HrujNeN7NifIlSbTpoebLe1shTCkYz9LYbAxiDv+NJAqZDSeuPdhgWWm+mubdTWRXgo\n",
              "JM1Nx+cR15IldTP5UrtTcqSmth/YPTV3BVazyZ/oltJUo+upI8iFz1glzBV0rXWijR9/iUjPmWss\n",
              "EuP5SmtJ2Q8EOGKKp7eJYfnZAVMBd5ThZRfI7z03mQ0V5pe2symtC0/W+yA1e/KoVe2pq3Q2THYw\n",
              "eJ2iexTQTa9+w6Q+/XvlMpEbS+h6m4o85TvOia3/0pT7FzxumDDGw2IaaA0bvGB6aJtWDbXpdkbm\n",
              "5lifcEdLm2PpZx11jV7PQG4DoLSOuN+N1++kFMGQS+Rq+pomKNNGqE5Ymzi4YujjK3FR07IGqJZy\n",
              "Qs8GRCwkGpYzkIixsXCx90Zrza2BQ/dk+q/22EuW1DgWMUEUoTNRIsUytAgMhgsX+u8vew75jPmm\n",
              "gXGh/eq3eA+1Q351fD8VmYr49mU0Vn3PtgANrnkrXXPQyY5HzNhV0Stk8l7p3iKjs6tqbVlO17Hu\n",
              "8MNLdfzu4MWVN3U83Zz94rD3+Zijg77RLOemWeqQ+KKma8WacySJ6o4N2nXw/vgUcG1mzlV8U3VX\n",
              "Cd0ijtqTJ4maHBSnEnOHLGDuciqGZenxgFEeRbGDViEe3NjqAcD0RdAtrjKlWWO+dXYzXvwyWJpj\n",
              "7S34c1P+Sv8adAqEUPJBid9OWlfTEwpqyF5XkinyKFptdf49gZPW6bfQTKuyYNNXHxHQehpt5dDV\n",
              "7B7isoTCXBpUNtEm/MpP7Lr9s+EsRB8nx0BiwDbSj6kh3SVayyVcS9CAuRnnUB0ame0MiB/nW5wb\n",
              "SfV8q2GSw9vW2i/Hu/DJLiAAAAEjAZ//akf/AMR0o99JI0z8U/m5pNCepAAk5ClT7GqaCRBxAh5t\n",
              "RmbpILg9hCDp1qXymkPPrAs6HkTWgJQ6hwcw2X2+xh833D7Hz1HBFGeEYC2qA3Kh9LaXxJSDx7LJ\n",
              "vcRZmGMJyKji1rThkguGtFyPLOPalbM/lk9U4mxL6a+twn96G0Aw8nZL9PQsp9j/OhJusvl7Zwgc\n",
              "p9mjgLM/BMh0Ecu9tTnMZwV7uOfSMpZi4b/MzaNUOawI2DRqWq1g6agX+toTqhXv2h0KY//QY48Q\n",
              "HR3FziMfcFeUMiukYJcLhJGAYVR0als3jqAX8fI+jB5nJToptY696K1BJxpF2TdOE9FPp37WIoQh\n",
              "mIAZL2atBfznBcTXMo0QfrAYuXlAYAqNbhnhAAADG0Gb4knhClJlMFLCP/3hACnR5eAIRn5cVnXt\n",
              "0QoI6AFIzsbKxmdjnpNlUIFnhr80EXHno7sryECHfcCjbpT0p3H0GdD1/kDwS7E21smeTdjshTpj\n",
              "Npmwj83ztsi3Jnm6NHRjbdRKG7P1b27D92mfUB3s6FLwvoP3sLIHs3hHPT9NHUsnuwWalgdNFdP6\n",
              "B5qJya+p8YFJ7RgbCSvIg94PtPOuP14ZY9lF/7gQkc4U+/xnof9eoDNFY3/8Y/oYddYykiw33b/5\n",
              "BVsWs8uywL9ksguZuZFU46ZCevsFBvzRTvY4grgTI7a2cg/TfGCBsaT4qz9BPDqSqwypHDRschVh\n",
              "zLFwRXCXFiY2xjo4GhdWj6WAFAbbpDZkW78DyZs7ECsmEqgTJGD1fkcDp3kCWkiF60MCFZcIfFqJ\n",
              "M7QRs23d+3IF3+4czLV1tPSe+RZO+QpNbWrfhIbKuSgAH25WpS1ynLtrouiDdjIe7iSrRWFLI5nQ\n",
              "Hmq9eqsqoNBe0E0Sonrq0mtWBDenRNYWmLjZnF3AYq2gbR4v9OgWQqj43tskqbRZ/+PsaX1DXIS0\n",
              "ZEioAoDl+Qd8MavwNqWOHVTcVvMmFRxTVPRqFuQ0/u8HwKtPzV1T69uQEbMzHH73WHeWL+on7ANB\n",
              "Epqqj/zNnqFUwTlcsqUVR9SVRdXVQwPmJf0otWHy+UY+ERPMaFvCVFeMMBr68thhZUtNkV3eaiUR\n",
              "4NoocScIw2rHcF00xP8XWDVhNCzP08opaXTwKAgjXRV/RR00lGj1jqoOgKn7hcNc/zGEfcsJSB5V\n",
              "CltA4mXpcTkCTJspcToMZQrbNKTtr7g86bRmi32tKtjcFbhAXIH8r8TMVaX0+rUisaFA9lvmKTrv\n",
              "D9U6gB+HjPx8q1pUn+ZmQlWVWb+ktyyymFV2ZlBdIQYr6OTgL7muE+2m/fDXYOz7oWSRuFRV9lKJ\n",
              "H8Pfu6FN3MYh0FTeyVxw6xH20EGmsWqCrjPR8xnIVIfE3i6s8aLaye00KWh2bVI3VR4lsCHkt46c\n",
              "hSC7oScb6CgjONUXwD9RKANAqzvKqtwRgFxbgAAAAa0BngFqR/8Ba86Z6IAC5bOZU4I8uvHCrsDm\n",
              "6GPn9MEiHdQs2Sw2S5RDgV6QvI+jjWZ2leBjyoRuRZsPH4j+F85DC/TPjAiYUhlXfKnU4OWyCw87\n",
              "pd/MKF54bA3A0kQMcu6gjrDOKsfx14IikA0G+jROT9RpJvzqsud9kH1hikgBDFoZ52bWONXFUZ9G\n",
              "GKUt772np1MQVIB/rem21k2HjwfbJUjXzQvzOo8Y3BYYjCz+80gQAbkWwQLHIiS3jK0MnOM2946C\n",
              "fBcWtQDtGT+2PxnKZjzOtgnmuf45U5t5m7DMdewXdsx/THkqfq+8jSuEhXKziTApi0auN6DICeLl\n",
              "GO7nH9O/HZZysnz7JNMSPRBFA5O0EKVL+kFIHufXHEVATnJaror+PoB+1fkY69SVjhFw9MRVbV8q\n",
              "SYPXuBN2ybcolcqJBuEY1nM8cMX8zpi6HQgv1ahG5RbNlu99IQa9DGw31p++Soy1dPHGblxI3Str\n",
              "Z2LZDAPmFwnofALOSNiat/X98yQkfY9dAuHYCax/yr/LIYOiuj0+/jV+UFb+Gzm7HFfsDAY6gz4a\n",
              "cP/7rvkAAAFWQZoDSeEOiZTAj//8hACGc3OAFu9XJGkhyZHwSFOHLIdapR8FBoEt5ubh04gfCpTu\n",
              "FiViDcSM37DylFZCwbBwwKtYJuWBPtuaJq40YFMIN7HOv+M1+4I92SM7a76tJwlHu3Bn//SS5UQ6\n",
              "Lh3JxexY+v5OHr0TanSQve+UvYFyk6B/bgqIiUKaJJXlEkHSui8bI4ByukCnCQW2CTIoooa6YgHR\n",
              "ary+w0D6PklSuAFK2jMIg/SwxKsqLQ1YZOjMyFdvhAzg+pYwG5X7pyOqHmg0gB3RjZNjTztQ58pV\n",
              "1/ZHJPAOH11wnIFLy8ZxGpDGKWGiWwUe9EqAYAo55iZ90QoAIQZ2H+EgWdZyEZIU0vJaTZkxGzNv\n",
              "xgyy7ETMQfalQjnv7sBiDfHTk4FB/IAKkL6r6/ZOFz/4BtTosCTJLP7IKzY/90xJTRQFWmCoPbU9\n",
              "0nos00nf79jAAAAHJm1vb3YAAABsbXZoZAAAAAAAAAAAAAAAAAAAA+gAAAfQAAEAAAEAAAAAAAAA\n",
              "AAAAAAABAAAAAAAAAAAAAAAAAAAAAQAAAAAAAAAAAAAAAAAAQAAAAAAAAAAAAAAAAAAAAAAAAAAA\n",
              "AAAAAAAAAAAAAAIAAAZQdHJhawAAAFx0a2hkAAAAAwAAAAAAAAAAAAAAAQAAAAAAAAfQAAAAAAAA\n",
              "AAAAAAAAAAAAAAABAAAAAAAAAAAAAAAAAAAAAQAAAAAAAAAAAAAAAAAAQAAAAAGwAAABIAAAAAAA\n",
              "JGVkdHMAAAAcZWxzdAAAAAAAAAABAAAH0AAAAgAAAQAAAAAFyG1kaWEAAAAgbWRoZAAAAAAAAAAA\n",
              "AAAAAAAAMgAAAGQAVcQAAAAAAC1oZGxyAAAAAAAAAAB2aWRlAAAAAAAAAAAAAAAAVmlkZW9IYW5k\n",
              "bGVyAAAABXNtaW5mAAAAFHZtaGQAAAABAAAAAAAAAAAAAAAkZGluZgAAABxkcmVmAAAAAAAAAAEA\n",
              "AAAMdXJsIAAAAAEAAAUzc3RibAAAALNzdHNkAAAAAAAAAAEAAACjYXZjMQAAAAAAAAABAAAAAAAA\n",
              "AAAAAAAAAAAAAAGwASAASAAAAEgAAAAAAAAAAQAAAAAAAAAAAAAAAAAAAAAAAAAAAAAAAAAAAAAA\n",
              "AAAAABj//wAAADFhdmNDAWQAHv/hABhnZAAerNlBsJaEAAADAAQAAAMBkDxYtlgBAAZo6+PLIsAA\n",
              "AAAcdXVpZGtoQPJfJE/FujmlG88DI/MAAAAAAAAAGHN0dHMAAAAAAAAAAQAAAGQAAAEAAAAAFHN0\n",
              "c3MAAAAAAAAAAQAAAAEAAAJ4Y3R0cwAAAAAAAABNAAAAAQAAAgAAAAABAAAFAAAAAAEAAAIAAAAA\n",
              "AQAAAAAAAAABAAABAAAAAAEAAAUAAAAAAQAAAgAAAAABAAAAAAAAAAEAAAEAAAAAAQAABQAAAAAB\n",
              "AAACAAAAAAEAAAAAAAAAAQAAAQAAAAABAAACAAAAAAEAAAUAAAAAAQAAAgAAAAABAAAAAAAAAAEA\n",
              "AAEAAAAAAQAABQAAAAABAAACAAAAAAEAAAAAAAAAAQAAAQAAAAABAAAFAAAAAAEAAAIAAAAAAQAA\n",
              "AAAAAAABAAABAAAAAAEAAAUAAAAAAQAAAgAAAAABAAAAAAAAAAEAAAEAAAAAAQAABQAAAAABAAAC\n",
              "AAAAAAEAAAAAAAAAAQAAAQAAAAABAAACAAAAAAEAAAUAAAAAAQAAAgAAAAABAAAAAAAAAAEAAAEA\n",
              "AAAADwAAAgAAAAABAAADAAAAAAEAAAEAAAAAAQAAAgAAAAABAAAEAAAAAAIAAAEAAAAAAQAAAwAA\n",
              "AAABAAABAAAAAAEAAAUAAAAAAQAAAgAAAAABAAAAAAAAAAEAAAEAAAAABwAAAgAAAAABAAAEAAAA\n",
              "AAIAAAEAAAAAAQAABQAAAAABAAACAAAAAAEAAAAAAAAAAQAAAQAAAAABAAAFAAAAAAEAAAIAAAAA\n",
              "AQAAAAAAAAABAAABAAAAAAEAAAUAAAAAAQAAAgAAAAABAAAAAAAAAAEAAAEAAAAAAQAABQAAAAAB\n",
              "AAACAAAAAAEAAAAAAAAAAQAAAQAAAAABAAAEAAAAAAIAAAEAAAAAAQAAAwAAAAABAAABAAAAAAEA\n",
              "AAMAAAAAAQAAAQAAAAABAAACAAAAABxzdHNjAAAAAAAAAAEAAAABAAAAZAAAAAEAAAGkc3RzegAA\n",
              "AAAAAAAAAAAAZAAAHjAAAAC0AAAAEwAAAA8AAABOAAAA5QAAAGQAAABRAAAASwAAAIcAAAA0AAAA\n",
              "QQAAACMAAAAvAAAAtwAAAGsAAAA3AAAAQwAAAPoAAAB5AAAASgAAAEwAAACFAAAAVgAAACIAAAAm\n",
              "AAAAxAAAAFkAAABIAAAAPgAAAMQAAAAyAAAAQAAAAB4AAAAmAAAATAAAAD4AAAAkAAAAIgAAApQA\n",
              "AAPMAAAEaAAAA8QAAAQkAAAD9gAABAQAAASRAAAEOwAABF0AAAPuAAAGLAAABFQAAARjAAAEFgAA\n",
              "BLUAAADHAAADMAAAAg8AAAE0AAAA2gAAAvQAAAESAAADSgAAAZkAAADOAAAAwwAAA5sAAAQjAAAF\n",
              "kQAAA5EAAAPzAAAD8QAABKEAAAVHAAAB4wAAALsAAAK3AAAA+QAAAQ4AAAEZAAAE1wAAAK4AAAEu\n",
              "AAABMwAABUAAAAJ7AAABfAAAASYAAAYPAAACUgAAAasAAAHRAAAEOAAAAbYAAADgAAACzgAAAScA\n",
              "AAMfAAABsQAAAVoAAAAUc3RjbwAAAAAAAAABAAAALAAAAGJ1ZHRhAAAAWm1ldGEAAAAAAAAAIWhk\n",
              "bHIAAAAAAAAAAG1kaXJhcHBsAAAAAAAAAAAAAAAALWlsc3QAAAAlqXRvbwAAAB1kYXRhAAAAAQAA\n",
              "AABMYXZmNTcuODMuMTAw\n",
              "\">\n",
              "  Your browser does not support the video tag.\n",
              "</video>"
            ],
            "text/plain": [
              "<matplotlib.animation.FuncAnimation at 0x7f02ecff6ef0>"
            ]
          },
          "metadata": {
            "tags": []
          },
          "execution_count": 10
        }
      ]
    },
    {
      "cell_type": "code",
      "metadata": {
        "colab": {
          "base_uri": "https://localhost:8080/",
          "height": 562
        },
        "id": "sS7zFWrTdqQW",
        "outputId": "eb66b2c0-df48-48d9-944b-3876dac58121"
      },
      "source": [
        "plt.plot(rewards)\n",
        "plt.title('Rewards')\n",
        "plt.show()\n",
        "\n",
        "plt.plot(xs)\n",
        "plt.title('x-pos')\n",
        "plt.show()\n",
        "\n",
        "print('Sum of rewards is ', rewards.sum())"
      ],
      "execution_count": null,
      "outputs": [
        {
          "output_type": "display_data",
          "data": {
            "image/png": "[encoded data removed]",
            "text/plain": [
              "<Figure size 432x288 with 1 Axes>"
            ]
          },
          "metadata": {
            "tags": [],
            "needs_background": "light"
          }
        },
        {
          "output_type": "display_data",
          "data": {
            "image/png": "[encoded data removed]",
            "text/plain": [
              "<Figure size 432x288 with 1 Axes>"
            ]
          },
          "metadata": {
            "tags": [],
            "needs_background": "light"
          }
        },
        {
          "output_type": "stream",
          "text": [
            "Sum of rewards is  191\n"
          ],
          "name": "stdout"
        }
      ]
    },
    {
      "cell_type": "markdown",
      "metadata": {
        "id": "TjwJa4A2GBti"
      },
      "source": [
        "# Preprocess the frames"
      ]
    },
    {
      "cell_type": "code",
      "metadata": {
        "id": "qzpFMpBhtbA6"
      },
      "source": [
        "import cv2\n",
        "\n",
        "def preprocess(frame):\n",
        "  frame = cv2.cvtColor(observation, cv2.COLOR_RGB2GRAY)\n",
        "  frame = cv2.resize(frame, (84, 84), interpolation=cv2.INTER_AREA)\n",
        "  return frame/255.0"
      ],
      "execution_count": null,
      "outputs": []
    },
    {
      "cell_type": "code",
      "metadata": {
        "id": "Q4NmlrcOOlIb"
      },
      "source": [
        "env.reset()\n",
        "obs, reward, done, info = env.step(1)"
      ],
      "execution_count": null,
      "outputs": []
    },
    {
      "cell_type": "code",
      "metadata": {
        "colab": {
          "base_uri": "https://localhost:8080/"
        },
        "id": "sPK0cUy2OnFf",
        "outputId": "abc6ce32-eec0-4034-e1c0-8365f0c33f55"
      },
      "source": [
        "obs.shape"
      ],
      "execution_count": null,
      "outputs": [
        {
          "output_type": "execute_result",
          "data": {
            "text/plain": [
              "(240, 256, 3)"
            ]
          },
          "metadata": {
            "tags": []
          },
          "execution_count": 14
        }
      ]
    },
    {
      "cell_type": "code",
      "metadata": {
        "colab": {
          "base_uri": "https://localhost:8080/",
          "height": 286
        },
        "id": "TH7CNayV-Qdq",
        "outputId": "f7ff497c-95c7-44b1-f7a9-ddd09a07cc5e"
      },
      "source": [
        "plt.imshow(obs)"
      ],
      "execution_count": null,
      "outputs": [
        {
          "output_type": "execute_result",
          "data": {
            "text/plain": [
              "<matplotlib.image.AxesImage at 0x7f02ecfd1b00>"
            ]
          },
          "metadata": {
            "tags": []
          },
          "execution_count": 15
        },
        {
          "output_type": "display_data",
          "data": {
            "image/png": "[encoded data removed]",
            "text/plain": [
              "<Figure size 432x288 with 1 Axes>"
            ]
          },
          "metadata": {
            "tags": [],
            "needs_background": "light"
          }
        }
      ]
    },
    {
      "cell_type": "code",
      "metadata": {
        "id": "KrguoXOsPbSm"
      },
      "source": [
        "state = preprocess(obs)"
      ],
      "execution_count": null,
      "outputs": []
    },
    {
      "cell_type": "code",
      "metadata": {
        "colab": {
          "base_uri": "https://localhost:8080/"
        },
        "id": "H_iDO5u2PmO8",
        "outputId": "7ae3ca0b-645b-4feb-de12-bfb17e225362"
      },
      "source": [
        "state.shape"
      ],
      "execution_count": null,
      "outputs": [
        {
          "output_type": "execute_result",
          "data": {
            "text/plain": [
              "(84, 84)"
            ]
          },
          "metadata": {
            "tags": []
          },
          "execution_count": 17
        }
      ]
    },
    {
      "cell_type": "code",
      "metadata": {
        "colab": {
          "base_uri": "https://localhost:8080/",
          "height": 285
        },
        "id": "a3wvoOuHPeI4",
        "outputId": "e519c1d9-470f-4114-f4ba-f1e4b58b490a"
      },
      "source": [
        "plt.imshow(state)"
      ],
      "execution_count": null,
      "outputs": [
        {
          "output_type": "execute_result",
          "data": {
            "text/plain": [
              "<matplotlib.image.AxesImage at 0x7f02eb30c240>"
            ]
          },
          "metadata": {
            "tags": []
          },
          "execution_count": 18
        },
        {
          "output_type": "display_data",
          "data": {
            "image/png": "[encoded data removed]",
            "text/plain": [
              "<Figure size 432x288 with 1 Axes>"
            ]
          },
          "metadata": {
            "tags": [],
            "needs_background": "light"
          }
        }
      ]
    },
    {
      "cell_type": "markdown",
      "metadata": {
        "id": "GaHKbGU2wFfF"
      },
      "source": [
        "# Q-Network"
      ]
    },
    {
      "cell_type": "code",
      "metadata": {
        "id": "mb6ZY60vwN5F"
      },
      "source": [
        "class DQN(nn.Module):\n",
        "  def __init__(self, channels, action_size, seed=42):\n",
        "    super(DQN, self).__init__()\n",
        "    self.conv1 = nn.Conv2d(channels, 32, 8, stride=4)\n",
        "    self.bn1 = nn.BatchNorm2d(32)\n",
        "    self.conv2 = nn.Conv2d(32, 64, 4, stride=2)\n",
        "    self.bn2 = nn.BatchNorm2d(64)\n",
        "    self.conv3 = nn.Conv2d(64, 64, 3, stride=1)\n",
        "    self.bn3 = nn.BatchNorm2d(64)\n",
        "\n",
        "    self.fc1 = nn.Linear(64*7*7, 512)\n",
        "    self.fc2 = nn.Linear(512, action_size)\n",
        "\n",
        "  def forward(self, x):\n",
        "    x = F.leaky_relu(self.bn1(self.conv1(x)))\n",
        "    x = F.leaky_relu(self.bn2(self.conv2(x)))\n",
        "    x = F.leaky_relu(self.bn3(self.conv3(x)))\n",
        "\n",
        "    x = x.view(x.size()[0], -1)\n",
        "  \n",
        "    x = F.leaky_relu(self.fc1(x))\n",
        "    x = self.fc2(x)\n",
        "    return x"
      ],
      "execution_count": null,
      "outputs": []
    },
    {
      "cell_type": "code",
      "metadata": {
        "id": "1l91qJvSGHt0"
      },
      "source": [
        "# net = DQN(1, 5)\r\n",
        "# net = net.float()\r\n",
        "# print(net)"
      ],
      "execution_count": null,
      "outputs": []
    },
    {
      "cell_type": "code",
      "metadata": {
        "id": "pJuBFPw2GeOA"
      },
      "source": [
        "# from torchviz import make_dot\r\n",
        "# input = torch.from_numpy(state).unsqueeze(0).unsqueeze(0)\r\n",
        "# action = net(input.float())\r\n",
        "# make_dot(action, params=dict(net.named_parameters())).render(\"./log/network.png\", format=\"png\")"
      ],
      "execution_count": null,
      "outputs": []
    },
    {
      "cell_type": "markdown",
      "metadata": {
        "id": "0rETn1TUwK28"
      },
      "source": [
        "# Replay Memory"
      ]
    },
    {
      "cell_type": "code",
      "metadata": {
        "id": "WD6sZDy9wHOI"
      },
      "source": [
        "class ReplayMemory():\n",
        "  # To store and sample previous transactions\n",
        "  def __init__(self, state_size, buffer_size, batch_size):\n",
        "    self.states = torch.zeros((buffer_size,) + state_size).to(device)\n",
        "    self.next_states = torch.zeros((buffer_size,) + state_size).to(device)\n",
        "    self.actions = torch.zeros(buffer_size, 1, dtype=torch.long).to(device)\n",
        "    self.rewards = torch.zeros(buffer_size, 1, dtype=torch.float).to(device)\n",
        "    self.dones = torch.zeros(buffer_size, 1, dtype=torch.float).to(device)\n",
        "\n",
        "    self.ptr = 0\n",
        "    self.full = False\n",
        "    self.buffer_size = buffer_size\n",
        "    self.batch_size = batch_size\n",
        "    \n",
        "  def add(self, state, action, reward, next_state, done):\n",
        "    # Add a new experience to memory.\n",
        "    self.states[self.ptr] = torch.from_numpy(state).to(device)\n",
        "    self.next_states[self.ptr] = torch.from_numpy(next_state).to(device)\n",
        "    self.actions[self.ptr] = action\n",
        "    self.rewards[self.ptr] = reward\n",
        "    self.dones[self.ptr] = done\n",
        "        \n",
        "    self.ptr += 1\n",
        "    if self.ptr >= self.buffer_size:\n",
        "      self.ptr = 0\n",
        "      self.full = True\n",
        "\n",
        "  def sample(self, n=32):\n",
        "    # Randomly sample a mini batch of experiences from memory.\n",
        "    if self.full:\n",
        "      idx = np.random.choice(self.buffer_size, n, replace=False)\n",
        "    else:\n",
        "      idx = np.random.choice(self.ptr, n, replace=False)\n",
        "        \n",
        "    states = self.states[idx]\n",
        "    next_states = self.next_states[idx]\n",
        "    actions = self.actions[idx]\n",
        "    rewards = self.rewards[idx]\n",
        "    dones = self.dones[idx]\n",
        "        \n",
        "    return states, actions, rewards, next_states, dones\n",
        "  \n",
        "  def get_count(self):\n",
        "    if self.full:\n",
        "      return self.buffer_size\n",
        "    else:\n",
        "      return self.ptr"
      ],
      "execution_count": null,
      "outputs": []
    },
    {
      "cell_type": "markdown",
      "metadata": {
        "id": "RpZQbw62wHi3"
      },
      "source": [
        "# Agent"
      ]
    },
    {
      "cell_type": "code",
      "metadata": {
        "id": "aMiRyf75wJhj"
      },
      "source": [
        "class Agent():\n",
        "  def __init__(self, state_size, action_size, memory_size, batch_size, \n",
        "               gamma=0.9, update_every=1000, learning_rate=2e-4, seed=42):\n",
        "    self.state_size = state_size\n",
        "    self.action_size = action_size\n",
        "    self.memory_size = memory_size\n",
        "    self.batch_size = batch_size\n",
        "    self.gamma = gamma\n",
        "    self.update_every = update_every\n",
        "\n",
        "    # Q-Network\n",
        "    print('Initialize Q-Network')\n",
        "    self.qnetwork_local = DQN(state_size[0], action_size, seed).to(device)\n",
        "    self.qnetwork_target = DQN(state_size[0], action_size, seed).to(device)\n",
        "    self.optimizer = optim.Adam(self.qnetwork_local.parameters(), lr=learning_rate)\n",
        "\n",
        "    # Replay memory\n",
        "    print('Initialize Replay Memory')\n",
        "    self.memory = ReplayMemory(state_size, memory_size, batch_size)\n",
        "\n",
        "    self.t_step = 0\n",
        "    \n",
        "  def experience_replay(self, state, action, reward, next_state, done):\n",
        "    # Save experience in replay memory\n",
        "    self.memory.add(state, action, reward, next_state, done)\n",
        "        \n",
        "    if self.memory.get_count() > self.batch_size:\n",
        "      experiences = self.memory.sample(self.batch_size)\n",
        "      self.learn(experiences)\n",
        "\n",
        "  def act(self, state, epsilon=0.1):\n",
        "    state = torch.from_numpy(state).float()\n",
        "    state = state.unsqueeze(0).to(device)\n",
        "\n",
        "    self.qnetwork_local.eval()\n",
        "    with torch.no_grad():\n",
        "      action_values = self.qnetwork_local(state)\n",
        "    self.qnetwork_local.train()\n",
        "\n",
        "    # Epsilon-greedy action selection\n",
        "    if random.random() > epsilon:\n",
        "       return np.argmax(action_values.cpu().data.numpy())\n",
        "    else:\n",
        "       return random.choice(np.arange(self.action_size))\n",
        "\n",
        "  def learn(self, experiences):\n",
        "    states, actions, rewards, next_states, dones = experiences\n",
        "\n",
        "    self.optimizer.zero_grad()\n",
        "    with torch.no_grad():\n",
        "      maxQ = self.qnetwork_target(next_states).max(-1, keepdim=True)[0]\n",
        "      target = rewards + self.gamma * maxQ * (1-dones)\n",
        "\n",
        "    old_val = self.qnetwork_local(states).gather(-1, actions)   \n",
        "        \n",
        "    loss = F.smooth_l1_loss(old_val, target)\n",
        "    loss.backward()\n",
        "    self.optimizer.step()\n",
        "\n",
        "    self.t_step += 1 \n",
        "    if self.t_step % self.update_every == 0:\n",
        "      self.qnetwork_target.load_state_dict(self.qnetwork_local.state_dict())"
      ],
      "execution_count": null,
      "outputs": []
    },
    {
      "cell_type": "markdown",
      "metadata": {
        "id": "h0218cjIwKEe"
      },
      "source": [
        "# Training"
      ]
    },
    {
      "cell_type": "code",
      "metadata": {
        "id": "pCA7JHNDyd5X"
      },
      "source": [
        "MEMORY_SIZE = int(5e4)\n",
        "BATCH_SIZE = 32\n",
        "GAMMA = 0.9\n",
        "LEARNING_RATE = 2e-4      \n",
        "UPDATE_EVERY = 1000\n",
        "\n",
        "EPOCH = 1000\n",
        "\n",
        "noise = 1\n",
        "noise_decay = 0.99\n",
        "noise_min = 0.05\n",
        "\n",
        "# number of frames fed to Q-network\n",
        "MAX_FRAMES = 4\n",
        "FRAME_SHAPE = (84, 84)"
      ],
      "execution_count": null,
      "outputs": []
    },
    {
      "cell_type": "code",
      "metadata": {
        "colab": {
          "base_uri": "https://localhost:8080/"
        },
        "id": "2q-4L9MkHtfq",
        "outputId": "cbef5786-a848-4403-c9a1-4c2193a30d29"
      },
      "source": [
        "action_size = len(action_space)\r\n",
        "state_size = (MAX_FRAMES,) + FRAME_SHAPE\r\n",
        "print(state_size)"
      ],
      "execution_count": null,
      "outputs": [
        {
          "output_type": "stream",
          "text": [
            "(4, 84, 84)\n"
          ],
          "name": "stdout"
        }
      ]
    },
    {
      "cell_type": "code",
      "metadata": {
        "colab": {
          "base_uri": "https://localhost:8080/"
        },
        "id": "avCVpCMRJiTg",
        "outputId": "57c4ad08-757d-4a6f-96d8-b1d8e9b21fa0"
      },
      "source": [
        "agent = Agent(state_size, action_size, MEMORY_SIZE, BATCH_SIZE, GAMMA, UPDATE_EVERY, LEARNING_RATE)"
      ],
      "execution_count": null,
      "outputs": [
        {
          "output_type": "stream",
          "text": [
            "Initialize Q-Network\n",
            "Initialize Replay Memory\n"
          ],
          "name": "stdout"
        }
      ]
    },
    {
      "cell_type": "code",
      "metadata": {
        "id": "7qj0afubwP7D",
        "colab": {
          "base_uri": "https://localhost:8080/"
        },
        "outputId": "b3500eea-f25b-4349-c54f-4ab4d4acefc3"
      },
      "source": [
        "sum_rewards = []\n",
        "previous_frames = deque(maxlen=MAX_FRAMES)\n",
        "\n",
        "for e in tqdm(range(EPOCH)):\n",
        "  obs = env.reset()\n",
        "  prev_obs = None\n",
        "  sum_reward = 0\n",
        "    \n",
        "  for i in range(MAX_FRAMES):\n",
        "    previous_frames.append(np.zeros(FRAME_SHAPE))\n",
        "\n",
        "  previous_frames.append(np.copy(preprocess(obs)))\n",
        "  # print(previous_frames.shape)\n",
        "  states = np.array(previous_frames)\n",
        "\n",
        "  done = False\n",
        "  while not done:\n",
        "    actions = agent.act(states, noise)\n",
        "    obs, reward, done, _ = env.step(actions)\n",
        "    previous_frames.append(np.copy(preprocess(obs)))\n",
        "    next_states = np.array(previous_frames)\n",
        "        \n",
        "    agent.experience_replay(states, int(actions), int(reward), next_states, int(done))\n",
        "    sum_reward += reward\n",
        "    states = next_states\n",
        "  \n",
        "    noise *= noise_decay\n",
        "    noise = max(noise, noise_min)\n",
        "    \n",
        "  sum_rewards.append(sum_reward)\n",
        "    \n",
        "  tqdm.write('Episode {}\\tCurrent Reward: {:.2f}'.format(e, sum_rewards[-1]))\n",
        "\n",
        "  # display average reward every 50 iterations\n",
        "  if (e+1) % 20 == 0:\n",
        "    print('==========')\n",
        "    print(\"Epoch: {0:d}, average reward: {1:f}\".format(e+1,np.mean(sum_rewards[-20:])))\n",
        "    print('==========')"
      ],
      "execution_count": null,
      "outputs": [
        {
          "output_type": "stream",
          "text": [
            "  0%|          | 1/1000 [00:27<7:37:57, 27.50s/it]"
          ],
          "name": "stderr"
        },
        {
          "output_type": "stream",
          "text": [
            "Episode 0\tCurrent Reward: 942.00\n"
          ],
          "name": "stdout"
        },
        {
          "output_type": "stream",
          "text": [
            "  0%|          | 2/1000 [00:45<6:50:38, 24.69s/it]"
          ],
          "name": "stderr"
        },
        {
          "output_type": "stream",
          "text": [
            "Episode 1\tCurrent Reward: 760.00\n"
          ],
          "name": "stdout"
        },
        {
          "output_type": "stream",
          "text": [
            "  0%|          | 3/1000 [00:46<4:53:43, 17.68s/it]"
          ],
          "name": "stderr"
        },
        {
          "output_type": "stream",
          "text": [
            "Episode 2\tCurrent Reward: 248.00\n"
          ],
          "name": "stdout"
        },
        {
          "output_type": "stream",
          "text": [
            "  0%|          | 4/1000 [00:48<3:31:56, 12.77s/it]"
          ],
          "name": "stderr"
        },
        {
          "output_type": "stream",
          "text": [
            "Episode 3\tCurrent Reward: 246.00\n"
          ],
          "name": "stdout"
        },
        {
          "output_type": "stream",
          "text": [
            "  0%|          | 5/1000 [00:51<2:45:09,  9.96s/it]"
          ],
          "name": "stderr"
        },
        {
          "output_type": "stream",
          "text": [
            "Episode 4\tCurrent Reward: 635.00\n"
          ],
          "name": "stdout"
        },
        {
          "output_type": "stream",
          "text": [
            "  1%|          | 6/1000 [00:55<2:12:45,  8.01s/it]"
          ],
          "name": "stderr"
        },
        {
          "output_type": "stream",
          "text": [
            "Episode 5\tCurrent Reward: 639.00\n"
          ],
          "name": "stdout"
        },
        {
          "output_type": "stream",
          "text": [
            "  1%|          | 7/1000 [01:37<5:04:11, 18.38s/it]"
          ],
          "name": "stderr"
        },
        {
          "output_type": "stream",
          "text": [
            "Episode 6\tCurrent Reward: 876.00\n"
          ],
          "name": "stdout"
        },
        {
          "output_type": "stream",
          "text": [
            "  1%|          | 8/1000 [01:44<4:07:40, 14.98s/it]"
          ],
          "name": "stderr"
        },
        {
          "output_type": "stream",
          "text": [
            "Episode 7\tCurrent Reward: 579.00\n"
          ],
          "name": "stdout"
        },
        {
          "output_type": "stream",
          "text": [
            "  1%|          | 9/1000 [01:46<2:59:30, 10.87s/it]"
          ],
          "name": "stderr"
        },
        {
          "output_type": "stream",
          "text": [
            "Episode 8\tCurrent Reward: 252.00\n"
          ],
          "name": "stdout"
        },
        {
          "output_type": "stream",
          "text": [
            "  1%|          | 10/1000 [01:59<3:12:56, 11.69s/it]"
          ],
          "name": "stderr"
        },
        {
          "output_type": "stream",
          "text": [
            "Episode 9\tCurrent Reward: 781.00\n"
          ],
          "name": "stdout"
        },
        {
          "output_type": "stream",
          "text": [
            "  1%|          | 11/1000 [02:08<2:57:06, 10.75s/it]"
          ],
          "name": "stderr"
        },
        {
          "output_type": "stream",
          "text": [
            "Episode 10\tCurrent Reward: 578.00\n"
          ],
          "name": "stdout"
        },
        {
          "output_type": "stream",
          "text": [
            "  1%|          | 12/1000 [02:17<2:48:25, 10.23s/it]"
          ],
          "name": "stderr"
        },
        {
          "output_type": "stream",
          "text": [
            "Episode 11\tCurrent Reward: 626.00\n"
          ],
          "name": "stdout"
        },
        {
          "output_type": "stream",
          "text": [
            "  1%|▏         | 13/1000 [02:23<2:28:39,  9.04s/it]"
          ],
          "name": "stderr"
        },
        {
          "output_type": "stream",
          "text": [
            "Episode 12\tCurrent Reward: 639.00\n"
          ],
          "name": "stdout"
        },
        {
          "output_type": "stream",
          "text": [
            "  1%|▏         | 14/1000 [02:25<1:52:29,  6.85s/it]"
          ],
          "name": "stderr"
        },
        {
          "output_type": "stream",
          "text": [
            "Episode 13\tCurrent Reward: 242.00\n"
          ],
          "name": "stdout"
        },
        {
          "output_type": "stream",
          "text": [
            "  2%|▏         | 15/1000 [02:31<1:50:05,  6.71s/it]"
          ],
          "name": "stderr"
        },
        {
          "output_type": "stream",
          "text": [
            "Episode 14\tCurrent Reward: 638.00\n"
          ],
          "name": "stdout"
        },
        {
          "output_type": "stream",
          "text": [
            "  2%|▏         | 16/1000 [02:43<2:16:24,  8.32s/it]"
          ],
          "name": "stderr"
        },
        {
          "output_type": "stream",
          "text": [
            "Episode 15\tCurrent Reward: 692.00\n"
          ],
          "name": "stdout"
        },
        {
          "output_type": "stream",
          "text": [
            "  2%|▏         | 17/1000 [02:45<1:43:54,  6.34s/it]"
          ],
          "name": "stderr"
        },
        {
          "output_type": "stream",
          "text": [
            "Episode 16\tCurrent Reward: 245.00\n"
          ],
          "name": "stdout"
        },
        {
          "output_type": "stream",
          "text": [
            "  2%|▏         | 18/1000 [02:50<1:36:19,  5.89s/it]"
          ],
          "name": "stderr"
        },
        {
          "output_type": "stream",
          "text": [
            "Episode 17\tCurrent Reward: 588.00\n"
          ],
          "name": "stdout"
        },
        {
          "output_type": "stream",
          "text": [
            "  2%|▏         | 19/1000 [02:52<1:16:15,  4.66s/it]"
          ],
          "name": "stderr"
        },
        {
          "output_type": "stream",
          "text": [
            "Episode 18\tCurrent Reward: 250.00\n"
          ],
          "name": "stdout"
        },
        {
          "output_type": "stream",
          "text": [
            "  2%|▏         | 20/1000 [03:05<1:59:52,  7.34s/it]"
          ],
          "name": "stderr"
        },
        {
          "output_type": "stream",
          "text": [
            "Episode 19\tCurrent Reward: 1547.00\n",
            "==========\n",
            "Epoch: 20, average reward: 600.150000\n",
            "==========\n"
          ],
          "name": "stdout"
        },
        {
          "output_type": "stream",
          "text": [
            "  2%|▏         | 21/1000 [03:07<1:31:15,  5.59s/it]"
          ],
          "name": "stderr"
        },
        {
          "output_type": "stream",
          "text": [
            "Episode 20\tCurrent Reward: 252.00\n"
          ],
          "name": "stdout"
        },
        {
          "output_type": "stream",
          "text": [
            "  2%|▏         | 22/1000 [03:08<1:11:20,  4.38s/it]"
          ],
          "name": "stderr"
        },
        {
          "output_type": "stream",
          "text": [
            "Episode 21\tCurrent Reward: 247.00\n"
          ],
          "name": "stdout"
        },
        {
          "output_type": "stream",
          "text": [
            "  2%|▏         | 23/1000 [03:27<2:22:55,  8.78s/it]"
          ],
          "name": "stderr"
        },
        {
          "output_type": "stream",
          "text": [
            "Episode 22\tCurrent Reward: 988.00\n"
          ],
          "name": "stdout"
        },
        {
          "output_type": "stream",
          "text": [
            "  2%|▏         | 24/1000 [03:29<1:48:21,  6.66s/it]"
          ],
          "name": "stderr"
        },
        {
          "output_type": "stream",
          "text": [
            "Episode 23\tCurrent Reward: 232.00\n"
          ],
          "name": "stdout"
        },
        {
          "output_type": "stream",
          "text": [
            "  2%|▎         | 25/1000 [03:34<1:39:29,  6.12s/it]"
          ],
          "name": "stderr"
        },
        {
          "output_type": "stream",
          "text": [
            "Episode 24\tCurrent Reward: 580.00\n"
          ],
          "name": "stdout"
        },
        {
          "output_type": "stream",
          "text": [
            "  3%|▎         | 26/1000 [03:45<2:03:33,  7.61s/it]"
          ],
          "name": "stderr"
        },
        {
          "output_type": "stream",
          "text": [
            "Episode 25\tCurrent Reward: 1325.00\n"
          ],
          "name": "stdout"
        },
        {
          "output_type": "stream",
          "text": [
            "  3%|▎         | 27/1000 [03:46<1:34:14,  5.81s/it]"
          ],
          "name": "stderr"
        },
        {
          "output_type": "stream",
          "text": [
            "Episode 26\tCurrent Reward: 243.00\n"
          ],
          "name": "stdout"
        },
        {
          "output_type": "stream",
          "text": [
            "  3%|▎         | 28/1000 [03:59<2:07:09,  7.85s/it]"
          ],
          "name": "stderr"
        },
        {
          "output_type": "stream",
          "text": [
            "Episode 27\tCurrent Reward: 1559.00\n"
          ],
          "name": "stdout"
        },
        {
          "output_type": "stream",
          "text": [
            "  3%|▎         | 29/1000 [04:06<2:01:59,  7.54s/it]"
          ],
          "name": "stderr"
        },
        {
          "output_type": "stream",
          "text": [
            "Episode 28\tCurrent Reward: 637.00\n"
          ],
          "name": "stdout"
        },
        {
          "output_type": "stream",
          "text": [
            "  3%|▎         | 30/1000 [04:11<1:48:57,  6.74s/it]"
          ],
          "name": "stderr"
        },
        {
          "output_type": "stream",
          "text": [
            "Episode 29\tCurrent Reward: 603.00\n"
          ],
          "name": "stdout"
        },
        {
          "output_type": "stream",
          "text": [
            "  3%|▎         | 31/1000 [04:15<1:37:17,  6.02s/it]"
          ],
          "name": "stderr"
        },
        {
          "output_type": "stream",
          "text": [
            "Episode 30\tCurrent Reward: 622.00\n"
          ],
          "name": "stdout"
        },
        {
          "output_type": "stream",
          "text": [
            "  3%|▎         | 32/1000 [04:19<1:26:56,  5.39s/it]"
          ],
          "name": "stderr"
        },
        {
          "output_type": "stream",
          "text": [
            "Episode 31\tCurrent Reward: 636.00\n"
          ],
          "name": "stdout"
        },
        {
          "output_type": "stream",
          "text": [
            "  3%|▎         | 33/1000 [04:25<1:29:53,  5.58s/it]"
          ],
          "name": "stderr"
        },
        {
          "output_type": "stream",
          "text": [
            "Episode 32\tCurrent Reward: 740.00\n"
          ],
          "name": "stdout"
        },
        {
          "output_type": "stream",
          "text": [
            "  3%|▎         | 34/1000 [04:32<1:36:00,  5.96s/it]"
          ],
          "name": "stderr"
        },
        {
          "output_type": "stream",
          "text": [
            "Episode 33\tCurrent Reward: 583.00\n"
          ],
          "name": "stdout"
        },
        {
          "output_type": "stream",
          "text": [
            "  4%|▎         | 35/1000 [04:43<2:00:11,  7.47s/it]"
          ],
          "name": "stderr"
        },
        {
          "output_type": "stream",
          "text": [
            "Episode 34\tCurrent Reward: 733.00\n"
          ],
          "name": "stdout"
        },
        {
          "output_type": "stream",
          "text": [
            "  4%|▎         | 36/1000 [04:59<2:41:22, 10.04s/it]"
          ],
          "name": "stderr"
        },
        {
          "output_type": "stream",
          "text": [
            "Episode 35\tCurrent Reward: 696.00\n"
          ],
          "name": "stdout"
        },
        {
          "output_type": "stream",
          "text": [
            "  4%|▎         | 37/1000 [05:02<2:08:36,  8.01s/it]"
          ],
          "name": "stderr"
        },
        {
          "output_type": "stream",
          "text": [
            "Episode 36\tCurrent Reward: 637.00\n"
          ],
          "name": "stdout"
        },
        {
          "output_type": "stream",
          "text": [
            "  4%|▍         | 38/1000 [05:04<1:37:29,  6.08s/it]"
          ],
          "name": "stderr"
        },
        {
          "output_type": "stream",
          "text": [
            "Episode 37\tCurrent Reward: 247.00\n"
          ],
          "name": "stdout"
        },
        {
          "output_type": "stream",
          "text": [
            "  4%|▍         | 39/1000 [05:05<1:14:30,  4.65s/it]"
          ],
          "name": "stderr"
        },
        {
          "output_type": "stream",
          "text": [
            "Episode 38\tCurrent Reward: 251.00\n"
          ],
          "name": "stdout"
        },
        {
          "output_type": "stream",
          "text": [
            "  4%|▍         | 40/1000 [05:12<1:25:40,  5.35s/it]"
          ],
          "name": "stderr"
        },
        {
          "output_type": "stream",
          "text": [
            "Episode 39\tCurrent Reward: 713.00\n",
            "==========\n",
            "Epoch: 40, average reward: 626.200000\n",
            "==========\n"
          ],
          "name": "stdout"
        },
        {
          "output_type": "stream",
          "text": [
            "  4%|▍         | 41/1000 [05:23<1:50:45,  6.93s/it]"
          ],
          "name": "stderr"
        },
        {
          "output_type": "stream",
          "text": [
            "Episode 40\tCurrent Reward: 757.00\n"
          ],
          "name": "stdout"
        },
        {
          "output_type": "stream",
          "text": [
            "  4%|▍         | 42/1000 [05:24<1:23:56,  5.26s/it]"
          ],
          "name": "stderr"
        },
        {
          "output_type": "stream",
          "text": [
            "Episode 41\tCurrent Reward: 248.00\n"
          ],
          "name": "stdout"
        },
        {
          "output_type": "stream",
          "text": [
            "  4%|▍         | 43/1000 [05:26<1:05:47,  4.12s/it]"
          ],
          "name": "stderr"
        },
        {
          "output_type": "stream",
          "text": [
            "Episode 42\tCurrent Reward: 241.00\n"
          ],
          "name": "stdout"
        },
        {
          "output_type": "stream",
          "text": [
            "  4%|▍         | 44/1000 [05:30<1:06:36,  4.18s/it]"
          ],
          "name": "stderr"
        },
        {
          "output_type": "stream",
          "text": [
            "Episode 43\tCurrent Reward: 602.00\n"
          ],
          "name": "stdout"
        },
        {
          "output_type": "stream",
          "text": [
            "  4%|▍         | 45/1000 [05:31<54:04,  3.40s/it]  "
          ],
          "name": "stderr"
        },
        {
          "output_type": "stream",
          "text": [
            "Episode 44\tCurrent Reward: 249.00\n"
          ],
          "name": "stdout"
        },
        {
          "output_type": "stream",
          "text": [
            "  5%|▍         | 46/1000 [05:52<2:15:56,  8.55s/it]"
          ],
          "name": "stderr"
        },
        {
          "output_type": "stream",
          "text": [
            "Episode 45\tCurrent Reward: 1295.00\n"
          ],
          "name": "stdout"
        },
        {
          "output_type": "stream",
          "text": [
            "  5%|▍         | 47/1000 [05:59<2:07:16,  8.01s/it]"
          ],
          "name": "stderr"
        },
        {
          "output_type": "stream",
          "text": [
            "Episode 46\tCurrent Reward: 732.00\n"
          ],
          "name": "stdout"
        },
        {
          "output_type": "stream",
          "text": [
            "  5%|▍         | 48/1000 [06:11<2:28:11,  9.34s/it]"
          ],
          "name": "stderr"
        },
        {
          "output_type": "stream",
          "text": [
            "Episode 47\tCurrent Reward: 1041.00\n"
          ],
          "name": "stdout"
        },
        {
          "output_type": "stream",
          "text": [
            "  5%|▍         | 49/1000 [06:26<2:52:30, 10.88s/it]"
          ],
          "name": "stderr"
        },
        {
          "output_type": "stream",
          "text": [
            "Episode 48\tCurrent Reward: 1009.00\n"
          ],
          "name": "stdout"
        },
        {
          "output_type": "stream",
          "text": [
            "  5%|▌         | 50/1000 [06:27<2:08:22,  8.11s/it]"
          ],
          "name": "stderr"
        },
        {
          "output_type": "stream",
          "text": [
            "Episode 49\tCurrent Reward: 238.00\n"
          ],
          "name": "stdout"
        },
        {
          "output_type": "stream",
          "text": [
            "  5%|▌         | 51/1000 [06:29<1:36:51,  6.12s/it]"
          ],
          "name": "stderr"
        },
        {
          "output_type": "stream",
          "text": [
            "Episode 50\tCurrent Reward: 236.00\n"
          ],
          "name": "stdout"
        },
        {
          "output_type": "stream",
          "text": [
            "  5%|▌         | 52/1000 [06:30<1:14:14,  4.70s/it]"
          ],
          "name": "stderr"
        },
        {
          "output_type": "stream",
          "text": [
            "Episode 51\tCurrent Reward: 249.00\n"
          ],
          "name": "stdout"
        },
        {
          "output_type": "stream",
          "text": [
            "  5%|▌         | 53/1000 [06:32<58:44,  3.72s/it]  "
          ],
          "name": "stderr"
        },
        {
          "output_type": "stream",
          "text": [
            "Episode 52\tCurrent Reward: 243.00\n"
          ],
          "name": "stdout"
        },
        {
          "output_type": "stream",
          "text": [
            "  5%|▌         | 54/1000 [06:33<48:52,  3.10s/it]"
          ],
          "name": "stderr"
        },
        {
          "output_type": "stream",
          "text": [
            "Episode 53\tCurrent Reward: 239.00\n"
          ],
          "name": "stdout"
        },
        {
          "output_type": "stream",
          "text": [
            "  6%|▌         | 55/1000 [06:40<1:07:14,  4.27s/it]"
          ],
          "name": "stderr"
        },
        {
          "output_type": "stream",
          "text": [
            "Episode 54\tCurrent Reward: 637.00\n"
          ],
          "name": "stdout"
        },
        {
          "output_type": "stream",
          "text": [
            "  6%|▌         | 56/1000 [06:42<53:07,  3.38s/it]  "
          ],
          "name": "stderr"
        },
        {
          "output_type": "stream",
          "text": [
            "Episode 55\tCurrent Reward: 248.00\n"
          ],
          "name": "stdout"
        },
        {
          "output_type": "stream",
          "text": [
            "  6%|▌         | 57/1000 [07:01<2:10:07,  8.28s/it]"
          ],
          "name": "stderr"
        },
        {
          "output_type": "stream",
          "text": [
            "Episode 56\tCurrent Reward: 987.00\n"
          ],
          "name": "stdout"
        },
        {
          "output_type": "stream",
          "text": [
            "  6%|▌         | 58/1000 [07:08<2:04:20,  7.92s/it]"
          ],
          "name": "stderr"
        },
        {
          "output_type": "stream",
          "text": [
            "Episode 57\tCurrent Reward: 637.00\n"
          ],
          "name": "stdout"
        },
        {
          "output_type": "stream",
          "text": [
            "  6%|▌         | 59/1000 [07:15<1:57:47,  7.51s/it]"
          ],
          "name": "stderr"
        },
        {
          "output_type": "stream",
          "text": [
            "Episode 58\tCurrent Reward: 639.00\n"
          ],
          "name": "stdout"
        },
        {
          "output_type": "stream",
          "text": [
            "  6%|▌         | 60/1000 [07:37<3:06:08, 11.88s/it]"
          ],
          "name": "stderr"
        },
        {
          "output_type": "stream",
          "text": [
            "Episode 59\tCurrent Reward: 571.00\n",
            "==========\n",
            "Epoch: 60, average reward: 554.900000\n",
            "==========\n"
          ],
          "name": "stdout"
        },
        {
          "output_type": "stream",
          "text": [
            "  6%|▌         | 61/1000 [07:55<3:35:42, 13.78s/it]"
          ],
          "name": "stderr"
        },
        {
          "output_type": "stream",
          "text": [
            "Episode 60\tCurrent Reward: 992.00\n"
          ],
          "name": "stdout"
        },
        {
          "output_type": "stream",
          "text": [
            "  6%|▌         | 62/1000 [07:57<2:37:59, 10.11s/it]"
          ],
          "name": "stderr"
        },
        {
          "output_type": "stream",
          "text": [
            "Episode 61\tCurrent Reward: 249.00\n"
          ],
          "name": "stdout"
        },
        {
          "output_type": "stream",
          "text": [
            "  6%|▋         | 63/1000 [08:03<2:20:02,  8.97s/it]"
          ],
          "name": "stderr"
        },
        {
          "output_type": "stream",
          "text": [
            "Episode 62\tCurrent Reward: 594.00\n"
          ],
          "name": "stdout"
        },
        {
          "output_type": "stream",
          "text": [
            "  6%|▋         | 64/1000 [08:05<1:46:23,  6.82s/it]"
          ],
          "name": "stderr"
        },
        {
          "output_type": "stream",
          "text": [
            "Episode 63\tCurrent Reward: 227.00\n"
          ],
          "name": "stdout"
        },
        {
          "output_type": "stream",
          "text": [
            "  6%|▋         | 65/1000 [08:09<1:35:14,  6.11s/it]"
          ],
          "name": "stderr"
        },
        {
          "output_type": "stream",
          "text": [
            "Episode 64\tCurrent Reward: 613.00\n"
          ],
          "name": "stdout"
        },
        {
          "output_type": "stream",
          "text": [
            "  7%|▋         | 66/1000 [09:00<5:03:27, 19.49s/it]"
          ],
          "name": "stderr"
        },
        {
          "output_type": "stream",
          "text": [
            "Episode 65\tCurrent Reward: 983.00\n"
          ],
          "name": "stdout"
        },
        {
          "output_type": "stream",
          "text": [
            "  7%|▋         | 67/1000 [09:19<4:59:39, 19.27s/it]"
          ],
          "name": "stderr"
        },
        {
          "output_type": "stream",
          "text": [
            "Episode 66\tCurrent Reward: 596.00\n"
          ],
          "name": "stdout"
        },
        {
          "output_type": "stream",
          "text": [
            "  7%|▋         | 68/1000 [09:37<4:54:14, 18.94s/it]"
          ],
          "name": "stderr"
        },
        {
          "output_type": "stream",
          "text": [
            "Episode 67\tCurrent Reward: 761.00\n"
          ],
          "name": "stdout"
        },
        {
          "output_type": "stream",
          "text": [
            "  7%|▋         | 69/1000 [09:48<4:15:53, 16.49s/it]"
          ],
          "name": "stderr"
        },
        {
          "output_type": "stream",
          "text": [
            "Episode 68\tCurrent Reward: 612.00\n"
          ],
          "name": "stdout"
        },
        {
          "output_type": "stream",
          "text": [
            "  7%|▋         | 70/1000 [10:06<4:22:42, 16.95s/it]"
          ],
          "name": "stderr"
        },
        {
          "output_type": "stream",
          "text": [
            "Episode 69\tCurrent Reward: 772.00\n"
          ],
          "name": "stdout"
        },
        {
          "output_type": "stream",
          "text": [
            "  7%|▋         | 71/1000 [10:30<4:54:14, 19.00s/it]"
          ],
          "name": "stderr"
        },
        {
          "output_type": "stream",
          "text": [
            "Episode 70\tCurrent Reward: 1032.00\n"
          ],
          "name": "stdout"
        },
        {
          "output_type": "stream",
          "text": [
            "  7%|▋         | 72/1000 [10:33<3:41:05, 14.29s/it]"
          ],
          "name": "stderr"
        },
        {
          "output_type": "stream",
          "text": [
            "Episode 71\tCurrent Reward: 249.00\n"
          ],
          "name": "stdout"
        },
        {
          "output_type": "stream",
          "text": [
            "  7%|▋         | 73/1000 [11:01<4:44:28, 18.41s/it]"
          ],
          "name": "stderr"
        },
        {
          "output_type": "stream",
          "text": [
            "Episode 72\tCurrent Reward: 1024.00\n"
          ],
          "name": "stdout"
        },
        {
          "output_type": "stream",
          "text": [
            "  7%|▋         | 74/1000 [11:28<5:25:41, 21.10s/it]"
          ],
          "name": "stderr"
        },
        {
          "output_type": "stream",
          "text": [
            "Episode 73\tCurrent Reward: 1025.00\n"
          ],
          "name": "stdout"
        },
        {
          "output_type": "stream",
          "text": [
            "  8%|▊         | 75/1000 [12:36<9:02:25, 35.18s/it]"
          ],
          "name": "stderr"
        },
        {
          "output_type": "stream",
          "text": [
            "Episode 74\tCurrent Reward: 725.00\n"
          ],
          "name": "stdout"
        },
        {
          "output_type": "stream",
          "text": [
            "  8%|▊         | 76/1000 [12:40<6:35:41, 25.69s/it]"
          ],
          "name": "stderr"
        },
        {
          "output_type": "stream",
          "text": [
            "Episode 75\tCurrent Reward: 245.00\n"
          ],
          "name": "stdout"
        },
        {
          "output_type": "stream",
          "text": [
            "  8%|▊         | 77/1000 [12:48<5:13:53, 20.40s/it]"
          ],
          "name": "stderr"
        },
        {
          "output_type": "stream",
          "text": [
            "Episode 76\tCurrent Reward: 613.00\n"
          ],
          "name": "stdout"
        },
        {
          "output_type": "stream",
          "text": [
            "  8%|▊         | 78/1000 [13:04<4:54:53, 19.19s/it]"
          ],
          "name": "stderr"
        },
        {
          "output_type": "stream",
          "text": [
            "Episode 77\tCurrent Reward: 639.00\n"
          ],
          "name": "stdout"
        },
        {
          "output_type": "stream",
          "text": [
            "  8%|▊         | 79/1000 [13:08<3:44:15, 14.61s/it]"
          ],
          "name": "stderr"
        },
        {
          "output_type": "stream",
          "text": [
            "Episode 78\tCurrent Reward: 252.00\n"
          ],
          "name": "stdout"
        },
        {
          "output_type": "stream",
          "text": [
            "  8%|▊         | 80/1000 [13:19<3:24:44, 13.35s/it]"
          ],
          "name": "stderr"
        },
        {
          "output_type": "stream",
          "text": [
            "Episode 79\tCurrent Reward: 635.00\n",
            "==========\n",
            "Epoch: 80, average reward: 641.900000\n",
            "==========\n"
          ],
          "name": "stdout"
        },
        {
          "output_type": "stream",
          "text": [
            "  8%|▊         | 81/1000 [13:36<3:45:03, 14.69s/it]"
          ],
          "name": "stderr"
        },
        {
          "output_type": "stream",
          "text": [
            "Episode 80\tCurrent Reward: 637.00\n"
          ],
          "name": "stdout"
        },
        {
          "output_type": "stream",
          "text": [
            "  8%|▊         | 82/1000 [13:40<2:54:05, 11.38s/it]"
          ],
          "name": "stderr"
        },
        {
          "output_type": "stream",
          "text": [
            "Episode 81\tCurrent Reward: 250.00\n"
          ],
          "name": "stdout"
        },
        {
          "output_type": "stream",
          "text": [
            "  8%|▊         | 83/1000 [15:24<9:57:03, 39.07s/it]"
          ],
          "name": "stderr"
        },
        {
          "output_type": "stream",
          "text": [
            "Episode 82\tCurrent Reward: 663.00\n"
          ],
          "name": "stdout"
        },
        {
          "output_type": "stream",
          "text": [
            "  8%|▊         | 84/1000 [15:28<7:17:54, 28.68s/it]"
          ],
          "name": "stderr"
        },
        {
          "output_type": "stream",
          "text": [
            "Episode 83\tCurrent Reward: 243.00\n"
          ],
          "name": "stdout"
        },
        {
          "output_type": "stream",
          "text": [
            "  8%|▊         | 85/1000 [15:42<6:07:36, 24.11s/it]"
          ],
          "name": "stderr"
        },
        {
          "output_type": "stream",
          "text": [
            "Episode 84\tCurrent Reward: 606.00\n"
          ],
          "name": "stdout"
        },
        {
          "output_type": "stream",
          "text": [
            "  9%|▊         | 86/1000 [15:58<5:31:00, 21.73s/it]"
          ],
          "name": "stderr"
        },
        {
          "output_type": "stream",
          "text": [
            "Episode 85\tCurrent Reward: 639.00\n"
          ],
          "name": "stdout"
        },
        {
          "output_type": "stream",
          "text": [
            "  9%|▊         | 87/1000 [16:01<4:08:07, 16.31s/it]"
          ],
          "name": "stderr"
        },
        {
          "output_type": "stream",
          "text": [
            "Episode 86\tCurrent Reward: 246.00\n"
          ],
          "name": "stdout"
        },
        {
          "output_type": "stream",
          "text": [
            "  9%|▉         | 88/1000 [17:29<9:31:28, 37.60s/it]"
          ],
          "name": "stderr"
        },
        {
          "output_type": "stream",
          "text": [
            "Episode 87\tCurrent Reward: 920.00\n"
          ],
          "name": "stdout"
        },
        {
          "output_type": "stream",
          "text": [
            "  9%|▉         | 89/1000 [17:45<7:51:53, 31.08s/it]"
          ],
          "name": "stderr"
        },
        {
          "output_type": "stream",
          "text": [
            "Episode 88\tCurrent Reward: 640.00\n"
          ],
          "name": "stdout"
        },
        {
          "output_type": "stream",
          "text": [
            "  9%|▉         | 90/1000 [18:31<9:01:37, 35.71s/it]"
          ],
          "name": "stderr"
        },
        {
          "output_type": "stream",
          "text": [
            "Episode 89\tCurrent Reward: 762.00\n"
          ],
          "name": "stdout"
        },
        {
          "output_type": "stream",
          "text": [
            "  9%|▉         | 91/1000 [19:27<10:33:57, 41.85s/it]"
          ],
          "name": "stderr"
        },
        {
          "output_type": "stream",
          "text": [
            "Episode 90\tCurrent Reward: 746.00\n"
          ],
          "name": "stdout"
        },
        {
          "output_type": "stream",
          "text": [
            "  9%|▉         | 92/1000 [19:44<8:37:51, 34.22s/it] "
          ],
          "name": "stderr"
        },
        {
          "output_type": "stream",
          "text": [
            "Episode 91\tCurrent Reward: 639.00\n"
          ],
          "name": "stdout"
        },
        {
          "output_type": "stream",
          "text": [
            "  9%|▉         | 93/1000 [19:48<6:19:21, 25.10s/it]"
          ],
          "name": "stderr"
        },
        {
          "output_type": "stream",
          "text": [
            "Episode 92\tCurrent Reward: 248.00\n"
          ],
          "name": "stdout"
        },
        {
          "output_type": "stream",
          "text": [
            "  9%|▉         | 94/1000 [20:35<8:00:39, 31.83s/it]"
          ],
          "name": "stderr"
        },
        {
          "output_type": "stream",
          "text": [
            "Episode 93\tCurrent Reward: 1292.00\n"
          ],
          "name": "stdout"
        },
        {
          "output_type": "stream",
          "text": [
            " 10%|▉         | 95/1000 [20:52<6:50:43, 27.23s/it]"
          ],
          "name": "stderr"
        },
        {
          "output_type": "stream",
          "text": [
            "Episode 94\tCurrent Reward: 639.00\n"
          ],
          "name": "stdout"
        },
        {
          "output_type": "stream",
          "text": [
            " 10%|▉         | 96/1000 [21:10<6:09:56, 24.55s/it]"
          ],
          "name": "stderr"
        },
        {
          "output_type": "stream",
          "text": [
            "Episode 95\tCurrent Reward: 759.00\n"
          ],
          "name": "stdout"
        },
        {
          "output_type": "stream",
          "text": [
            " 10%|▉         | 97/1000 [21:22<5:11:12, 20.68s/it]"
          ],
          "name": "stderr"
        },
        {
          "output_type": "stream",
          "text": [
            "Episode 96\tCurrent Reward: 624.00\n"
          ],
          "name": "stdout"
        },
        {
          "output_type": "stream",
          "text": [
            " 10%|▉         | 98/1000 [21:34<4:31:38, 18.07s/it]"
          ],
          "name": "stderr"
        },
        {
          "output_type": "stream",
          "text": [
            "Episode 97\tCurrent Reward: 610.00\n"
          ],
          "name": "stdout"
        },
        {
          "output_type": "stream",
          "text": [
            " 10%|▉         | 99/1000 [22:29<7:20:16, 29.32s/it]"
          ],
          "name": "stderr"
        },
        {
          "output_type": "stream",
          "text": [
            "Episode 98\tCurrent Reward: 979.00\n"
          ],
          "name": "stdout"
        },
        {
          "output_type": "stream",
          "text": [
            " 10%|█         | 100/1000 [22:58<7:19:55, 29.33s/it]"
          ],
          "name": "stderr"
        },
        {
          "output_type": "stream",
          "text": [
            "Episode 99\tCurrent Reward: 1035.00\n",
            "==========\n",
            "Epoch: 100, average reward: 658.850000\n",
            "==========\n"
          ],
          "name": "stdout"
        },
        {
          "output_type": "stream",
          "text": [
            " 10%|█         | 101/1000 [23:11<6:05:20, 24.38s/it]"
          ],
          "name": "stderr"
        },
        {
          "output_type": "stream",
          "text": [
            "Episode 100\tCurrent Reward: 625.00\n"
          ],
          "name": "stdout"
        },
        {
          "output_type": "stream",
          "text": [
            " 10%|█         | 102/1000 [23:15<4:34:06, 18.31s/it]"
          ],
          "name": "stderr"
        },
        {
          "output_type": "stream",
          "text": [
            "Episode 101\tCurrent Reward: 236.00\n"
          ],
          "name": "stdout"
        },
        {
          "output_type": "stream",
          "text": [
            " 10%|█         | 103/1000 [24:08<7:06:05, 28.50s/it]"
          ],
          "name": "stderr"
        },
        {
          "output_type": "stream",
          "text": [
            "Episode 102\tCurrent Reward: 753.00\n"
          ],
          "name": "stdout"
        },
        {
          "output_type": "stream",
          "text": [
            " 10%|█         | 104/1000 [24:12<5:18:52, 21.35s/it]"
          ],
          "name": "stderr"
        },
        {
          "output_type": "stream",
          "text": [
            "Episode 103\tCurrent Reward: 246.00\n"
          ],
          "name": "stdout"
        },
        {
          "output_type": "stream",
          "text": [
            " 10%|█         | 105/1000 [25:43<10:28:37, 42.14s/it]"
          ],
          "name": "stderr"
        },
        {
          "output_type": "stream",
          "text": [
            "Episode 104\tCurrent Reward: 582.00\n"
          ],
          "name": "stdout"
        },
        {
          "output_type": "stream",
          "text": [
            " 11%|█         | 106/1000 [27:09<13:42:03, 55.17s/it]"
          ],
          "name": "stderr"
        },
        {
          "output_type": "stream",
          "text": [
            "Episode 105\tCurrent Reward: 1595.00\n"
          ],
          "name": "stdout"
        },
        {
          "output_type": "stream",
          "text": [
            " 11%|█         | 107/1000 [27:12<9:49:47, 39.63s/it] "
          ],
          "name": "stderr"
        },
        {
          "output_type": "stream",
          "text": [
            "Episode 106\tCurrent Reward: 246.00\n"
          ],
          "name": "stdout"
        },
        {
          "output_type": "stream",
          "text": [
            " 11%|█         | 108/1000 [27:15<7:08:07, 28.80s/it]"
          ],
          "name": "stderr"
        },
        {
          "output_type": "stream",
          "text": [
            "Episode 107\tCurrent Reward: 247.00\n"
          ],
          "name": "stdout"
        },
        {
          "output_type": "stream",
          "text": [
            " 11%|█         | 109/1000 [27:32<6:11:11, 25.00s/it]"
          ],
          "name": "stderr"
        },
        {
          "output_type": "stream",
          "text": [
            "Episode 108\tCurrent Reward: 639.00\n"
          ],
          "name": "stdout"
        },
        {
          "output_type": "stream",
          "text": [
            " 11%|█         | 110/1000 [27:36<4:39:09, 18.82s/it]"
          ],
          "name": "stderr"
        },
        {
          "output_type": "stream",
          "text": [
            "Episode 109\tCurrent Reward: 231.00\n"
          ],
          "name": "stdout"
        },
        {
          "output_type": "stream",
          "text": [
            " 11%|█         | 111/1000 [27:42<3:40:16, 14.87s/it]"
          ],
          "name": "stderr"
        },
        {
          "output_type": "stream",
          "text": [
            "Episode 110\tCurrent Reward: 227.00\n"
          ],
          "name": "stdout"
        },
        {
          "output_type": "stream",
          "text": [
            " 11%|█         | 112/1000 [27:57<3:44:10, 15.15s/it]"
          ],
          "name": "stderr"
        },
        {
          "output_type": "stream",
          "text": [
            "Episode 111\tCurrent Reward: 640.00\n"
          ],
          "name": "stdout"
        },
        {
          "output_type": "stream",
          "text": [
            " 11%|█▏        | 113/1000 [28:29<4:58:04, 20.16s/it]"
          ],
          "name": "stderr"
        },
        {
          "output_type": "stream",
          "text": [
            "Episode 112\tCurrent Reward: 582.00\n"
          ],
          "name": "stdout"
        },
        {
          "output_type": "stream",
          "text": [
            " 11%|█▏        | 114/1000 [28:33<3:44:49, 15.23s/it]"
          ],
          "name": "stderr"
        },
        {
          "output_type": "stream",
          "text": [
            "Episode 113\tCurrent Reward: 245.00\n"
          ],
          "name": "stdout"
        },
        {
          "output_type": "stream",
          "text": [
            " 12%|█▏        | 115/1000 [28:46<3:32:47, 14.43s/it]"
          ],
          "name": "stderr"
        },
        {
          "output_type": "stream",
          "text": [
            "Episode 114\tCurrent Reward: 588.00\n"
          ],
          "name": "stdout"
        },
        {
          "output_type": "stream",
          "text": [
            " 12%|█▏        | 116/1000 [28:49<2:46:00, 11.27s/it]"
          ],
          "name": "stderr"
        },
        {
          "output_type": "stream",
          "text": [
            "Episode 115\tCurrent Reward: 234.00\n"
          ],
          "name": "stdout"
        },
        {
          "output_type": "stream",
          "text": [
            " 12%|█▏        | 117/1000 [30:06<7:32:10, 30.73s/it]"
          ],
          "name": "stderr"
        },
        {
          "output_type": "stream",
          "text": [
            "Episode 116\tCurrent Reward: 1232.00\n"
          ],
          "name": "stdout"
        },
        {
          "output_type": "stream",
          "text": [
            " 12%|█▏        | 118/1000 [30:45<8:09:31, 33.30s/it]"
          ],
          "name": "stderr"
        },
        {
          "output_type": "stream",
          "text": [
            "Episode 117\tCurrent Reward: 774.00\n"
          ],
          "name": "stdout"
        },
        {
          "output_type": "stream",
          "text": [
            " 12%|█▏        | 119/1000 [30:56<6:32:45, 26.75s/it]"
          ],
          "name": "stderr"
        },
        {
          "output_type": "stream",
          "text": [
            "Episode 118\tCurrent Reward: 588.00\n"
          ],
          "name": "stdout"
        },
        {
          "output_type": "stream",
          "text": [
            " 12%|█▏        | 120/1000 [31:30<7:03:08, 28.85s/it]"
          ],
          "name": "stderr"
        },
        {
          "output_type": "stream",
          "text": [
            "Episode 119\tCurrent Reward: 1306.00\n",
            "==========\n",
            "Epoch: 120, average reward: 590.800000\n",
            "==========\n"
          ],
          "name": "stdout"
        },
        {
          "output_type": "stream",
          "text": [
            " 12%|█▏        | 121/1000 [31:36<5:19:45, 21.83s/it]"
          ],
          "name": "stderr"
        },
        {
          "output_type": "stream",
          "text": [
            "Episode 120\tCurrent Reward: 224.00\n"
          ],
          "name": "stdout"
        },
        {
          "output_type": "stream",
          "text": [
            " 12%|█▏        | 122/1000 [31:40<4:05:02, 16.75s/it]"
          ],
          "name": "stderr"
        },
        {
          "output_type": "stream",
          "text": [
            "Episode 121\tCurrent Reward: 232.00\n"
          ],
          "name": "stdout"
        },
        {
          "output_type": "stream",
          "text": [
            " 12%|█▏        | 123/1000 [32:01<4:21:16, 17.88s/it]"
          ],
          "name": "stderr"
        },
        {
          "output_type": "stream",
          "text": [
            "Episode 122\tCurrent Reward: 565.00\n"
          ],
          "name": "stdout"
        },
        {
          "output_type": "stream",
          "text": [
            " 12%|█▏        | 124/1000 [33:33<9:44:24, 40.03s/it]"
          ],
          "name": "stderr"
        },
        {
          "output_type": "stream",
          "text": [
            "Episode 123\tCurrent Reward: 1303.00\n"
          ],
          "name": "stdout"
        },
        {
          "output_type": "stream",
          "text": [
            " 12%|█▎        | 125/1000 [34:13<9:44:24, 40.07s/it]"
          ],
          "name": "stderr"
        },
        {
          "output_type": "stream",
          "text": [
            "Episode 124\tCurrent Reward: 1286.00\n"
          ],
          "name": "stdout"
        },
        {
          "output_type": "stream",
          "text": [
            " 13%|█▎        | 126/1000 [35:19<11:36:10, 47.79s/it]"
          ],
          "name": "stderr"
        },
        {
          "output_type": "stream",
          "text": [
            "Episode 125\tCurrent Reward: 1245.00\n"
          ],
          "name": "stdout"
        },
        {
          "output_type": "stream",
          "text": [
            " 13%|█▎        | 127/1000 [35:34<9:14:16, 38.09s/it] "
          ],
          "name": "stderr"
        },
        {
          "output_type": "stream",
          "text": [
            "Episode 126\tCurrent Reward: 625.00\n"
          ],
          "name": "stdout"
        },
        {
          "output_type": "stream",
          "text": [
            " 13%|█▎        | 128/1000 [36:00<8:22:22, 34.57s/it]"
          ],
          "name": "stderr"
        },
        {
          "output_type": "stream",
          "text": [
            "Episode 127\tCurrent Reward: 784.00\n"
          ],
          "name": "stdout"
        },
        {
          "output_type": "stream",
          "text": [
            " 13%|█▎        | 129/1000 [36:27<7:48:07, 32.25s/it]"
          ],
          "name": "stderr"
        },
        {
          "output_type": "stream",
          "text": [
            "Episode 128\tCurrent Reward: 762.00\n"
          ],
          "name": "stdout"
        },
        {
          "output_type": "stream",
          "text": [
            " 13%|█▎        | 130/1000 [36:42<6:30:57, 26.96s/it]"
          ],
          "name": "stderr"
        },
        {
          "output_type": "stream",
          "text": [
            "Episode 129\tCurrent Reward: 627.00\n"
          ],
          "name": "stdout"
        },
        {
          "output_type": "stream",
          "text": [
            " 13%|█▎        | 131/1000 [36:46<4:51:07, 20.10s/it]"
          ],
          "name": "stderr"
        },
        {
          "output_type": "stream",
          "text": [
            "Episode 130\tCurrent Reward: 233.00\n"
          ],
          "name": "stdout"
        },
        {
          "output_type": "stream",
          "text": [
            " 13%|█▎        | 132/1000 [37:02<4:34:56, 19.01s/it]"
          ],
          "name": "stderr"
        },
        {
          "output_type": "stream",
          "text": [
            "Episode 131\tCurrent Reward: 615.00\n"
          ],
          "name": "stdout"
        },
        {
          "output_type": "stream",
          "text": [
            " 13%|█▎        | 133/1000 [37:23<4:42:42, 19.56s/it]"
          ],
          "name": "stderr"
        },
        {
          "output_type": "stream",
          "text": [
            "Episode 132\tCurrent Reward: 1035.00\n"
          ],
          "name": "stdout"
        },
        {
          "output_type": "stream",
          "text": [
            " 13%|█▎        | 134/1000 [37:28<3:35:45, 14.95s/it]"
          ],
          "name": "stderr"
        },
        {
          "output_type": "stream",
          "text": [
            "Episode 133\tCurrent Reward: 226.00\n"
          ],
          "name": "stdout"
        },
        {
          "output_type": "stream",
          "text": [
            " 14%|█▎        | 135/1000 [37:35<3:03:59, 12.76s/it]"
          ],
          "name": "stderr"
        },
        {
          "output_type": "stream",
          "text": [
            "Episode 134\tCurrent Reward: 240.00\n"
          ],
          "name": "stdout"
        },
        {
          "output_type": "stream",
          "text": [
            " 14%|█▎        | 136/1000 [37:41<2:33:54, 10.69s/it]"
          ],
          "name": "stderr"
        },
        {
          "output_type": "stream",
          "text": [
            "Episode 135\tCurrent Reward: 221.00\n"
          ],
          "name": "stdout"
        },
        {
          "output_type": "stream",
          "text": [
            " 14%|█▎        | 137/1000 [37:48<2:18:06,  9.60s/it]"
          ],
          "name": "stderr"
        },
        {
          "output_type": "stream",
          "text": [
            "Episode 136\tCurrent Reward: 232.00\n"
          ],
          "name": "stdout"
        },
        {
          "output_type": "stream",
          "text": [
            " 14%|█▍        | 138/1000 [38:36<5:03:26, 21.12s/it]"
          ],
          "name": "stderr"
        },
        {
          "output_type": "stream",
          "text": [
            "Episode 137\tCurrent Reward: 754.00\n"
          ],
          "name": "stdout"
        },
        {
          "output_type": "stream",
          "text": [
            " 14%|█▍        | 139/1000 [38:40<3:49:24, 15.99s/it]"
          ],
          "name": "stderr"
        },
        {
          "output_type": "stream",
          "text": [
            "Episode 138\tCurrent Reward: 247.00\n"
          ],
          "name": "stdout"
        },
        {
          "output_type": "stream",
          "text": [
            " 14%|█▍        | 140/1000 [38:50<3:21:57, 14.09s/it]"
          ],
          "name": "stderr"
        },
        {
          "output_type": "stream",
          "text": [
            "Episode 139\tCurrent Reward: 601.00\n",
            "==========\n",
            "Epoch: 140, average reward: 602.850000\n",
            "==========\n"
          ],
          "name": "stdout"
        },
        {
          "output_type": "stream",
          "text": [
            " 14%|█▍        | 141/1000 [39:48<6:30:40, 27.29s/it]"
          ],
          "name": "stderr"
        },
        {
          "output_type": "stream",
          "text": [
            "Episode 140\tCurrent Reward: 1252.00\n"
          ],
          "name": "stdout"
        },
        {
          "output_type": "stream",
          "text": [
            " 14%|█▍        | 142/1000 [40:12<6:15:29, 26.26s/it]"
          ],
          "name": "stderr"
        },
        {
          "output_type": "stream",
          "text": [
            "Episode 141\tCurrent Reward: 623.00\n"
          ],
          "name": "stdout"
        },
        {
          "output_type": "stream",
          "text": [
            " 14%|█▍        | 143/1000 [40:30<5:39:38, 23.78s/it]"
          ],
          "name": "stderr"
        },
        {
          "output_type": "stream",
          "text": [
            "Episode 142\tCurrent Reward: 794.00\n"
          ],
          "name": "stdout"
        },
        {
          "output_type": "stream",
          "text": [
            " 14%|█▍        | 144/1000 [40:34<4:15:06, 17.88s/it]"
          ],
          "name": "stderr"
        },
        {
          "output_type": "stream",
          "text": [
            "Episode 143\tCurrent Reward: 228.00\n"
          ],
          "name": "stdout"
        },
        {
          "output_type": "stream",
          "text": [
            " 14%|█▍        | 145/1000 [40:46<3:51:49, 16.27s/it]"
          ],
          "name": "stderr"
        },
        {
          "output_type": "stream",
          "text": [
            "Episode 144\tCurrent Reward: 582.00\n"
          ],
          "name": "stdout"
        },
        {
          "output_type": "stream",
          "text": [
            " 15%|█▍        | 146/1000 [40:55<3:20:32, 14.09s/it]"
          ],
          "name": "stderr"
        },
        {
          "output_type": "stream",
          "text": [
            "Episode 145\tCurrent Reward: 626.00\n"
          ],
          "name": "stdout"
        },
        {
          "output_type": "stream",
          "text": [
            " 15%|█▍        | 147/1000 [41:16<3:47:19, 15.99s/it]"
          ],
          "name": "stderr"
        },
        {
          "output_type": "stream",
          "text": [
            "Episode 146\tCurrent Reward: 806.00\n"
          ],
          "name": "stdout"
        },
        {
          "output_type": "stream",
          "text": [
            " 15%|█▍        | 148/1000 [41:32<3:47:28, 16.02s/it]"
          ],
          "name": "stderr"
        },
        {
          "output_type": "stream",
          "text": [
            "Episode 147\tCurrent Reward: 638.00\n"
          ],
          "name": "stdout"
        },
        {
          "output_type": "stream",
          "text": [
            " 15%|█▍        | 149/1000 [41:59<4:36:08, 19.47s/it]"
          ],
          "name": "stderr"
        },
        {
          "output_type": "stream",
          "text": [
            "Episode 148\tCurrent Reward: 793.00\n"
          ],
          "name": "stdout"
        },
        {
          "output_type": "stream",
          "text": [
            " 15%|█▌        | 150/1000 [42:03<3:30:23, 14.85s/it]"
          ],
          "name": "stderr"
        },
        {
          "output_type": "stream",
          "text": [
            "Episode 149\tCurrent Reward: 246.00\n"
          ],
          "name": "stdout"
        },
        {
          "output_type": "stream",
          "text": [
            " 15%|█▌        | 151/1000 [42:07<2:43:19, 11.54s/it]"
          ],
          "name": "stderr"
        },
        {
          "output_type": "stream",
          "text": [
            "Episode 150\tCurrent Reward: 247.00\n"
          ],
          "name": "stdout"
        },
        {
          "output_type": "stream",
          "text": [
            " 15%|█▌        | 152/1000 [42:11<2:09:45,  9.18s/it]"
          ],
          "name": "stderr"
        },
        {
          "output_type": "stream",
          "text": [
            "Episode 151\tCurrent Reward: 248.00\n"
          ],
          "name": "stdout"
        },
        {
          "output_type": "stream",
          "text": [
            " 15%|█▌        | 153/1000 [42:21<2:15:06,  9.57s/it]"
          ],
          "name": "stderr"
        },
        {
          "output_type": "stream",
          "text": [
            "Episode 152\tCurrent Reward: 608.00\n"
          ],
          "name": "stdout"
        },
        {
          "output_type": "stream",
          "text": [
            " 15%|█▌        | 154/1000 [42:32<2:19:22,  9.89s/it]"
          ],
          "name": "stderr"
        },
        {
          "output_type": "stream",
          "text": [
            "Episode 153\tCurrent Reward: 633.00\n"
          ],
          "name": "stdout"
        },
        {
          "output_type": "stream",
          "text": [
            " 16%|█▌        | 155/1000 [43:43<6:36:37, 28.16s/it]"
          ],
          "name": "stderr"
        },
        {
          "output_type": "stream",
          "text": [
            "Episode 154\tCurrent Reward: 1219.00\n"
          ],
          "name": "stdout"
        },
        {
          "output_type": "stream",
          "text": [
            " 16%|█▌        | 156/1000 [44:05<6:11:48, 26.43s/it]"
          ],
          "name": "stderr"
        },
        {
          "output_type": "stream",
          "text": [
            "Episode 155\tCurrent Reward: 724.00\n"
          ],
          "name": "stdout"
        },
        {
          "output_type": "stream",
          "text": [
            " 16%|█▌        | 157/1000 [44:24<5:37:07, 24.00s/it]"
          ],
          "name": "stderr"
        },
        {
          "output_type": "stream",
          "text": [
            "Episode 156\tCurrent Reward: 587.00\n"
          ],
          "name": "stdout"
        },
        {
          "output_type": "stream",
          "text": [
            " 16%|█▌        | 158/1000 [44:30<4:22:03, 18.67s/it]"
          ],
          "name": "stderr"
        },
        {
          "output_type": "stream",
          "text": [
            "Episode 157\tCurrent Reward: 243.00\n"
          ],
          "name": "stdout"
        },
        {
          "output_type": "stream",
          "text": [
            " 16%|█▌        | 159/1000 [44:37<3:33:26, 15.23s/it]"
          ],
          "name": "stderr"
        },
        {
          "output_type": "stream",
          "text": [
            "Episode 158\tCurrent Reward: 198.00\n"
          ],
          "name": "stdout"
        },
        {
          "output_type": "stream",
          "text": [
            " 16%|█▌        | 160/1000 [44:41<2:46:25, 11.89s/it]"
          ],
          "name": "stderr"
        },
        {
          "output_type": "stream",
          "text": [
            "Episode 159\tCurrent Reward: 247.00\n",
            "==========\n",
            "Epoch: 160, average reward: 577.100000\n",
            "==========\n"
          ],
          "name": "stdout"
        },
        {
          "output_type": "stream",
          "text": [
            " 16%|█▌        | 161/1000 [44:45<2:12:15,  9.46s/it]"
          ],
          "name": "stderr"
        },
        {
          "output_type": "stream",
          "text": [
            "Episode 160\tCurrent Reward: 244.00\n"
          ],
          "name": "stdout"
        },
        {
          "output_type": "stream",
          "text": [
            " 16%|█▌        | 162/1000 [45:09<3:15:03, 13.97s/it]"
          ],
          "name": "stderr"
        },
        {
          "output_type": "stream",
          "text": [
            "Episode 161\tCurrent Reward: 1025.00\n"
          ],
          "name": "stdout"
        },
        {
          "output_type": "stream",
          "text": [
            " 16%|█▋        | 163/1000 [45:27<3:28:23, 14.94s/it]"
          ],
          "name": "stderr"
        },
        {
          "output_type": "stream",
          "text": [
            "Episode 162\tCurrent Reward: 636.00\n"
          ],
          "name": "stdout"
        },
        {
          "output_type": "stream",
          "text": [
            " 16%|█▋        | 164/1000 [45:46<3:47:31, 16.33s/it]"
          ],
          "name": "stderr"
        },
        {
          "output_type": "stream",
          "text": [
            "Episode 163\tCurrent Reward: 631.00\n"
          ],
          "name": "stdout"
        },
        {
          "output_type": "stream",
          "text": [
            " 16%|█▋        | 165/1000 [47:14<8:44:12, 37.67s/it]"
          ],
          "name": "stderr"
        },
        {
          "output_type": "stream",
          "text": [
            "Episode 164\tCurrent Reward: 652.00\n"
          ],
          "name": "stdout"
        },
        {
          "output_type": "stream",
          "text": [
            " 17%|█▋        | 166/1000 [47:28<7:07:30, 30.76s/it]"
          ],
          "name": "stderr"
        },
        {
          "output_type": "stream",
          "text": [
            "Episode 165\tCurrent Reward: 613.00\n"
          ],
          "name": "stdout"
        },
        {
          "output_type": "stream",
          "text": [
            " 17%|█▋        | 167/1000 [48:14<8:11:13, 35.38s/it]"
          ],
          "name": "stderr"
        },
        {
          "output_type": "stream",
          "text": [
            "Episode 166\tCurrent Reward: 739.00\n"
          ],
          "name": "stdout"
        },
        {
          "output_type": "stream",
          "text": [
            " 17%|█▋        | 168/1000 [49:29<10:55:08, 47.25s/it]"
          ],
          "name": "stderr"
        },
        {
          "output_type": "stream",
          "text": [
            "Episode 167\tCurrent Reward: 661.00\n"
          ],
          "name": "stdout"
        },
        {
          "output_type": "stream",
          "text": [
            " 17%|█▋        | 169/1000 [49:45<8:42:11, 37.70s/it] "
          ],
          "name": "stderr"
        },
        {
          "output_type": "stream",
          "text": [
            "Episode 168\tCurrent Reward: 1004.00\n"
          ],
          "name": "stdout"
        },
        {
          "output_type": "stream",
          "text": [
            " 17%|█▋        | 170/1000 [50:08<7:39:47, 33.24s/it]"
          ],
          "name": "stderr"
        },
        {
          "output_type": "stream",
          "text": [
            "Episode 169\tCurrent Reward: 651.00\n"
          ],
          "name": "stdout"
        },
        {
          "output_type": "stream",
          "text": [
            " 17%|█▋        | 171/1000 [50:17<6:00:31, 26.09s/it]"
          ],
          "name": "stderr"
        },
        {
          "output_type": "stream",
          "text": [
            "Episode 170\tCurrent Reward: 626.00\n"
          ],
          "name": "stdout"
        },
        {
          "output_type": "stream",
          "text": [
            " 17%|█▋        | 172/1000 [50:19<4:19:02, 18.77s/it]"
          ],
          "name": "stderr"
        },
        {
          "output_type": "stream",
          "text": [
            "Episode 171\tCurrent Reward: 238.00\n"
          ],
          "name": "stdout"
        },
        {
          "output_type": "stream",
          "text": [
            " 17%|█▋        | 173/1000 [50:20<3:07:18, 13.59s/it]"
          ],
          "name": "stderr"
        },
        {
          "output_type": "stream",
          "text": [
            "Episode 172\tCurrent Reward: 248.00\n"
          ],
          "name": "stdout"
        },
        {
          "output_type": "stream",
          "text": [
            " 17%|█▋        | 174/1000 [50:22<2:18:50, 10.09s/it]"
          ],
          "name": "stderr"
        },
        {
          "output_type": "stream",
          "text": [
            "Episode 173\tCurrent Reward: 241.00\n"
          ],
          "name": "stdout"
        },
        {
          "output_type": "stream",
          "text": [
            " 18%|█▊        | 175/1000 [50:24<1:46:22,  7.74s/it]"
          ],
          "name": "stderr"
        },
        {
          "output_type": "stream",
          "text": [
            "Episode 174\tCurrent Reward: 241.00\n"
          ],
          "name": "stdout"
        },
        {
          "output_type": "stream",
          "text": [
            " 18%|█▊        | 176/1000 [50:26<1:19:45,  5.81s/it]"
          ],
          "name": "stderr"
        },
        {
          "output_type": "stream",
          "text": [
            "Episode 175\tCurrent Reward: 252.00\n"
          ],
          "name": "stdout"
        },
        {
          "output_type": "stream",
          "text": [
            " 18%|█▊        | 177/1000 [50:43<2:05:59,  9.19s/it]"
          ],
          "name": "stderr"
        },
        {
          "output_type": "stream",
          "text": [
            "Episode 176\tCurrent Reward: 996.00\n"
          ],
          "name": "stdout"
        },
        {
          "output_type": "stream",
          "text": [
            " 18%|█▊        | 178/1000 [50:54<2:16:23,  9.96s/it]"
          ],
          "name": "stderr"
        },
        {
          "output_type": "stream",
          "text": [
            "Episode 177\tCurrent Reward: 1315.00\n"
          ],
          "name": "stdout"
        },
        {
          "output_type": "stream",
          "text": [
            " 18%|█▊        | 179/1000 [50:56<1:41:44,  7.44s/it]"
          ],
          "name": "stderr"
        },
        {
          "output_type": "stream",
          "text": [
            "Episode 178\tCurrent Reward: 247.00\n"
          ],
          "name": "stdout"
        },
        {
          "output_type": "stream",
          "text": [
            " 18%|█▊        | 180/1000 [51:05<1:46:51,  7.82s/it]"
          ],
          "name": "stderr"
        },
        {
          "output_type": "stream",
          "text": [
            "Episode 179\tCurrent Reward: 576.00\n",
            "==========\n",
            "Epoch: 180, average reward: 591.800000\n",
            "==========\n"
          ],
          "name": "stdout"
        },
        {
          "output_type": "stream",
          "text": [
            " 18%|█▊        | 181/1000 [51:14<1:53:05,  8.29s/it]"
          ],
          "name": "stderr"
        },
        {
          "output_type": "stream",
          "text": [
            "Episode 180\tCurrent Reward: 586.00\n"
          ],
          "name": "stdout"
        },
        {
          "output_type": "stream",
          "text": [
            " 18%|█▊        | 182/1000 [51:50<3:44:28, 16.47s/it]"
          ],
          "name": "stderr"
        },
        {
          "output_type": "stream",
          "text": [
            "Episode 181\tCurrent Reward: 1119.00\n"
          ],
          "name": "stdout"
        },
        {
          "output_type": "stream",
          "text": [
            " 18%|█▊        | 183/1000 [51:53<2:50:00, 12.49s/it]"
          ],
          "name": "stderr"
        },
        {
          "output_type": "stream",
          "text": [
            "Episode 182\tCurrent Reward: 242.00\n"
          ],
          "name": "stdout"
        },
        {
          "output_type": "stream",
          "text": [
            " 18%|█▊        | 184/1000 [52:30<4:31:02, 19.93s/it]"
          ],
          "name": "stderr"
        },
        {
          "output_type": "stream",
          "text": [
            "Episode 183\tCurrent Reward: 1290.00\n"
          ],
          "name": "stdout"
        },
        {
          "output_type": "stream",
          "text": [
            " 18%|█▊        | 185/1000 [52:47<4:17:42, 18.97s/it]"
          ],
          "name": "stderr"
        },
        {
          "output_type": "stream",
          "text": [
            "Episode 184\tCurrent Reward: 637.00\n"
          ],
          "name": "stdout"
        },
        {
          "output_type": "stream",
          "text": [
            " 19%|█▊        | 186/1000 [53:06<4:17:28, 18.98s/it]"
          ],
          "name": "stderr"
        },
        {
          "output_type": "stream",
          "text": [
            "Episode 185\tCurrent Reward: 808.00\n"
          ],
          "name": "stdout"
        },
        {
          "output_type": "stream",
          "text": [
            " 19%|█▊        | 187/1000 [53:10<3:18:17, 14.63s/it]"
          ],
          "name": "stderr"
        },
        {
          "output_type": "stream",
          "text": [
            "Episode 186\tCurrent Reward: 248.00\n"
          ],
          "name": "stdout"
        },
        {
          "output_type": "stream",
          "text": [
            " 19%|█▉        | 188/1000 [53:15<2:36:11, 11.54s/it]"
          ],
          "name": "stderr"
        },
        {
          "output_type": "stream",
          "text": [
            "Episode 187\tCurrent Reward: 233.00\n"
          ],
          "name": "stdout"
        },
        {
          "output_type": "stream",
          "text": [
            " 19%|█▉        | 189/1000 [53:27<2:40:24, 11.87s/it]"
          ],
          "name": "stderr"
        },
        {
          "output_type": "stream",
          "text": [
            "Episode 188\tCurrent Reward: 591.00\n"
          ],
          "name": "stdout"
        },
        {
          "output_type": "stream",
          "text": [
            " 19%|█▉        | 190/1000 [54:17<5:13:14, 23.20s/it]"
          ],
          "name": "stderr"
        },
        {
          "output_type": "stream",
          "text": [
            "Episode 189\tCurrent Reward: 1248.00\n"
          ],
          "name": "stdout"
        },
        {
          "output_type": "stream",
          "text": [
            " 19%|█▉        | 191/1000 [56:29<12:31:55, 55.77s/it]"
          ],
          "name": "stderr"
        },
        {
          "output_type": "stream",
          "text": [
            "Episode 190\tCurrent Reward: 1139.00\n"
          ],
          "name": "stdout"
        },
        {
          "output_type": "stream",
          "text": [
            " 19%|█▉        | 192/1000 [56:54<10:26:14, 46.50s/it]"
          ],
          "name": "stderr"
        },
        {
          "output_type": "stream",
          "text": [
            "Episode 191\tCurrent Reward: 604.00\n"
          ],
          "name": "stdout"
        },
        {
          "output_type": "stream",
          "text": [
            " 19%|█▉        | 193/1000 [57:30<9:46:23, 43.60s/it] "
          ],
          "name": "stderr"
        },
        {
          "output_type": "stream",
          "text": [
            "Episode 192\tCurrent Reward: 716.00\n"
          ],
          "name": "stdout"
        },
        {
          "output_type": "stream",
          "text": [
            " 19%|█▉        | 194/1000 [57:53<8:21:56, 37.37s/it]"
          ],
          "name": "stderr"
        },
        {
          "output_type": "stream",
          "text": [
            "Episode 193\tCurrent Reward: 1332.00\n"
          ],
          "name": "stdout"
        },
        {
          "output_type": "stream",
          "text": [
            " 20%|█▉        | 195/1000 [58:18<7:31:57, 33.69s/it]"
          ],
          "name": "stderr"
        },
        {
          "output_type": "stream",
          "text": [
            "Episode 194\tCurrent Reward: 1049.00\n"
          ],
          "name": "stdout"
        },
        {
          "output_type": "stream",
          "text": [
            " 20%|█▉        | 196/1000 [58:22<5:29:14, 24.57s/it]"
          ],
          "name": "stderr"
        },
        {
          "output_type": "stream",
          "text": [
            "Episode 195\tCurrent Reward: 239.00\n"
          ],
          "name": "stdout"
        },
        {
          "output_type": "stream",
          "text": [
            " 20%|█▉        | 197/1000 [58:25<4:04:28, 18.27s/it]"
          ],
          "name": "stderr"
        },
        {
          "output_type": "stream",
          "text": [
            "Episode 196\tCurrent Reward: 241.00\n"
          ],
          "name": "stdout"
        },
        {
          "output_type": "stream",
          "text": [
            " 20%|█▉        | 198/1000 [59:07<5:39:27, 25.40s/it]"
          ],
          "name": "stderr"
        },
        {
          "output_type": "stream",
          "text": [
            "Episode 197\tCurrent Reward: 1274.00\n"
          ],
          "name": "stdout"
        },
        {
          "output_type": "stream",
          "text": [
            " 20%|█▉        | 199/1000 [59:28<5:19:45, 23.95s/it]"
          ],
          "name": "stderr"
        },
        {
          "output_type": "stream",
          "text": [
            "Episode 198\tCurrent Reward: 630.00\n"
          ],
          "name": "stdout"
        },
        {
          "output_type": "stream",
          "text": [
            " 20%|██        | 200/1000 [59:44<4:47:17, 21.55s/it]"
          ],
          "name": "stderr"
        },
        {
          "output_type": "stream",
          "text": [
            "Episode 199\tCurrent Reward: 638.00\n",
            "==========\n",
            "Epoch: 200, average reward: 743.200000\n",
            "==========\n"
          ],
          "name": "stdout"
        },
        {
          "output_type": "stream",
          "text": [
            " 20%|██        | 201/1000 [59:49<3:41:21, 16.62s/it]"
          ],
          "name": "stderr"
        },
        {
          "output_type": "stream",
          "text": [
            "Episode 200\tCurrent Reward: 217.00\n"
          ],
          "name": "stdout"
        },
        {
          "output_type": "stream",
          "text": [
            " 20%|██        | 202/1000 [1:00:11<4:02:46, 18.25s/it]"
          ],
          "name": "stderr"
        },
        {
          "output_type": "stream",
          "text": [
            "Episode 201\tCurrent Reward: 627.00\n"
          ],
          "name": "stdout"
        },
        {
          "output_type": "stream",
          "text": [
            " 20%|██        | 203/1000 [1:00:18<3:17:29, 14.87s/it]"
          ],
          "name": "stderr"
        },
        {
          "output_type": "stream",
          "text": [
            "Episode 202\tCurrent Reward: 188.00\n"
          ],
          "name": "stdout"
        },
        {
          "output_type": "stream",
          "text": [
            " 20%|██        | 204/1000 [1:00:22<2:35:22, 11.71s/it]"
          ],
          "name": "stderr"
        },
        {
          "output_type": "stream",
          "text": [
            "Episode 203\tCurrent Reward: 245.00\n"
          ],
          "name": "stdout"
        },
        {
          "output_type": "stream",
          "text": [
            " 20%|██        | 205/1000 [1:01:16<5:20:56, 24.22s/it]"
          ],
          "name": "stderr"
        },
        {
          "output_type": "stream",
          "text": [
            "Episode 204\tCurrent Reward: 568.00\n"
          ],
          "name": "stdout"
        },
        {
          "output_type": "stream",
          "text": [
            " 21%|██        | 206/1000 [1:04:53<18:06:43, 82.12s/it]"
          ],
          "name": "stderr"
        },
        {
          "output_type": "stream",
          "text": [
            "Episode 205\tCurrent Reward: 443.00\n"
          ],
          "name": "stdout"
        },
        {
          "output_type": "stream",
          "text": [
            " 21%|██        | 207/1000 [1:05:17<14:14:11, 64.63s/it]"
          ],
          "name": "stderr"
        },
        {
          "output_type": "stream",
          "text": [
            "Episode 206\tCurrent Reward: 1326.00\n"
          ],
          "name": "stdout"
        },
        {
          "output_type": "stream",
          "text": [
            " 21%|██        | 208/1000 [1:05:28<10:43:04, 48.72s/it]"
          ],
          "name": "stderr"
        },
        {
          "output_type": "stream",
          "text": [
            "Episode 207\tCurrent Reward: 588.00\n"
          ],
          "name": "stdout"
        },
        {
          "output_type": "stream",
          "text": [
            " 21%|██        | 209/1000 [1:05:33<7:47:29, 35.46s/it] "
          ],
          "name": "stderr"
        },
        {
          "output_type": "stream",
          "text": [
            "Episode 208\tCurrent Reward: 247.00\n"
          ],
          "name": "stdout"
        },
        {
          "output_type": "stream",
          "text": [
            " 21%|██        | 210/1000 [1:06:22<8:41:44, 39.63s/it]"
          ],
          "name": "stderr"
        },
        {
          "output_type": "stream",
          "text": [
            "Episode 209\tCurrent Reward: 980.00\n"
          ],
          "name": "stdout"
        },
        {
          "output_type": "stream",
          "text": [
            " 21%|██        | 211/1000 [1:07:30<10:33:17, 48.16s/it]"
          ],
          "name": "stderr"
        },
        {
          "output_type": "stream",
          "text": [
            "Episode 210\tCurrent Reward: 657.00\n"
          ],
          "name": "stdout"
        },
        {
          "output_type": "stream",
          "text": [
            " 21%|██        | 212/1000 [1:07:36<7:45:54, 35.48s/it] "
          ],
          "name": "stderr"
        },
        {
          "output_type": "stream",
          "text": [
            "Episode 211\tCurrent Reward: 247.00\n"
          ],
          "name": "stdout"
        },
        {
          "output_type": "stream",
          "text": [
            " 21%|██▏       | 213/1000 [1:07:39<5:38:44, 25.83s/it]"
          ],
          "name": "stderr"
        },
        {
          "output_type": "stream",
          "text": [
            "Episode 212\tCurrent Reward: 250.00\n"
          ],
          "name": "stdout"
        },
        {
          "output_type": "stream",
          "text": [
            " 21%|██▏       | 214/1000 [1:07:53<4:50:11, 22.15s/it]"
          ],
          "name": "stderr"
        },
        {
          "output_type": "stream",
          "text": [
            "Episode 213\tCurrent Reward: 584.00\n"
          ],
          "name": "stdout"
        },
        {
          "output_type": "stream",
          "text": [
            " 22%|██▏       | 215/1000 [1:07:56<3:35:54, 16.50s/it]"
          ],
          "name": "stderr"
        },
        {
          "output_type": "stream",
          "text": [
            "Episode 214\tCurrent Reward: 248.00\n"
          ],
          "name": "stdout"
        },
        {
          "output_type": "stream",
          "text": [
            " 22%|██▏       | 216/1000 [1:09:30<8:36:53, 39.56s/it]"
          ],
          "name": "stderr"
        },
        {
          "output_type": "stream",
          "text": [
            "Episode 215\tCurrent Reward: 898.00\n"
          ],
          "name": "stdout"
        },
        {
          "output_type": "stream",
          "text": [
            " 22%|██▏       | 217/1000 [1:11:28<13:42:45, 63.05s/it]"
          ],
          "name": "stderr"
        },
        {
          "output_type": "stream",
          "text": [
            "Episode 216\tCurrent Reward: 2901.00\n"
          ],
          "name": "stdout"
        },
        {
          "output_type": "stream",
          "text": [
            " 22%|██▏       | 218/1000 [1:11:46<10:46:07, 49.57s/it]"
          ],
          "name": "stderr"
        },
        {
          "output_type": "stream",
          "text": [
            "Episode 217\tCurrent Reward: 1047.00\n"
          ],
          "name": "stdout"
        },
        {
          "output_type": "stream",
          "text": [
            " 22%|██▏       | 219/1000 [1:11:59<8:23:54, 38.71s/it] "
          ],
          "name": "stderr"
        },
        {
          "output_type": "stream",
          "text": [
            "Episode 218\tCurrent Reward: 591.00\n"
          ],
          "name": "stdout"
        },
        {
          "output_type": "stream",
          "text": [
            " 22%|██▏       | 220/1000 [1:12:08<6:28:27, 29.88s/it]"
          ],
          "name": "stderr"
        },
        {
          "output_type": "stream",
          "text": [
            "Episode 219\tCurrent Reward: 614.00\n",
            "==========\n",
            "Epoch: 220, average reward: 673.300000\n",
            "==========\n"
          ],
          "name": "stdout"
        },
        {
          "output_type": "stream",
          "text": [
            " 22%|██▏       | 221/1000 [1:12:12<4:44:16, 21.89s/it]"
          ],
          "name": "stderr"
        },
        {
          "output_type": "stream",
          "text": [
            "Episode 220\tCurrent Reward: 250.00\n"
          ],
          "name": "stdout"
        },
        {
          "output_type": "stream",
          "text": [
            " 22%|██▏       | 222/1000 [1:12:39<5:05:35, 23.57s/it]"
          ],
          "name": "stderr"
        },
        {
          "output_type": "stream",
          "text": [
            "Episode 221\tCurrent Reward: 728.00\n"
          ],
          "name": "stdout"
        },
        {
          "output_type": "stream",
          "text": [
            " 22%|██▏       | 223/1000 [1:13:09<5:27:54, 25.32s/it]"
          ],
          "name": "stderr"
        },
        {
          "output_type": "stream",
          "text": [
            "Episode 222\tCurrent Reward: 1016.00\n"
          ],
          "name": "stdout"
        },
        {
          "output_type": "stream",
          "text": [
            " 22%|██▏       | 224/1000 [1:13:35<5:30:55, 25.59s/it]"
          ],
          "name": "stderr"
        },
        {
          "output_type": "stream",
          "text": [
            "Episode 223\tCurrent Reward: 795.00\n"
          ],
          "name": "stdout"
        },
        {
          "output_type": "stream",
          "text": [
            " 22%|██▎       | 225/1000 [1:13:43<4:22:01, 20.29s/it]"
          ],
          "name": "stderr"
        },
        {
          "output_type": "stream",
          "text": [
            "Episode 224\tCurrent Reward: 610.00\n"
          ],
          "name": "stdout"
        },
        {
          "output_type": "stream",
          "text": [
            " 23%|██▎       | 226/1000 [1:15:29<9:53:47, 46.03s/it]"
          ],
          "name": "stderr"
        },
        {
          "output_type": "stream",
          "text": [
            "Episode 225\tCurrent Reward: 875.00\n"
          ],
          "name": "stdout"
        },
        {
          "output_type": "stream",
          "text": [
            " 23%|██▎       | 227/1000 [1:15:40<7:37:54, 35.54s/it]"
          ],
          "name": "stderr"
        },
        {
          "output_type": "stream",
          "text": [
            "Episode 226\tCurrent Reward: 634.00\n"
          ],
          "name": "stdout"
        },
        {
          "output_type": "stream",
          "text": [
            " 23%|██▎       | 228/1000 [1:15:44<5:34:53, 26.03s/it]"
          ],
          "name": "stderr"
        },
        {
          "output_type": "stream",
          "text": [
            "Episode 227\tCurrent Reward: 233.00\n"
          ],
          "name": "stdout"
        },
        {
          "output_type": "stream",
          "text": [
            " 23%|██▎       | 229/1000 [1:16:05<5:16:37, 24.64s/it]"
          ],
          "name": "stderr"
        },
        {
          "output_type": "stream",
          "text": [
            "Episode 228\tCurrent Reward: 628.00\n"
          ],
          "name": "stdout"
        },
        {
          "output_type": "stream",
          "text": [
            " 23%|██▎       | 230/1000 [1:16:47<6:21:28, 29.72s/it]"
          ],
          "name": "stderr"
        },
        {
          "output_type": "stream",
          "text": [
            "Episode 229\tCurrent Reward: 700.00\n"
          ],
          "name": "stdout"
        },
        {
          "output_type": "stream",
          "text": [
            " 23%|██▎       | 231/1000 [1:16:50<4:38:52, 21.76s/it]"
          ],
          "name": "stderr"
        },
        {
          "output_type": "stream",
          "text": [
            "Episode 230\tCurrent Reward: 249.00\n"
          ],
          "name": "stdout"
        },
        {
          "output_type": "stream",
          "text": [
            " 23%|██▎       | 232/1000 [1:17:11<4:37:34, 21.69s/it]"
          ],
          "name": "stderr"
        },
        {
          "output_type": "stream",
          "text": [
            "Episode 231\tCurrent Reward: 613.00\n"
          ],
          "name": "stdout"
        },
        {
          "output_type": "stream",
          "text": [
            " 23%|██▎       | 233/1000 [1:18:08<6:52:15, 32.25s/it]"
          ],
          "name": "stderr"
        },
        {
          "output_type": "stream",
          "text": [
            "Episode 232\tCurrent Reward: 965.00\n"
          ],
          "name": "stdout"
        },
        {
          "output_type": "stream",
          "text": [
            " 23%|██▎       | 234/1000 [1:18:11<5:00:11, 23.51s/it]"
          ],
          "name": "stderr"
        },
        {
          "output_type": "stream",
          "text": [
            "Episode 233\tCurrent Reward: 248.00\n"
          ],
          "name": "stdout"
        },
        {
          "output_type": "stream",
          "text": [
            " 24%|██▎       | 235/1000 [1:18:26<4:26:18, 20.89s/it]"
          ],
          "name": "stderr"
        },
        {
          "output_type": "stream",
          "text": [
            "Episode 234\tCurrent Reward: 780.00\n"
          ],
          "name": "stdout"
        },
        {
          "output_type": "stream",
          "text": [
            " 24%|██▎       | 236/1000 [1:18:30<3:20:45, 15.77s/it]"
          ],
          "name": "stderr"
        },
        {
          "output_type": "stream",
          "text": [
            "Episode 235\tCurrent Reward: 238.00\n"
          ],
          "name": "stdout"
        },
        {
          "output_type": "stream",
          "text": [
            " 24%|██▎       | 237/1000 [1:18:33<2:33:28, 12.07s/it]"
          ],
          "name": "stderr"
        },
        {
          "output_type": "stream",
          "text": [
            "Episode 236\tCurrent Reward: 246.00\n"
          ],
          "name": "stdout"
        },
        {
          "output_type": "stream",
          "text": [
            " 24%|██▍       | 238/1000 [1:18:59<3:24:35, 16.11s/it]"
          ],
          "name": "stderr"
        },
        {
          "output_type": "stream",
          "text": [
            "Episode 237\tCurrent Reward: 795.00\n"
          ],
          "name": "stdout"
        },
        {
          "output_type": "stream",
          "text": [
            " 24%|██▍       | 239/1000 [1:19:02<2:36:05, 12.31s/it]"
          ],
          "name": "stderr"
        },
        {
          "output_type": "stream",
          "text": [
            "Episode 238\tCurrent Reward: 240.00\n"
          ],
          "name": "stdout"
        },
        {
          "output_type": "stream",
          "text": [
            " 24%|██▍       | 240/1000 [1:19:06<2:03:42,  9.77s/it]"
          ],
          "name": "stderr"
        },
        {
          "output_type": "stream",
          "text": [
            "Episode 239\tCurrent Reward: 235.00\n",
            "==========\n",
            "Epoch: 240, average reward: 553.900000\n",
            "==========\n"
          ],
          "name": "stdout"
        },
        {
          "output_type": "stream",
          "text": [
            " 24%|██▍       | 241/1000 [1:19:50<4:13:40, 20.05s/it]"
          ],
          "name": "stderr"
        },
        {
          "output_type": "stream",
          "text": [
            "Episode 240\tCurrent Reward: 990.00\n"
          ],
          "name": "stdout"
        },
        {
          "output_type": "stream",
          "text": [
            " 24%|██▍       | 242/1000 [1:20:14<4:26:14, 21.08s/it]"
          ],
          "name": "stderr"
        },
        {
          "output_type": "stream",
          "text": [
            "Episode 241\tCurrent Reward: 799.00\n"
          ],
          "name": "stdout"
        },
        {
          "output_type": "stream",
          "text": [
            " 24%|██▍       | 243/1000 [1:20:40<4:44:08, 22.52s/it]"
          ],
          "name": "stderr"
        },
        {
          "output_type": "stream",
          "text": [
            "Episode 242\tCurrent Reward: 711.00\n"
          ],
          "name": "stdout"
        },
        {
          "output_type": "stream",
          "text": [
            " 24%|██▍       | 244/1000 [1:20:55<4:16:14, 20.34s/it]"
          ],
          "name": "stderr"
        },
        {
          "output_type": "stream",
          "text": [
            "Episode 243\tCurrent Reward: 578.00\n"
          ],
          "name": "stdout"
        },
        {
          "output_type": "stream",
          "text": [
            " 24%|██▍       | 245/1000 [1:21:18<4:27:25, 21.25s/it]"
          ],
          "name": "stderr"
        },
        {
          "output_type": "stream",
          "text": [
            "Episode 244\tCurrent Reward: 623.00\n"
          ],
          "name": "stdout"
        },
        {
          "output_type": "stream",
          "text": [
            " 25%|██▍       | 246/1000 [1:22:05<6:02:34, 28.85s/it]"
          ],
          "name": "stderr"
        },
        {
          "output_type": "stream",
          "text": [
            "Episode 245\tCurrent Reward: 747.00\n"
          ],
          "name": "stdout"
        },
        {
          "output_type": "stream",
          "text": [
            " 25%|██▍       | 247/1000 [1:22:29<5:45:06, 27.50s/it]"
          ],
          "name": "stderr"
        },
        {
          "output_type": "stream",
          "text": [
            "Episode 246\tCurrent Reward: 1317.00\n"
          ],
          "name": "stdout"
        },
        {
          "output_type": "stream",
          "text": [
            " 25%|██▍       | 248/1000 [1:22:46<5:03:56, 24.25s/it]"
          ],
          "name": "stderr"
        },
        {
          "output_type": "stream",
          "text": [
            "Episode 247\tCurrent Reward: 607.00\n"
          ],
          "name": "stdout"
        },
        {
          "output_type": "stream",
          "text": [
            " 25%|██▍       | 249/1000 [1:23:13<5:13:30, 25.05s/it]"
          ],
          "name": "stderr"
        },
        {
          "output_type": "stream",
          "text": [
            "Episode 248\tCurrent Reward: 793.00\n"
          ],
          "name": "stdout"
        },
        {
          "output_type": "stream",
          "text": [
            " 25%|██▌       | 250/1000 [1:23:36<5:07:07, 24.57s/it]"
          ],
          "name": "stderr"
        },
        {
          "output_type": "stream",
          "text": [
            "Episode 249\tCurrent Reward: 752.00\n"
          ],
          "name": "stdout"
        },
        {
          "output_type": "stream",
          "text": [
            " 25%|██▌       | 251/1000 [1:23:53<4:37:06, 22.20s/it]"
          ],
          "name": "stderr"
        },
        {
          "output_type": "stream",
          "text": [
            "Episode 250\tCurrent Reward: 609.00\n"
          ],
          "name": "stdout"
        },
        {
          "output_type": "stream",
          "text": [
            " 25%|██▌       | 252/1000 [1:24:14<4:32:08, 21.83s/it]"
          ],
          "name": "stderr"
        },
        {
          "output_type": "stream",
          "text": [
            "Episode 251\tCurrent Reward: 738.00\n"
          ],
          "name": "stdout"
        },
        {
          "output_type": "stream",
          "text": [
            " 25%|██▌       | 253/1000 [1:25:11<6:44:09, 32.46s/it]"
          ],
          "name": "stderr"
        },
        {
          "output_type": "stream",
          "text": [
            "Episode 252\tCurrent Reward: 966.00\n"
          ],
          "name": "stdout"
        },
        {
          "output_type": "stream",
          "text": [
            " 25%|██▌       | 254/1000 [1:25:41<6:35:58, 31.85s/it]"
          ],
          "name": "stderr"
        },
        {
          "output_type": "stream",
          "text": [
            "Episode 253\tCurrent Reward: 1303.00\n"
          ],
          "name": "stdout"
        },
        {
          "output_type": "stream",
          "text": [
            " 26%|██▌       | 255/1000 [1:26:05<6:03:46, 29.30s/it]"
          ],
          "name": "stderr"
        },
        {
          "output_type": "stream",
          "text": [
            "Episode 254\tCurrent Reward: 624.00\n"
          ],
          "name": "stdout"
        },
        {
          "output_type": "stream",
          "text": [
            " 26%|██▌       | 256/1000 [1:26:22<5:16:44, 25.54s/it]"
          ],
          "name": "stderr"
        },
        {
          "output_type": "stream",
          "text": [
            "Episode 255\tCurrent Reward: 637.00\n"
          ],
          "name": "stdout"
        },
        {
          "output_type": "stream",
          "text": [
            " 26%|██▌       | 257/1000 [1:26:28<4:05:17, 19.81s/it]"
          ],
          "name": "stderr"
        },
        {
          "output_type": "stream",
          "text": [
            "Episode 256\tCurrent Reward: 607.00\n"
          ],
          "name": "stdout"
        },
        {
          "output_type": "stream",
          "text": [
            " 26%|██▌       | 258/1000 [1:26:45<3:52:57, 18.84s/it]"
          ],
          "name": "stderr"
        },
        {
          "output_type": "stream",
          "text": [
            "Episode 257\tCurrent Reward: 752.00\n"
          ],
          "name": "stdout"
        },
        {
          "output_type": "stream",
          "text": [
            " 26%|██▌       | 259/1000 [1:27:44<6:23:48, 31.08s/it]"
          ],
          "name": "stderr"
        },
        {
          "output_type": "stream",
          "text": [
            "Episode 258\tCurrent Reward: 961.00\n"
          ],
          "name": "stdout"
        },
        {
          "output_type": "stream",
          "text": [
            " 26%|██▌       | 260/1000 [1:28:30<7:18:14, 35.53s/it]"
          ],
          "name": "stderr"
        },
        {
          "output_type": "stream",
          "text": [
            "Episode 259\tCurrent Reward: 1532.00\n",
            "==========\n",
            "Epoch: 260, average reward: 832.300000\n",
            "==========\n"
          ],
          "name": "stdout"
        },
        {
          "output_type": "stream",
          "text": [
            " 26%|██▌       | 261/1000 [1:29:04<7:09:47, 34.89s/it]"
          ],
          "name": "stderr"
        },
        {
          "output_type": "stream",
          "text": [
            "Episode 260\tCurrent Reward: 1013.00\n"
          ],
          "name": "stdout"
        },
        {
          "output_type": "stream",
          "text": [
            " 26%|██▌       | 262/1000 [1:29:11<5:28:38, 26.72s/it]"
          ],
          "name": "stderr"
        },
        {
          "output_type": "stream",
          "text": [
            "Episode 261\tCurrent Reward: 638.00\n"
          ],
          "name": "stdout"
        },
        {
          "output_type": "stream",
          "text": [
            " 26%|██▋       | 263/1000 [1:29:15<4:02:13, 19.72s/it]"
          ],
          "name": "stderr"
        },
        {
          "output_type": "stream",
          "text": [
            "Episode 262\tCurrent Reward: 251.00\n"
          ],
          "name": "stdout"
        },
        {
          "output_type": "stream",
          "text": [
            " 26%|██▋       | 264/1000 [1:29:41<4:27:13, 21.78s/it]"
          ],
          "name": "stderr"
        },
        {
          "output_type": "stream",
          "text": [
            "Episode 263\tCurrent Reward: 618.00\n"
          ],
          "name": "stdout"
        },
        {
          "output_type": "stream",
          "text": [
            " 26%|██▋       | 265/1000 [1:29:44<3:17:16, 16.10s/it]"
          ],
          "name": "stderr"
        },
        {
          "output_type": "stream",
          "text": [
            "Episode 264\tCurrent Reward: 250.00\n"
          ],
          "name": "stdout"
        },
        {
          "output_type": "stream",
          "text": [
            " 27%|██▋       | 266/1000 [1:30:02<3:22:34, 16.56s/it]"
          ],
          "name": "stderr"
        },
        {
          "output_type": "stream",
          "text": [
            "Episode 265\tCurrent Reward: 587.00\n"
          ],
          "name": "stdout"
        },
        {
          "output_type": "stream",
          "text": [
            " 27%|██▋       | 267/1000 [1:30:05<2:33:21, 12.55s/it]"
          ],
          "name": "stderr"
        },
        {
          "output_type": "stream",
          "text": [
            "Episode 266\tCurrent Reward: 250.00\n"
          ],
          "name": "stdout"
        },
        {
          "output_type": "stream",
          "text": [
            " 27%|██▋       | 268/1000 [1:30:28<3:12:31, 15.78s/it]"
          ],
          "name": "stderr"
        },
        {
          "output_type": "stream",
          "text": [
            "Episode 267\tCurrent Reward: 624.00\n"
          ],
          "name": "stdout"
        },
        {
          "output_type": "stream",
          "text": [
            " 27%|██▋       | 269/1000 [1:30:31<2:26:32, 12.03s/it]"
          ],
          "name": "stderr"
        },
        {
          "output_type": "stream",
          "text": [
            "Episode 268\tCurrent Reward: 245.00\n"
          ],
          "name": "stdout"
        },
        {
          "output_type": "stream",
          "text": [
            " 27%|██▋       | 270/1000 [1:30:55<3:08:14, 15.47s/it]"
          ],
          "name": "stderr"
        },
        {
          "output_type": "stream",
          "text": [
            "Episode 269\tCurrent Reward: 579.00\n"
          ],
          "name": "stdout"
        },
        {
          "output_type": "stream",
          "text": [
            " 27%|██▋       | 271/1000 [1:30:59<2:24:36, 11.90s/it]"
          ],
          "name": "stderr"
        },
        {
          "output_type": "stream",
          "text": [
            "Episode 270\tCurrent Reward: 234.00\n"
          ],
          "name": "stdout"
        },
        {
          "output_type": "stream",
          "text": [
            " 27%|██▋       | 272/1000 [1:31:02<1:52:31,  9.27s/it]"
          ],
          "name": "stderr"
        },
        {
          "output_type": "stream",
          "text": [
            "Episode 271\tCurrent Reward: 244.00\n"
          ],
          "name": "stdout"
        },
        {
          "output_type": "stream",
          "text": [
            " 27%|██▋       | 273/1000 [1:31:18<2:16:52, 11.30s/it]"
          ],
          "name": "stderr"
        },
        {
          "output_type": "stream",
          "text": [
            "Episode 272\tCurrent Reward: 607.00\n"
          ],
          "name": "stdout"
        },
        {
          "output_type": "stream",
          "text": [
            " 27%|██▋       | 274/1000 [1:31:28<2:12:20, 10.94s/it]"
          ],
          "name": "stderr"
        },
        {
          "output_type": "stream",
          "text": [
            "Episode 273\tCurrent Reward: 590.00\n"
          ],
          "name": "stdout"
        },
        {
          "output_type": "stream",
          "text": [
            " 28%|██▊       | 275/1000 [1:32:19<4:36:26, 22.88s/it]"
          ],
          "name": "stderr"
        },
        {
          "output_type": "stream",
          "text": [
            "Episode 274\tCurrent Reward: 976.00\n"
          ],
          "name": "stdout"
        },
        {
          "output_type": "stream",
          "text": [
            " 28%|██▊       | 276/1000 [1:32:22<3:23:55, 16.90s/it]"
          ],
          "name": "stderr"
        },
        {
          "output_type": "stream",
          "text": [
            "Episode 275\tCurrent Reward: 248.00\n"
          ],
          "name": "stdout"
        },
        {
          "output_type": "stream",
          "text": [
            " 28%|██▊       | 277/1000 [1:32:45<3:45:52, 18.74s/it]"
          ],
          "name": "stderr"
        },
        {
          "output_type": "stream",
          "text": [
            "Episode 276\tCurrent Reward: 569.00\n"
          ],
          "name": "stdout"
        },
        {
          "output_type": "stream",
          "text": [
            " 28%|██▊       | 278/1000 [1:32:48<2:48:45, 14.02s/it]"
          ],
          "name": "stderr"
        },
        {
          "output_type": "stream",
          "text": [
            "Episode 277\tCurrent Reward: 250.00\n"
          ],
          "name": "stdout"
        },
        {
          "output_type": "stream",
          "text": [
            " 28%|██▊       | 279/1000 [1:33:16<3:39:32, 18.27s/it]"
          ],
          "name": "stderr"
        },
        {
          "output_type": "stream",
          "text": [
            "Episode 278\tCurrent Reward: 615.00\n"
          ],
          "name": "stdout"
        },
        {
          "output_type": "stream",
          "text": [
            " 28%|██▊       | 280/1000 [1:33:34<3:38:18, 18.19s/it]"
          ],
          "name": "stderr"
        },
        {
          "output_type": "stream",
          "text": [
            "Episode 279\tCurrent Reward: 810.00\n",
            "==========\n",
            "Epoch: 280, average reward: 509.900000\n",
            "==========\n"
          ],
          "name": "stdout"
        },
        {
          "output_type": "stream",
          "text": [
            " 28%|██▊       | 281/1000 [1:33:49<3:28:15, 17.38s/it]"
          ],
          "name": "stderr"
        },
        {
          "output_type": "stream",
          "text": [
            "Episode 280\tCurrent Reward: 774.00\n"
          ],
          "name": "stdout"
        },
        {
          "output_type": "stream",
          "text": [
            " 28%|██▊       | 282/1000 [1:33:56<2:48:42, 14.10s/it]"
          ],
          "name": "stderr"
        },
        {
          "output_type": "stream",
          "text": [
            "Episode 281\tCurrent Reward: 611.00\n"
          ],
          "name": "stdout"
        },
        {
          "output_type": "stream",
          "text": [
            " 28%|██▊       | 283/1000 [1:34:09<2:44:33, 13.77s/it]"
          ],
          "name": "stderr"
        },
        {
          "output_type": "stream",
          "text": [
            "Episode 282\tCurrent Reward: 586.00\n"
          ],
          "name": "stdout"
        },
        {
          "output_type": "stream",
          "text": [
            " 28%|██▊       | 284/1000 [1:34:23<2:46:43, 13.97s/it]"
          ],
          "name": "stderr"
        },
        {
          "output_type": "stream",
          "text": [
            "Episode 283\tCurrent Reward: 640.00\n"
          ],
          "name": "stdout"
        },
        {
          "output_type": "stream",
          "text": [
            " 28%|██▊       | 285/1000 [1:34:52<3:38:35, 18.34s/it]"
          ],
          "name": "stderr"
        },
        {
          "output_type": "stream",
          "text": [
            "Episode 284\tCurrent Reward: 613.00\n"
          ],
          "name": "stdout"
        },
        {
          "output_type": "stream",
          "text": [
            " 29%|██▊       | 286/1000 [1:35:52<6:09:33, 31.05s/it]"
          ],
          "name": "stderr"
        },
        {
          "output_type": "stream",
          "text": [
            "Episode 285\tCurrent Reward: 961.00\n"
          ],
          "name": "stdout"
        },
        {
          "output_type": "stream",
          "text": [
            " 29%|██▊       | 287/1000 [1:36:29<6:28:32, 32.70s/it]"
          ],
          "name": "stderr"
        },
        {
          "output_type": "stream",
          "text": [
            "Episode 286\tCurrent Reward: 774.00\n"
          ],
          "name": "stdout"
        },
        {
          "output_type": "stream",
          "text": [
            " 29%|██▉       | 288/1000 [1:36:40<5:11:45, 26.27s/it]"
          ],
          "name": "stderr"
        },
        {
          "output_type": "stream",
          "text": [
            "Episode 287\tCurrent Reward: 598.00\n"
          ],
          "name": "stdout"
        },
        {
          "output_type": "stream",
          "text": [
            " 29%|██▉       | 289/1000 [1:37:38<7:05:04, 35.87s/it]"
          ],
          "name": "stderr"
        },
        {
          "output_type": "stream",
          "text": [
            "Episode 288\tCurrent Reward: 734.00\n"
          ],
          "name": "stdout"
        },
        {
          "output_type": "stream",
          "text": [
            " 29%|██▉       | 290/1000 [1:38:38<8:27:39, 42.90s/it]"
          ],
          "name": "stderr"
        },
        {
          "output_type": "stream",
          "text": [
            "Episode 289\tCurrent Reward: 1254.00\n"
          ],
          "name": "stdout"
        },
        {
          "output_type": "stream",
          "text": [
            " 29%|██▉       | 291/1000 [1:40:48<13:37:43, 69.20s/it]"
          ],
          "name": "stderr"
        },
        {
          "output_type": "stream",
          "text": [
            "Episode 290\tCurrent Reward: 852.00\n"
          ],
          "name": "stdout"
        },
        {
          "output_type": "stream",
          "text": [
            " 29%|██▉       | 292/1000 [1:41:03<10:24:59, 52.97s/it]"
          ],
          "name": "stderr"
        },
        {
          "output_type": "stream",
          "text": [
            "Episode 291\tCurrent Reward: 640.00\n"
          ],
          "name": "stdout"
        },
        {
          "output_type": "stream",
          "text": [
            " 29%|██▉       | 293/1000 [1:43:31<15:58:56, 81.38s/it]"
          ],
          "name": "stderr"
        },
        {
          "output_type": "stream",
          "text": [
            "Episode 292\tCurrent Reward: 798.00\n"
          ],
          "name": "stdout"
        },
        {
          "output_type": "stream",
          "text": [
            " 29%|██▉       | 294/1000 [1:43:35<11:24:29, 58.17s/it]"
          ],
          "name": "stderr"
        },
        {
          "output_type": "stream",
          "text": [
            "Episode 293\tCurrent Reward: 229.00\n"
          ],
          "name": "stdout"
        },
        {
          "output_type": "stream",
          "text": [
            " 30%|██▉       | 295/1000 [1:43:39<8:10:57, 41.78s/it] "
          ],
          "name": "stderr"
        },
        {
          "output_type": "stream",
          "text": [
            "Episode 294\tCurrent Reward: 246.00\n"
          ],
          "name": "stdout"
        },
        {
          "output_type": "stream",
          "text": [
            " 30%|██▉       | 296/1000 [1:43:42<5:55:46, 30.32s/it]"
          ],
          "name": "stderr"
        },
        {
          "output_type": "stream",
          "text": [
            "Episode 295\tCurrent Reward: 242.00\n"
          ],
          "name": "stdout"
        },
        {
          "output_type": "stream",
          "text": [
            " 30%|██▉       | 297/1000 [1:45:20<9:53:51, 50.69s/it]"
          ],
          "name": "stderr"
        },
        {
          "output_type": "stream",
          "text": [
            "Episode 296\tCurrent Reward: 886.00\n"
          ],
          "name": "stdout"
        },
        {
          "output_type": "stream",
          "text": [
            " 30%|██▉       | 298/1000 [1:48:58<19:37:53, 100.67s/it]"
          ],
          "name": "stderr"
        },
        {
          "output_type": "stream",
          "text": [
            "Episode 297\tCurrent Reward: 267.00\n"
          ],
          "name": "stdout"
        },
        {
          "output_type": "stream",
          "text": [
            " 30%|██▉       | 299/1000 [1:49:05<14:07:27, 72.54s/it] "
          ],
          "name": "stderr"
        },
        {
          "output_type": "stream",
          "text": [
            "Episode 298\tCurrent Reward: 609.00\n"
          ],
          "name": "stdout"
        },
        {
          "output_type": "stream",
          "text": [
            " 30%|███       | 300/1000 [1:49:16<10:31:30, 54.13s/it]"
          ],
          "name": "stderr"
        },
        {
          "output_type": "stream",
          "text": [
            "Episode 299\tCurrent Reward: 606.00\n",
            "==========\n",
            "Epoch: 300, average reward: 646.000000\n",
            "==========\n"
          ],
          "name": "stdout"
        },
        {
          "output_type": "stream",
          "text": [
            " 30%|███       | 301/1000 [1:49:43<8:56:23, 46.04s/it] "
          ],
          "name": "stderr"
        },
        {
          "output_type": "stream",
          "text": [
            "Episode 300\tCurrent Reward: 1023.00\n"
          ],
          "name": "stdout"
        },
        {
          "output_type": "stream",
          "text": [
            " 30%|███       | 302/1000 [1:49:52<6:46:21, 34.93s/it]"
          ],
          "name": "stderr"
        },
        {
          "output_type": "stream",
          "text": [
            "Episode 301\tCurrent Reward: 635.00\n"
          ],
          "name": "stdout"
        },
        {
          "output_type": "stream",
          "text": [
            " 30%|███       | 303/1000 [1:50:23<6:33:07, 33.84s/it]"
          ],
          "name": "stderr"
        },
        {
          "output_type": "stream",
          "text": [
            "Episode 302\tCurrent Reward: 785.00\n"
          ],
          "name": "stdout"
        },
        {
          "output_type": "stream",
          "text": [
            " 30%|███       | 304/1000 [1:50:27<4:47:09, 24.76s/it]"
          ],
          "name": "stderr"
        },
        {
          "output_type": "stream",
          "text": [
            "Episode 303\tCurrent Reward: 245.00\n"
          ],
          "name": "stdout"
        },
        {
          "output_type": "stream",
          "text": [
            " 30%|███       | 305/1000 [1:50:30<3:33:05, 18.40s/it]"
          ],
          "name": "stderr"
        },
        {
          "output_type": "stream",
          "text": [
            "Episode 304\tCurrent Reward: 237.00\n"
          ],
          "name": "stdout"
        },
        {
          "output_type": "stream",
          "text": [
            " 31%|███       | 306/1000 [1:50:35<2:44:45, 14.24s/it]"
          ],
          "name": "stderr"
        },
        {
          "output_type": "stream",
          "text": [
            "Episode 305\tCurrent Reward: 225.00\n"
          ],
          "name": "stdout"
        },
        {
          "output_type": "stream",
          "text": [
            " 31%|███       | 307/1000 [1:51:14<4:09:02, 21.56s/it]"
          ],
          "name": "stderr"
        },
        {
          "output_type": "stream",
          "text": [
            "Episode 306\tCurrent Reward: 1001.00\n"
          ],
          "name": "stdout"
        },
        {
          "output_type": "stream",
          "text": [
            " 31%|███       | 308/1000 [1:51:42<4:33:34, 23.72s/it]"
          ],
          "name": "stderr"
        },
        {
          "output_type": "stream",
          "text": [
            "Episode 307\tCurrent Reward: 1018.00\n"
          ],
          "name": "stdout"
        },
        {
          "output_type": "stream",
          "text": [
            " 31%|███       | 309/1000 [1:52:09<4:43:26, 24.61s/it]"
          ],
          "name": "stderr"
        },
        {
          "output_type": "stream",
          "text": [
            "Episode 308\tCurrent Reward: 794.00\n"
          ],
          "name": "stdout"
        },
        {
          "output_type": "stream",
          "text": [
            " 31%|███       | 310/1000 [1:52:20<3:56:28, 20.56s/it]"
          ],
          "name": "stderr"
        },
        {
          "output_type": "stream",
          "text": [
            "Episode 309\tCurrent Reward: 597.00\n"
          ],
          "name": "stdout"
        },
        {
          "output_type": "stream",
          "text": [
            " 31%|███       | 311/1000 [1:53:25<6:27:15, 33.72s/it]"
          ],
          "name": "stderr"
        },
        {
          "output_type": "stream",
          "text": [
            "Episode 310\tCurrent Reward: 1232.00\n"
          ],
          "name": "stdout"
        },
        {
          "output_type": "stream",
          "text": [
            " 31%|███       | 312/1000 [1:53:41<5:27:36, 28.57s/it]"
          ],
          "name": "stderr"
        },
        {
          "output_type": "stream",
          "text": [
            "Episode 311\tCurrent Reward: 637.00\n"
          ],
          "name": "stdout"
        },
        {
          "output_type": "stream",
          "text": [
            " 31%|███▏      | 313/1000 [1:53:44<3:59:24, 20.91s/it]"
          ],
          "name": "stderr"
        },
        {
          "output_type": "stream",
          "text": [
            "Episode 312\tCurrent Reward: 249.00\n"
          ],
          "name": "stdout"
        },
        {
          "output_type": "stream",
          "text": [
            " 31%|███▏      | 314/1000 [1:53:55<3:23:33, 17.80s/it]"
          ],
          "name": "stderr"
        },
        {
          "output_type": "stream",
          "text": [
            "Episode 313\tCurrent Reward: 589.00\n"
          ],
          "name": "stdout"
        },
        {
          "output_type": "stream",
          "text": [
            " 32%|███▏      | 315/1000 [1:54:18<3:40:51, 19.34s/it]"
          ],
          "name": "stderr"
        },
        {
          "output_type": "stream",
          "text": [
            "Episode 314\tCurrent Reward: 1427.00\n"
          ],
          "name": "stdout"
        },
        {
          "output_type": "stream",
          "text": [
            " 32%|███▏      | 316/1000 [1:54:39<3:46:35, 19.88s/it]"
          ],
          "name": "stderr"
        },
        {
          "output_type": "stream",
          "text": [
            "Episode 315\tCurrent Reward: 750.00\n"
          ],
          "name": "stdout"
        },
        {
          "output_type": "stream",
          "text": [
            " 32%|███▏      | 317/1000 [1:54:42<2:49:15, 14.87s/it]"
          ],
          "name": "stderr"
        },
        {
          "output_type": "stream",
          "text": [
            "Episode 316\tCurrent Reward: 248.00\n"
          ],
          "name": "stdout"
        },
        {
          "output_type": "stream",
          "text": [
            " 32%|███▏      | 318/1000 [1:54:45<2:09:16, 11.37s/it]"
          ],
          "name": "stderr"
        },
        {
          "output_type": "stream",
          "text": [
            "Episode 317\tCurrent Reward: 248.00\n"
          ],
          "name": "stdout"
        },
        {
          "output_type": "stream",
          "text": [
            " 32%|███▏      | 319/1000 [1:55:00<2:21:04, 12.43s/it]"
          ],
          "name": "stderr"
        },
        {
          "output_type": "stream",
          "text": [
            "Episode 318\tCurrent Reward: 641.00\n"
          ],
          "name": "stdout"
        },
        {
          "output_type": "stream",
          "text": [
            " 32%|███▏      | 320/1000 [1:55:16<2:33:08, 13.51s/it]"
          ],
          "name": "stderr"
        },
        {
          "output_type": "stream",
          "text": [
            "Episode 319\tCurrent Reward: 766.00\n",
            "==========\n",
            "Epoch: 320, average reward: 667.350000\n",
            "==========\n"
          ],
          "name": "stdout"
        },
        {
          "output_type": "stream",
          "text": [
            " 32%|███▏      | 321/1000 [1:55:40<3:08:48, 16.68s/it]"
          ],
          "name": "stderr"
        },
        {
          "output_type": "stream",
          "text": [
            "Episode 320\tCurrent Reward: 737.00\n"
          ],
          "name": "stdout"
        },
        {
          "output_type": "stream",
          "text": [
            " 32%|███▏      | 322/1000 [1:55:44<2:23:08, 12.67s/it]"
          ],
          "name": "stderr"
        },
        {
          "output_type": "stream",
          "text": [
            "Episode 321\tCurrent Reward: 243.00\n"
          ],
          "name": "stdout"
        },
        {
          "output_type": "stream",
          "text": [
            " 32%|███▏      | 323/1000 [1:55:46<1:50:06,  9.76s/it]"
          ],
          "name": "stderr"
        },
        {
          "output_type": "stream",
          "text": [
            "Episode 322\tCurrent Reward: 246.00\n"
          ],
          "name": "stdout"
        },
        {
          "output_type": "stream",
          "text": [
            " 32%|███▏      | 324/1000 [1:56:08<2:29:32, 13.27s/it]"
          ],
          "name": "stderr"
        },
        {
          "output_type": "stream",
          "text": [
            "Episode 323\tCurrent Reward: 1334.00\n"
          ],
          "name": "stdout"
        },
        {
          "output_type": "stream",
          "text": [
            " 32%|███▎      | 325/1000 [1:56:12<1:56:56, 10.39s/it]"
          ],
          "name": "stderr"
        },
        {
          "output_type": "stream",
          "text": [
            "Episode 324\tCurrent Reward: 243.00\n"
          ],
          "name": "stdout"
        },
        {
          "output_type": "stream",
          "text": [
            " 33%|███▎      | 326/1000 [1:56:19<1:48:10,  9.63s/it]"
          ],
          "name": "stderr"
        },
        {
          "output_type": "stream",
          "text": [
            "Episode 325\tCurrent Reward: 637.00\n"
          ],
          "name": "stdout"
        },
        {
          "output_type": "stream",
          "text": [
            " 33%|███▎      | 327/1000 [1:56:42<2:30:06, 13.38s/it]"
          ],
          "name": "stderr"
        },
        {
          "output_type": "stream",
          "text": [
            "Episode 326\tCurrent Reward: 1317.00\n"
          ],
          "name": "stdout"
        },
        {
          "output_type": "stream",
          "text": [
            " 33%|███▎      | 328/1000 [1:56:58<2:39:26, 14.24s/it]"
          ],
          "name": "stderr"
        },
        {
          "output_type": "stream",
          "text": [
            "Episode 327\tCurrent Reward: 573.00\n"
          ],
          "name": "stdout"
        },
        {
          "output_type": "stream",
          "text": [
            " 33%|███▎      | 329/1000 [1:57:22<3:12:55, 17.25s/it]"
          ],
          "name": "stderr"
        },
        {
          "output_type": "stream",
          "text": [
            "Episode 328\tCurrent Reward: 622.00\n"
          ],
          "name": "stdout"
        },
        {
          "output_type": "stream",
          "text": [
            " 33%|███▎      | 330/1000 [1:57:59<4:19:17, 23.22s/it]"
          ],
          "name": "stderr"
        },
        {
          "output_type": "stream",
          "text": [
            "Episode 329\tCurrent Reward: 1822.00\n"
          ],
          "name": "stdout"
        },
        {
          "output_type": "stream",
          "text": [
            " 33%|███▎      | 331/1000 [1:58:08<3:30:40, 18.89s/it]"
          ],
          "name": "stderr"
        },
        {
          "output_type": "stream",
          "text": [
            "Episode 330\tCurrent Reward: 651.00\n"
          ],
          "name": "stdout"
        },
        {
          "output_type": "stream",
          "text": [
            " 33%|███▎      | 332/1000 [1:58:12<2:40:08, 14.38s/it]"
          ],
          "name": "stderr"
        },
        {
          "output_type": "stream",
          "text": [
            "Episode 331\tCurrent Reward: 242.00\n"
          ],
          "name": "stdout"
        },
        {
          "output_type": "stream",
          "text": [
            " 33%|███▎      | 333/1000 [1:58:29<2:48:25, 15.15s/it]"
          ],
          "name": "stderr"
        },
        {
          "output_type": "stream",
          "text": [
            "Episode 332\tCurrent Reward: 1041.00\n"
          ],
          "name": "stdout"
        },
        {
          "output_type": "stream",
          "text": [
            " 33%|███▎      | 334/1000 [1:58:51<3:11:10, 17.22s/it]"
          ],
          "name": "stderr"
        },
        {
          "output_type": "stream",
          "text": [
            "Episode 333\tCurrent Reward: 626.00\n"
          ],
          "name": "stdout"
        },
        {
          "output_type": "stream",
          "text": [
            " 34%|███▎      | 335/1000 [1:59:18<3:44:28, 20.25s/it]"
          ],
          "name": "stderr"
        },
        {
          "output_type": "stream",
          "text": [
            "Episode 334\tCurrent Reward: 792.00\n"
          ],
          "name": "stdout"
        },
        {
          "output_type": "stream",
          "text": [
            " 34%|███▎      | 336/1000 [2:00:06<5:16:33, 28.60s/it]"
          ],
          "name": "stderr"
        },
        {
          "output_type": "stream",
          "text": [
            "Episode 335\tCurrent Reward: 3032.00\n"
          ],
          "name": "stdout"
        },
        {
          "output_type": "stream",
          "text": [
            " 34%|███▎      | 337/1000 [2:00:24<4:40:49, 25.41s/it]"
          ],
          "name": "stderr"
        },
        {
          "output_type": "stream",
          "text": [
            "Episode 336\tCurrent Reward: 763.00\n"
          ],
          "name": "stdout"
        },
        {
          "output_type": "stream",
          "text": [
            " 34%|███▍      | 338/1000 [2:00:40<4:08:51, 22.56s/it]"
          ],
          "name": "stderr"
        },
        {
          "output_type": "stream",
          "text": [
            "Episode 337\tCurrent Reward: 638.00\n"
          ],
          "name": "stdout"
        },
        {
          "output_type": "stream",
          "text": [
            " 34%|███▍      | 339/1000 [2:00:44<3:06:27, 16.92s/it]"
          ],
          "name": "stderr"
        },
        {
          "output_type": "stream",
          "text": [
            "Episode 338\tCurrent Reward: 233.00\n"
          ],
          "name": "stdout"
        },
        {
          "output_type": "stream",
          "text": [
            " 34%|███▍      | 340/1000 [2:01:07<3:26:00, 18.73s/it]"
          ],
          "name": "stderr"
        },
        {
          "output_type": "stream",
          "text": [
            "Episode 339\tCurrent Reward: 1717.00\n",
            "==========\n",
            "Epoch: 340, average reward: 875.450000\n",
            "==========\n"
          ],
          "name": "stdout"
        },
        {
          "output_type": "stream",
          "text": [
            " 34%|███▍      | 341/1000 [2:01:10<2:34:47, 14.09s/it]"
          ],
          "name": "stderr"
        },
        {
          "output_type": "stream",
          "text": [
            "Episode 340\tCurrent Reward: 240.00\n"
          ],
          "name": "stdout"
        },
        {
          "output_type": "stream",
          "text": [
            " 34%|███▍      | 342/1000 [2:01:32<2:59:22, 16.36s/it]"
          ],
          "name": "stderr"
        },
        {
          "output_type": "stream",
          "text": [
            "Episode 341\tCurrent Reward: 1033.00\n"
          ],
          "name": "stdout"
        },
        {
          "output_type": "stream",
          "text": [
            " 34%|███▍      | 343/1000 [2:02:07<4:01:07, 22.02s/it]"
          ],
          "name": "stderr"
        },
        {
          "output_type": "stream",
          "text": [
            "Episode 342\tCurrent Reward: 1004.00\n"
          ],
          "name": "stdout"
        },
        {
          "output_type": "stream",
          "text": [
            " 34%|███▍      | 344/1000 [2:02:36<4:22:48, 24.04s/it]"
          ],
          "name": "stderr"
        },
        {
          "output_type": "stream",
          "text": [
            "Episode 343\tCurrent Reward: 1028.00\n"
          ],
          "name": "stdout"
        },
        {
          "output_type": "stream",
          "text": [
            " 34%|███▍      | 345/1000 [2:03:01<4:26:34, 24.42s/it]"
          ],
          "name": "stderr"
        },
        {
          "output_type": "stream",
          "text": [
            "Episode 344\tCurrent Reward: 1561.00\n"
          ],
          "name": "stdout"
        },
        {
          "output_type": "stream",
          "text": [
            " 35%|███▍      | 346/1000 [2:03:11<3:37:18, 19.94s/it]"
          ],
          "name": "stderr"
        },
        {
          "output_type": "stream",
          "text": [
            "Episode 345\tCurrent Reward: 634.00\n"
          ],
          "name": "stdout"
        },
        {
          "output_type": "stream",
          "text": [
            " 35%|███▍      | 347/1000 [2:03:14<2:44:28, 15.11s/it]"
          ],
          "name": "stderr"
        },
        {
          "output_type": "stream",
          "text": [
            "Episode 346\tCurrent Reward: 228.00\n"
          ],
          "name": "stdout"
        },
        {
          "output_type": "stream",
          "text": [
            " 35%|███▍      | 348/1000 [2:03:33<2:55:23, 16.14s/it]"
          ],
          "name": "stderr"
        },
        {
          "output_type": "stream",
          "text": [
            "Episode 347\tCurrent Reward: 715.00\n"
          ],
          "name": "stdout"
        },
        {
          "output_type": "stream",
          "text": [
            " 35%|███▍      | 349/1000 [2:03:37<2:14:34, 12.40s/it]"
          ],
          "name": "stderr"
        },
        {
          "output_type": "stream",
          "text": [
            "Episode 348\tCurrent Reward: 232.00\n"
          ],
          "name": "stdout"
        },
        {
          "output_type": "stream",
          "text": [
            " 35%|███▌      | 350/1000 [2:03:56<2:35:56, 14.39s/it]"
          ],
          "name": "stderr"
        },
        {
          "output_type": "stream",
          "text": [
            "Episode 349\tCurrent Reward: 1326.00\n"
          ],
          "name": "stdout"
        },
        {
          "output_type": "stream",
          "text": [
            " 35%|███▌      | 351/1000 [2:04:19<3:05:55, 17.19s/it]"
          ],
          "name": "stderr"
        },
        {
          "output_type": "stream",
          "text": [
            "Episode 350\tCurrent Reward: 1028.00\n"
          ],
          "name": "stdout"
        },
        {
          "output_type": "stream",
          "text": [
            " 35%|███▌      | 352/1000 [2:04:28<2:36:43, 14.51s/it]"
          ],
          "name": "stderr"
        },
        {
          "output_type": "stream",
          "text": [
            "Episode 351\tCurrent Reward: 637.00\n"
          ],
          "name": "stdout"
        },
        {
          "output_type": "stream",
          "text": [
            " 35%|███▌      | 353/1000 [2:04:56<3:20:52, 18.63s/it]"
          ],
          "name": "stderr"
        },
        {
          "output_type": "stream",
          "text": [
            "Episode 352\tCurrent Reward: 790.00\n"
          ],
          "name": "stdout"
        },
        {
          "output_type": "stream",
          "text": [
            " 35%|███▌      | 354/1000 [2:05:00<2:32:47, 14.19s/it]"
          ],
          "name": "stderr"
        },
        {
          "output_type": "stream",
          "text": [
            "Episode 353\tCurrent Reward: 243.00\n"
          ],
          "name": "stdout"
        },
        {
          "output_type": "stream",
          "text": [
            " 36%|███▌      | 355/1000 [2:05:03<1:58:13, 11.00s/it]"
          ],
          "name": "stderr"
        },
        {
          "output_type": "stream",
          "text": [
            "Episode 354\tCurrent Reward: 249.00\n"
          ],
          "name": "stdout"
        },
        {
          "output_type": "stream",
          "text": [
            " 36%|███▌      | 356/1000 [2:05:24<2:29:38, 13.94s/it]"
          ],
          "name": "stderr"
        },
        {
          "output_type": "stream",
          "text": [
            "Episode 355\tCurrent Reward: 1045.00\n"
          ],
          "name": "stdout"
        },
        {
          "output_type": "stream",
          "text": [
            " 36%|███▌      | 357/1000 [2:05:27<1:54:18, 10.67s/it]"
          ],
          "name": "stderr"
        },
        {
          "output_type": "stream",
          "text": [
            "Episode 356\tCurrent Reward: 251.00\n"
          ],
          "name": "stdout"
        },
        {
          "output_type": "stream",
          "text": [
            " 36%|███▌      | 358/1000 [2:05:58<2:57:29, 16.59s/it]"
          ],
          "name": "stderr"
        },
        {
          "output_type": "stream",
          "text": [
            "Episode 357\tCurrent Reward: 1294.00\n"
          ],
          "name": "stdout"
        },
        {
          "output_type": "stream",
          "text": [
            " 36%|███▌      | 359/1000 [2:06:01<2:16:02, 12.73s/it]"
          ],
          "name": "stderr"
        },
        {
          "output_type": "stream",
          "text": [
            "Episode 358\tCurrent Reward: 244.00\n"
          ],
          "name": "stdout"
        },
        {
          "output_type": "stream",
          "text": [
            " 36%|███▌      | 360/1000 [2:06:05<1:48:19, 10.16s/it]"
          ],
          "name": "stderr"
        },
        {
          "output_type": "stream",
          "text": [
            "Episode 359\tCurrent Reward: 243.00\n",
            "==========\n",
            "Epoch: 360, average reward: 701.250000\n",
            "==========\n"
          ],
          "name": "stdout"
        },
        {
          "output_type": "stream",
          "text": [
            " 36%|███▌      | 361/1000 [2:06:32<2:39:12, 14.95s/it]"
          ],
          "name": "stderr"
        },
        {
          "output_type": "stream",
          "text": [
            "Episode 360\tCurrent Reward: 1331.00\n"
          ],
          "name": "stdout"
        },
        {
          "output_type": "stream",
          "text": [
            " 36%|███▌      | 362/1000 [2:06:35<2:01:12, 11.40s/it]"
          ],
          "name": "stderr"
        },
        {
          "output_type": "stream",
          "text": [
            "Episode 361\tCurrent Reward: 246.00\n"
          ],
          "name": "stdout"
        },
        {
          "output_type": "stream",
          "text": [
            " 36%|███▋      | 363/1000 [2:06:50<2:13:19, 12.56s/it]"
          ],
          "name": "stderr"
        },
        {
          "output_type": "stream",
          "text": [
            "Episode 362\tCurrent Reward: 610.00\n"
          ],
          "name": "stdout"
        },
        {
          "output_type": "stream",
          "text": [
            " 36%|███▋      | 364/1000 [2:07:33<3:48:31, 21.56s/it]"
          ],
          "name": "stderr"
        },
        {
          "output_type": "stream",
          "text": [
            "Episode 363\tCurrent Reward: 695.00\n"
          ],
          "name": "stdout"
        },
        {
          "output_type": "stream",
          "text": [
            " 36%|███▋      | 365/1000 [2:07:35<2:49:04, 15.98s/it]"
          ],
          "name": "stderr"
        },
        {
          "output_type": "stream",
          "text": [
            "Episode 364\tCurrent Reward: 246.00\n"
          ],
          "name": "stdout"
        },
        {
          "output_type": "stream",
          "text": [
            " 37%|███▋      | 366/1000 [2:07:50<2:43:16, 15.45s/it]"
          ],
          "name": "stderr"
        },
        {
          "output_type": "stream",
          "text": [
            "Episode 365\tCurrent Reward: 640.00\n"
          ],
          "name": "stdout"
        },
        {
          "output_type": "stream",
          "text": [
            " 37%|███▋      | 367/1000 [2:08:11<3:02:59, 17.35s/it]"
          ],
          "name": "stderr"
        },
        {
          "output_type": "stream",
          "text": [
            "Episode 366\tCurrent Reward: 802.00\n"
          ],
          "name": "stdout"
        },
        {
          "output_type": "stream",
          "text": [
            " 37%|███▋      | 368/1000 [2:08:15<2:18:48, 13.18s/it]"
          ],
          "name": "stderr"
        },
        {
          "output_type": "stream",
          "text": [
            "Episode 367\tCurrent Reward: 247.00\n"
          ],
          "name": "stdout"
        },
        {
          "output_type": "stream",
          "text": [
            " 37%|███▋      | 369/1000 [2:09:06<4:17:34, 24.49s/it]"
          ],
          "name": "stderr"
        },
        {
          "output_type": "stream",
          "text": [
            "Episode 368\tCurrent Reward: 1633.00\n"
          ],
          "name": "stdout"
        },
        {
          "output_type": "stream",
          "text": [
            " 37%|███▋      | 370/1000 [2:09:17<3:34:08, 20.40s/it]"
          ],
          "name": "stderr"
        },
        {
          "output_type": "stream",
          "text": [
            "Episode 369\tCurrent Reward: 632.00\n"
          ],
          "name": "stdout"
        },
        {
          "output_type": "stream",
          "text": [
            " 37%|███▋      | 371/1000 [2:09:34<3:25:00, 19.56s/it]"
          ],
          "name": "stderr"
        },
        {
          "output_type": "stream",
          "text": [
            "Episode 370\tCurrent Reward: 810.00\n"
          ],
          "name": "stdout"
        },
        {
          "output_type": "stream",
          "text": [
            " 37%|███▋      | 372/1000 [2:09:38<2:35:31, 14.86s/it]"
          ],
          "name": "stderr"
        },
        {
          "output_type": "stream",
          "text": [
            "Episode 371\tCurrent Reward: 245.00\n"
          ],
          "name": "stdout"
        },
        {
          "output_type": "stream",
          "text": [
            " 37%|███▋      | 373/1000 [2:09:42<1:59:33, 11.44s/it]"
          ],
          "name": "stderr"
        },
        {
          "output_type": "stream",
          "text": [
            "Episode 372\tCurrent Reward: 235.00\n"
          ],
          "name": "stdout"
        },
        {
          "output_type": "stream",
          "text": [
            " 37%|███▋      | 374/1000 [2:10:05<2:36:10, 14.97s/it]"
          ],
          "name": "stderr"
        },
        {
          "output_type": "stream",
          "text": [
            "Episode 373\tCurrent Reward: 799.00\n"
          ],
          "name": "stdout"
        },
        {
          "output_type": "stream",
          "text": [
            " 38%|███▊      | 375/1000 [2:10:35<3:21:59, 19.39s/it]"
          ],
          "name": "stderr"
        },
        {
          "output_type": "stream",
          "text": [
            "Episode 374\tCurrent Reward: 612.00\n"
          ],
          "name": "stdout"
        },
        {
          "output_type": "stream",
          "text": [
            " 38%|███▊      | 376/1000 [2:10:57<3:30:49, 20.27s/it]"
          ],
          "name": "stderr"
        },
        {
          "output_type": "stream",
          "text": [
            "Episode 375\tCurrent Reward: 614.00\n"
          ],
          "name": "stdout"
        },
        {
          "output_type": "stream",
          "text": [
            " 38%|███▊      | 377/1000 [2:11:00<2:37:50, 15.20s/it]"
          ],
          "name": "stderr"
        },
        {
          "output_type": "stream",
          "text": [
            "Episode 376\tCurrent Reward: 236.00\n"
          ],
          "name": "stdout"
        },
        {
          "output_type": "stream",
          "text": [
            " 38%|███▊      | 378/1000 [2:11:03<1:59:28, 11.52s/it]"
          ],
          "name": "stderr"
        },
        {
          "output_type": "stream",
          "text": [
            "Episode 377\tCurrent Reward: 251.00\n"
          ],
          "name": "stdout"
        },
        {
          "output_type": "stream",
          "text": [
            " 38%|███▊      | 379/1000 [2:12:22<5:29:31, 31.84s/it]"
          ],
          "name": "stderr"
        },
        {
          "output_type": "stream",
          "text": [
            "Episode 378\tCurrent Reward: 921.00\n"
          ],
          "name": "stdout"
        },
        {
          "output_type": "stream",
          "text": [
            " 38%|███▊      | 380/1000 [2:12:26<4:01:20, 23.36s/it]"
          ],
          "name": "stderr"
        },
        {
          "output_type": "stream",
          "text": [
            "Episode 379\tCurrent Reward: 249.00\n",
            "==========\n",
            "Epoch: 380, average reward: 602.700000\n",
            "==========\n"
          ],
          "name": "stdout"
        },
        {
          "output_type": "stream",
          "text": [
            " 38%|███▊      | 381/1000 [2:12:51<4:06:49, 23.93s/it]"
          ],
          "name": "stderr"
        },
        {
          "output_type": "stream",
          "text": [
            "Episode 380\tCurrent Reward: 786.00\n"
          ],
          "name": "stdout"
        },
        {
          "output_type": "stream",
          "text": [
            " 38%|███▊      | 382/1000 [2:12:54<3:01:50, 17.65s/it]"
          ],
          "name": "stderr"
        },
        {
          "output_type": "stream",
          "text": [
            "Episode 381\tCurrent Reward: 246.00\n"
          ],
          "name": "stdout"
        },
        {
          "output_type": "stream",
          "text": [
            " 38%|███▊      | 383/1000 [2:13:02<2:30:50, 14.67s/it]"
          ],
          "name": "stderr"
        },
        {
          "output_type": "stream",
          "text": [
            "Episode 382\tCurrent Reward: 653.00\n"
          ],
          "name": "stdout"
        },
        {
          "output_type": "stream",
          "text": [
            " 38%|███▊      | 384/1000 [2:13:30<3:11:09, 18.62s/it]"
          ],
          "name": "stderr"
        },
        {
          "output_type": "stream",
          "text": [
            "Episode 383\tCurrent Reward: 1323.00\n"
          ],
          "name": "stdout"
        },
        {
          "output_type": "stream",
          "text": [
            " 38%|███▊      | 385/1000 [2:14:00<3:46:18, 22.08s/it]"
          ],
          "name": "stderr"
        },
        {
          "output_type": "stream",
          "text": [
            "Episode 384\tCurrent Reward: 788.00\n"
          ],
          "name": "stdout"
        },
        {
          "output_type": "stream",
          "text": [
            " 39%|███▊      | 386/1000 [2:14:16<3:27:26, 20.27s/it]"
          ],
          "name": "stderr"
        },
        {
          "output_type": "stream",
          "text": [
            "Episode 385\tCurrent Reward: 785.00\n"
          ],
          "name": "stdout"
        },
        {
          "output_type": "stream",
          "text": [
            " 39%|███▊      | 387/1000 [2:14:20<2:37:14, 15.39s/it]"
          ],
          "name": "stderr"
        },
        {
          "output_type": "stream",
          "text": [
            "Episode 386\tCurrent Reward: 225.00\n"
          ],
          "name": "stdout"
        },
        {
          "output_type": "stream",
          "text": [
            " 39%|███▉      | 388/1000 [2:15:03<4:00:55, 23.62s/it]"
          ],
          "name": "stderr"
        },
        {
          "output_type": "stream",
          "text": [
            "Episode 387\tCurrent Reward: 992.00\n"
          ],
          "name": "stdout"
        },
        {
          "output_type": "stream",
          "text": [
            " 39%|███▉      | 389/1000 [2:15:18<3:35:11, 21.13s/it]"
          ],
          "name": "stderr"
        },
        {
          "output_type": "stream",
          "text": [
            "Episode 388\tCurrent Reward: 624.00\n"
          ],
          "name": "stdout"
        },
        {
          "output_type": "stream",
          "text": [
            " 39%|███▉      | 390/1000 [2:16:10<5:08:53, 30.38s/it]"
          ],
          "name": "stderr"
        },
        {
          "output_type": "stream",
          "text": [
            "Episode 389\tCurrent Reward: 977.00\n"
          ],
          "name": "stdout"
        },
        {
          "output_type": "stream",
          "text": [
            " 39%|███▉      | 391/1000 [2:16:18<3:59:06, 23.56s/it]"
          ],
          "name": "stderr"
        },
        {
          "output_type": "stream",
          "text": [
            "Episode 390\tCurrent Reward: 653.00\n"
          ],
          "name": "stdout"
        },
        {
          "output_type": "stream",
          "text": [
            " 39%|███▉      | 392/1000 [2:16:45<4:10:46, 24.75s/it]"
          ],
          "name": "stderr"
        },
        {
          "output_type": "stream",
          "text": [
            "Episode 391\tCurrent Reward: 689.00\n"
          ],
          "name": "stdout"
        },
        {
          "output_type": "stream",
          "text": [
            " 39%|███▉      | 393/1000 [2:16:57<3:31:29, 20.90s/it]"
          ],
          "name": "stderr"
        },
        {
          "output_type": "stream",
          "text": [
            "Episode 392\tCurrent Reward: 583.00\n"
          ],
          "name": "stdout"
        },
        {
          "output_type": "stream",
          "text": [
            " 39%|███▉      | 394/1000 [2:17:23<3:45:51, 22.36s/it]"
          ],
          "name": "stderr"
        },
        {
          "output_type": "stream",
          "text": [
            "Episode 393\tCurrent Reward: 1405.00\n"
          ],
          "name": "stdout"
        },
        {
          "output_type": "stream",
          "text": [
            " 40%|███▉      | 395/1000 [2:17:39<3:26:42, 20.50s/it]"
          ],
          "name": "stderr"
        },
        {
          "output_type": "stream",
          "text": [
            "Episode 394\tCurrent Reward: 637.00\n"
          ],
          "name": "stdout"
        },
        {
          "output_type": "stream",
          "text": [
            " 40%|███▉      | 396/1000 [2:17:42<2:34:19, 15.33s/it]"
          ],
          "name": "stderr"
        },
        {
          "output_type": "stream",
          "text": [
            "Episode 395\tCurrent Reward: 249.00\n"
          ],
          "name": "stdout"
        },
        {
          "output_type": "stream",
          "text": [
            " 40%|███▉      | 397/1000 [2:18:23<3:50:22, 22.92s/it]"
          ],
          "name": "stderr"
        },
        {
          "output_type": "stream",
          "text": [
            "Episode 396\tCurrent Reward: 999.00\n"
          ],
          "name": "stdout"
        },
        {
          "output_type": "stream",
          "text": [
            " 40%|███▉      | 398/1000 [2:18:46<3:51:39, 23.09s/it]"
          ],
          "name": "stderr"
        },
        {
          "output_type": "stream",
          "text": [
            "Episode 397\tCurrent Reward: 1033.00\n"
          ],
          "name": "stdout"
        },
        {
          "output_type": "stream",
          "text": [
            " 40%|███▉      | 399/1000 [2:18:50<2:51:44, 17.15s/it]"
          ],
          "name": "stderr"
        },
        {
          "output_type": "stream",
          "text": [
            "Episode 398\tCurrent Reward: 251.00\n"
          ],
          "name": "stdout"
        },
        {
          "output_type": "stream",
          "text": [
            " 40%|████      | 400/1000 [2:21:34<10:12:40, 61.27s/it]"
          ],
          "name": "stderr"
        },
        {
          "output_type": "stream",
          "text": [
            "Episode 399\tCurrent Reward: 771.00\n",
            "==========\n",
            "Epoch: 400, average reward: 733.450000\n",
            "==========\n"
          ],
          "name": "stdout"
        },
        {
          "output_type": "stream",
          "text": [
            " 40%|████      | 401/1000 [2:21:53<8:05:13, 48.60s/it] "
          ],
          "name": "stderr"
        },
        {
          "output_type": "stream",
          "text": [
            "Episode 400\tCurrent Reward: 752.00\n"
          ],
          "name": "stdout"
        },
        {
          "output_type": "stream",
          "text": [
            " 40%|████      | 402/1000 [2:22:21<7:01:52, 42.33s/it]"
          ],
          "name": "stderr"
        },
        {
          "output_type": "stream",
          "text": [
            "Episode 401\tCurrent Reward: 1415.00\n"
          ],
          "name": "stdout"
        },
        {
          "output_type": "stream",
          "text": [
            " 40%|████      | 403/1000 [2:22:37<5:44:34, 34.63s/it]"
          ],
          "name": "stderr"
        },
        {
          "output_type": "stream",
          "text": [
            "Episode 402\tCurrent Reward: 771.00\n"
          ],
          "name": "stdout"
        },
        {
          "output_type": "stream",
          "text": [
            " 40%|████      | 404/1000 [2:23:08<5:30:38, 33.29s/it]"
          ],
          "name": "stderr"
        },
        {
          "output_type": "stream",
          "text": [
            "Episode 403\tCurrent Reward: 1016.00\n"
          ],
          "name": "stdout"
        },
        {
          "output_type": "stream",
          "text": [
            " 40%|████      | 405/1000 [2:23:21<4:30:20, 27.26s/it]"
          ],
          "name": "stderr"
        },
        {
          "output_type": "stream",
          "text": [
            "Episode 404\tCurrent Reward: 803.00\n"
          ],
          "name": "stdout"
        },
        {
          "output_type": "stream",
          "text": [
            " 41%|████      | 406/1000 [2:23:32<3:42:42, 22.50s/it]"
          ],
          "name": "stderr"
        },
        {
          "output_type": "stream",
          "text": [
            "Episode 405\tCurrent Reward: 791.00\n"
          ],
          "name": "stdout"
        },
        {
          "output_type": "stream",
          "text": [
            " 41%|████      | 407/1000 [2:23:44<3:10:49, 19.31s/it]"
          ],
          "name": "stderr"
        },
        {
          "output_type": "stream",
          "text": [
            "Episode 406\tCurrent Reward: 1316.00\n"
          ],
          "name": "stdout"
        },
        {
          "output_type": "stream",
          "text": [
            " 41%|████      | 408/1000 [2:23:50<2:32:28, 15.45s/it]"
          ],
          "name": "stderr"
        },
        {
          "output_type": "stream",
          "text": [
            "Episode 407\tCurrent Reward: 638.00\n"
          ],
          "name": "stdout"
        },
        {
          "output_type": "stream",
          "text": [
            " 41%|████      | 409/1000 [2:24:03<2:22:16, 14.44s/it]"
          ],
          "name": "stderr"
        },
        {
          "output_type": "stream",
          "text": [
            "Episode 408\tCurrent Reward: 612.00\n"
          ],
          "name": "stdout"
        },
        {
          "output_type": "stream",
          "text": [
            " 41%|████      | 410/1000 [2:24:13<2:09:34, 13.18s/it]"
          ],
          "name": "stderr"
        },
        {
          "output_type": "stream",
          "text": [
            "Episode 409\tCurrent Reward: 1025.00\n"
          ],
          "name": "stdout"
        },
        {
          "output_type": "stream",
          "text": [
            " 41%|████      | 411/1000 [2:24:27<2:11:02, 13.35s/it]"
          ],
          "name": "stderr"
        },
        {
          "output_type": "stream",
          "text": [
            "Episode 410\tCurrent Reward: 780.00\n"
          ],
          "name": "stdout"
        },
        {
          "output_type": "stream",
          "text": [
            " 41%|████      | 412/1000 [2:24:42<2:16:55, 13.97s/it]"
          ],
          "name": "stderr"
        },
        {
          "output_type": "stream",
          "text": [
            "Episode 411\tCurrent Reward: 1296.00\n"
          ],
          "name": "stdout"
        },
        {
          "output_type": "stream",
          "text": [
            " 41%|████▏     | 413/1000 [2:24:43<1:39:26, 10.16s/it]"
          ],
          "name": "stderr"
        },
        {
          "output_type": "stream",
          "text": [
            "Episode 412\tCurrent Reward: 248.00\n"
          ],
          "name": "stdout"
        },
        {
          "output_type": "stream",
          "text": [
            " 41%|████▏     | 414/1000 [2:25:22<3:02:07, 18.65s/it]"
          ],
          "name": "stderr"
        },
        {
          "output_type": "stream",
          "text": [
            "Episode 413\tCurrent Reward: 894.00\n"
          ],
          "name": "stdout"
        },
        {
          "output_type": "stream",
          "text": [
            " 42%|████▏     | 415/1000 [2:25:45<3:15:48, 20.08s/it]"
          ],
          "name": "stderr"
        },
        {
          "output_type": "stream",
          "text": [
            "Episode 414\tCurrent Reward: 1255.00\n"
          ],
          "name": "stdout"
        },
        {
          "output_type": "stream",
          "text": [
            " 42%|████▏     | 416/1000 [2:26:00<2:59:12, 18.41s/it]"
          ],
          "name": "stderr"
        },
        {
          "output_type": "stream",
          "text": [
            "Episode 415\tCurrent Reward: 601.00\n"
          ],
          "name": "stdout"
        },
        {
          "output_type": "stream",
          "text": [
            " 42%|████▏     | 417/1000 [2:26:03<2:13:54, 13.78s/it]"
          ],
          "name": "stderr"
        },
        {
          "output_type": "stream",
          "text": [
            "Episode 416\tCurrent Reward: 608.00\n"
          ],
          "name": "stdout"
        },
        {
          "output_type": "stream",
          "text": [
            " 42%|████▏     | 418/1000 [2:27:16<5:08:23, 31.79s/it]"
          ],
          "name": "stderr"
        },
        {
          "output_type": "stream",
          "text": [
            "Episode 417\tCurrent Reward: 2078.00\n"
          ],
          "name": "stdout"
        },
        {
          "output_type": "stream",
          "text": [
            " 42%|████▏     | 419/1000 [2:27:37<4:34:45, 28.37s/it]"
          ],
          "name": "stderr"
        },
        {
          "output_type": "stream",
          "text": [
            "Episode 418\tCurrent Reward: 628.00\n"
          ],
          "name": "stdout"
        },
        {
          "output_type": "stream",
          "text": [
            " 42%|████▏     | 420/1000 [2:27:45<3:36:07, 22.36s/it]"
          ],
          "name": "stderr"
        },
        {
          "output_type": "stream",
          "text": [
            "Episode 419\tCurrent Reward: 634.00\n",
            "==========\n",
            "Epoch: 420, average reward: 908.050000\n",
            "==========\n"
          ],
          "name": "stdout"
        },
        {
          "output_type": "stream",
          "text": [
            " 42%|████▏     | 421/1000 [2:27:48<2:40:01, 16.58s/it]"
          ],
          "name": "stderr"
        },
        {
          "output_type": "stream",
          "text": [
            "Episode 420\tCurrent Reward: 248.00\n"
          ],
          "name": "stdout"
        },
        {
          "output_type": "stream",
          "text": [
            " 42%|████▏     | 422/1000 [2:28:12<3:01:19, 18.82s/it]"
          ],
          "name": "stderr"
        },
        {
          "output_type": "stream",
          "text": [
            "Episode 421\tCurrent Reward: 1333.00\n"
          ],
          "name": "stdout"
        },
        {
          "output_type": "stream",
          "text": [
            " 42%|████▏     | 423/1000 [2:28:16<2:16:43, 14.22s/it]"
          ],
          "name": "stderr"
        },
        {
          "output_type": "stream",
          "text": [
            "Episode 422\tCurrent Reward: 242.00\n"
          ],
          "name": "stdout"
        },
        {
          "output_type": "stream",
          "text": [
            " 42%|████▏     | 424/1000 [2:28:28<2:10:06, 13.55s/it]"
          ],
          "name": "stderr"
        },
        {
          "output_type": "stream",
          "text": [
            "Episode 423\tCurrent Reward: 616.00\n"
          ],
          "name": "stdout"
        },
        {
          "output_type": "stream",
          "text": [
            " 42%|████▎     | 425/1000 [2:28:37<1:58:46, 12.39s/it]"
          ],
          "name": "stderr"
        },
        {
          "output_type": "stream",
          "text": [
            "Episode 424\tCurrent Reward: 626.00\n"
          ],
          "name": "stdout"
        },
        {
          "output_type": "stream",
          "text": [
            " 43%|████▎     | 426/1000 [2:28:58<2:22:08, 14.86s/it]"
          ],
          "name": "stderr"
        },
        {
          "output_type": "stream",
          "text": [
            "Episode 425\tCurrent Reward: 1042.00\n"
          ],
          "name": "stdout"
        },
        {
          "output_type": "stream",
          "text": [
            " 43%|████▎     | 427/1000 [2:29:01<1:48:25, 11.35s/it]"
          ],
          "name": "stderr"
        },
        {
          "output_type": "stream",
          "text": [
            "Episode 426\tCurrent Reward: 251.00\n"
          ],
          "name": "stdout"
        },
        {
          "output_type": "stream",
          "text": [
            " 43%|████▎     | 428/1000 [2:30:26<5:19:15, 33.49s/it]"
          ],
          "name": "stderr"
        },
        {
          "output_type": "stream",
          "text": [
            "Episode 427\tCurrent Reward: 1207.00\n"
          ],
          "name": "stdout"
        },
        {
          "output_type": "stream",
          "text": [
            " 43%|████▎     | 429/1000 [2:30:30<3:54:20, 24.62s/it]"
          ],
          "name": "stderr"
        },
        {
          "output_type": "stream",
          "text": [
            "Episode 428\tCurrent Reward: 240.00\n"
          ],
          "name": "stdout"
        },
        {
          "output_type": "stream",
          "text": [
            " 43%|████▎     | 430/1000 [2:30:47<3:32:34, 22.38s/it]"
          ],
          "name": "stderr"
        },
        {
          "output_type": "stream",
          "text": [
            "Episode 429\tCurrent Reward: 813.00\n"
          ],
          "name": "stdout"
        },
        {
          "output_type": "stream",
          "text": [
            " 43%|████▎     | 431/1000 [2:31:08<3:27:16, 21.86s/it]"
          ],
          "name": "stderr"
        },
        {
          "output_type": "stream",
          "text": [
            "Episode 430\tCurrent Reward: 807.00\n"
          ],
          "name": "stdout"
        },
        {
          "output_type": "stream",
          "text": [
            " 43%|████▎     | 432/1000 [2:31:33<3:34:35, 22.67s/it]"
          ],
          "name": "stderr"
        },
        {
          "output_type": "stream",
          "text": [
            "Episode 431\tCurrent Reward: 1036.00\n"
          ],
          "name": "stdout"
        },
        {
          "output_type": "stream",
          "text": [
            " 43%|████▎     | 433/1000 [2:35:11<12:49:15, 81.40s/it]"
          ],
          "name": "stderr"
        },
        {
          "output_type": "stream",
          "text": [
            "Episode 432\tCurrent Reward: 263.00\n"
          ],
          "name": "stdout"
        },
        {
          "output_type": "stream",
          "text": [
            " 43%|████▎     | 434/1000 [2:36:40<13:08:27, 83.58s/it]"
          ],
          "name": "stderr"
        },
        {
          "output_type": "stream",
          "text": [
            "Episode 433\tCurrent Reward: 639.00\n"
          ],
          "name": "stdout"
        },
        {
          "output_type": "stream",
          "text": [
            " 44%|████▎     | 435/1000 [2:37:16<10:54:26, 69.50s/it]"
          ],
          "name": "stderr"
        },
        {
          "output_type": "stream",
          "text": [
            "Episode 434\tCurrent Reward: 1006.00\n"
          ],
          "name": "stdout"
        },
        {
          "output_type": "stream",
          "text": [
            " 44%|████▎     | 436/1000 [2:37:20<7:46:20, 49.61s/it] "
          ],
          "name": "stderr"
        },
        {
          "output_type": "stream",
          "text": [
            "Episode 435\tCurrent Reward: 248.00\n"
          ],
          "name": "stdout"
        },
        {
          "output_type": "stream",
          "text": [
            " 44%|████▎     | 437/1000 [2:39:13<10:44:12, 68.66s/it]"
          ],
          "name": "stderr"
        },
        {
          "output_type": "stream",
          "text": [
            "Episode 436\tCurrent Reward: 1138.00\n"
          ],
          "name": "stdout"
        },
        {
          "output_type": "stream",
          "text": [
            " 44%|████▍     | 438/1000 [2:39:39<8:43:15, 55.86s/it] "
          ],
          "name": "stderr"
        },
        {
          "output_type": "stream",
          "text": [
            "Episode 437\tCurrent Reward: 795.00\n"
          ],
          "name": "stdout"
        },
        {
          "output_type": "stream",
          "text": [
            " 44%|████▍     | 439/1000 [2:39:56<6:54:19, 44.31s/it]"
          ],
          "name": "stderr"
        },
        {
          "output_type": "stream",
          "text": [
            "Episode 438\tCurrent Reward: 635.00\n"
          ],
          "name": "stdout"
        },
        {
          "output_type": "stream",
          "text": [
            " 44%|████▍     | 440/1000 [2:40:00<5:01:42, 32.33s/it]"
          ],
          "name": "stderr"
        },
        {
          "output_type": "stream",
          "text": [
            "Episode 439\tCurrent Reward: 240.00\n",
            "==========\n",
            "Epoch: 440, average reward: 671.250000\n",
            "==========\n"
          ],
          "name": "stdout"
        },
        {
          "output_type": "stream",
          "text": [
            " 44%|████▍     | 441/1000 [2:40:15<4:10:18, 26.87s/it]"
          ],
          "name": "stderr"
        },
        {
          "output_type": "stream",
          "text": [
            "Episode 440\tCurrent Reward: 573.00\n"
          ],
          "name": "stdout"
        },
        {
          "output_type": "stream",
          "text": [
            " 44%|████▍     | 442/1000 [2:40:31<3:40:16, 23.69s/it]"
          ],
          "name": "stderr"
        },
        {
          "output_type": "stream",
          "text": [
            "Episode 441\tCurrent Reward: 585.00\n"
          ],
          "name": "stdout"
        },
        {
          "output_type": "stream",
          "text": [
            " 44%|████▍     | 443/1000 [2:40:56<3:43:25, 24.07s/it]"
          ],
          "name": "stderr"
        },
        {
          "output_type": "stream",
          "text": [
            "Episode 442\tCurrent Reward: 1320.00\n"
          ],
          "name": "stdout"
        },
        {
          "output_type": "stream",
          "text": [
            " 44%|████▍     | 444/1000 [2:41:00<2:46:53, 18.01s/it]"
          ],
          "name": "stderr"
        },
        {
          "output_type": "stream",
          "text": [
            "Episode 443\tCurrent Reward: 231.00\n"
          ],
          "name": "stdout"
        },
        {
          "output_type": "stream",
          "text": [
            " 44%|████▍     | 445/1000 [2:41:20<2:53:48, 18.79s/it]"
          ],
          "name": "stderr"
        },
        {
          "output_type": "stream",
          "text": [
            "Episode 444\tCurrent Reward: 574.00\n"
          ],
          "name": "stdout"
        },
        {
          "output_type": "stream",
          "text": [
            " 45%|████▍     | 446/1000 [2:41:42<3:02:51, 19.81s/it]"
          ],
          "name": "stderr"
        },
        {
          "output_type": "stream",
          "text": [
            "Episode 445\tCurrent Reward: 1039.00\n"
          ],
          "name": "stdout"
        },
        {
          "output_type": "stream",
          "text": [
            " 45%|████▍     | 447/1000 [2:42:12<3:28:26, 22.62s/it]"
          ],
          "name": "stderr"
        },
        {
          "output_type": "stream",
          "text": [
            "Episode 446\tCurrent Reward: 1304.00\n"
          ],
          "name": "stdout"
        },
        {
          "output_type": "stream",
          "text": [
            " 45%|████▍     | 448/1000 [2:42:15<2:34:35, 16.80s/it]"
          ],
          "name": "stderr"
        },
        {
          "output_type": "stream",
          "text": [
            "Episode 447\tCurrent Reward: 247.00\n"
          ],
          "name": "stdout"
        },
        {
          "output_type": "stream",
          "text": [
            " 45%|████▍     | 449/1000 [2:42:58<3:47:19, 24.75s/it]"
          ],
          "name": "stderr"
        },
        {
          "output_type": "stream",
          "text": [
            "Episode 448\tCurrent Reward: 992.00\n"
          ],
          "name": "stdout"
        },
        {
          "output_type": "stream",
          "text": [
            " 45%|████▌     | 450/1000 [2:43:19<3:36:41, 23.64s/it]"
          ],
          "name": "stderr"
        },
        {
          "output_type": "stream",
          "text": [
            "Episode 449\tCurrent Reward: 1034.00\n"
          ],
          "name": "stdout"
        },
        {
          "output_type": "stream",
          "text": [
            " 45%|████▌     | 451/1000 [2:43:47<3:47:18, 24.84s/it]"
          ],
          "name": "stderr"
        },
        {
          "output_type": "stream",
          "text": [
            "Episode 450\tCurrent Reward: 1028.00\n"
          ],
          "name": "stdout"
        },
        {
          "output_type": "stream",
          "text": [
            " 45%|████▌     | 452/1000 [2:44:11<3:45:14, 24.66s/it]"
          ],
          "name": "stderr"
        },
        {
          "output_type": "stream",
          "text": [
            "Episode 451\tCurrent Reward: 702.00\n"
          ],
          "name": "stdout"
        },
        {
          "output_type": "stream",
          "text": [
            " 45%|████▌     | 453/1000 [2:44:36<3:44:50, 24.66s/it]"
          ],
          "name": "stderr"
        },
        {
          "output_type": "stream",
          "text": [
            "Episode 452\tCurrent Reward: 1048.00\n"
          ],
          "name": "stdout"
        },
        {
          "output_type": "stream",
          "text": [
            " 45%|████▌     | 454/1000 [2:44:39<2:45:33, 18.19s/it]"
          ],
          "name": "stderr"
        },
        {
          "output_type": "stream",
          "text": [
            "Episode 453\tCurrent Reward: 251.00\n"
          ],
          "name": "stdout"
        },
        {
          "output_type": "stream",
          "text": [
            " 46%|████▌     | 455/1000 [2:44:47<2:18:05, 15.20s/it]"
          ],
          "name": "stderr"
        },
        {
          "output_type": "stream",
          "text": [
            "Episode 454\tCurrent Reward: 630.00\n"
          ],
          "name": "stdout"
        },
        {
          "output_type": "stream",
          "text": [
            " 46%|████▌     | 456/1000 [2:44:55<1:57:00, 12.90s/it]"
          ],
          "name": "stderr"
        },
        {
          "output_type": "stream",
          "text": [
            "Episode 455\tCurrent Reward: 612.00\n"
          ],
          "name": "stdout"
        },
        {
          "output_type": "stream",
          "text": [
            " 46%|████▌     | 457/1000 [2:44:58<1:31:06, 10.07s/it]"
          ],
          "name": "stderr"
        },
        {
          "output_type": "stream",
          "text": [
            "Episode 456\tCurrent Reward: 243.00\n"
          ],
          "name": "stdout"
        },
        {
          "output_type": "stream",
          "text": [
            " 46%|████▌     | 458/1000 [2:45:18<1:58:48, 13.15s/it]"
          ],
          "name": "stderr"
        },
        {
          "output_type": "stream",
          "text": [
            "Episode 457\tCurrent Reward: 735.00\n"
          ],
          "name": "stdout"
        },
        {
          "output_type": "stream",
          "text": [
            " 46%|████▌     | 459/1000 [2:45:55<3:02:07, 20.20s/it]"
          ],
          "name": "stderr"
        },
        {
          "output_type": "stream",
          "text": [
            "Episode 458\tCurrent Reward: 1117.00\n"
          ],
          "name": "stdout"
        },
        {
          "output_type": "stream",
          "text": [
            " 46%|████▌     | 460/1000 [2:46:23<3:23:08, 22.57s/it]"
          ],
          "name": "stderr"
        },
        {
          "output_type": "stream",
          "text": [
            "Episode 459\tCurrent Reward: 1299.00\n",
            "==========\n",
            "Epoch: 460, average reward: 778.200000\n",
            "==========\n"
          ],
          "name": "stdout"
        },
        {
          "output_type": "stream",
          "text": [
            " 46%|████▌     | 461/1000 [2:47:26<5:12:13, 34.76s/it]"
          ],
          "name": "stderr"
        },
        {
          "output_type": "stream",
          "text": [
            "Episode 460\tCurrent Reward: 962.00\n"
          ],
          "name": "stdout"
        },
        {
          "output_type": "stream",
          "text": [
            " 46%|████▌     | 462/1000 [2:48:24<6:14:13, 41.74s/it]"
          ],
          "name": "stderr"
        },
        {
          "output_type": "stream",
          "text": [
            "Episode 461\tCurrent Reward: 1249.00\n"
          ],
          "name": "stdout"
        },
        {
          "output_type": "stream",
          "text": [
            " 46%|████▋     | 463/1000 [2:48:57<5:48:16, 38.91s/it]"
          ],
          "name": "stderr"
        },
        {
          "output_type": "stream",
          "text": [
            "Episode 462\tCurrent Reward: 1022.00\n"
          ],
          "name": "stdout"
        },
        {
          "output_type": "stream",
          "text": [
            " 46%|████▋     | 464/1000 [2:49:58<6:48:55, 45.78s/it]"
          ],
          "name": "stderr"
        },
        {
          "output_type": "stream",
          "text": [
            "Episode 463\tCurrent Reward: 1239.00\n"
          ],
          "name": "stdout"
        },
        {
          "output_type": "stream",
          "text": [
            " 46%|████▋     | 465/1000 [2:50:48<6:58:02, 46.88s/it]"
          ],
          "name": "stderr"
        },
        {
          "output_type": "stream",
          "text": [
            "Episode 464\tCurrent Reward: 984.00\n"
          ],
          "name": "stdout"
        },
        {
          "output_type": "stream",
          "text": [
            " 47%|████▋     | 466/1000 [2:51:20<6:17:57, 42.47s/it]"
          ],
          "name": "stderr"
        },
        {
          "output_type": "stream",
          "text": [
            "Episode 465\tCurrent Reward: 727.00\n"
          ],
          "name": "stdout"
        },
        {
          "output_type": "stream",
          "text": [
            " 47%|████▋     | 467/1000 [2:51:24<4:35:01, 30.96s/it]"
          ],
          "name": "stderr"
        },
        {
          "output_type": "stream",
          "text": [
            "Episode 466\tCurrent Reward: 240.00\n"
          ],
          "name": "stdout"
        },
        {
          "output_type": "stream",
          "text": [
            " 47%|████▋     | 468/1000 [2:51:35<3:40:50, 24.91s/it]"
          ],
          "name": "stderr"
        },
        {
          "output_type": "stream",
          "text": [
            "Episode 467\tCurrent Reward: 618.00\n"
          ],
          "name": "stdout"
        },
        {
          "output_type": "stream",
          "text": [
            " 47%|████▋     | 469/1000 [2:52:36<5:15:14, 35.62s/it]"
          ],
          "name": "stderr"
        },
        {
          "output_type": "stream",
          "text": [
            "Episode 468\tCurrent Reward: 1246.00\n"
          ],
          "name": "stdout"
        },
        {
          "output_type": "stream",
          "text": [
            " 47%|████▋     | 470/1000 [2:54:47<9:27:47, 64.28s/it]"
          ],
          "name": "stderr"
        },
        {
          "output_type": "stream",
          "text": [
            "Episode 469\tCurrent Reward: 1115.00\n"
          ],
          "name": "stdout"
        },
        {
          "output_type": "stream",
          "text": [
            " 47%|████▋     | 471/1000 [2:54:50<6:45:08, 45.95s/it]"
          ],
          "name": "stderr"
        },
        {
          "output_type": "stream",
          "text": [
            "Episode 470\tCurrent Reward: 249.00\n"
          ],
          "name": "stdout"
        },
        {
          "output_type": "stream",
          "text": [
            " 47%|████▋     | 472/1000 [2:55:16<5:51:11, 39.91s/it]"
          ],
          "name": "stderr"
        },
        {
          "output_type": "stream",
          "text": [
            "Episode 471\tCurrent Reward: 708.00\n"
          ],
          "name": "stdout"
        },
        {
          "output_type": "stream",
          "text": [
            " 47%|████▋     | 473/1000 [2:55:38<5:05:02, 34.73s/it]"
          ],
          "name": "stderr"
        },
        {
          "output_type": "stream",
          "text": [
            "Episode 472\tCurrent Reward: 1057.00\n"
          ],
          "name": "stdout"
        },
        {
          "output_type": "stream",
          "text": [
            " 47%|████▋     | 474/1000 [2:56:02<4:34:31, 31.31s/it]"
          ],
          "name": "stderr"
        },
        {
          "output_type": "stream",
          "text": [
            "Episode 473\tCurrent Reward: 701.00\n"
          ],
          "name": "stdout"
        },
        {
          "output_type": "stream",
          "text": [
            " 48%|████▊     | 475/1000 [2:57:47<7:49:04, 53.61s/it]"
          ],
          "name": "stderr"
        },
        {
          "output_type": "stream",
          "text": [
            "Episode 474\tCurrent Reward: 2932.00\n"
          ],
          "name": "stdout"
        },
        {
          "output_type": "stream",
          "text": [
            " 48%|████▊     | 476/1000 [2:58:32<7:25:12, 50.98s/it]"
          ],
          "name": "stderr"
        },
        {
          "output_type": "stream",
          "text": [
            "Episode 475\tCurrent Reward: 1379.00\n"
          ],
          "name": "stdout"
        },
        {
          "output_type": "stream",
          "text": [
            " 48%|████▊     | 477/1000 [2:58:36<5:21:54, 36.93s/it]"
          ],
          "name": "stderr"
        },
        {
          "output_type": "stream",
          "text": [
            "Episode 476\tCurrent Reward: 229.00\n"
          ],
          "name": "stdout"
        },
        {
          "output_type": "stream",
          "text": [
            " 48%|████▊     | 478/1000 [2:58:45<4:07:08, 28.41s/it]"
          ],
          "name": "stderr"
        },
        {
          "output_type": "stream",
          "text": [
            "Episode 477\tCurrent Reward: 635.00\n"
          ],
          "name": "stdout"
        },
        {
          "output_type": "stream",
          "text": [
            " 48%|████▊     | 479/1000 [2:58:56<3:22:02, 23.27s/it]"
          ],
          "name": "stderr"
        },
        {
          "output_type": "stream",
          "text": [
            "Episode 478\tCurrent Reward: 646.00\n"
          ],
          "name": "stdout"
        },
        {
          "output_type": "stream",
          "text": [
            " 48%|████▊     | 480/1000 [2:59:21<3:25:58, 23.77s/it]"
          ],
          "name": "stderr"
        },
        {
          "output_type": "stream",
          "text": [
            "Episode 479\tCurrent Reward: 711.00\n",
            "==========\n",
            "Epoch: 480, average reward: 932.450000\n",
            "==========\n"
          ],
          "name": "stdout"
        },
        {
          "output_type": "stream",
          "text": [
            " 48%|████▊     | 481/1000 [2:59:46<3:28:13, 24.07s/it]"
          ],
          "name": "stderr"
        },
        {
          "output_type": "stream",
          "text": [
            "Episode 480\tCurrent Reward: 621.00\n"
          ],
          "name": "stdout"
        },
        {
          "output_type": "stream",
          "text": [
            " 48%|████▊     | 482/1000 [2:59:51<2:37:39, 18.26s/it]"
          ],
          "name": "stderr"
        },
        {
          "output_type": "stream",
          "text": [
            "Episode 481\tCurrent Reward: 221.00\n"
          ],
          "name": "stdout"
        },
        {
          "output_type": "stream",
          "text": [
            " 48%|████▊     | 483/1000 [2:59:54<1:59:11, 13.83s/it]"
          ],
          "name": "stderr"
        },
        {
          "output_type": "stream",
          "text": [
            "Episode 482\tCurrent Reward: 245.00\n"
          ],
          "name": "stdout"
        },
        {
          "output_type": "stream",
          "text": [
            " 48%|████▊     | 484/1000 [2:59:59<1:37:01, 11.28s/it]"
          ],
          "name": "stderr"
        },
        {
          "output_type": "stream",
          "text": [
            "Episode 483\tCurrent Reward: 209.00\n"
          ],
          "name": "stdout"
        },
        {
          "output_type": "stream",
          "text": [
            " 48%|████▊     | 485/1000 [3:00:03<1:18:10,  9.11s/it]"
          ],
          "name": "stderr"
        },
        {
          "output_type": "stream",
          "text": [
            "Episode 484\tCurrent Reward: 234.00\n"
          ],
          "name": "stdout"
        },
        {
          "output_type": "stream",
          "text": [
            " 49%|████▊     | 486/1000 [3:00:52<2:59:24, 20.94s/it]"
          ],
          "name": "stderr"
        },
        {
          "output_type": "stream",
          "text": [
            "Episode 485\tCurrent Reward: 1090.00\n"
          ],
          "name": "stdout"
        },
        {
          "output_type": "stream",
          "text": [
            " 49%|████▊     | 487/1000 [3:01:45<4:22:29, 30.70s/it]"
          ],
          "name": "stderr"
        },
        {
          "output_type": "stream",
          "text": [
            "Episode 486\tCurrent Reward: 1282.00\n"
          ],
          "name": "stdout"
        },
        {
          "output_type": "stream",
          "text": [
            " 49%|████▉     | 488/1000 [3:02:16<4:21:10, 30.61s/it]"
          ],
          "name": "stderr"
        },
        {
          "output_type": "stream",
          "text": [
            "Episode 487\tCurrent Reward: 1321.00\n"
          ],
          "name": "stdout"
        },
        {
          "output_type": "stream",
          "text": [
            " 49%|████▉     | 489/1000 [3:02:44<4:13:13, 29.73s/it]"
          ],
          "name": "stderr"
        },
        {
          "output_type": "stream",
          "text": [
            "Episode 488\tCurrent Reward: 1835.00\n"
          ],
          "name": "stdout"
        },
        {
          "output_type": "stream",
          "text": [
            " 49%|████▉     | 490/1000 [3:03:20<4:30:50, 31.86s/it]"
          ],
          "name": "stderr"
        },
        {
          "output_type": "stream",
          "text": [
            "Episode 489\tCurrent Reward: 1681.00\n"
          ],
          "name": "stdout"
        },
        {
          "output_type": "stream",
          "text": [
            " 49%|████▉     | 491/1000 [3:03:49<4:22:52, 30.99s/it]"
          ],
          "name": "stderr"
        },
        {
          "output_type": "stream",
          "text": [
            "Episode 490\tCurrent Reward: 1022.00\n"
          ],
          "name": "stdout"
        },
        {
          "output_type": "stream",
          "text": [
            " 49%|████▉     | 492/1000 [3:04:57<5:55:12, 41.95s/it]"
          ],
          "name": "stderr"
        },
        {
          "output_type": "stream",
          "text": [
            "Episode 491\tCurrent Reward: 726.00\n"
          ],
          "name": "stdout"
        },
        {
          "output_type": "stream",
          "text": [
            " 49%|████▉     | 493/1000 [3:05:15<4:54:28, 34.85s/it]"
          ],
          "name": "stderr"
        },
        {
          "output_type": "stream",
          "text": [
            "Episode 492\tCurrent Reward: 767.00\n"
          ],
          "name": "stdout"
        },
        {
          "output_type": "stream",
          "text": [
            " 49%|████▉     | 494/1000 [3:05:53<5:00:15, 35.60s/it]"
          ],
          "name": "stderr"
        },
        {
          "output_type": "stream",
          "text": [
            "Episode 493\tCurrent Reward: 779.00\n"
          ],
          "name": "stdout"
        },
        {
          "output_type": "stream",
          "text": [
            " 50%|████▉     | 495/1000 [3:05:56<3:39:42, 26.10s/it]"
          ],
          "name": "stderr"
        },
        {
          "output_type": "stream",
          "text": [
            "Episode 494\tCurrent Reward: 242.00\n"
          ],
          "name": "stdout"
        },
        {
          "output_type": "stream",
          "text": [
            " 50%|████▉     | 496/1000 [3:06:18<3:28:40, 24.84s/it]"
          ],
          "name": "stderr"
        },
        {
          "output_type": "stream",
          "text": [
            "Episode 495\tCurrent Reward: 700.00\n"
          ],
          "name": "stdout"
        },
        {
          "output_type": "stream",
          "text": [
            " 50%|████▉     | 497/1000 [3:06:31<2:56:59, 21.11s/it]"
          ],
          "name": "stderr"
        },
        {
          "output_type": "stream",
          "text": [
            "Episode 496\tCurrent Reward: 626.00\n"
          ],
          "name": "stdout"
        },
        {
          "output_type": "stream",
          "text": [
            " 50%|████▉     | 498/1000 [3:06:35<2:13:17, 15.93s/it]"
          ],
          "name": "stderr"
        },
        {
          "output_type": "stream",
          "text": [
            "Episode 497\tCurrent Reward: 244.00\n"
          ],
          "name": "stdout"
        },
        {
          "output_type": "stream",
          "text": [
            " 50%|████▉     | 499/1000 [3:07:34<4:02:23, 29.03s/it]"
          ],
          "name": "stderr"
        },
        {
          "output_type": "stream",
          "text": [
            "Episode 498\tCurrent Reward: 978.00\n"
          ],
          "name": "stdout"
        },
        {
          "output_type": "stream",
          "text": [
            " 50%|█████     | 500/1000 [3:07:43<3:12:00, 23.04s/it]"
          ],
          "name": "stderr"
        },
        {
          "output_type": "stream",
          "text": [
            "Episode 499\tCurrent Reward: 605.00\n",
            "==========\n",
            "Epoch: 500, average reward: 771.400000\n",
            "==========\n"
          ],
          "name": "stdout"
        },
        {
          "output_type": "stream",
          "text": [
            " 50%|█████     | 501/1000 [3:08:39<4:34:13, 32.97s/it]"
          ],
          "name": "stderr"
        },
        {
          "output_type": "stream",
          "text": [
            "Episode 500\tCurrent Reward: 1349.00\n"
          ],
          "name": "stdout"
        },
        {
          "output_type": "stream",
          "text": [
            " 50%|█████     | 502/1000 [3:08:44<3:22:21, 24.38s/it]"
          ],
          "name": "stderr"
        },
        {
          "output_type": "stream",
          "text": [
            "Episode 501\tCurrent Reward: 235.00\n"
          ],
          "name": "stdout"
        },
        {
          "output_type": "stream",
          "text": [
            " 50%|█████     | 503/1000 [3:09:01<3:05:20, 22.38s/it]"
          ],
          "name": "stderr"
        },
        {
          "output_type": "stream",
          "text": [
            "Episode 502\tCurrent Reward: 774.00\n"
          ],
          "name": "stdout"
        },
        {
          "output_type": "stream",
          "text": [
            " 50%|█████     | 504/1000 [3:09:18<2:50:53, 20.67s/it]"
          ],
          "name": "stderr"
        },
        {
          "output_type": "stream",
          "text": [
            "Episode 503\tCurrent Reward: 617.00\n"
          ],
          "name": "stdout"
        },
        {
          "output_type": "stream",
          "text": [
            " 50%|█████     | 505/1000 [3:09:53<3:25:52, 24.95s/it]"
          ],
          "name": "stderr"
        },
        {
          "output_type": "stream",
          "text": [
            "Episode 504\tCurrent Reward: 1551.00\n"
          ],
          "name": "stdout"
        },
        {
          "output_type": "stream",
          "text": [
            " 51%|█████     | 506/1000 [3:10:25<3:41:50, 26.94s/it]"
          ],
          "name": "stderr"
        },
        {
          "output_type": "stream",
          "text": [
            "Episode 505\tCurrent Reward: 789.00\n"
          ],
          "name": "stdout"
        },
        {
          "output_type": "stream",
          "text": [
            " 51%|█████     | 507/1000 [3:10:49<3:35:45, 26.26s/it]"
          ],
          "name": "stderr"
        },
        {
          "output_type": "stream",
          "text": [
            "Episode 506\tCurrent Reward: 746.00\n"
          ],
          "name": "stdout"
        },
        {
          "output_type": "stream",
          "text": [
            " 51%|█████     | 508/1000 [3:11:06<3:12:24, 23.46s/it]"
          ],
          "name": "stderr"
        },
        {
          "output_type": "stream",
          "text": [
            "Episode 507\tCurrent Reward: 629.00\n"
          ],
          "name": "stdout"
        },
        {
          "output_type": "stream",
          "text": [
            " 51%|█████     | 509/1000 [3:11:24<2:58:25, 21.80s/it]"
          ],
          "name": "stderr"
        },
        {
          "output_type": "stream",
          "text": [
            "Episode 508\tCurrent Reward: 795.00\n"
          ],
          "name": "stdout"
        },
        {
          "output_type": "stream",
          "text": [
            " 51%|█████     | 510/1000 [3:11:28<2:14:01, 16.41s/it]"
          ],
          "name": "stderr"
        },
        {
          "output_type": "stream",
          "text": [
            "Episode 509\tCurrent Reward: 244.00\n"
          ],
          "name": "stdout"
        },
        {
          "output_type": "stream",
          "text": [
            " 51%|█████     | 511/1000 [3:12:12<3:20:24, 24.59s/it]"
          ],
          "name": "stderr"
        },
        {
          "output_type": "stream",
          "text": [
            "Episode 510\tCurrent Reward: 686.00\n"
          ],
          "name": "stdout"
        },
        {
          "output_type": "stream",
          "text": [
            " 51%|█████     | 512/1000 [3:12:21<2:41:36, 19.87s/it]"
          ],
          "name": "stderr"
        },
        {
          "output_type": "stream",
          "text": [
            "Episode 511\tCurrent Reward: 622.00\n"
          ],
          "name": "stdout"
        },
        {
          "output_type": "stream",
          "text": [
            " 51%|█████▏    | 513/1000 [3:12:25<2:02:40, 15.11s/it]"
          ],
          "name": "stderr"
        },
        {
          "output_type": "stream",
          "text": [
            "Episode 512\tCurrent Reward: 242.00\n"
          ],
          "name": "stdout"
        },
        {
          "output_type": "stream",
          "text": [
            " 51%|█████▏    | 514/1000 [3:13:02<2:55:26, 21.66s/it]"
          ],
          "name": "stderr"
        },
        {
          "output_type": "stream",
          "text": [
            "Episode 513\tCurrent Reward: 1313.00\n"
          ],
          "name": "stdout"
        },
        {
          "output_type": "stream",
          "text": [
            " 52%|█████▏    | 515/1000 [3:13:29<3:09:24, 23.43s/it]"
          ],
          "name": "stderr"
        },
        {
          "output_type": "stream",
          "text": [
            "Episode 514\tCurrent Reward: 1325.00\n"
          ],
          "name": "stdout"
        },
        {
          "output_type": "stream",
          "text": [
            " 52%|█████▏    | 516/1000 [3:13:47<2:54:57, 21.69s/it]"
          ],
          "name": "stderr"
        },
        {
          "output_type": "stream",
          "text": [
            "Episode 515\tCurrent Reward: 637.00\n"
          ],
          "name": "stdout"
        },
        {
          "output_type": "stream",
          "text": [
            " 52%|█████▏    | 517/1000 [3:14:18<3:17:04, 24.48s/it]"
          ],
          "name": "stderr"
        },
        {
          "output_type": "stream",
          "text": [
            "Episode 516\tCurrent Reward: 756.00\n"
          ],
          "name": "stdout"
        },
        {
          "output_type": "stream",
          "text": [
            " 52%|█████▏    | 518/1000 [3:14:26<2:37:27, 19.60s/it]"
          ],
          "name": "stderr"
        },
        {
          "output_type": "stream",
          "text": [
            "Episode 517\tCurrent Reward: 612.00\n"
          ],
          "name": "stdout"
        },
        {
          "output_type": "stream",
          "text": [
            " 52%|█████▏    | 519/1000 [3:14:30<2:00:27, 15.03s/it]"
          ],
          "name": "stderr"
        },
        {
          "output_type": "stream",
          "text": [
            "Episode 518\tCurrent Reward: 235.00\n"
          ],
          "name": "stdout"
        },
        {
          "output_type": "stream",
          "text": [
            " 52%|█████▏    | 520/1000 [3:14:43<1:55:25, 14.43s/it]"
          ],
          "name": "stderr"
        },
        {
          "output_type": "stream",
          "text": [
            "Episode 519\tCurrent Reward: 613.00\n",
            "==========\n",
            "Epoch: 520, average reward: 738.500000\n",
            "==========\n"
          ],
          "name": "stdout"
        },
        {
          "output_type": "stream",
          "text": [
            " 52%|█████▏    | 521/1000 [3:14:57<1:52:58, 14.15s/it]"
          ],
          "name": "stderr"
        },
        {
          "output_type": "stream",
          "text": [
            "Episode 520\tCurrent Reward: 638.00\n"
          ],
          "name": "stdout"
        },
        {
          "output_type": "stream",
          "text": [
            " 52%|█████▏    | 522/1000 [3:16:14<4:23:22, 33.06s/it]"
          ],
          "name": "stderr"
        },
        {
          "output_type": "stream",
          "text": [
            "Episode 521\tCurrent Reward: 1760.00\n"
          ],
          "name": "stdout"
        },
        {
          "output_type": "stream",
          "text": [
            " 52%|█████▏    | 523/1000 [3:16:52<4:33:28, 34.40s/it]"
          ],
          "name": "stderr"
        },
        {
          "output_type": "stream",
          "text": [
            "Episode 522\tCurrent Reward: 1015.00\n"
          ],
          "name": "stdout"
        },
        {
          "output_type": "stream",
          "text": [
            " 52%|█████▏    | 524/1000 [3:17:08<3:49:33, 28.94s/it]"
          ],
          "name": "stderr"
        },
        {
          "output_type": "stream",
          "text": [
            "Episode 523\tCurrent Reward: 640.00\n"
          ],
          "name": "stdout"
        },
        {
          "output_type": "stream",
          "text": [
            " 52%|█████▎    | 525/1000 [3:17:12<2:50:04, 21.48s/it]"
          ],
          "name": "stderr"
        },
        {
          "output_type": "stream",
          "text": [
            "Episode 524\tCurrent Reward: 239.00\n"
          ],
          "name": "stdout"
        },
        {
          "output_type": "stream",
          "text": [
            " 53%|█████▎    | 526/1000 [3:17:29<2:38:25, 20.05s/it]"
          ],
          "name": "stderr"
        },
        {
          "output_type": "stream",
          "text": [
            "Episode 525\tCurrent Reward: 782.00\n"
          ],
          "name": "stdout"
        },
        {
          "output_type": "stream",
          "text": [
            " 53%|█████▎    | 527/1000 [3:17:40<2:18:48, 17.61s/it]"
          ],
          "name": "stderr"
        },
        {
          "output_type": "stream",
          "text": [
            "Episode 526\tCurrent Reward: 611.00\n"
          ],
          "name": "stdout"
        },
        {
          "output_type": "stream",
          "text": [
            " 53%|█████▎    | 528/1000 [3:18:22<3:15:52, 24.90s/it]"
          ],
          "name": "stderr"
        },
        {
          "output_type": "stream",
          "text": [
            "Episode 527\tCurrent Reward: 1654.00\n"
          ],
          "name": "stdout"
        },
        {
          "output_type": "stream",
          "text": [
            " 53%|█████▎    | 529/1000 [3:18:34<2:44:52, 21.00s/it]"
          ],
          "name": "stderr"
        },
        {
          "output_type": "stream",
          "text": [
            "Episode 528\tCurrent Reward: 624.00\n"
          ],
          "name": "stdout"
        },
        {
          "output_type": "stream",
          "text": [
            " 53%|█████▎    | 530/1000 [3:18:38<2:03:22, 15.75s/it]"
          ],
          "name": "stderr"
        },
        {
          "output_type": "stream",
          "text": [
            "Episode 529\tCurrent Reward: 244.00\n"
          ],
          "name": "stdout"
        },
        {
          "output_type": "stream",
          "text": [
            " 53%|█████▎    | 531/1000 [3:18:47<1:48:22, 13.87s/it]"
          ],
          "name": "stderr"
        },
        {
          "output_type": "stream",
          "text": [
            "Episode 530\tCurrent Reward: 608.00\n"
          ],
          "name": "stdout"
        },
        {
          "output_type": "stream",
          "text": [
            " 53%|█████▎    | 532/1000 [3:19:05<1:58:04, 15.14s/it]"
          ],
          "name": "stderr"
        },
        {
          "output_type": "stream",
          "text": [
            "Episode 531\tCurrent Reward: 1042.00\n"
          ],
          "name": "stdout"
        },
        {
          "output_type": "stream",
          "text": [
            " 53%|█████▎    | 533/1000 [3:19:41<2:45:28, 21.26s/it]"
          ],
          "name": "stderr"
        },
        {
          "output_type": "stream",
          "text": [
            "Episode 532\tCurrent Reward: 1019.00\n"
          ],
          "name": "stdout"
        },
        {
          "output_type": "stream",
          "text": [
            " 53%|█████▎    | 534/1000 [3:19:54<2:26:26, 18.86s/it]"
          ],
          "name": "stderr"
        },
        {
          "output_type": "stream",
          "text": [
            "Episode 533\tCurrent Reward: 714.00\n"
          ],
          "name": "stdout"
        },
        {
          "output_type": "stream",
          "text": [
            " 54%|█████▎    | 535/1000 [3:20:35<3:17:18, 25.46s/it]"
          ],
          "name": "stderr"
        },
        {
          "output_type": "stream",
          "text": [
            "Episode 534\tCurrent Reward: 1897.00\n"
          ],
          "name": "stdout"
        },
        {
          "output_type": "stream",
          "text": [
            " 54%|█████▎    | 536/1000 [3:20:38<2:25:14, 18.78s/it]"
          ],
          "name": "stderr"
        },
        {
          "output_type": "stream",
          "text": [
            "Episode 535\tCurrent Reward: 249.00\n"
          ],
          "name": "stdout"
        },
        {
          "output_type": "stream",
          "text": [
            " 54%|█████▎    | 537/1000 [3:20:52<2:12:41, 17.20s/it]"
          ],
          "name": "stderr"
        },
        {
          "output_type": "stream",
          "text": [
            "Episode 536\tCurrent Reward: 621.00\n"
          ],
          "name": "stdout"
        },
        {
          "output_type": "stream",
          "text": [
            " 54%|█████▍    | 538/1000 [3:21:03<1:59:35, 15.53s/it]"
          ],
          "name": "stderr"
        },
        {
          "output_type": "stream",
          "text": [
            "Episode 537\tCurrent Reward: 628.00\n"
          ],
          "name": "stdout"
        },
        {
          "output_type": "stream",
          "text": [
            " 54%|█████▍    | 539/1000 [3:21:20<2:01:29, 15.81s/it]"
          ],
          "name": "stderr"
        },
        {
          "output_type": "stream",
          "text": [
            "Episode 538\tCurrent Reward: 580.00\n"
          ],
          "name": "stdout"
        },
        {
          "output_type": "stream",
          "text": [
            " 54%|█████▍    | 540/1000 [3:21:36<2:02:10, 15.94s/it]"
          ],
          "name": "stderr"
        },
        {
          "output_type": "stream",
          "text": [
            "Episode 539\tCurrent Reward: 815.00\n",
            "==========\n",
            "Epoch: 540, average reward: 819.000000\n",
            "==========\n"
          ],
          "name": "stdout"
        },
        {
          "output_type": "stream",
          "text": [
            " 54%|█████▍    | 541/1000 [3:21:47<1:50:38, 14.46s/it]"
          ],
          "name": "stderr"
        },
        {
          "output_type": "stream",
          "text": [
            "Episode 540\tCurrent Reward: 604.00\n"
          ],
          "name": "stdout"
        },
        {
          "output_type": "stream",
          "text": [
            " 54%|█████▍    | 542/1000 [3:21:51<1:26:16, 11.30s/it]"
          ],
          "name": "stderr"
        },
        {
          "output_type": "stream",
          "text": [
            "Episode 541\tCurrent Reward: 239.00\n"
          ],
          "name": "stdout"
        },
        {
          "output_type": "stream",
          "text": [
            " 54%|█████▍    | 543/1000 [3:22:07<1:37:07, 12.75s/it]"
          ],
          "name": "stderr"
        },
        {
          "output_type": "stream",
          "text": [
            "Episode 542\tCurrent Reward: 640.00\n"
          ],
          "name": "stdout"
        },
        {
          "output_type": "stream",
          "text": [
            " 54%|█████▍    | 544/1000 [3:22:19<1:35:37, 12.58s/it]"
          ],
          "name": "stderr"
        },
        {
          "output_type": "stream",
          "text": [
            "Episode 543\tCurrent Reward: 582.00\n"
          ],
          "name": "stdout"
        },
        {
          "output_type": "stream",
          "text": [
            " 55%|█████▍    | 545/1000 [3:22:23<1:15:12,  9.92s/it]"
          ],
          "name": "stderr"
        },
        {
          "output_type": "stream",
          "text": [
            "Episode 544\tCurrent Reward: 240.00\n"
          ],
          "name": "stdout"
        },
        {
          "output_type": "stream",
          "text": [
            " 55%|█████▍    | 546/1000 [3:22:41<1:32:27, 12.22s/it]"
          ],
          "name": "stderr"
        },
        {
          "output_type": "stream",
          "text": [
            "Episode 545\tCurrent Reward: 784.00\n"
          ],
          "name": "stdout"
        },
        {
          "output_type": "stream",
          "text": [
            " 55%|█████▍    | 547/1000 [3:22:45<1:14:43,  9.90s/it]"
          ],
          "name": "stderr"
        },
        {
          "output_type": "stream",
          "text": [
            "Episode 546\tCurrent Reward: 234.00\n"
          ],
          "name": "stdout"
        },
        {
          "output_type": "stream",
          "text": [
            " 55%|█████▍    | 548/1000 [3:22:49<1:01:12,  8.12s/it]"
          ],
          "name": "stderr"
        },
        {
          "output_type": "stream",
          "text": [
            "Episode 547\tCurrent Reward: 249.00\n"
          ],
          "name": "stdout"
        },
        {
          "output_type": "stream",
          "text": [
            " 55%|█████▍    | 549/1000 [3:23:27<2:07:40, 16.99s/it]"
          ],
          "name": "stderr"
        },
        {
          "output_type": "stream",
          "text": [
            "Episode 548\tCurrent Reward: 1234.00\n"
          ],
          "name": "stdout"
        },
        {
          "output_type": "stream",
          "text": [
            " 55%|█████▌    | 550/1000 [3:23:40<2:00:06, 16.01s/it]"
          ],
          "name": "stderr"
        },
        {
          "output_type": "stream",
          "text": [
            "Episode 549\tCurrent Reward: 1013.00\n"
          ],
          "name": "stdout"
        },
        {
          "output_type": "stream",
          "text": [
            " 55%|█████▌    | 551/1000 [3:23:48<1:40:31, 13.43s/it]"
          ],
          "name": "stderr"
        },
        {
          "output_type": "stream",
          "text": [
            "Episode 550\tCurrent Reward: 812.00\n"
          ],
          "name": "stdout"
        },
        {
          "output_type": "stream",
          "text": [
            " 55%|█████▌    | 552/1000 [3:24:03<1:44:05, 13.94s/it]"
          ],
          "name": "stderr"
        },
        {
          "output_type": "stream",
          "text": [
            "Episode 551\tCurrent Reward: 1006.00\n"
          ],
          "name": "stdout"
        },
        {
          "output_type": "stream",
          "text": [
            " 55%|█████▌    | 553/1000 [3:24:05<1:17:13, 10.36s/it]"
          ],
          "name": "stderr"
        },
        {
          "output_type": "stream",
          "text": [
            "Episode 552\tCurrent Reward: 227.00\n"
          ],
          "name": "stdout"
        },
        {
          "output_type": "stream",
          "text": [
            " 55%|█████▌    | 554/1000 [3:24:07<57:29,  7.73s/it]  "
          ],
          "name": "stderr"
        },
        {
          "output_type": "stream",
          "text": [
            "Episode 553\tCurrent Reward: 240.00\n"
          ],
          "name": "stdout"
        },
        {
          "output_type": "stream",
          "text": [
            " 56%|█████▌    | 555/1000 [3:24:12<51:59,  7.01s/it]"
          ],
          "name": "stderr"
        },
        {
          "output_type": "stream",
          "text": [
            "Episode 554\tCurrent Reward: 577.00\n"
          ],
          "name": "stdout"
        },
        {
          "output_type": "stream",
          "text": [
            " 56%|█████▌    | 556/1000 [3:24:13<39:31,  5.34s/it]"
          ],
          "name": "stderr"
        },
        {
          "output_type": "stream",
          "text": [
            "Episode 555\tCurrent Reward: 249.00\n"
          ],
          "name": "stdout"
        },
        {
          "output_type": "stream",
          "text": [
            " 56%|█████▌    | 557/1000 [3:24:24<51:53,  7.03s/it]"
          ],
          "name": "stderr"
        },
        {
          "output_type": "stream",
          "text": [
            "Episode 556\tCurrent Reward: 786.00\n"
          ],
          "name": "stdout"
        },
        {
          "output_type": "stream",
          "text": [
            " 56%|█████▌    | 558/1000 [3:24:37<1:03:09,  8.57s/it]"
          ],
          "name": "stderr"
        },
        {
          "output_type": "stream",
          "text": [
            "Episode 557\tCurrent Reward: 1018.00\n"
          ],
          "name": "stdout"
        },
        {
          "output_type": "stream",
          "text": [
            " 56%|█████▌    | 559/1000 [3:24:46<1:05:49,  8.96s/it]"
          ],
          "name": "stderr"
        },
        {
          "output_type": "stream",
          "text": [
            "Episode 558\tCurrent Reward: 1302.00\n"
          ],
          "name": "stdout"
        },
        {
          "output_type": "stream",
          "text": [
            " 56%|█████▌    | 560/1000 [3:24:54<1:02:27,  8.52s/it]"
          ],
          "name": "stderr"
        },
        {
          "output_type": "stream",
          "text": [
            "Episode 559\tCurrent Reward: 619.00\n",
            "==========\n",
            "Epoch: 560, average reward: 632.750000\n",
            "==========\n"
          ],
          "name": "stdout"
        },
        {
          "output_type": "stream",
          "text": [
            " 56%|█████▌    | 561/1000 [3:25:05<1:09:06,  9.45s/it]"
          ],
          "name": "stderr"
        },
        {
          "output_type": "stream",
          "text": [
            "Episode 560\tCurrent Reward: 1043.00\n"
          ],
          "name": "stdout"
        },
        {
          "output_type": "stream",
          "text": [
            " 56%|█████▌    | 562/1000 [3:25:10<57:22,  7.86s/it]  "
          ],
          "name": "stderr"
        },
        {
          "output_type": "stream",
          "text": [
            "Episode 561\tCurrent Reward: 240.00\n"
          ],
          "name": "stdout"
        },
        {
          "output_type": "stream",
          "text": [
            " 56%|█████▋    | 563/1000 [3:25:15<50:57,  7.00s/it]"
          ],
          "name": "stderr"
        },
        {
          "output_type": "stream",
          "text": [
            "Episode 562\tCurrent Reward: 233.00\n"
          ],
          "name": "stdout"
        },
        {
          "output_type": "stream",
          "text": [
            " 56%|█████▋    | 564/1000 [3:25:19<44:25,  6.11s/it]"
          ],
          "name": "stderr"
        },
        {
          "output_type": "stream",
          "text": [
            "Episode 563\tCurrent Reward: 235.00\n"
          ],
          "name": "stdout"
        },
        {
          "output_type": "stream",
          "text": [
            " 56%|█████▋    | 565/1000 [3:25:22<38:54,  5.37s/it]"
          ],
          "name": "stderr"
        },
        {
          "output_type": "stream",
          "text": [
            "Episode 564\tCurrent Reward: 245.00\n"
          ],
          "name": "stdout"
        },
        {
          "output_type": "stream",
          "text": [
            " 57%|█████▋    | 566/1000 [3:25:31<46:55,  6.49s/it]"
          ],
          "name": "stderr"
        },
        {
          "output_type": "stream",
          "text": [
            "Episode 565\tCurrent Reward: 633.00\n"
          ],
          "name": "stdout"
        },
        {
          "output_type": "stream",
          "text": [
            " 57%|█████▋    | 567/1000 [3:26:07<1:49:47, 15.21s/it]"
          ],
          "name": "stderr"
        },
        {
          "output_type": "stream",
          "text": [
            "Episode 566\tCurrent Reward: 1006.00\n"
          ],
          "name": "stdout"
        },
        {
          "output_type": "stream",
          "text": [
            " 57%|█████▋    | 568/1000 [3:26:11<1:26:14, 11.98s/it]"
          ],
          "name": "stderr"
        },
        {
          "output_type": "stream",
          "text": [
            "Episode 567\tCurrent Reward: 229.00\n"
          ],
          "name": "stdout"
        },
        {
          "output_type": "stream",
          "text": [
            " 57%|█████▋    | 569/1000 [3:26:22<1:24:04, 11.70s/it]"
          ],
          "name": "stderr"
        },
        {
          "output_type": "stream",
          "text": [
            "Episode 568\tCurrent Reward: 589.00\n"
          ],
          "name": "stdout"
        },
        {
          "output_type": "stream",
          "text": [
            " 57%|█████▋    | 570/1000 [3:26:44<1:44:23, 14.57s/it]"
          ],
          "name": "stderr"
        },
        {
          "output_type": "stream",
          "text": [
            "Episode 569\tCurrent Reward: 754.00\n"
          ],
          "name": "stdout"
        },
        {
          "output_type": "stream",
          "text": [
            " 57%|█████▋    | 571/1000 [3:26:54<1:35:02, 13.29s/it]"
          ],
          "name": "stderr"
        },
        {
          "output_type": "stream",
          "text": [
            "Episode 570\tCurrent Reward: 619.00\n"
          ],
          "name": "stdout"
        },
        {
          "output_type": "stream",
          "text": [
            " 57%|█████▋    | 572/1000 [3:26:58<1:14:34, 10.45s/it]"
          ],
          "name": "stderr"
        },
        {
          "output_type": "stream",
          "text": [
            "Episode 571\tCurrent Reward: 246.00\n"
          ],
          "name": "stdout"
        },
        {
          "output_type": "stream",
          "text": [
            " 57%|█████▋    | 573/1000 [3:27:44<2:31:24, 21.27s/it]"
          ],
          "name": "stderr"
        },
        {
          "output_type": "stream",
          "text": [
            "Episode 572\tCurrent Reward: 988.00\n"
          ],
          "name": "stdout"
        },
        {
          "output_type": "stream",
          "text": [
            " 57%|█████▋    | 574/1000 [3:27:56<2:11:13, 18.48s/it]"
          ],
          "name": "stderr"
        },
        {
          "output_type": "stream",
          "text": [
            "Episode 573\tCurrent Reward: 614.00\n"
          ],
          "name": "stdout"
        },
        {
          "output_type": "stream",
          "text": [
            " 57%|█████▊    | 575/1000 [3:28:15<2:10:32, 18.43s/it]"
          ],
          "name": "stderr"
        },
        {
          "output_type": "stream",
          "text": [
            "Episode 574\tCurrent Reward: 754.00\n"
          ],
          "name": "stdout"
        },
        {
          "output_type": "stream",
          "text": [
            " 58%|█████▊    | 576/1000 [3:28:25<1:53:06, 16.01s/it]"
          ],
          "name": "stderr"
        },
        {
          "output_type": "stream",
          "text": [
            "Episode 575\tCurrent Reward: 621.00\n"
          ],
          "name": "stdout"
        },
        {
          "output_type": "stream",
          "text": [
            " 58%|█████▊    | 577/1000 [3:28:47<2:05:43, 17.83s/it]"
          ],
          "name": "stderr"
        },
        {
          "output_type": "stream",
          "text": [
            "Episode 576\tCurrent Reward: 715.00\n"
          ],
          "name": "stdout"
        },
        {
          "output_type": "stream",
          "text": [
            " 58%|█████▊    | 578/1000 [3:28:50<1:34:46, 13.48s/it]"
          ],
          "name": "stderr"
        },
        {
          "output_type": "stream",
          "text": [
            "Episode 577\tCurrent Reward: 249.00\n"
          ],
          "name": "stdout"
        },
        {
          "output_type": "stream",
          "text": [
            " 58%|█████▊    | 579/1000 [3:29:06<1:39:42, 14.21s/it]"
          ],
          "name": "stderr"
        },
        {
          "output_type": "stream",
          "text": [
            "Episode 578\tCurrent Reward: 640.00\n"
          ],
          "name": "stdout"
        },
        {
          "output_type": "stream",
          "text": [
            " 58%|█████▊    | 580/1000 [3:29:18<1:35:11, 13.60s/it]"
          ],
          "name": "stderr"
        },
        {
          "output_type": "stream",
          "text": [
            "Episode 579\tCurrent Reward: 716.00\n",
            "==========\n",
            "Epoch: 580, average reward: 568.450000\n",
            "==========\n"
          ],
          "name": "stdout"
        },
        {
          "output_type": "stream",
          "text": [
            " 58%|█████▊    | 581/1000 [3:29:23<1:15:02, 10.74s/it]"
          ],
          "name": "stderr"
        },
        {
          "output_type": "stream",
          "text": [
            "Episode 580\tCurrent Reward: 242.00\n"
          ],
          "name": "stdout"
        },
        {
          "output_type": "stream",
          "text": [
            " 58%|█████▊    | 582/1000 [3:29:56<2:02:34, 17.59s/it]"
          ],
          "name": "stderr"
        },
        {
          "output_type": "stream",
          "text": [
            "Episode 581\tCurrent Reward: 1899.00\n"
          ],
          "name": "stdout"
        },
        {
          "output_type": "stream",
          "text": [
            " 58%|█████▊    | 583/1000 [3:30:06<1:46:40, 15.35s/it]"
          ],
          "name": "stderr"
        },
        {
          "output_type": "stream",
          "text": [
            "Episode 582\tCurrent Reward: 622.00\n"
          ],
          "name": "stdout"
        },
        {
          "output_type": "stream",
          "text": [
            " 58%|█████▊    | 584/1000 [3:30:10<1:22:08, 11.85s/it]"
          ],
          "name": "stderr"
        },
        {
          "output_type": "stream",
          "text": [
            "Episode 583\tCurrent Reward: 238.00\n"
          ],
          "name": "stdout"
        },
        {
          "output_type": "stream",
          "text": [
            " 58%|█████▊    | 585/1000 [3:30:14<1:05:38,  9.49s/it]"
          ],
          "name": "stderr"
        },
        {
          "output_type": "stream",
          "text": [
            "Episode 584\tCurrent Reward: 244.00\n"
          ],
          "name": "stdout"
        },
        {
          "output_type": "stream",
          "text": [
            " 59%|█████▊    | 586/1000 [3:30:24<1:05:54,  9.55s/it]"
          ],
          "name": "stderr"
        },
        {
          "output_type": "stream",
          "text": [
            "Episode 585\tCurrent Reward: 623.00\n"
          ],
          "name": "stdout"
        },
        {
          "output_type": "stream",
          "text": [
            " 59%|█████▊    | 587/1000 [3:30:29<56:06,  8.15s/it]  "
          ],
          "name": "stderr"
        },
        {
          "output_type": "stream",
          "text": [
            "Episode 586\tCurrent Reward: 228.00\n"
          ],
          "name": "stdout"
        },
        {
          "output_type": "stream",
          "text": [
            " 59%|█████▉    | 588/1000 [3:30:32<46:15,  6.74s/it]"
          ],
          "name": "stderr"
        },
        {
          "output_type": "stream",
          "text": [
            "Episode 587\tCurrent Reward: 240.00\n"
          ],
          "name": "stdout"
        },
        {
          "output_type": "stream",
          "text": [
            " 59%|█████▉    | 589/1000 [3:31:04<1:37:49, 14.28s/it]"
          ],
          "name": "stderr"
        },
        {
          "output_type": "stream",
          "text": [
            "Episode 588\tCurrent Reward: 1014.00\n"
          ],
          "name": "stdout"
        },
        {
          "output_type": "stream",
          "text": [
            " 59%|█████▉    | 590/1000 [3:31:45<2:32:57, 22.38s/it]"
          ],
          "name": "stderr"
        },
        {
          "output_type": "stream",
          "text": [
            "Episode 589\tCurrent Reward: 1107.00\n"
          ],
          "name": "stdout"
        },
        {
          "output_type": "stream",
          "text": [
            " 59%|█████▉    | 591/1000 [3:31:49<1:55:00, 16.87s/it]"
          ],
          "name": "stderr"
        },
        {
          "output_type": "stream",
          "text": [
            "Episode 590\tCurrent Reward: 246.00\n"
          ],
          "name": "stdout"
        },
        {
          "output_type": "stream",
          "text": [
            " 59%|█████▉    | 592/1000 [3:32:09<2:01:19, 17.84s/it]"
          ],
          "name": "stderr"
        },
        {
          "output_type": "stream",
          "text": [
            "Episode 591\tCurrent Reward: 1341.00\n"
          ],
          "name": "stdout"
        },
        {
          "output_type": "stream",
          "text": [
            " 59%|█████▉    | 593/1000 [3:32:21<1:49:16, 16.11s/it]"
          ],
          "name": "stderr"
        },
        {
          "output_type": "stream",
          "text": [
            "Episode 592\tCurrent Reward: 610.00\n"
          ],
          "name": "stdout"
        },
        {
          "output_type": "stream",
          "text": [
            " 59%|█████▉    | 594/1000 [3:32:52<2:19:04, 20.55s/it]"
          ],
          "name": "stderr"
        },
        {
          "output_type": "stream",
          "text": [
            "Episode 593\tCurrent Reward: 1310.00\n"
          ],
          "name": "stdout"
        },
        {
          "output_type": "stream",
          "text": [
            " 60%|█████▉    | 595/1000 [3:32:56<1:44:51, 15.54s/it]"
          ],
          "name": "stderr"
        },
        {
          "output_type": "stream",
          "text": [
            "Episode 594\tCurrent Reward: 247.00\n"
          ],
          "name": "stdout"
        },
        {
          "output_type": "stream",
          "text": [
            " 60%|█████▉    | 596/1000 [3:33:31<2:22:51, 21.22s/it]"
          ],
          "name": "stderr"
        },
        {
          "output_type": "stream",
          "text": [
            "Episode 595\tCurrent Reward: 706.00\n"
          ],
          "name": "stdout"
        },
        {
          "output_type": "stream",
          "text": [
            " 60%|█████▉    | 597/1000 [3:33:34<1:46:10, 15.81s/it]"
          ],
          "name": "stderr"
        },
        {
          "output_type": "stream",
          "text": [
            "Episode 596\tCurrent Reward: 249.00\n"
          ],
          "name": "stdout"
        },
        {
          "output_type": "stream",
          "text": [
            " 60%|█████▉    | 598/1000 [3:34:03<2:12:46, 19.82s/it]"
          ],
          "name": "stderr"
        },
        {
          "output_type": "stream",
          "text": [
            "Episode 597\tCurrent Reward: 1414.00\n"
          ],
          "name": "stdout"
        },
        {
          "output_type": "stream",
          "text": [
            " 60%|█████▉    | 599/1000 [3:34:14<1:55:14, 17.24s/it]"
          ],
          "name": "stderr"
        },
        {
          "output_type": "stream",
          "text": [
            "Episode 598\tCurrent Reward: 608.00\n"
          ],
          "name": "stdout"
        },
        {
          "output_type": "stream",
          "text": [
            " 60%|██████    | 600/1000 [3:34:25<1:41:20, 15.20s/it]"
          ],
          "name": "stderr"
        },
        {
          "output_type": "stream",
          "text": [
            "Episode 599\tCurrent Reward: 620.00\n",
            "==========\n",
            "Epoch: 600, average reward: 690.400000\n",
            "==========\n"
          ],
          "name": "stdout"
        },
        {
          "output_type": "stream",
          "text": [
            " 60%|██████    | 601/1000 [3:34:29<1:18:51, 11.86s/it]"
          ],
          "name": "stderr"
        },
        {
          "output_type": "stream",
          "text": [
            "Episode 600\tCurrent Reward: 236.00\n"
          ],
          "name": "stdout"
        },
        {
          "output_type": "stream",
          "text": [
            " 60%|██████    | 602/1000 [3:34:56<1:48:59, 16.43s/it]"
          ],
          "name": "stderr"
        },
        {
          "output_type": "stream",
          "text": [
            "Episode 601\tCurrent Reward: 1560.00\n"
          ],
          "name": "stdout"
        },
        {
          "output_type": "stream",
          "text": [
            " 60%|██████    | 603/1000 [3:35:16<1:56:42, 17.64s/it]"
          ],
          "name": "stderr"
        },
        {
          "output_type": "stream",
          "text": [
            "Episode 602\tCurrent Reward: 791.00\n"
          ],
          "name": "stdout"
        },
        {
          "output_type": "stream",
          "text": [
            " 60%|██████    | 604/1000 [3:35:27<1:43:30, 15.68s/it]"
          ],
          "name": "stderr"
        },
        {
          "output_type": "stream",
          "text": [
            "Episode 603\tCurrent Reward: 629.00\n"
          ],
          "name": "stdout"
        },
        {
          "output_type": "stream",
          "text": [
            " 60%|██████    | 605/1000 [3:36:01<2:18:37, 21.06s/it]"
          ],
          "name": "stderr"
        },
        {
          "output_type": "stream",
          "text": [
            "Episode 604\tCurrent Reward: 1404.00\n"
          ],
          "name": "stdout"
        },
        {
          "output_type": "stream",
          "text": [
            " 61%|██████    | 606/1000 [3:36:28<2:30:26, 22.91s/it]"
          ],
          "name": "stderr"
        },
        {
          "output_type": "stream",
          "text": [
            "Episode 605\tCurrent Reward: 1017.00\n"
          ],
          "name": "stdout"
        },
        {
          "output_type": "stream",
          "text": [
            " 61%|██████    | 607/1000 [3:36:49<2:25:25, 22.20s/it]"
          ],
          "name": "stderr"
        },
        {
          "output_type": "stream",
          "text": [
            "Episode 606\tCurrent Reward: 753.00\n"
          ],
          "name": "stdout"
        },
        {
          "output_type": "stream",
          "text": [
            " 61%|██████    | 608/1000 [3:36:58<2:00:03, 18.38s/it]"
          ],
          "name": "stderr"
        },
        {
          "output_type": "stream",
          "text": [
            "Episode 607\tCurrent Reward: 622.00\n"
          ],
          "name": "stdout"
        },
        {
          "output_type": "stream",
          "text": [
            " 61%|██████    | 609/1000 [3:37:01<1:30:25, 13.88s/it]"
          ],
          "name": "stderr"
        },
        {
          "output_type": "stream",
          "text": [
            "Episode 608\tCurrent Reward: 249.00\n"
          ],
          "name": "stdout"
        },
        {
          "output_type": "stream",
          "text": [
            " 61%|██████    | 610/1000 [3:37:17<1:33:06, 14.32s/it]"
          ],
          "name": "stderr"
        },
        {
          "output_type": "stream",
          "text": [
            "Episode 609\tCurrent Reward: 817.00\n"
          ],
          "name": "stdout"
        },
        {
          "output_type": "stream",
          "text": [
            " 61%|██████    | 611/1000 [3:37:49<2:07:51, 19.72s/it]"
          ],
          "name": "stderr"
        },
        {
          "output_type": "stream",
          "text": [
            "Episode 610\tCurrent Reward: 1024.00\n"
          ],
          "name": "stdout"
        },
        {
          "output_type": "stream",
          "text": [
            " 61%|██████    | 612/1000 [3:38:21<2:30:39, 23.30s/it]"
          ],
          "name": "stderr"
        },
        {
          "output_type": "stream",
          "text": [
            "Episode 611\tCurrent Reward: 1296.00\n"
          ],
          "name": "stdout"
        },
        {
          "output_type": "stream",
          "text": [
            " 61%|██████▏   | 613/1000 [3:38:31<2:04:26, 19.29s/it]"
          ],
          "name": "stderr"
        },
        {
          "output_type": "stream",
          "text": [
            "Episode 612\tCurrent Reward: 636.00\n"
          ],
          "name": "stdout"
        },
        {
          "output_type": "stream",
          "text": [
            " 61%|██████▏   | 614/1000 [3:39:01<2:25:28, 22.61s/it]"
          ],
          "name": "stderr"
        },
        {
          "output_type": "stream",
          "text": [
            "Episode 613\tCurrent Reward: 1043.00\n"
          ],
          "name": "stdout"
        },
        {
          "output_type": "stream",
          "text": [
            " 62%|██████▏   | 615/1000 [3:39:27<2:30:31, 23.46s/it]"
          ],
          "name": "stderr"
        },
        {
          "output_type": "stream",
          "text": [
            "Episode 614\tCurrent Reward: 1023.00\n"
          ],
          "name": "stdout"
        },
        {
          "output_type": "stream",
          "text": [
            " 62%|██████▏   | 616/1000 [3:39:46<2:22:26, 22.26s/it]"
          ],
          "name": "stderr"
        },
        {
          "output_type": "stream",
          "text": [
            "Episode 615\tCurrent Reward: 761.00\n"
          ],
          "name": "stdout"
        },
        {
          "output_type": "stream",
          "text": [
            " 62%|██████▏   | 617/1000 [3:39:58<2:02:27, 19.19s/it]"
          ],
          "name": "stderr"
        },
        {
          "output_type": "stream",
          "text": [
            "Episode 616\tCurrent Reward: 606.00\n"
          ],
          "name": "stdout"
        },
        {
          "output_type": "stream",
          "text": [
            " 62%|██████▏   | 618/1000 [3:40:20<2:06:44, 19.91s/it]"
          ],
          "name": "stderr"
        },
        {
          "output_type": "stream",
          "text": [
            "Episode 617\tCurrent Reward: 1034.00\n"
          ],
          "name": "stdout"
        },
        {
          "output_type": "stream",
          "text": [
            " 62%|██████▏   | 619/1000 [3:40:23<1:34:31, 14.89s/it]"
          ],
          "name": "stderr"
        },
        {
          "output_type": "stream",
          "text": [
            "Episode 618\tCurrent Reward: 251.00\n"
          ],
          "name": "stdout"
        },
        {
          "output_type": "stream",
          "text": [
            " 62%|██████▏   | 620/1000 [3:40:36<1:31:19, 14.42s/it]"
          ],
          "name": "stderr"
        },
        {
          "output_type": "stream",
          "text": [
            "Episode 619\tCurrent Reward: 594.00\n",
            "==========\n",
            "Epoch: 620, average reward: 817.300000\n",
            "==========\n"
          ],
          "name": "stdout"
        },
        {
          "output_type": "stream",
          "text": [
            " 62%|██████▏   | 621/1000 [3:40:47<1:24:32, 13.38s/it]"
          ],
          "name": "stderr"
        },
        {
          "output_type": "stream",
          "text": [
            "Episode 620\tCurrent Reward: 634.00\n"
          ],
          "name": "stdout"
        },
        {
          "output_type": "stream",
          "text": [
            " 62%|██████▏   | 622/1000 [3:40:51<1:07:12, 10.67s/it]"
          ],
          "name": "stderr"
        },
        {
          "output_type": "stream",
          "text": [
            "Episode 621\tCurrent Reward: 232.00\n"
          ],
          "name": "stdout"
        },
        {
          "output_type": "stream",
          "text": [
            " 62%|██████▏   | 623/1000 [3:41:10<1:22:13, 13.09s/it]"
          ],
          "name": "stderr"
        },
        {
          "output_type": "stream",
          "text": [
            "Episode 622\tCurrent Reward: 759.00\n"
          ],
          "name": "stdout"
        },
        {
          "output_type": "stream",
          "text": [
            " 62%|██████▏   | 624/1000 [3:41:14<1:04:24, 10.28s/it]"
          ],
          "name": "stderr"
        },
        {
          "output_type": "stream",
          "text": [
            "Episode 623\tCurrent Reward: 241.00\n"
          ],
          "name": "stdout"
        },
        {
          "output_type": "stream",
          "text": [
            " 62%|██████▎   | 625/1000 [3:41:18<53:29,  8.56s/it]  "
          ],
          "name": "stderr"
        },
        {
          "output_type": "stream",
          "text": [
            "Episode 624\tCurrent Reward: 217.00\n"
          ],
          "name": "stdout"
        },
        {
          "output_type": "stream",
          "text": [
            " 63%|██████▎   | 626/1000 [3:41:30<59:01,  9.47s/it]"
          ],
          "name": "stderr"
        },
        {
          "output_type": "stream",
          "text": [
            "Episode 625\tCurrent Reward: 617.00\n"
          ],
          "name": "stdout"
        },
        {
          "output_type": "stream",
          "text": [
            " 63%|██████▎   | 627/1000 [3:41:51<1:20:49, 13.00s/it]"
          ],
          "name": "stderr"
        },
        {
          "output_type": "stream",
          "text": [
            "Episode 626\tCurrent Reward: 1056.00\n"
          ],
          "name": "stdout"
        },
        {
          "output_type": "stream",
          "text": [
            " 63%|██████▎   | 628/1000 [3:41:55<1:03:29, 10.24s/it]"
          ],
          "name": "stderr"
        },
        {
          "output_type": "stream",
          "text": [
            "Episode 627\tCurrent Reward: 238.00\n"
          ],
          "name": "stdout"
        },
        {
          "output_type": "stream",
          "text": [
            " 63%|██████▎   | 629/1000 [3:41:58<50:23,  8.15s/it]  "
          ],
          "name": "stderr"
        },
        {
          "output_type": "stream",
          "text": [
            "Episode 628\tCurrent Reward: 248.00\n"
          ],
          "name": "stdout"
        },
        {
          "output_type": "stream",
          "text": [
            " 63%|██████▎   | 630/1000 [3:42:17<1:09:29, 11.27s/it]"
          ],
          "name": "stderr"
        },
        {
          "output_type": "stream",
          "text": [
            "Episode 629\tCurrent Reward: 1042.00\n"
          ],
          "name": "stdout"
        },
        {
          "output_type": "stream",
          "text": [
            " 63%|██████▎   | 631/1000 [3:43:32<3:07:25, 30.47s/it]"
          ],
          "name": "stderr"
        },
        {
          "output_type": "stream",
          "text": [
            "Episode 630\tCurrent Reward: 937.00\n"
          ],
          "name": "stdout"
        },
        {
          "output_type": "stream",
          "text": [
            " 63%|██████▎   | 632/1000 [3:43:58<2:58:41, 29.13s/it]"
          ],
          "name": "stderr"
        },
        {
          "output_type": "stream",
          "text": [
            "Episode 631\tCurrent Reward: 689.00\n"
          ],
          "name": "stdout"
        },
        {
          "output_type": "stream",
          "text": [
            " 63%|██████▎   | 633/1000 [3:44:32<3:06:23, 30.47s/it]"
          ],
          "name": "stderr"
        },
        {
          "output_type": "stream",
          "text": [
            "Episode 632\tCurrent Reward: 1296.00\n"
          ],
          "name": "stdout"
        },
        {
          "output_type": "stream",
          "text": [
            " 63%|██████▎   | 634/1000 [3:44:49<2:42:18, 26.61s/it]"
          ],
          "name": "stderr"
        },
        {
          "output_type": "stream",
          "text": [
            "Episode 633\tCurrent Reward: 577.00\n"
          ],
          "name": "stdout"
        },
        {
          "output_type": "stream",
          "text": [
            " 64%|██████▎   | 635/1000 [3:45:10<2:31:50, 24.96s/it]"
          ],
          "name": "stderr"
        },
        {
          "output_type": "stream",
          "text": [
            "Episode 634\tCurrent Reward: 751.00\n"
          ],
          "name": "stdout"
        },
        {
          "output_type": "stream",
          "text": [
            " 64%|██████▎   | 636/1000 [3:45:23<2:09:27, 21.34s/it]"
          ],
          "name": "stderr"
        },
        {
          "output_type": "stream",
          "text": [
            "Episode 635\tCurrent Reward: 740.00\n"
          ],
          "name": "stdout"
        },
        {
          "output_type": "stream",
          "text": [
            " 64%|██████▎   | 637/1000 [3:45:30<1:42:50, 17.00s/it]"
          ],
          "name": "stderr"
        },
        {
          "output_type": "stream",
          "text": [
            "Episode 636\tCurrent Reward: 611.00\n"
          ],
          "name": "stdout"
        },
        {
          "output_type": "stream",
          "text": [
            " 64%|██████▍   | 638/1000 [3:45:34<1:18:38, 13.04s/it]"
          ],
          "name": "stderr"
        },
        {
          "output_type": "stream",
          "text": [
            "Episode 637\tCurrent Reward: 236.00\n"
          ],
          "name": "stdout"
        },
        {
          "output_type": "stream",
          "text": [
            " 64%|██████▍   | 639/1000 [3:49:11<7:26:15, 74.17s/it]"
          ],
          "name": "stderr"
        },
        {
          "output_type": "stream",
          "text": [
            "Episode 638\tCurrent Reward: 987.00\n"
          ],
          "name": "stdout"
        },
        {
          "output_type": "stream",
          "text": [
            " 64%|██████▍   | 640/1000 [3:49:28<5:41:33, 56.93s/it]"
          ],
          "name": "stderr"
        },
        {
          "output_type": "stream",
          "text": [
            "Episode 639\tCurrent Reward: 638.00\n",
            "==========\n",
            "Epoch: 640, average reward: 637.300000\n",
            "==========\n"
          ],
          "name": "stdout"
        },
        {
          "output_type": "stream",
          "text": [
            " 64%|██████▍   | 641/1000 [3:49:31<4:05:20, 41.00s/it]"
          ],
          "name": "stderr"
        },
        {
          "output_type": "stream",
          "text": [
            "Episode 640\tCurrent Reward: 241.00\n"
          ],
          "name": "stdout"
        },
        {
          "output_type": "stream",
          "text": [
            " 64%|██████▍   | 642/1000 [3:50:21<4:20:53, 43.73s/it]"
          ],
          "name": "stderr"
        },
        {
          "output_type": "stream",
          "text": [
            "Episode 641\tCurrent Reward: 1005.00\n"
          ],
          "name": "stdout"
        },
        {
          "output_type": "stream",
          "text": [
            " 64%|██████▍   | 643/1000 [3:50:37<3:30:08, 35.32s/it]"
          ],
          "name": "stderr"
        },
        {
          "output_type": "stream",
          "text": [
            "Episode 642\tCurrent Reward: 639.00\n"
          ],
          "name": "stdout"
        },
        {
          "output_type": "stream",
          "text": [
            " 64%|██████▍   | 644/1000 [3:51:19<3:40:19, 37.13s/it]"
          ],
          "name": "stderr"
        },
        {
          "output_type": "stream",
          "text": [
            "Episode 643\tCurrent Reward: 997.00\n"
          ],
          "name": "stdout"
        },
        {
          "output_type": "stream",
          "text": [
            " 64%|██████▍   | 645/1000 [3:51:22<2:40:21, 27.10s/it]"
          ],
          "name": "stderr"
        },
        {
          "output_type": "stream",
          "text": [
            "Episode 644\tCurrent Reward: 235.00\n"
          ],
          "name": "stdout"
        },
        {
          "output_type": "stream",
          "text": [
            " 65%|██████▍   | 646/1000 [3:51:54<2:48:06, 28.49s/it]"
          ],
          "name": "stderr"
        },
        {
          "output_type": "stream",
          "text": [
            "Episode 645\tCurrent Reward: 1010.00\n"
          ],
          "name": "stdout"
        },
        {
          "output_type": "stream",
          "text": [
            " 65%|██████▍   | 647/1000 [3:52:10<2:25:03, 24.66s/it]"
          ],
          "name": "stderr"
        },
        {
          "output_type": "stream",
          "text": [
            "Episode 646\tCurrent Reward: 639.00\n"
          ],
          "name": "stdout"
        },
        {
          "output_type": "stream",
          "text": [
            " 65%|██████▍   | 648/1000 [3:52:20<1:59:01, 20.29s/it]"
          ],
          "name": "stderr"
        },
        {
          "output_type": "stream",
          "text": [
            "Episode 647\tCurrent Reward: 612.00\n"
          ],
          "name": "stdout"
        },
        {
          "output_type": "stream",
          "text": [
            " 65%|██████▍   | 649/1000 [3:52:22<1:26:41, 14.82s/it]"
          ],
          "name": "stderr"
        },
        {
          "output_type": "stream",
          "text": [
            "Episode 648\tCurrent Reward: 228.00\n"
          ],
          "name": "stdout"
        },
        {
          "output_type": "stream",
          "text": [
            " 65%|██████▌   | 650/1000 [3:52:24<1:03:32, 10.89s/it]"
          ],
          "name": "stderr"
        },
        {
          "output_type": "stream",
          "text": [
            "Episode 649\tCurrent Reward: 236.00\n"
          ],
          "name": "stdout"
        },
        {
          "output_type": "stream",
          "text": [
            " 65%|██████▌   | 651/1000 [3:52:38<1:10:00, 12.04s/it]"
          ],
          "name": "stderr"
        },
        {
          "output_type": "stream",
          "text": [
            "Episode 650\tCurrent Reward: 1018.00\n"
          ],
          "name": "stdout"
        },
        {
          "output_type": "stream",
          "text": [
            " 65%|██████▌   | 652/1000 [3:52:44<59:22, 10.24s/it]  "
          ],
          "name": "stderr"
        },
        {
          "output_type": "stream",
          "text": [
            "Episode 651\tCurrent Reward: 588.00\n"
          ],
          "name": "stdout"
        },
        {
          "output_type": "stream",
          "text": [
            " 65%|██████▌   | 653/1000 [3:52:49<49:23,  8.54s/it]"
          ],
          "name": "stderr"
        },
        {
          "output_type": "stream",
          "text": [
            "Episode 652\tCurrent Reward: 609.00\n"
          ],
          "name": "stdout"
        },
        {
          "output_type": "stream",
          "text": [
            " 65%|██████▌   | 654/1000 [3:52:53<41:54,  7.27s/it]"
          ],
          "name": "stderr"
        },
        {
          "output_type": "stream",
          "text": [
            "Episode 653\tCurrent Reward: 648.00\n"
          ],
          "name": "stdout"
        },
        {
          "output_type": "stream",
          "text": [
            " 66%|██████▌   | 655/1000 [3:53:15<1:06:08, 11.50s/it]"
          ],
          "name": "stderr"
        },
        {
          "output_type": "stream",
          "text": [
            "Episode 654\tCurrent Reward: 971.00\n"
          ],
          "name": "stdout"
        },
        {
          "output_type": "stream",
          "text": [
            " 66%|██████▌   | 656/1000 [3:53:21<57:14,  9.98s/it]  "
          ],
          "name": "stderr"
        },
        {
          "output_type": "stream",
          "text": [
            "Episode 655\tCurrent Reward: 603.00\n"
          ],
          "name": "stdout"
        },
        {
          "output_type": "stream",
          "text": [
            " 66%|██████▌   | 657/1000 [3:53:23<43:03,  7.53s/it]"
          ],
          "name": "stderr"
        },
        {
          "output_type": "stream",
          "text": [
            "Episode 656\tCurrent Reward: 229.00\n"
          ],
          "name": "stdout"
        },
        {
          "output_type": "stream",
          "text": [
            " 66%|██████▌   | 658/1000 [3:53:35<51:37,  9.06s/it]"
          ],
          "name": "stderr"
        },
        {
          "output_type": "stream",
          "text": [
            "Episode 657\tCurrent Reward: 1299.00\n"
          ],
          "name": "stdout"
        },
        {
          "output_type": "stream",
          "text": [
            " 66%|██████▌   | 659/1000 [3:53:46<54:51,  9.65s/it]"
          ],
          "name": "stderr"
        },
        {
          "output_type": "stream",
          "text": [
            "Episode 658\tCurrent Reward: 1331.00\n"
          ],
          "name": "stdout"
        },
        {
          "output_type": "stream",
          "text": [
            " 66%|██████▌   | 660/1000 [3:53:52<48:06,  8.49s/it]"
          ],
          "name": "stderr"
        },
        {
          "output_type": "stream",
          "text": [
            "Episode 659\tCurrent Reward: 597.00\n",
            "==========\n",
            "Epoch: 660, average reward: 686.750000\n",
            "==========\n"
          ],
          "name": "stdout"
        },
        {
          "output_type": "stream",
          "text": [
            " 66%|██████▌   | 661/1000 [3:53:54<36:30,  6.46s/it]"
          ],
          "name": "stderr"
        },
        {
          "output_type": "stream",
          "text": [
            "Episode 660\tCurrent Reward: 235.00\n"
          ],
          "name": "stdout"
        },
        {
          "output_type": "stream",
          "text": [
            " 66%|██████▌   | 662/1000 [3:54:34<1:32:30, 16.42s/it]"
          ],
          "name": "stderr"
        },
        {
          "output_type": "stream",
          "text": [
            "Episode 661\tCurrent Reward: 900.00\n"
          ],
          "name": "stdout"
        },
        {
          "output_type": "stream",
          "text": [
            " 66%|██████▋   | 663/1000 [3:54:39<1:14:11, 13.21s/it]"
          ],
          "name": "stderr"
        },
        {
          "output_type": "stream",
          "text": [
            "Episode 662\tCurrent Reward: 575.00\n"
          ],
          "name": "stdout"
        },
        {
          "output_type": "stream",
          "text": [
            " 66%|██████▋   | 664/1000 [3:54:51<1:10:58, 12.67s/it]"
          ],
          "name": "stderr"
        },
        {
          "output_type": "stream",
          "text": [
            "Episode 663\tCurrent Reward: 791.00\n"
          ],
          "name": "stdout"
        },
        {
          "output_type": "stream",
          "text": [
            " 66%|██████▋   | 665/1000 [3:54:57<1:00:20, 10.81s/it]"
          ],
          "name": "stderr"
        },
        {
          "output_type": "stream",
          "text": [
            "Episode 664\tCurrent Reward: 814.00\n"
          ],
          "name": "stdout"
        },
        {
          "output_type": "stream",
          "text": [
            " 67%|██████▋   | 666/1000 [3:54:59<44:16,  7.95s/it]  "
          ],
          "name": "stderr"
        },
        {
          "output_type": "stream",
          "text": [
            "Episode 665\tCurrent Reward: 252.00\n"
          ],
          "name": "stdout"
        },
        {
          "output_type": "stream",
          "text": [
            " 67%|██████▋   | 667/1000 [3:55:05<41:45,  7.52s/it]"
          ],
          "name": "stderr"
        },
        {
          "output_type": "stream",
          "text": [
            "Episode 666\tCurrent Reward: 620.00\n"
          ],
          "name": "stdout"
        },
        {
          "output_type": "stream",
          "text": [
            " 67%|██████▋   | 668/1000 [3:55:11<39:26,  7.13s/it]"
          ],
          "name": "stderr"
        },
        {
          "output_type": "stream",
          "text": [
            "Episode 667\tCurrent Reward: 640.00\n"
          ],
          "name": "stdout"
        },
        {
          "output_type": "stream",
          "text": [
            " 67%|██████▋   | 669/1000 [3:55:39<1:14:06, 13.43s/it]"
          ],
          "name": "stderr"
        },
        {
          "output_type": "stream",
          "text": [
            "Episode 668\tCurrent Reward: 1853.00\n"
          ],
          "name": "stdout"
        },
        {
          "output_type": "stream",
          "text": [
            " 67%|██████▋   | 670/1000 [3:55:47<1:04:50, 11.79s/it]"
          ],
          "name": "stderr"
        },
        {
          "output_type": "stream",
          "text": [
            "Episode 669\tCurrent Reward: 772.00\n"
          ],
          "name": "stdout"
        },
        {
          "output_type": "stream",
          "text": [
            " 67%|██████▋   | 671/1000 [3:56:03<1:10:34, 12.87s/it]"
          ],
          "name": "stderr"
        },
        {
          "output_type": "stream",
          "text": [
            "Episode 670\tCurrent Reward: 774.00\n"
          ],
          "name": "stdout"
        },
        {
          "output_type": "stream",
          "text": [
            " 67%|██████▋   | 672/1000 [3:56:08<57:07, 10.45s/it]  "
          ],
          "name": "stderr"
        },
        {
          "output_type": "stream",
          "text": [
            "Episode 671\tCurrent Reward: 616.00\n"
          ],
          "name": "stdout"
        },
        {
          "output_type": "stream",
          "text": [
            " 67%|██████▋   | 673/1000 [3:56:15<52:34,  9.65s/it]"
          ],
          "name": "stderr"
        },
        {
          "output_type": "stream",
          "text": [
            "Episode 672\tCurrent Reward: 730.00\n"
          ],
          "name": "stdout"
        },
        {
          "output_type": "stream",
          "text": [
            " 67%|██████▋   | 674/1000 [3:56:18<41:09,  7.57s/it]"
          ],
          "name": "stderr"
        },
        {
          "output_type": "stream",
          "text": [
            "Episode 673\tCurrent Reward: 610.00\n"
          ],
          "name": "stdout"
        },
        {
          "output_type": "stream",
          "text": [
            " 68%|██████▊   | 675/1000 [3:56:43<1:09:02, 12.75s/it]"
          ],
          "name": "stderr"
        },
        {
          "output_type": "stream",
          "text": [
            "Episode 674\tCurrent Reward: 964.00\n"
          ],
          "name": "stdout"
        },
        {
          "output_type": "stream",
          "text": [
            " 68%|██████▊   | 676/1000 [3:56:45<51:10,  9.48s/it]  "
          ],
          "name": "stderr"
        },
        {
          "output_type": "stream",
          "text": [
            "Episode 675\tCurrent Reward: 232.00\n"
          ],
          "name": "stdout"
        },
        {
          "output_type": "stream",
          "text": [
            " 68%|██████▊   | 677/1000 [3:57:18<1:29:32, 16.63s/it]"
          ],
          "name": "stderr"
        },
        {
          "output_type": "stream",
          "text": [
            "Episode 676\tCurrent Reward: 921.00\n"
          ],
          "name": "stdout"
        },
        {
          "output_type": "stream",
          "text": [
            " 68%|██████▊   | 678/1000 [3:57:20<1:04:51, 12.09s/it]"
          ],
          "name": "stderr"
        },
        {
          "output_type": "stream",
          "text": [
            "Episode 677\tCurrent Reward: 233.00\n"
          ],
          "name": "stdout"
        },
        {
          "output_type": "stream",
          "text": [
            " 68%|██████▊   | 679/1000 [3:57:28<58:12, 10.88s/it]  "
          ],
          "name": "stderr"
        },
        {
          "output_type": "stream",
          "text": [
            "Episode 678\tCurrent Reward: 581.00\n"
          ],
          "name": "stdout"
        },
        {
          "output_type": "stream",
          "text": [
            " 68%|██████▊   | 680/1000 [3:57:35<51:43,  9.70s/it]"
          ],
          "name": "stderr"
        },
        {
          "output_type": "stream",
          "text": [
            "Episode 679\tCurrent Reward: 636.00\n",
            "==========\n",
            "Epoch: 680, average reward: 687.450000\n",
            "==========\n"
          ],
          "name": "stdout"
        },
        {
          "output_type": "stream",
          "text": [
            " 68%|██████▊   | 681/1000 [3:57:42<47:53,  9.01s/it]"
          ],
          "name": "stderr"
        },
        {
          "output_type": "stream",
          "text": [
            "Episode 680\tCurrent Reward: 731.00\n"
          ],
          "name": "stdout"
        },
        {
          "output_type": "stream",
          "text": [
            " 68%|██████▊   | 682/1000 [3:57:48<43:49,  8.27s/it]"
          ],
          "name": "stderr"
        },
        {
          "output_type": "stream",
          "text": [
            "Episode 681\tCurrent Reward: 612.00\n"
          ],
          "name": "stdout"
        },
        {
          "output_type": "stream",
          "text": [
            " 68%|██████▊   | 683/1000 [3:57:55<40:32,  7.67s/it]"
          ],
          "name": "stderr"
        },
        {
          "output_type": "stream",
          "text": [
            "Episode 682\tCurrent Reward: 622.00\n"
          ],
          "name": "stdout"
        },
        {
          "output_type": "stream",
          "text": [
            " 68%|██████▊   | 684/1000 [3:58:07<47:18,  8.98s/it]"
          ],
          "name": "stderr"
        },
        {
          "output_type": "stream",
          "text": [
            "Episode 683\tCurrent Reward: 1037.00\n"
          ],
          "name": "stdout"
        },
        {
          "output_type": "stream",
          "text": [
            " 68%|██████▊   | 685/1000 [3:58:50<1:40:17, 19.10s/it]"
          ],
          "name": "stderr"
        },
        {
          "output_type": "stream",
          "text": [
            "Episode 684\tCurrent Reward: 1248.00\n"
          ],
          "name": "stdout"
        },
        {
          "output_type": "stream",
          "text": [
            " 69%|██████▊   | 686/1000 [3:59:02<1:29:15, 17.05s/it]"
          ],
          "name": "stderr"
        },
        {
          "output_type": "stream",
          "text": [
            "Episode 685\tCurrent Reward: 742.00\n"
          ],
          "name": "stdout"
        },
        {
          "output_type": "stream",
          "text": [
            " 69%|██████▊   | 687/1000 [3:59:46<2:12:01, 25.31s/it]"
          ],
          "name": "stderr"
        },
        {
          "output_type": "stream",
          "text": [
            "Episode 686\tCurrent Reward: 994.00\n"
          ],
          "name": "stdout"
        },
        {
          "output_type": "stream",
          "text": [
            " 69%|██████▉   | 688/1000 [4:00:04<1:59:54, 23.06s/it]"
          ],
          "name": "stderr"
        },
        {
          "output_type": "stream",
          "text": [
            "Episode 687\tCurrent Reward: 635.00\n"
          ],
          "name": "stdout"
        },
        {
          "output_type": "stream",
          "text": [
            " 69%|██████▉   | 689/1000 [4:00:16<1:41:41, 19.62s/it]"
          ],
          "name": "stderr"
        },
        {
          "output_type": "stream",
          "text": [
            "Episode 688\tCurrent Reward: 610.00\n"
          ],
          "name": "stdout"
        },
        {
          "output_type": "stream",
          "text": [
            " 69%|██████▉   | 690/1000 [4:00:43<1:53:55, 22.05s/it]"
          ],
          "name": "stderr"
        },
        {
          "output_type": "stream",
          "text": [
            "Episode 689\tCurrent Reward: 794.00\n"
          ],
          "name": "stdout"
        },
        {
          "output_type": "stream",
          "text": [
            " 69%|██████▉   | 691/1000 [4:00:54<1:35:23, 18.52s/it]"
          ],
          "name": "stderr"
        },
        {
          "output_type": "stream",
          "text": [
            "Episode 690\tCurrent Reward: 590.00\n"
          ],
          "name": "stdout"
        },
        {
          "output_type": "stream",
          "text": [
            " 69%|██████▉   | 692/1000 [4:01:22<1:49:18, 21.29s/it]"
          ],
          "name": "stderr"
        },
        {
          "output_type": "stream",
          "text": [
            "Episode 691\tCurrent Reward: 1328.00\n"
          ],
          "name": "stdout"
        },
        {
          "output_type": "stream",
          "text": [
            " 69%|██████▉   | 693/1000 [4:02:14<2:36:30, 30.59s/it]"
          ],
          "name": "stderr"
        },
        {
          "output_type": "stream",
          "text": [
            "Episode 692\tCurrent Reward: 1273.00\n"
          ],
          "name": "stdout"
        },
        {
          "output_type": "stream",
          "text": [
            " 69%|██████▉   | 694/1000 [4:02:30<2:14:28, 26.37s/it]"
          ],
          "name": "stderr"
        },
        {
          "output_type": "stream",
          "text": [
            "Episode 693\tCurrent Reward: 638.00\n"
          ],
          "name": "stdout"
        },
        {
          "output_type": "stream",
          "text": [
            " 70%|██████▉   | 695/1000 [4:02:43<1:53:45, 22.38s/it]"
          ],
          "name": "stderr"
        },
        {
          "output_type": "stream",
          "text": [
            "Episode 694\tCurrent Reward: 585.00\n"
          ],
          "name": "stdout"
        },
        {
          "output_type": "stream",
          "text": [
            " 70%|██████▉   | 696/1000 [4:03:13<2:04:12, 24.52s/it]"
          ],
          "name": "stderr"
        },
        {
          "output_type": "stream",
          "text": [
            "Episode 695\tCurrent Reward: 1015.00\n"
          ],
          "name": "stdout"
        },
        {
          "output_type": "stream",
          "text": [
            " 70%|██████▉   | 697/1000 [4:03:39<2:05:33, 24.86s/it]"
          ],
          "name": "stderr"
        },
        {
          "output_type": "stream",
          "text": [
            "Episode 696\tCurrent Reward: 620.00\n"
          ],
          "name": "stdout"
        },
        {
          "output_type": "stream",
          "text": [
            " 70%|██████▉   | 698/1000 [4:04:06<2:09:41, 25.77s/it]"
          ],
          "name": "stderr"
        },
        {
          "output_type": "stream",
          "text": [
            "Episode 697\tCurrent Reward: 793.00\n"
          ],
          "name": "stdout"
        },
        {
          "output_type": "stream",
          "text": [
            " 70%|██████▉   | 699/1000 [4:04:35<2:13:30, 26.61s/it]"
          ],
          "name": "stderr"
        },
        {
          "output_type": "stream",
          "text": [
            "Episode 698\tCurrent Reward: 1311.00\n"
          ],
          "name": "stdout"
        },
        {
          "output_type": "stream",
          "text": [
            " 70%|███████   | 700/1000 [4:04:40<1:40:22, 20.08s/it]"
          ],
          "name": "stderr"
        },
        {
          "output_type": "stream",
          "text": [
            "Episode 699\tCurrent Reward: 224.00\n",
            "==========\n",
            "Epoch: 700, average reward: 820.100000\n",
            "==========\n"
          ],
          "name": "stdout"
        },
        {
          "output_type": "stream",
          "text": [
            " 70%|███████   | 701/1000 [4:05:01<1:41:02, 20.28s/it]"
          ],
          "name": "stderr"
        },
        {
          "output_type": "stream",
          "text": [
            "Episode 700\tCurrent Reward: 1036.00\n"
          ],
          "name": "stdout"
        },
        {
          "output_type": "stream",
          "text": [
            " 70%|███████   | 702/1000 [4:05:33<1:59:00, 23.96s/it]"
          ],
          "name": "stderr"
        },
        {
          "output_type": "stream",
          "text": [
            "Episode 701\tCurrent Reward: 1403.00\n"
          ],
          "name": "stdout"
        },
        {
          "output_type": "stream",
          "text": [
            " 70%|███████   | 703/1000 [4:06:15<2:25:34, 29.41s/it]"
          ],
          "name": "stderr"
        },
        {
          "output_type": "stream",
          "text": [
            "Episode 702\tCurrent Reward: 770.00\n"
          ],
          "name": "stdout"
        },
        {
          "output_type": "stream",
          "text": [
            " 70%|███████   | 704/1000 [4:06:19<1:46:26, 21.58s/it]"
          ],
          "name": "stderr"
        },
        {
          "output_type": "stream",
          "text": [
            "Episode 703\tCurrent Reward: 249.00\n"
          ],
          "name": "stdout"
        },
        {
          "output_type": "stream",
          "text": [
            " 70%|███████   | 705/1000 [4:06:30<1:31:26, 18.60s/it]"
          ],
          "name": "stderr"
        },
        {
          "output_type": "stream",
          "text": [
            "Episode 704\tCurrent Reward: 590.00\n"
          ],
          "name": "stdout"
        },
        {
          "output_type": "stream",
          "text": [
            " 71%|███████   | 706/1000 [4:06:34<1:09:12, 14.12s/it]"
          ],
          "name": "stderr"
        },
        {
          "output_type": "stream",
          "text": [
            "Episode 705\tCurrent Reward: 242.00\n"
          ],
          "name": "stdout"
        },
        {
          "output_type": "stream",
          "text": [
            " 71%|███████   | 707/1000 [4:07:19<1:54:22, 23.42s/it]"
          ],
          "name": "stderr"
        },
        {
          "output_type": "stream",
          "text": [
            "Episode 706\tCurrent Reward: 1296.00\n"
          ],
          "name": "stdout"
        },
        {
          "output_type": "stream",
          "text": [
            " 71%|███████   | 708/1000 [4:07:47<2:00:12, 24.70s/it]"
          ],
          "name": "stderr"
        },
        {
          "output_type": "stream",
          "text": [
            "Episode 707\tCurrent Reward: 1308.00\n"
          ],
          "name": "stdout"
        },
        {
          "output_type": "stream",
          "text": [
            " 71%|███████   | 709/1000 [4:08:04<1:48:25, 22.35s/it]"
          ],
          "name": "stderr"
        },
        {
          "output_type": "stream",
          "text": [
            "Episode 708\tCurrent Reward: 636.00\n"
          ],
          "name": "stdout"
        },
        {
          "output_type": "stream",
          "text": [
            " 71%|███████   | 710/1000 [4:08:33<1:58:39, 24.55s/it]"
          ],
          "name": "stderr"
        },
        {
          "output_type": "stream",
          "text": [
            "Episode 709\tCurrent Reward: 1309.00\n"
          ],
          "name": "stdout"
        },
        {
          "output_type": "stream",
          "text": [
            " 71%|███████   | 711/1000 [4:09:19<2:29:21, 31.01s/it]"
          ],
          "name": "stderr"
        },
        {
          "output_type": "stream",
          "text": [
            "Episode 710\tCurrent Reward: 988.00\n"
          ],
          "name": "stdout"
        },
        {
          "output_type": "stream",
          "text": [
            " 71%|███████   | 712/1000 [4:09:31<2:00:28, 25.10s/it]"
          ],
          "name": "stderr"
        },
        {
          "output_type": "stream",
          "text": [
            "Episode 711\tCurrent Reward: 603.00\n"
          ],
          "name": "stdout"
        },
        {
          "output_type": "stream",
          "text": [
            " 71%|███████▏  | 713/1000 [4:10:12<2:23:37, 30.02s/it]"
          ],
          "name": "stderr"
        },
        {
          "output_type": "stream",
          "text": [
            "Episode 712\tCurrent Reward: 1002.00\n"
          ],
          "name": "stdout"
        },
        {
          "output_type": "stream",
          "text": [
            " 71%|███████▏  | 714/1000 [4:11:10<3:03:29, 38.50s/it]"
          ],
          "name": "stderr"
        },
        {
          "output_type": "stream",
          "text": [
            "Episode 713\tCurrent Reward: 1249.00\n"
          ],
          "name": "stdout"
        },
        {
          "output_type": "stream",
          "text": [
            " 72%|███████▏  | 715/1000 [4:11:36<2:44:30, 34.64s/it]"
          ],
          "name": "stderr"
        },
        {
          "output_type": "stream",
          "text": [
            "Episode 714\tCurrent Reward: 794.00\n"
          ],
          "name": "stdout"
        },
        {
          "output_type": "stream",
          "text": [
            " 72%|███████▏  | 716/1000 [4:11:46<2:09:28, 27.35s/it]"
          ],
          "name": "stderr"
        },
        {
          "output_type": "stream",
          "text": [
            "Episode 715\tCurrent Reward: 622.00\n"
          ],
          "name": "stdout"
        },
        {
          "output_type": "stream",
          "text": [
            " 72%|███████▏  | 717/1000 [4:12:08<2:00:57, 25.65s/it]"
          ],
          "name": "stderr"
        },
        {
          "output_type": "stream",
          "text": [
            "Episode 716\tCurrent Reward: 1030.00\n"
          ],
          "name": "stdout"
        },
        {
          "output_type": "stream",
          "text": [
            " 72%|███████▏  | 718/1000 [4:12:21<1:42:54, 21.90s/it]"
          ],
          "name": "stderr"
        },
        {
          "output_type": "stream",
          "text": [
            "Episode 717\tCurrent Reward: 602.00\n"
          ],
          "name": "stdout"
        },
        {
          "output_type": "stream",
          "text": [
            " 72%|███████▏  | 719/1000 [4:12:42<1:40:17, 21.42s/it]"
          ],
          "name": "stderr"
        },
        {
          "output_type": "stream",
          "text": [
            "Episode 718\tCurrent Reward: 589.00\n"
          ],
          "name": "stdout"
        },
        {
          "output_type": "stream",
          "text": [
            " 72%|███████▏  | 720/1000 [4:12:46<1:15:56, 16.27s/it]"
          ],
          "name": "stderr"
        },
        {
          "output_type": "stream",
          "text": [
            "Episode 719\tCurrent Reward: 247.00\n",
            "==========\n",
            "Epoch: 720, average reward: 828.250000\n",
            "==========\n"
          ],
          "name": "stdout"
        },
        {
          "output_type": "stream",
          "text": [
            " 72%|███████▏  | 721/1000 [4:13:59<2:35:41, 33.48s/it]"
          ],
          "name": "stderr"
        },
        {
          "output_type": "stream",
          "text": [
            "Episode 720\tCurrent Reward: 2279.00\n"
          ],
          "name": "stdout"
        },
        {
          "output_type": "stream",
          "text": [
            " 72%|███████▏  | 722/1000 [4:14:21<2:18:20, 29.86s/it]"
          ],
          "name": "stderr"
        },
        {
          "output_type": "stream",
          "text": [
            "Episode 721\tCurrent Reward: 593.00\n"
          ],
          "name": "stdout"
        },
        {
          "output_type": "stream",
          "text": [
            " 72%|███████▏  | 723/1000 [4:14:54<2:21:49, 30.72s/it]"
          ],
          "name": "stderr"
        },
        {
          "output_type": "stream",
          "text": [
            "Episode 722\tCurrent Reward: 1668.00\n"
          ],
          "name": "stdout"
        },
        {
          "output_type": "stream",
          "text": [
            " 72%|███████▏  | 724/1000 [4:15:14<2:07:31, 27.72s/it]"
          ],
          "name": "stderr"
        },
        {
          "output_type": "stream",
          "text": [
            "Episode 723\tCurrent Reward: 629.00\n"
          ],
          "name": "stdout"
        },
        {
          "output_type": "stream",
          "text": [
            " 72%|███████▎  | 725/1000 [4:15:18<1:34:12, 20.55s/it]"
          ],
          "name": "stderr"
        },
        {
          "output_type": "stream",
          "text": [
            "Episode 724\tCurrent Reward: 249.00\n"
          ],
          "name": "stdout"
        },
        {
          "output_type": "stream",
          "text": [
            " 73%|███████▎  | 726/1000 [4:16:26<2:39:06, 34.84s/it]"
          ],
          "name": "stderr"
        },
        {
          "output_type": "stream",
          "text": [
            "Episode 725\tCurrent Reward: 1488.00\n"
          ],
          "name": "stdout"
        },
        {
          "output_type": "stream",
          "text": [
            " 73%|███████▎  | 727/1000 [4:17:16<2:59:24, 39.43s/it]"
          ],
          "name": "stderr"
        },
        {
          "output_type": "stream",
          "text": [
            "Episode 726\tCurrent Reward: 710.00\n"
          ],
          "name": "stdout"
        },
        {
          "output_type": "stream",
          "text": [
            " 73%|███████▎  | 728/1000 [4:18:25<3:38:02, 48.10s/it]"
          ],
          "name": "stderr"
        },
        {
          "output_type": "stream",
          "text": [
            "Episode 727\tCurrent Reward: 718.00\n"
          ],
          "name": "stdout"
        },
        {
          "output_type": "stream",
          "text": [
            " 73%|███████▎  | 729/1000 [4:19:43<4:17:24, 56.99s/it]"
          ],
          "name": "stderr"
        },
        {
          "output_type": "stream",
          "text": [
            "Episode 728\tCurrent Reward: 592.00\n"
          ],
          "name": "stdout"
        },
        {
          "output_type": "stream",
          "text": [
            " 73%|███████▎  | 730/1000 [4:19:46<3:04:16, 40.95s/it]"
          ],
          "name": "stderr"
        },
        {
          "output_type": "stream",
          "text": [
            "Episode 729\tCurrent Reward: 245.00\n"
          ],
          "name": "stdout"
        },
        {
          "output_type": "stream",
          "text": [
            " 73%|███████▎  | 731/1000 [4:20:02<2:29:26, 33.33s/it]"
          ],
          "name": "stderr"
        },
        {
          "output_type": "stream",
          "text": [
            "Episode 730\tCurrent Reward: 634.00\n"
          ],
          "name": "stdout"
        },
        {
          "output_type": "stream",
          "text": [
            " 73%|███████▎  | 732/1000 [4:21:02<3:04:54, 41.40s/it]"
          ],
          "name": "stderr"
        },
        {
          "output_type": "stream",
          "text": [
            "Episode 731\tCurrent Reward: 1255.00\n"
          ],
          "name": "stdout"
        },
        {
          "output_type": "stream",
          "text": [
            " 73%|███████▎  | 733/1000 [4:21:28<2:43:43, 36.79s/it]"
          ],
          "name": "stderr"
        },
        {
          "output_type": "stream",
          "text": [
            "Episode 732\tCurrent Reward: 1305.00\n"
          ],
          "name": "stdout"
        },
        {
          "output_type": "stream",
          "text": [
            " 73%|███████▎  | 734/1000 [4:21:47<2:19:53, 31.55s/it]"
          ],
          "name": "stderr"
        },
        {
          "output_type": "stream",
          "text": [
            "Episode 733\tCurrent Reward: 1044.00\n"
          ],
          "name": "stdout"
        },
        {
          "output_type": "stream",
          "text": [
            " 74%|███████▎  | 735/1000 [4:22:03<1:57:55, 26.70s/it]"
          ],
          "name": "stderr"
        },
        {
          "output_type": "stream",
          "text": [
            "Episode 734\tCurrent Reward: 597.00\n"
          ],
          "name": "stdout"
        },
        {
          "output_type": "stream",
          "text": [
            " 74%|███████▎  | 736/1000 [4:22:13<1:36:03, 21.83s/it]"
          ],
          "name": "stderr"
        },
        {
          "output_type": "stream",
          "text": [
            "Episode 735\tCurrent Reward: 597.00\n"
          ],
          "name": "stdout"
        },
        {
          "output_type": "stream",
          "text": [
            " 74%|███████▎  | 737/1000 [4:22:28<1:27:16, 19.91s/it]"
          ],
          "name": "stderr"
        },
        {
          "output_type": "stream",
          "text": [
            "Episode 736\tCurrent Reward: 639.00\n"
          ],
          "name": "stdout"
        },
        {
          "output_type": "stream",
          "text": [
            " 74%|███████▍  | 738/1000 [4:22:59<1:40:53, 23.10s/it]"
          ],
          "name": "stderr"
        },
        {
          "output_type": "stream",
          "text": [
            "Episode 737\tCurrent Reward: 1017.00\n"
          ],
          "name": "stdout"
        },
        {
          "output_type": "stream",
          "text": [
            " 74%|███████▍  | 739/1000 [4:23:04<1:16:13, 17.52s/it]"
          ],
          "name": "stderr"
        },
        {
          "output_type": "stream",
          "text": [
            "Episode 738\tCurrent Reward: 230.00\n"
          ],
          "name": "stdout"
        },
        {
          "output_type": "stream",
          "text": [
            " 74%|███████▍  | 740/1000 [4:23:33<1:31:29, 21.11s/it]"
          ],
          "name": "stderr"
        },
        {
          "output_type": "stream",
          "text": [
            "Episode 739\tCurrent Reward: 789.00\n",
            "==========\n",
            "Epoch: 740, average reward: 863.900000\n",
            "==========\n"
          ],
          "name": "stdout"
        },
        {
          "output_type": "stream",
          "text": [
            " 74%|███████▍  | 741/1000 [4:24:00<1:38:45, 22.88s/it]"
          ],
          "name": "stderr"
        },
        {
          "output_type": "stream",
          "text": [
            "Episode 740\tCurrent Reward: 793.00\n"
          ],
          "name": "stdout"
        },
        {
          "output_type": "stream",
          "text": [
            " 74%|███████▍  | 742/1000 [4:24:03<1:12:55, 16.96s/it]"
          ],
          "name": "stderr"
        },
        {
          "output_type": "stream",
          "text": [
            "Episode 741\tCurrent Reward: 249.00\n"
          ],
          "name": "stdout"
        },
        {
          "output_type": "stream",
          "text": [
            " 74%|███████▍  | 743/1000 [4:24:12<1:02:06, 14.50s/it]"
          ],
          "name": "stderr"
        },
        {
          "output_type": "stream",
          "text": [
            "Episode 742\tCurrent Reward: 651.00\n"
          ],
          "name": "stdout"
        },
        {
          "output_type": "stream",
          "text": [
            " 74%|███████▍  | 744/1000 [4:24:32<1:08:48, 16.13s/it]"
          ],
          "name": "stderr"
        },
        {
          "output_type": "stream",
          "text": [
            "Episode 743\tCurrent Reward: 722.00\n"
          ],
          "name": "stdout"
        },
        {
          "output_type": "stream",
          "text": [
            " 74%|███████▍  | 745/1000 [4:25:07<1:32:11, 21.69s/it]"
          ],
          "name": "stderr"
        },
        {
          "output_type": "stream",
          "text": [
            "Episode 744\tCurrent Reward: 1669.00\n"
          ],
          "name": "stdout"
        },
        {
          "output_type": "stream",
          "text": [
            " 75%|███████▍  | 746/1000 [4:25:16<1:16:11, 18.00s/it]"
          ],
          "name": "stderr"
        },
        {
          "output_type": "stream",
          "text": [
            "Episode 745\tCurrent Reward: 607.00\n"
          ],
          "name": "stdout"
        },
        {
          "output_type": "stream",
          "text": [
            " 75%|███████▍  | 747/1000 [4:25:44<1:29:02, 21.12s/it]"
          ],
          "name": "stderr"
        },
        {
          "output_type": "stream",
          "text": [
            "Episode 746\tCurrent Reward: 791.00\n"
          ],
          "name": "stdout"
        },
        {
          "output_type": "stream",
          "text": [
            " 75%|███████▍  | 748/1000 [4:26:44<2:16:59, 32.62s/it]"
          ],
          "name": "stderr"
        },
        {
          "output_type": "stream",
          "text": [
            "Episode 747\tCurrent Reward: 1258.00\n"
          ],
          "name": "stdout"
        },
        {
          "output_type": "stream",
          "text": [
            " 75%|███████▍  | 749/1000 [4:27:21<2:22:16, 34.01s/it]"
          ],
          "name": "stderr"
        },
        {
          "output_type": "stream",
          "text": [
            "Episode 748\tCurrent Reward: 776.00\n"
          ],
          "name": "stdout"
        },
        {
          "output_type": "stream",
          "text": [
            " 75%|███████▌  | 750/1000 [4:27:32<1:53:30, 27.24s/it]"
          ],
          "name": "stderr"
        },
        {
          "output_type": "stream",
          "text": [
            "Episode 749\tCurrent Reward: 597.00\n"
          ],
          "name": "stdout"
        },
        {
          "output_type": "stream",
          "text": [
            " 75%|███████▌  | 751/1000 [4:28:17<2:14:01, 32.29s/it]"
          ],
          "name": "stderr"
        },
        {
          "output_type": "stream",
          "text": [
            "Episode 750\tCurrent Reward: 685.00\n"
          ],
          "name": "stdout"
        },
        {
          "output_type": "stream",
          "text": [
            " 75%|███████▌  | 752/1000 [4:28:42<2:04:39, 30.16s/it]"
          ],
          "name": "stderr"
        },
        {
          "output_type": "stream",
          "text": [
            "Episode 751\tCurrent Reward: 726.00\n"
          ],
          "name": "stdout"
        },
        {
          "output_type": "stream",
          "text": [
            " 75%|███████▌  | 753/1000 [4:28:57<1:46:19, 25.83s/it]"
          ],
          "name": "stderr"
        },
        {
          "output_type": "stream",
          "text": [
            "Episode 752\tCurrent Reward: 802.00\n"
          ],
          "name": "stdout"
        },
        {
          "output_type": "stream",
          "text": [
            " 75%|███████▌  | 754/1000 [4:30:31<3:08:49, 46.05s/it]"
          ],
          "name": "stderr"
        },
        {
          "output_type": "stream",
          "text": [
            "Episode 753\tCurrent Reward: 673.00\n"
          ],
          "name": "stdout"
        },
        {
          "output_type": "stream",
          "text": [
            " 76%|███████▌  | 755/1000 [4:30:36<2:17:54, 33.77s/it]"
          ],
          "name": "stderr"
        },
        {
          "output_type": "stream",
          "text": [
            "Episode 754\tCurrent Reward: 244.00\n"
          ],
          "name": "stdout"
        },
        {
          "output_type": "stream",
          "text": [
            " 76%|███████▌  | 756/1000 [4:30:39<1:40:24, 24.69s/it]"
          ],
          "name": "stderr"
        },
        {
          "output_type": "stream",
          "text": [
            "Episode 755\tCurrent Reward: 247.00\n"
          ],
          "name": "stdout"
        },
        {
          "output_type": "stream",
          "text": [
            " 76%|███████▌  | 757/1000 [4:30:44<1:15:24, 18.62s/it]"
          ],
          "name": "stderr"
        },
        {
          "output_type": "stream",
          "text": [
            "Episode 756\tCurrent Reward: 237.00\n"
          ],
          "name": "stdout"
        },
        {
          "output_type": "stream",
          "text": [
            " 76%|███████▌  | 758/1000 [4:30:48<57:51, 14.35s/it]  "
          ],
          "name": "stderr"
        },
        {
          "output_type": "stream",
          "text": [
            "Episode 757\tCurrent Reward: 231.00\n"
          ],
          "name": "stdout"
        },
        {
          "output_type": "stream",
          "text": [
            " 76%|███████▌  | 759/1000 [4:30:53<45:41, 11.38s/it]"
          ],
          "name": "stderr"
        },
        {
          "output_type": "stream",
          "text": [
            "Episode 758\tCurrent Reward: 231.00\n"
          ],
          "name": "stdout"
        },
        {
          "output_type": "stream",
          "text": [
            " 76%|███████▌  | 760/1000 [4:31:47<1:37:02, 24.26s/it]"
          ],
          "name": "stderr"
        },
        {
          "output_type": "stream",
          "text": [
            "Episode 759\tCurrent Reward: 966.00\n",
            "==========\n",
            "Epoch: 760, average reward: 657.750000\n",
            "==========\n"
          ],
          "name": "stdout"
        },
        {
          "output_type": "stream",
          "text": [
            " 76%|███████▌  | 761/1000 [4:32:36<2:06:00, 31.63s/it]"
          ],
          "name": "stderr"
        },
        {
          "output_type": "stream",
          "text": [
            "Episode 760\tCurrent Reward: 1271.00\n"
          ],
          "name": "stdout"
        },
        {
          "output_type": "stream",
          "text": [
            " 76%|███████▌  | 762/1000 [4:32:39<1:32:12, 23.25s/it]"
          ],
          "name": "stderr"
        },
        {
          "output_type": "stream",
          "text": [
            "Episode 761\tCurrent Reward: 246.00\n"
          ],
          "name": "stdout"
        },
        {
          "output_type": "stream",
          "text": [
            " 76%|███████▋  | 763/1000 [4:32:45<1:11:14, 18.03s/it]"
          ],
          "name": "stderr"
        },
        {
          "output_type": "stream",
          "text": [
            "Episode 762\tCurrent Reward: 216.00\n"
          ],
          "name": "stdout"
        },
        {
          "output_type": "stream",
          "text": [
            " 76%|███████▋  | 764/1000 [4:32:59<1:05:28, 16.65s/it]"
          ],
          "name": "stderr"
        },
        {
          "output_type": "stream",
          "text": [
            "Episode 763\tCurrent Reward: 602.00\n"
          ],
          "name": "stdout"
        },
        {
          "output_type": "stream",
          "text": [
            " 76%|███████▋  | 765/1000 [4:33:02<49:41, 12.69s/it]  "
          ],
          "name": "stderr"
        },
        {
          "output_type": "stream",
          "text": [
            "Episode 764\tCurrent Reward: 247.00\n"
          ],
          "name": "stdout"
        },
        {
          "output_type": "stream",
          "text": [
            " 77%|███████▋  | 766/1000 [4:33:51<1:31:47, 23.54s/it]"
          ],
          "name": "stderr"
        },
        {
          "output_type": "stream",
          "text": [
            "Episode 765\tCurrent Reward: 754.00\n"
          ],
          "name": "stdout"
        },
        {
          "output_type": "stream",
          "text": [
            " 77%|███████▋  | 767/1000 [4:34:07<1:22:28, 21.24s/it]"
          ],
          "name": "stderr"
        },
        {
          "output_type": "stream",
          "text": [
            "Episode 766\tCurrent Reward: 602.00\n"
          ],
          "name": "stdout"
        },
        {
          "output_type": "stream",
          "text": [
            " 77%|███████▋  | 768/1000 [4:34:22<1:14:30, 19.27s/it]"
          ],
          "name": "stderr"
        },
        {
          "output_type": "stream",
          "text": [
            "Episode 767\tCurrent Reward: 599.00\n"
          ],
          "name": "stdout"
        },
        {
          "output_type": "stream",
          "text": [
            " 77%|███████▋  | 769/1000 [4:35:31<2:12:16, 34.36s/it]"
          ],
          "name": "stderr"
        },
        {
          "output_type": "stream",
          "text": [
            "Episode 768\tCurrent Reward: 1239.00\n"
          ],
          "name": "stdout"
        },
        {
          "output_type": "stream",
          "text": [
            " 77%|███████▋  | 770/1000 [4:35:42<1:44:20, 27.22s/it]"
          ],
          "name": "stderr"
        },
        {
          "output_type": "stream",
          "text": [
            "Episode 769\tCurrent Reward: 648.00\n"
          ],
          "name": "stdout"
        },
        {
          "output_type": "stream",
          "text": [
            " 77%|███████▋  | 771/1000 [4:35:53<1:25:30, 22.40s/it]"
          ],
          "name": "stderr"
        },
        {
          "output_type": "stream",
          "text": [
            "Episode 770\tCurrent Reward: 607.00\n"
          ],
          "name": "stdout"
        },
        {
          "output_type": "stream",
          "text": [
            " 77%|███████▋  | 772/1000 [4:36:08<1:17:14, 20.32s/it]"
          ],
          "name": "stderr"
        },
        {
          "output_type": "stream",
          "text": [
            "Episode 771\tCurrent Reward: 712.00\n"
          ],
          "name": "stdout"
        },
        {
          "output_type": "stream",
          "text": [
            " 77%|███████▋  | 773/1000 [4:36:12<58:32, 15.47s/it]  "
          ],
          "name": "stderr"
        },
        {
          "output_type": "stream",
          "text": [
            "Episode 772\tCurrent Reward: 238.00\n"
          ],
          "name": "stdout"
        },
        {
          "output_type": "stream",
          "text": [
            " 77%|███████▋  | 774/1000 [4:36:24<53:35, 14.23s/it]"
          ],
          "name": "stderr"
        },
        {
          "output_type": "stream",
          "text": [
            "Episode 773\tCurrent Reward: 593.00\n"
          ],
          "name": "stdout"
        },
        {
          "output_type": "stream",
          "text": [
            " 78%|███████▊  | 775/1000 [4:36:59<1:16:48, 20.48s/it]"
          ],
          "name": "stderr"
        },
        {
          "output_type": "stream",
          "text": [
            "Episode 774\tCurrent Reward: 998.00\n"
          ],
          "name": "stdout"
        },
        {
          "output_type": "stream",
          "text": [
            " 78%|███████▊  | 776/1000 [4:37:38<1:37:04, 26.00s/it]"
          ],
          "name": "stderr"
        },
        {
          "output_type": "stream",
          "text": [
            "Episode 775\tCurrent Reward: 684.00\n"
          ],
          "name": "stdout"
        },
        {
          "output_type": "stream",
          "text": [
            " 78%|███████▊  | 777/1000 [4:38:29<2:05:02, 33.64s/it]"
          ],
          "name": "stderr"
        },
        {
          "output_type": "stream",
          "text": [
            "Episode 776\tCurrent Reward: 1628.00\n"
          ],
          "name": "stdout"
        },
        {
          "output_type": "stream",
          "text": [
            " 78%|███████▊  | 778/1000 [4:38:39<1:37:52, 26.45s/it]"
          ],
          "name": "stderr"
        },
        {
          "output_type": "stream",
          "text": [
            "Episode 777\tCurrent Reward: 650.00\n"
          ],
          "name": "stdout"
        },
        {
          "output_type": "stream",
          "text": [
            " 78%|███████▊  | 779/1000 [4:38:42<1:11:24, 19.39s/it]"
          ],
          "name": "stderr"
        },
        {
          "output_type": "stream",
          "text": [
            "Episode 778\tCurrent Reward: 250.00\n"
          ],
          "name": "stdout"
        },
        {
          "output_type": "stream",
          "text": [
            " 78%|███████▊  | 780/1000 [4:38:50<58:29, 15.95s/it]  "
          ],
          "name": "stderr"
        },
        {
          "output_type": "stream",
          "text": [
            "Episode 779\tCurrent Reward: 641.00\n",
            "==========\n",
            "Epoch: 780, average reward: 671.250000\n",
            "==========\n"
          ],
          "name": "stdout"
        },
        {
          "output_type": "stream",
          "text": [
            " 78%|███████▊  | 781/1000 [4:39:26<1:20:49, 22.14s/it]"
          ],
          "name": "stderr"
        },
        {
          "output_type": "stream",
          "text": [
            "Episode 780\tCurrent Reward: 1288.00\n"
          ],
          "name": "stdout"
        },
        {
          "output_type": "stream",
          "text": [
            " 78%|███████▊  | 782/1000 [4:39:35<1:05:53, 18.14s/it]"
          ],
          "name": "stderr"
        },
        {
          "output_type": "stream",
          "text": [
            "Episode 781\tCurrent Reward: 635.00\n"
          ],
          "name": "stdout"
        },
        {
          "output_type": "stream",
          "text": [
            " 78%|███████▊  | 783/1000 [4:40:12<1:26:17, 23.86s/it]"
          ],
          "name": "stderr"
        },
        {
          "output_type": "stream",
          "text": [
            "Episode 782\tCurrent Reward: 1306.00\n"
          ],
          "name": "stdout"
        },
        {
          "output_type": "stream",
          "text": [
            " 78%|███████▊  | 784/1000 [4:42:07<3:04:31, 51.26s/it]"
          ],
          "name": "stderr"
        },
        {
          "output_type": "stream",
          "text": [
            "Episode 783\tCurrent Reward: 863.00\n"
          ],
          "name": "stdout"
        },
        {
          "output_type": "stream",
          "text": [
            " 78%|███████▊  | 785/1000 [4:42:45<2:48:25, 47.00s/it]"
          ],
          "name": "stderr"
        },
        {
          "output_type": "stream",
          "text": [
            "Episode 784\tCurrent Reward: 1828.00\n"
          ],
          "name": "stdout"
        },
        {
          "output_type": "stream",
          "text": [
            " 79%|███████▊  | 786/1000 [4:43:13<2:27:51, 41.46s/it]"
          ],
          "name": "stderr"
        },
        {
          "output_type": "stream",
          "text": [
            "Episode 785\tCurrent Reward: 1326.00\n"
          ],
          "name": "stdout"
        },
        {
          "output_type": "stream",
          "text": [
            " 79%|███████▊  | 787/1000 [4:43:24<1:54:47, 32.34s/it]"
          ],
          "name": "stderr"
        },
        {
          "output_type": "stream",
          "text": [
            "Episode 786\tCurrent Reward: 585.00\n"
          ],
          "name": "stdout"
        },
        {
          "output_type": "stream",
          "text": [
            " 79%|███████▉  | 788/1000 [4:43:28<1:23:47, 23.71s/it]"
          ],
          "name": "stderr"
        },
        {
          "output_type": "stream",
          "text": [
            "Episode 787\tCurrent Reward: 249.00\n"
          ],
          "name": "stdout"
        },
        {
          "output_type": "stream",
          "text": [
            " 79%|███████▉  | 789/1000 [4:44:56<2:31:38, 43.12s/it]"
          ],
          "name": "stderr"
        },
        {
          "output_type": "stream",
          "text": [
            "Episode 788\tCurrent Reward: 627.00\n"
          ],
          "name": "stdout"
        },
        {
          "output_type": "stream",
          "text": [
            " 79%|███████▉  | 790/1000 [4:45:25<2:16:17, 38.94s/it]"
          ],
          "name": "stderr"
        },
        {
          "output_type": "stream",
          "text": [
            "Episode 789\tCurrent Reward: 786.00\n"
          ],
          "name": "stdout"
        },
        {
          "output_type": "stream",
          "text": [
            " 79%|███████▉  | 791/1000 [4:45:29<1:38:58, 28.41s/it]"
          ],
          "name": "stderr"
        },
        {
          "output_type": "stream",
          "text": [
            "Episode 790\tCurrent Reward: 248.00\n"
          ],
          "name": "stdout"
        },
        {
          "output_type": "stream",
          "text": [
            " 79%|███████▉  | 792/1000 [4:45:38<1:18:25, 22.62s/it]"
          ],
          "name": "stderr"
        },
        {
          "output_type": "stream",
          "text": [
            "Episode 791\tCurrent Reward: 632.00\n"
          ],
          "name": "stdout"
        },
        {
          "output_type": "stream",
          "text": [
            " 79%|███████▉  | 793/1000 [4:46:07<1:24:23, 24.46s/it]"
          ],
          "name": "stderr"
        },
        {
          "output_type": "stream",
          "text": [
            "Episode 792\tCurrent Reward: 790.00\n"
          ],
          "name": "stdout"
        },
        {
          "output_type": "stream",
          "text": [
            " 79%|███████▉  | 794/1000 [4:46:12<1:03:26, 18.48s/it]"
          ],
          "name": "stderr"
        },
        {
          "output_type": "stream",
          "text": [
            "Episode 793\tCurrent Reward: 236.00\n"
          ],
          "name": "stdout"
        },
        {
          "output_type": "stream",
          "text": [
            " 80%|███████▉  | 795/1000 [4:46:27<1:00:30, 17.71s/it]"
          ],
          "name": "stderr"
        },
        {
          "output_type": "stream",
          "text": [
            "Episode 794\tCurrent Reward: 638.00\n"
          ],
          "name": "stdout"
        },
        {
          "output_type": "stream",
          "text": [
            " 80%|███████▉  | 796/1000 [4:47:15<1:30:40, 26.67s/it]"
          ],
          "name": "stderr"
        },
        {
          "output_type": "stream",
          "text": [
            "Episode 795\tCurrent Reward: 984.00\n"
          ],
          "name": "stdout"
        },
        {
          "output_type": "stream",
          "text": [
            " 80%|███████▉  | 797/1000 [4:47:27<1:15:27, 22.30s/it]"
          ],
          "name": "stderr"
        },
        {
          "output_type": "stream",
          "text": [
            "Episode 796\tCurrent Reward: 600.00\n"
          ],
          "name": "stdout"
        },
        {
          "output_type": "stream",
          "text": [
            " 80%|███████▉  | 798/1000 [4:47:36<1:01:07, 18.15s/it]"
          ],
          "name": "stderr"
        },
        {
          "output_type": "stream",
          "text": [
            "Episode 797\tCurrent Reward: 637.00\n"
          ],
          "name": "stdout"
        },
        {
          "output_type": "stream",
          "text": [
            " 80%|███████▉  | 799/1000 [4:48:08<1:15:22, 22.50s/it]"
          ],
          "name": "stderr"
        },
        {
          "output_type": "stream",
          "text": [
            "Episode 798\tCurrent Reward: 782.00\n"
          ],
          "name": "stdout"
        },
        {
          "output_type": "stream",
          "text": [
            " 80%|████████  | 800/1000 [4:48:36<1:19:51, 23.96s/it]"
          ],
          "name": "stderr"
        },
        {
          "output_type": "stream",
          "text": [
            "Episode 799\tCurrent Reward: 1029.00\n",
            "==========\n",
            "Epoch: 800, average reward: 803.450000\n",
            "==========\n"
          ],
          "name": "stdout"
        },
        {
          "output_type": "stream",
          "text": [
            " 80%|████████  | 801/1000 [4:49:18<1:38:03, 29.57s/it]"
          ],
          "name": "stderr"
        },
        {
          "output_type": "stream",
          "text": [
            "Episode 800\tCurrent Reward: 1017.00\n"
          ],
          "name": "stdout"
        },
        {
          "output_type": "stream",
          "text": [
            " 80%|████████  | 802/1000 [4:49:37<1:26:52, 26.33s/it]"
          ],
          "name": "stderr"
        },
        {
          "output_type": "stream",
          "text": [
            "Episode 801\tCurrent Reward: 632.00\n"
          ],
          "name": "stdout"
        },
        {
          "output_type": "stream",
          "text": [
            " 80%|████████  | 803/1000 [4:50:03<1:25:47, 26.13s/it]"
          ],
          "name": "stderr"
        },
        {
          "output_type": "stream",
          "text": [
            "Episode 802\tCurrent Reward: 1329.00\n"
          ],
          "name": "stdout"
        },
        {
          "output_type": "stream",
          "text": [
            " 80%|████████  | 804/1000 [4:50:31<1:27:35, 26.81s/it]"
          ],
          "name": "stderr"
        },
        {
          "output_type": "stream",
          "text": [
            "Episode 803\tCurrent Reward: 1327.00\n"
          ],
          "name": "stdout"
        },
        {
          "output_type": "stream",
          "text": [
            " 80%|████████  | 805/1000 [4:50:43<1:12:07, 22.19s/it]"
          ],
          "name": "stderr"
        },
        {
          "output_type": "stream",
          "text": [
            "Episode 804\tCurrent Reward: 623.00\n"
          ],
          "name": "stdout"
        },
        {
          "output_type": "stream",
          "text": [
            " 81%|████████  | 806/1000 [4:50:46<53:41, 16.61s/it]  "
          ],
          "name": "stderr"
        },
        {
          "output_type": "stream",
          "text": [
            "Episode 805\tCurrent Reward: 250.00\n"
          ],
          "name": "stdout"
        },
        {
          "output_type": "stream",
          "text": [
            " 81%|████████  | 807/1000 [4:50:50<41:02, 12.76s/it]"
          ],
          "name": "stderr"
        },
        {
          "output_type": "stream",
          "text": [
            "Episode 806\tCurrent Reward: 245.00\n"
          ],
          "name": "stdout"
        },
        {
          "output_type": "stream",
          "text": [
            " 81%|████████  | 808/1000 [4:51:11<48:28, 15.15s/it]"
          ],
          "name": "stderr"
        },
        {
          "output_type": "stream",
          "text": [
            "Episode 807\tCurrent Reward: 1033.00\n"
          ],
          "name": "stdout"
        },
        {
          "output_type": "stream",
          "text": [
            " 81%|████████  | 809/1000 [4:51:35<56:57, 17.89s/it]"
          ],
          "name": "stderr"
        },
        {
          "output_type": "stream",
          "text": [
            "Episode 808\tCurrent Reward: 1328.00\n"
          ],
          "name": "stdout"
        },
        {
          "output_type": "stream",
          "text": [
            " 81%|████████  | 810/1000 [4:51:39<43:26, 13.72s/it]"
          ],
          "name": "stderr"
        },
        {
          "output_type": "stream",
          "text": [
            "Episode 809\tCurrent Reward: 243.00\n"
          ],
          "name": "stdout"
        },
        {
          "output_type": "stream",
          "text": [
            " 81%|████████  | 811/1000 [4:52:00<50:10, 15.93s/it]"
          ],
          "name": "stderr"
        },
        {
          "output_type": "stream",
          "text": [
            "Episode 810\tCurrent Reward: 1150.00\n"
          ],
          "name": "stdout"
        },
        {
          "output_type": "stream",
          "text": [
            " 81%|████████  | 812/1000 [4:52:39<1:11:42, 22.89s/it]"
          ],
          "name": "stderr"
        },
        {
          "output_type": "stream",
          "text": [
            "Episode 811\tCurrent Reward: 1303.00\n"
          ],
          "name": "stdout"
        },
        {
          "output_type": "stream",
          "text": [
            " 81%|████████▏ | 813/1000 [4:53:14<1:22:28, 26.46s/it]"
          ],
          "name": "stderr"
        },
        {
          "output_type": "stream",
          "text": [
            "Episode 812\tCurrent Reward: 1014.00\n"
          ],
          "name": "stdout"
        },
        {
          "output_type": "stream",
          "text": [
            " 81%|████████▏ | 814/1000 [4:53:43<1:24:44, 27.34s/it]"
          ],
          "name": "stderr"
        },
        {
          "output_type": "stream",
          "text": [
            "Episode 813\tCurrent Reward: 1018.00\n"
          ],
          "name": "stdout"
        },
        {
          "output_type": "stream",
          "text": [
            " 82%|████████▏ | 815/1000 [4:53:48<1:03:23, 20.56s/it]"
          ],
          "name": "stderr"
        },
        {
          "output_type": "stream",
          "text": [
            "Episode 814\tCurrent Reward: 224.00\n"
          ],
          "name": "stdout"
        },
        {
          "output_type": "stream",
          "text": [
            " 82%|████████▏ | 816/1000 [4:54:10<1:04:06, 20.91s/it]"
          ],
          "name": "stderr"
        },
        {
          "output_type": "stream",
          "text": [
            "Episode 815\tCurrent Reward: 730.00\n"
          ],
          "name": "stdout"
        },
        {
          "output_type": "stream",
          "text": [
            " 82%|████████▏ | 817/1000 [4:55:02<1:32:16, 30.25s/it]"
          ],
          "name": "stderr"
        },
        {
          "output_type": "stream",
          "text": [
            "Episode 816\tCurrent Reward: 1258.00\n"
          ],
          "name": "stdout"
        },
        {
          "output_type": "stream",
          "text": [
            " 82%|████████▏ | 818/1000 [4:55:10<1:11:19, 23.51s/it]"
          ],
          "name": "stderr"
        },
        {
          "output_type": "stream",
          "text": [
            "Episode 817\tCurrent Reward: 611.00\n"
          ],
          "name": "stdout"
        },
        {
          "output_type": "stream",
          "text": [
            " 82%|████████▏ | 819/1000 [4:55:31<1:09:08, 22.92s/it]"
          ],
          "name": "stderr"
        },
        {
          "output_type": "stream",
          "text": [
            "Episode 818\tCurrent Reward: 772.00\n"
          ],
          "name": "stdout"
        },
        {
          "output_type": "stream",
          "text": [
            " 82%|████████▏ | 820/1000 [4:55:48<1:03:32, 21.18s/it]"
          ],
          "name": "stderr"
        },
        {
          "output_type": "stream",
          "text": [
            "Episode 819\tCurrent Reward: 755.00\n",
            "==========\n",
            "Epoch: 820, average reward: 843.100000\n",
            "==========\n"
          ],
          "name": "stdout"
        },
        {
          "output_type": "stream",
          "text": [
            " 82%|████████▏ | 821/1000 [4:56:44<1:33:57, 31.50s/it]"
          ],
          "name": "stderr"
        },
        {
          "output_type": "stream",
          "text": [
            "Episode 820\tCurrent Reward: 1255.00\n"
          ],
          "name": "stdout"
        },
        {
          "output_type": "stream",
          "text": [
            " 82%|████████▏ | 822/1000 [4:56:49<1:09:40, 23.49s/it]"
          ],
          "name": "stderr"
        },
        {
          "output_type": "stream",
          "text": [
            "Episode 821\tCurrent Reward: 224.00\n"
          ],
          "name": "stdout"
        },
        {
          "output_type": "stream",
          "text": [
            " 82%|████████▏ | 823/1000 [4:56:53<52:14, 17.71s/it]  "
          ],
          "name": "stderr"
        },
        {
          "output_type": "stream",
          "text": [
            "Episode 822\tCurrent Reward: 238.00\n"
          ],
          "name": "stdout"
        },
        {
          "output_type": "stream",
          "text": [
            " 82%|████████▏ | 824/1000 [4:57:16<56:35, 19.30s/it]"
          ],
          "name": "stderr"
        },
        {
          "output_type": "stream",
          "text": [
            "Episode 823\tCurrent Reward: 1025.00\n"
          ],
          "name": "stdout"
        },
        {
          "output_type": "stream",
          "text": [
            " 82%|████████▎ | 825/1000 [4:57:36<57:05, 19.57s/it]"
          ],
          "name": "stderr"
        },
        {
          "output_type": "stream",
          "text": [
            "Episode 824\tCurrent Reward: 789.00\n"
          ],
          "name": "stdout"
        },
        {
          "output_type": "stream",
          "text": [
            " 83%|████████▎ | 826/1000 [4:57:59<59:39, 20.57s/it]"
          ],
          "name": "stderr"
        },
        {
          "output_type": "stream",
          "text": [
            "Episode 825\tCurrent Reward: 1035.00\n"
          ],
          "name": "stdout"
        },
        {
          "output_type": "stream",
          "text": [
            " 83%|████████▎ | 827/1000 [4:58:23<1:02:14, 21.58s/it]"
          ],
          "name": "stderr"
        },
        {
          "output_type": "stream",
          "text": [
            "Episode 826\tCurrent Reward: 1335.00\n"
          ],
          "name": "stdout"
        },
        {
          "output_type": "stream",
          "text": [
            " 83%|████████▎ | 828/1000 [4:58:27<46:40, 16.28s/it]  "
          ],
          "name": "stderr"
        },
        {
          "output_type": "stream",
          "text": [
            "Episode 827\tCurrent Reward: 245.00\n"
          ],
          "name": "stdout"
        },
        {
          "output_type": "stream",
          "text": [
            " 83%|████████▎ | 829/1000 [4:59:06<1:05:35, 23.02s/it]"
          ],
          "name": "stderr"
        },
        {
          "output_type": "stream",
          "text": [
            "Episode 828\tCurrent Reward: 663.00\n"
          ],
          "name": "stdout"
        },
        {
          "output_type": "stream",
          "text": [
            " 83%|████████▎ | 830/1000 [4:59:23<1:00:46, 21.45s/it]"
          ],
          "name": "stderr"
        },
        {
          "output_type": "stream",
          "text": [
            "Episode 829\tCurrent Reward: 809.00\n"
          ],
          "name": "stdout"
        },
        {
          "output_type": "stream",
          "text": [
            " 83%|████████▎ | 831/1000 [4:59:50<1:05:00, 23.08s/it]"
          ],
          "name": "stderr"
        },
        {
          "output_type": "stream",
          "text": [
            "Episode 830\tCurrent Reward: 1023.00\n"
          ],
          "name": "stdout"
        },
        {
          "output_type": "stream",
          "text": [
            " 83%|████████▎ | 832/1000 [5:00:00<53:08, 18.98s/it]  "
          ],
          "name": "stderr"
        },
        {
          "output_type": "stream",
          "text": [
            "Episode 831\tCurrent Reward: 604.00\n"
          ],
          "name": "stdout"
        },
        {
          "output_type": "stream",
          "text": [
            " 83%|████████▎ | 833/1000 [5:00:03<39:52, 14.33s/it]"
          ],
          "name": "stderr"
        },
        {
          "output_type": "stream",
          "text": [
            "Episode 832\tCurrent Reward: 242.00\n"
          ],
          "name": "stdout"
        },
        {
          "output_type": "stream",
          "text": [
            " 83%|████████▎ | 834/1000 [5:00:22<43:22, 15.68s/it]"
          ],
          "name": "stderr"
        },
        {
          "output_type": "stream",
          "text": [
            "Episode 833\tCurrent Reward: 632.00\n"
          ],
          "name": "stdout"
        },
        {
          "output_type": "stream",
          "text": [
            " 84%|████████▎ | 835/1000 [5:00:28<35:21, 12.86s/it]"
          ],
          "name": "stderr"
        },
        {
          "output_type": "stream",
          "text": [
            "Episode 834\tCurrent Reward: 232.00\n"
          ],
          "name": "stdout"
        },
        {
          "output_type": "stream",
          "text": [
            " 84%|████████▎ | 836/1000 [5:01:14<1:02:06, 22.72s/it]"
          ],
          "name": "stderr"
        },
        {
          "output_type": "stream",
          "text": [
            "Episode 835\tCurrent Reward: 1294.00\n"
          ],
          "name": "stdout"
        },
        {
          "output_type": "stream",
          "text": [
            " 84%|████████▎ | 837/1000 [5:01:19<47:01, 17.31s/it]  "
          ],
          "name": "stderr"
        },
        {
          "output_type": "stream",
          "text": [
            "Episode 836\tCurrent Reward: 241.00\n"
          ],
          "name": "stdout"
        },
        {
          "output_type": "stream",
          "text": [
            " 84%|████████▍ | 838/1000 [5:01:23<36:06, 13.37s/it]"
          ],
          "name": "stderr"
        },
        {
          "output_type": "stream",
          "text": [
            "Episode 837\tCurrent Reward: 243.00\n"
          ],
          "name": "stdout"
        },
        {
          "output_type": "stream",
          "text": [
            " 84%|████████▍ | 839/1000 [5:01:28<28:56, 10.79s/it]"
          ],
          "name": "stderr"
        },
        {
          "output_type": "stream",
          "text": [
            "Episode 838\tCurrent Reward: 235.00\n"
          ],
          "name": "stdout"
        },
        {
          "output_type": "stream",
          "text": [
            " 84%|████████▍ | 840/1000 [5:01:32<24:01,  9.01s/it]"
          ],
          "name": "stderr"
        },
        {
          "output_type": "stream",
          "text": [
            "Episode 839\tCurrent Reward: 234.00\n",
            "==========\n",
            "Epoch: 840, average reward: 629.900000\n",
            "==========\n"
          ],
          "name": "stdout"
        },
        {
          "output_type": "stream",
          "text": [
            " 84%|████████▍ | 841/1000 [5:01:46<27:34, 10.40s/it]"
          ],
          "name": "stderr"
        },
        {
          "output_type": "stream",
          "text": [
            "Episode 840\tCurrent Reward: 625.00\n"
          ],
          "name": "stdout"
        },
        {
          "output_type": "stream",
          "text": [
            " 84%|████████▍ | 842/1000 [5:02:09<37:16, 14.16s/it]"
          ],
          "name": "stderr"
        },
        {
          "output_type": "stream",
          "text": [
            "Episode 841\tCurrent Reward: 801.00\n"
          ],
          "name": "stdout"
        },
        {
          "output_type": "stream",
          "text": [
            " 84%|████████▍ | 843/1000 [5:02:39<49:37, 18.97s/it]"
          ],
          "name": "stderr"
        },
        {
          "output_type": "stream",
          "text": [
            "Episode 842\tCurrent Reward: 770.00\n"
          ],
          "name": "stdout"
        },
        {
          "output_type": "stream",
          "text": [
            " 84%|████████▍ | 844/1000 [5:02:45<38:50, 14.94s/it]"
          ],
          "name": "stderr"
        },
        {
          "output_type": "stream",
          "text": [
            "Episode 843\tCurrent Reward: 220.00\n"
          ],
          "name": "stdout"
        },
        {
          "output_type": "stream",
          "text": [
            " 84%|████████▍ | 845/1000 [5:02:50<31:05, 12.04s/it]"
          ],
          "name": "stderr"
        },
        {
          "output_type": "stream",
          "text": [
            "Episode 844\tCurrent Reward: 233.00\n"
          ],
          "name": "stdout"
        },
        {
          "output_type": "stream",
          "text": [
            " 85%|████████▍ | 846/1000 [5:03:19<44:20, 17.27s/it]"
          ],
          "name": "stderr"
        },
        {
          "output_type": "stream",
          "text": [
            "Episode 845\tCurrent Reward: 1038.00\n"
          ],
          "name": "stdout"
        },
        {
          "output_type": "stream",
          "text": [
            " 85%|████████▍ | 847/1000 [5:03:38<44:43, 17.54s/it]"
          ],
          "name": "stderr"
        },
        {
          "output_type": "stream",
          "text": [
            "Episode 846\tCurrent Reward: 1059.00\n"
          ],
          "name": "stdout"
        },
        {
          "output_type": "stream",
          "text": [
            " 85%|████████▍ | 848/1000 [5:05:59<2:18:39, 54.73s/it]"
          ],
          "name": "stderr"
        },
        {
          "output_type": "stream",
          "text": [
            "Episode 847\tCurrent Reward: 806.00\n"
          ],
          "name": "stdout"
        },
        {
          "output_type": "stream",
          "text": [
            " 85%|████████▍ | 849/1000 [5:06:23<1:54:22, 45.45s/it]"
          ],
          "name": "stderr"
        },
        {
          "output_type": "stream",
          "text": [
            "Episode 848\tCurrent Reward: 713.00\n"
          ],
          "name": "stdout"
        },
        {
          "output_type": "stream",
          "text": [
            " 85%|████████▌ | 850/1000 [5:06:41<1:33:00, 37.21s/it]"
          ],
          "name": "stderr"
        },
        {
          "output_type": "stream",
          "text": [
            "Episode 849\tCurrent Reward: 587.00\n"
          ],
          "name": "stdout"
        },
        {
          "output_type": "stream",
          "text": [
            " 85%|████████▌ | 851/1000 [5:07:02<1:20:27, 32.40s/it]"
          ],
          "name": "stderr"
        },
        {
          "output_type": "stream",
          "text": [
            "Episode 850\tCurrent Reward: 754.00\n"
          ],
          "name": "stdout"
        },
        {
          "output_type": "stream",
          "text": [
            " 85%|████████▌ | 852/1000 [5:07:18<1:07:31, 27.38s/it]"
          ],
          "name": "stderr"
        },
        {
          "output_type": "stream",
          "text": [
            "Episode 851\tCurrent Reward: 638.00\n"
          ],
          "name": "stdout"
        },
        {
          "output_type": "stream",
          "text": [
            " 85%|████████▌ | 853/1000 [5:07:42<1:05:07, 26.58s/it]"
          ],
          "name": "stderr"
        },
        {
          "output_type": "stream",
          "text": [
            "Episode 852\tCurrent Reward: 1322.00\n"
          ],
          "name": "stdout"
        },
        {
          "output_type": "stream",
          "text": [
            " 85%|████████▌ | 854/1000 [5:08:10<1:05:44, 27.02s/it]"
          ],
          "name": "stderr"
        },
        {
          "output_type": "stream",
          "text": [
            "Episode 853\tCurrent Reward: 1306.00\n"
          ],
          "name": "stdout"
        },
        {
          "output_type": "stream",
          "text": [
            " 86%|████████▌ | 855/1000 [5:08:15<49:12, 20.36s/it]  "
          ],
          "name": "stderr"
        },
        {
          "output_type": "stream",
          "text": [
            "Episode 854\tCurrent Reward: 221.00\n"
          ],
          "name": "stdout"
        },
        {
          "output_type": "stream",
          "text": [
            " 86%|████████▌ | 856/1000 [5:08:51<59:40, 24.86s/it]"
          ],
          "name": "stderr"
        },
        {
          "output_type": "stream",
          "text": [
            "Episode 855\tCurrent Reward: 1005.00\n"
          ],
          "name": "stdout"
        },
        {
          "output_type": "stream",
          "text": [
            " 86%|████████▌ | 857/1000 [5:09:39<1:15:46, 31.80s/it]"
          ],
          "name": "stderr"
        },
        {
          "output_type": "stream",
          "text": [
            "Episode 856\tCurrent Reward: 1876.00\n"
          ],
          "name": "stdout"
        },
        {
          "output_type": "stream",
          "text": [
            " 86%|████████▌ | 858/1000 [5:10:00<1:07:35, 28.56s/it]"
          ],
          "name": "stderr"
        },
        {
          "output_type": "stream",
          "text": [
            "Episode 857\tCurrent Reward: 605.00\n"
          ],
          "name": "stdout"
        },
        {
          "output_type": "stream",
          "text": [
            " 86%|████████▌ | 859/1000 [5:10:04<50:06, 21.33s/it]  "
          ],
          "name": "stderr"
        },
        {
          "output_type": "stream",
          "text": [
            "Episode 858\tCurrent Reward: 244.00\n"
          ],
          "name": "stdout"
        },
        {
          "output_type": "stream",
          "text": [
            " 86%|████████▌ | 860/1000 [5:10:47<1:05:03, 27.88s/it]"
          ],
          "name": "stderr"
        },
        {
          "output_type": "stream",
          "text": [
            "Episode 859\tCurrent Reward: 995.00\n",
            "==========\n",
            "Epoch: 860, average reward: 790.900000\n",
            "==========\n"
          ],
          "name": "stdout"
        },
        {
          "output_type": "stream",
          "text": [
            " 86%|████████▌ | 861/1000 [5:11:03<56:02, 24.19s/it]  "
          ],
          "name": "stderr"
        },
        {
          "output_type": "stream",
          "text": [
            "Episode 860\tCurrent Reward: 623.00\n"
          ],
          "name": "stdout"
        },
        {
          "output_type": "stream",
          "text": [
            " 86%|████████▌ | 862/1000 [5:11:38<1:02:54, 27.35s/it]"
          ],
          "name": "stderr"
        },
        {
          "output_type": "stream",
          "text": [
            "Episode 861\tCurrent Reward: 1311.00\n"
          ],
          "name": "stdout"
        },
        {
          "output_type": "stream",
          "text": [
            " 86%|████████▋ | 863/1000 [5:11:52<53:31, 23.44s/it]  "
          ],
          "name": "stderr"
        },
        {
          "output_type": "stream",
          "text": [
            "Episode 862\tCurrent Reward: 1043.00\n"
          ],
          "name": "stdout"
        },
        {
          "output_type": "stream",
          "text": [
            " 86%|████████▋ | 864/1000 [5:12:09<48:51, 21.56s/it]"
          ],
          "name": "stderr"
        },
        {
          "output_type": "stream",
          "text": [
            "Episode 863\tCurrent Reward: 602.00\n"
          ],
          "name": "stdout"
        },
        {
          "output_type": "stream",
          "text": [
            " 86%|████████▋ | 865/1000 [5:12:19<40:37, 18.05s/it]"
          ],
          "name": "stderr"
        },
        {
          "output_type": "stream",
          "text": [
            "Episode 864\tCurrent Reward: 612.00\n"
          ],
          "name": "stdout"
        },
        {
          "output_type": "stream",
          "text": [
            " 87%|████████▋ | 866/1000 [5:12:46<46:38, 20.89s/it]"
          ],
          "name": "stderr"
        },
        {
          "output_type": "stream",
          "text": [
            "Episode 865\tCurrent Reward: 793.00\n"
          ],
          "name": "stdout"
        },
        {
          "output_type": "stream",
          "text": [
            " 87%|████████▋ | 867/1000 [5:13:05<44:27, 20.06s/it]"
          ],
          "name": "stderr"
        },
        {
          "output_type": "stream",
          "text": [
            "Episode 866\tCurrent Reward: 810.00\n"
          ],
          "name": "stdout"
        },
        {
          "output_type": "stream",
          "text": [
            " 87%|████████▋ | 868/1000 [5:13:09<33:36, 15.28s/it]"
          ],
          "name": "stderr"
        },
        {
          "output_type": "stream",
          "text": [
            "Episode 867\tCurrent Reward: 237.00\n"
          ],
          "name": "stdout"
        },
        {
          "output_type": "stream",
          "text": [
            " 87%|████████▋ | 869/1000 [5:13:12<25:44, 11.79s/it]"
          ],
          "name": "stderr"
        },
        {
          "output_type": "stream",
          "text": [
            "Episode 868\tCurrent Reward: 238.00\n"
          ],
          "name": "stdout"
        },
        {
          "output_type": "stream",
          "text": [
            " 87%|████████▋ | 870/1000 [5:13:43<37:59, 17.54s/it]"
          ],
          "name": "stderr"
        },
        {
          "output_type": "stream",
          "text": [
            "Episode 869\tCurrent Reward: 1304.00\n"
          ],
          "name": "stdout"
        },
        {
          "output_type": "stream",
          "text": [
            " 87%|████████▋ | 871/1000 [5:13:47<28:29, 13.26s/it]"
          ],
          "name": "stderr"
        },
        {
          "output_type": "stream",
          "text": [
            "Episode 870\tCurrent Reward: 249.00\n"
          ],
          "name": "stdout"
        },
        {
          "output_type": "stream",
          "text": [
            " 87%|████████▋ | 872/1000 [5:13:58<26:57, 12.64s/it]"
          ],
          "name": "stderr"
        },
        {
          "output_type": "stream",
          "text": [
            "Episode 871\tCurrent Reward: 618.00\n"
          ],
          "name": "stdout"
        },
        {
          "output_type": "stream",
          "text": [
            " 87%|████████▋ | 873/1000 [5:14:58<56:55, 26.90s/it]"
          ],
          "name": "stderr"
        },
        {
          "output_type": "stream",
          "text": [
            "Episode 872\tCurrent Reward: 1254.00\n"
          ],
          "name": "stdout"
        },
        {
          "output_type": "stream",
          "text": [
            " 87%|████████▋ | 874/1000 [5:15:08<45:45, 21.79s/it]"
          ],
          "name": "stderr"
        },
        {
          "output_type": "stream",
          "text": [
            "Episode 873\tCurrent Reward: 616.00\n"
          ],
          "name": "stdout"
        },
        {
          "output_type": "stream",
          "text": [
            " 88%|████████▊ | 875/1000 [5:15:12<34:31, 16.57s/it]"
          ],
          "name": "stderr"
        },
        {
          "output_type": "stream",
          "text": [
            "Episode 874\tCurrent Reward: 238.00\n"
          ],
          "name": "stdout"
        },
        {
          "output_type": "stream",
          "text": [
            " 88%|████████▊ | 876/1000 [5:15:21<29:12, 14.13s/it]"
          ],
          "name": "stderr"
        },
        {
          "output_type": "stream",
          "text": [
            "Episode 875\tCurrent Reward: 606.00\n"
          ],
          "name": "stdout"
        },
        {
          "output_type": "stream",
          "text": [
            " 88%|████████▊ | 877/1000 [5:15:31<26:56, 13.14s/it]"
          ],
          "name": "stderr"
        },
        {
          "output_type": "stream",
          "text": [
            "Episode 876\tCurrent Reward: 647.00\n"
          ],
          "name": "stdout"
        },
        {
          "output_type": "stream",
          "text": [
            " 88%|████████▊ | 878/1000 [5:15:59<35:31, 17.47s/it]"
          ],
          "name": "stderr"
        },
        {
          "output_type": "stream",
          "text": [
            "Episode 877\tCurrent Reward: 1689.00\n"
          ],
          "name": "stdout"
        },
        {
          "output_type": "stream",
          "text": [
            " 88%|████████▊ | 879/1000 [5:16:09<30:27, 15.10s/it]"
          ],
          "name": "stderr"
        },
        {
          "output_type": "stream",
          "text": [
            "Episode 878\tCurrent Reward: 613.00\n"
          ],
          "name": "stdout"
        },
        {
          "output_type": "stream",
          "text": [
            " 88%|████████▊ | 880/1000 [5:18:07<1:32:22, 46.19s/it]"
          ],
          "name": "stderr"
        },
        {
          "output_type": "stream",
          "text": [
            "Episode 879\tCurrent Reward: 857.00\n",
            "==========\n",
            "Epoch: 880, average reward: 748.000000\n",
            "==========\n"
          ],
          "name": "stdout"
        },
        {
          "output_type": "stream",
          "text": [
            " 88%|████████▊ | 881/1000 [5:18:40<1:23:28, 42.09s/it]"
          ],
          "name": "stderr"
        },
        {
          "output_type": "stream",
          "text": [
            "Episode 880\tCurrent Reward: 783.00\n"
          ],
          "name": "stdout"
        },
        {
          "output_type": "stream",
          "text": [
            " 88%|████████▊ | 882/1000 [5:18:45<1:00:49, 30.93s/it]"
          ],
          "name": "stderr"
        },
        {
          "output_type": "stream",
          "text": [
            "Episode 881\tCurrent Reward: 221.00\n"
          ],
          "name": "stdout"
        },
        {
          "output_type": "stream",
          "text": [
            " 88%|████████▊ | 883/1000 [5:19:00<50:54, 26.11s/it]  "
          ],
          "name": "stderr"
        },
        {
          "output_type": "stream",
          "text": [
            "Episode 882\tCurrent Reward: 578.00\n"
          ],
          "name": "stdout"
        },
        {
          "output_type": "stream",
          "text": [
            " 88%|████████▊ | 884/1000 [5:19:10<41:05, 21.25s/it]"
          ],
          "name": "stderr"
        },
        {
          "output_type": "stream",
          "text": [
            "Episode 883\tCurrent Reward: 590.00\n"
          ],
          "name": "stdout"
        },
        {
          "output_type": "stream",
          "text": [
            " 88%|████████▊ | 885/1000 [5:19:40<45:58, 23.99s/it]"
          ],
          "name": "stderr"
        },
        {
          "output_type": "stream",
          "text": [
            "Episode 884\tCurrent Reward: 1907.00\n"
          ],
          "name": "stdout"
        },
        {
          "output_type": "stream",
          "text": [
            " 89%|████████▊ | 886/1000 [5:20:11<49:30, 26.06s/it]"
          ],
          "name": "stderr"
        },
        {
          "output_type": "stream",
          "text": [
            "Episode 885\tCurrent Reward: 785.00\n"
          ],
          "name": "stdout"
        },
        {
          "output_type": "stream",
          "text": [
            " 89%|████████▊ | 887/1000 [5:20:40<50:44, 26.94s/it]"
          ],
          "name": "stderr"
        },
        {
          "output_type": "stream",
          "text": [
            "Episode 886\tCurrent Reward: 729.00\n"
          ],
          "name": "stdout"
        },
        {
          "output_type": "stream",
          "text": [
            " 89%|████████▉ | 888/1000 [5:20:49<40:22, 21.63s/it]"
          ],
          "name": "stderr"
        },
        {
          "output_type": "stream",
          "text": [
            "Episode 887\tCurrent Reward: 636.00\n"
          ],
          "name": "stdout"
        },
        {
          "output_type": "stream",
          "text": [
            " 89%|████████▉ | 889/1000 [5:21:36<54:18, 29.35s/it]"
          ],
          "name": "stderr"
        },
        {
          "output_type": "stream",
          "text": [
            "Episode 888\tCurrent Reward: 984.00\n"
          ],
          "name": "stdout"
        },
        {
          "output_type": "stream",
          "text": [
            " 89%|████████▉ | 890/1000 [5:22:04<52:49, 28.82s/it]"
          ],
          "name": "stderr"
        },
        {
          "output_type": "stream",
          "text": [
            "Episode 889\tCurrent Reward: 746.00\n"
          ],
          "name": "stdout"
        },
        {
          "output_type": "stream",
          "text": [
            " 89%|████████▉ | 891/1000 [5:22:18<44:21, 24.42s/it]"
          ],
          "name": "stderr"
        },
        {
          "output_type": "stream",
          "text": [
            "Episode 890\tCurrent Reward: 607.00\n"
          ],
          "name": "stdout"
        },
        {
          "output_type": "stream",
          "text": [
            " 89%|████████▉ | 892/1000 [5:22:31<37:46, 20.99s/it]"
          ],
          "name": "stderr"
        },
        {
          "output_type": "stream",
          "text": [
            "Episode 891\tCurrent Reward: 576.00\n"
          ],
          "name": "stdout"
        },
        {
          "output_type": "stream",
          "text": [
            " 89%|████████▉ | 893/1000 [5:23:09<46:18, 25.97s/it]"
          ],
          "name": "stderr"
        },
        {
          "output_type": "stream",
          "text": [
            "Episode 892\tCurrent Reward: 1107.00\n"
          ],
          "name": "stdout"
        },
        {
          "output_type": "stream",
          "text": [
            " 89%|████████▉ | 894/1000 [5:23:42<49:47, 28.18s/it]"
          ],
          "name": "stderr"
        },
        {
          "output_type": "stream",
          "text": [
            "Episode 893\tCurrent Reward: 1034.00\n"
          ],
          "name": "stdout"
        },
        {
          "output_type": "stream",
          "text": [
            " 90%|████████▉ | 895/1000 [5:25:09<1:19:55, 45.67s/it]"
          ],
          "name": "stderr"
        },
        {
          "output_type": "stream",
          "text": [
            "Episode 894\tCurrent Reward: 1213.00\n"
          ],
          "name": "stdout"
        },
        {
          "output_type": "stream",
          "text": [
            " 90%|████████▉ | 896/1000 [5:25:18<1:00:26, 34.87s/it]"
          ],
          "name": "stderr"
        },
        {
          "output_type": "stream",
          "text": [
            "Episode 895\tCurrent Reward: 597.00\n"
          ],
          "name": "stdout"
        },
        {
          "output_type": "stream",
          "text": [
            " 90%|████████▉ | 897/1000 [5:25:35<50:38, 29.50s/it]  "
          ],
          "name": "stderr"
        },
        {
          "output_type": "stream",
          "text": [
            "Episode 896\tCurrent Reward: 739.00\n"
          ],
          "name": "stdout"
        },
        {
          "output_type": "stream",
          "text": [
            " 90%|████████▉ | 898/1000 [5:25:50<42:43, 25.14s/it]"
          ],
          "name": "stderr"
        },
        {
          "output_type": "stream",
          "text": [
            "Episode 897\tCurrent Reward: 640.00\n"
          ],
          "name": "stdout"
        },
        {
          "output_type": "stream",
          "text": [
            " 90%|████████▉ | 899/1000 [5:26:18<43:34, 25.89s/it]"
          ],
          "name": "stderr"
        },
        {
          "output_type": "stream",
          "text": [
            "Episode 898\tCurrent Reward: 766.00\n"
          ],
          "name": "stdout"
        },
        {
          "output_type": "stream",
          "text": [
            " 90%|█████████ | 900/1000 [5:28:25<1:34:01, 56.42s/it]"
          ],
          "name": "stderr"
        },
        {
          "output_type": "stream",
          "text": [
            "Episode 899\tCurrent Reward: 2884.00\n",
            "==========\n",
            "Epoch: 900, average reward: 906.100000\n",
            "==========\n"
          ],
          "name": "stdout"
        },
        {
          "output_type": "stream",
          "text": [
            " 90%|█████████ | 901/1000 [5:28:43<1:14:00, 44.85s/it]"
          ],
          "name": "stderr"
        },
        {
          "output_type": "stream",
          "text": [
            "Episode 900\tCurrent Reward: 766.00\n"
          ],
          "name": "stdout"
        },
        {
          "output_type": "stream",
          "text": [
            " 90%|█████████ | 902/1000 [5:29:16<1:07:23, 41.26s/it]"
          ],
          "name": "stderr"
        },
        {
          "output_type": "stream",
          "text": [
            "Episode 901\tCurrent Reward: 1406.00\n"
          ],
          "name": "stdout"
        },
        {
          "output_type": "stream",
          "text": [
            " 90%|█████████ | 903/1000 [5:29:58<1:07:12, 41.57s/it]"
          ],
          "name": "stderr"
        },
        {
          "output_type": "stream",
          "text": [
            "Episode 902\tCurrent Reward: 996.00\n"
          ],
          "name": "stdout"
        },
        {
          "output_type": "stream",
          "text": [
            " 90%|█████████ | 904/1000 [5:30:23<58:31, 36.58s/it]  "
          ],
          "name": "stderr"
        },
        {
          "output_type": "stream",
          "text": [
            "Episode 903\tCurrent Reward: 763.00\n"
          ],
          "name": "stdout"
        },
        {
          "output_type": "stream",
          "text": [
            " 90%|█████████ | 905/1000 [5:30:44<50:19, 31.79s/it]"
          ],
          "name": "stderr"
        },
        {
          "output_type": "stream",
          "text": [
            "Episode 904\tCurrent Reward: 714.00\n"
          ],
          "name": "stdout"
        },
        {
          "output_type": "stream",
          "text": [
            " 91%|█████████ | 906/1000 [5:30:50<37:53, 24.19s/it]"
          ],
          "name": "stderr"
        },
        {
          "output_type": "stream",
          "text": [
            "Episode 905\tCurrent Reward: 606.00\n"
          ],
          "name": "stdout"
        },
        {
          "output_type": "stream",
          "text": [
            " 91%|█████████ | 907/1000 [5:31:26<42:32, 27.45s/it]"
          ],
          "name": "stderr"
        },
        {
          "output_type": "stream",
          "text": [
            "Episode 906\tCurrent Reward: 1665.00\n"
          ],
          "name": "stdout"
        },
        {
          "output_type": "stream",
          "text": [
            " 91%|█████████ | 908/1000 [5:31:29<30:56, 20.18s/it]"
          ],
          "name": "stderr"
        },
        {
          "output_type": "stream",
          "text": [
            "Episode 907\tCurrent Reward: 249.00\n"
          ],
          "name": "stdout"
        },
        {
          "output_type": "stream",
          "text": [
            " 91%|█████████ | 909/1000 [5:32:04<37:14, 24.55s/it]"
          ],
          "name": "stderr"
        },
        {
          "output_type": "stream",
          "text": [
            "Episode 908\tCurrent Reward: 1007.00\n"
          ],
          "name": "stdout"
        },
        {
          "output_type": "stream",
          "text": [
            " 91%|█████████ | 910/1000 [5:32:19<32:46, 21.85s/it]"
          ],
          "name": "stderr"
        },
        {
          "output_type": "stream",
          "text": [
            "Episode 909\tCurrent Reward: 639.00\n"
          ],
          "name": "stdout"
        },
        {
          "output_type": "stream",
          "text": [
            " 91%|█████████ | 911/1000 [5:32:48<35:30, 23.94s/it]"
          ],
          "name": "stderr"
        },
        {
          "output_type": "stream",
          "text": [
            "Episode 910\tCurrent Reward: 1043.00\n"
          ],
          "name": "stdout"
        },
        {
          "output_type": "stream",
          "text": [
            " 91%|█████████ | 912/1000 [5:33:05<32:11, 21.95s/it]"
          ],
          "name": "stderr"
        },
        {
          "output_type": "stream",
          "text": [
            "Episode 911\tCurrent Reward: 699.00\n"
          ],
          "name": "stdout"
        },
        {
          "output_type": "stream",
          "text": [
            " 91%|█████████▏| 913/1000 [5:33:21<28:59, 19.99s/it]"
          ],
          "name": "stderr"
        },
        {
          "output_type": "stream",
          "text": [
            "Episode 912\tCurrent Reward: 814.00\n"
          ],
          "name": "stdout"
        },
        {
          "output_type": "stream",
          "text": [
            " 91%|█████████▏| 914/1000 [5:33:27<22:57, 16.02s/it]"
          ],
          "name": "stderr"
        },
        {
          "output_type": "stream",
          "text": [
            "Episode 913\tCurrent Reward: 637.00\n"
          ],
          "name": "stdout"
        },
        {
          "output_type": "stream",
          "text": [
            " 92%|█████████▏| 915/1000 [5:33:38<20:15, 14.30s/it]"
          ],
          "name": "stderr"
        },
        {
          "output_type": "stream",
          "text": [
            "Episode 914\tCurrent Reward: 701.00\n"
          ],
          "name": "stdout"
        },
        {
          "output_type": "stream",
          "text": [
            " 92%|█████████▏| 916/1000 [5:33:39<14:38, 10.46s/it]"
          ],
          "name": "stderr"
        },
        {
          "output_type": "stream",
          "text": [
            "Episode 915\tCurrent Reward: 247.00\n"
          ],
          "name": "stdout"
        },
        {
          "output_type": "stream",
          "text": [
            " 92%|█████████▏| 917/1000 [5:33:46<12:48,  9.26s/it]"
          ],
          "name": "stderr"
        },
        {
          "output_type": "stream",
          "text": [
            "Episode 916\tCurrent Reward: 743.00\n"
          ],
          "name": "stdout"
        },
        {
          "output_type": "stream",
          "text": [
            " 92%|█████████▏| 918/1000 [5:34:21<23:24, 17.13s/it]"
          ],
          "name": "stderr"
        },
        {
          "output_type": "stream",
          "text": [
            "Episode 917\tCurrent Reward: 1023.00\n"
          ],
          "name": "stdout"
        },
        {
          "output_type": "stream",
          "text": [
            " 92%|█████████▏| 919/1000 [5:34:29<19:33, 14.48s/it]"
          ],
          "name": "stderr"
        },
        {
          "output_type": "stream",
          "text": [
            "Episode 918\tCurrent Reward: 807.00\n"
          ],
          "name": "stdout"
        },
        {
          "output_type": "stream",
          "text": [
            " 92%|█████████▏| 920/1000 [5:34:40<17:41, 13.27s/it]"
          ],
          "name": "stderr"
        },
        {
          "output_type": "stream",
          "text": [
            "Episode 919\tCurrent Reward: 748.00\n",
            "==========\n",
            "Epoch: 920, average reward: 813.650000\n",
            "==========\n"
          ],
          "name": "stdout"
        },
        {
          "output_type": "stream",
          "text": [
            " 92%|█████████▏| 921/1000 [5:35:05<22:20, 16.97s/it]"
          ],
          "name": "stderr"
        },
        {
          "output_type": "stream",
          "text": [
            "Episode 920\tCurrent Reward: 956.00\n"
          ],
          "name": "stdout"
        },
        {
          "output_type": "stream",
          "text": [
            " 92%|█████████▏| 922/1000 [5:35:13<18:33, 14.27s/it]"
          ],
          "name": "stderr"
        },
        {
          "output_type": "stream",
          "text": [
            "Episode 921\tCurrent Reward: 808.00\n"
          ],
          "name": "stdout"
        },
        {
          "output_type": "stream",
          "text": [
            " 92%|█████████▏| 923/1000 [5:35:17<14:05, 10.98s/it]"
          ],
          "name": "stderr"
        },
        {
          "output_type": "stream",
          "text": [
            "Episode 922\tCurrent Reward: 609.00\n"
          ],
          "name": "stdout"
        },
        {
          "output_type": "stream",
          "text": [
            " 92%|█████████▏| 924/1000 [5:35:53<23:30, 18.57s/it]"
          ],
          "name": "stderr"
        },
        {
          "output_type": "stream",
          "text": [
            "Episode 923\tCurrent Reward: 1288.00\n"
          ],
          "name": "stdout"
        },
        {
          "output_type": "stream",
          "text": [
            " 92%|█████████▎| 925/1000 [5:35:57<17:38, 14.11s/it]"
          ],
          "name": "stderr"
        },
        {
          "output_type": "stream",
          "text": [
            "Episode 924\tCurrent Reward: 248.00\n"
          ],
          "name": "stdout"
        },
        {
          "output_type": "stream",
          "text": [
            " 93%|█████████▎| 926/1000 [5:37:03<36:43, 29.78s/it]"
          ],
          "name": "stderr"
        },
        {
          "output_type": "stream",
          "text": [
            "Episode 925\tCurrent Reward: 963.00\n"
          ],
          "name": "stdout"
        },
        {
          "output_type": "stream",
          "text": [
            " 93%|█████████▎| 927/1000 [5:37:11<28:07, 23.11s/it]"
          ],
          "name": "stderr"
        },
        {
          "output_type": "stream",
          "text": [
            "Episode 926\tCurrent Reward: 606.00\n"
          ],
          "name": "stdout"
        },
        {
          "output_type": "stream",
          "text": [
            " 93%|█████████▎| 928/1000 [5:37:22<23:39, 19.72s/it]"
          ],
          "name": "stderr"
        },
        {
          "output_type": "stream",
          "text": [
            "Episode 927\tCurrent Reward: 593.00\n"
          ],
          "name": "stdout"
        },
        {
          "output_type": "stream",
          "text": [
            " 93%|█████████▎| 929/1000 [5:38:18<35:54, 30.34s/it]"
          ],
          "name": "stderr"
        },
        {
          "output_type": "stream",
          "text": [
            "Episode 928\tCurrent Reward: 1638.00\n"
          ],
          "name": "stdout"
        },
        {
          "output_type": "stream",
          "text": [
            " 93%|█████████▎| 930/1000 [5:38:30<28:59, 24.85s/it]"
          ],
          "name": "stderr"
        },
        {
          "output_type": "stream",
          "text": [
            "Episode 929\tCurrent Reward: 588.00\n"
          ],
          "name": "stdout"
        },
        {
          "output_type": "stream",
          "text": [
            " 93%|█████████▎| 931/1000 [5:38:33<21:14, 18.48s/it]"
          ],
          "name": "stderr"
        },
        {
          "output_type": "stream",
          "text": [
            "Episode 930\tCurrent Reward: 250.00\n"
          ],
          "name": "stdout"
        },
        {
          "output_type": "stream",
          "text": [
            " 93%|█████████▎| 932/1000 [5:38:43<17:54, 15.81s/it]"
          ],
          "name": "stderr"
        },
        {
          "output_type": "stream",
          "text": [
            "Episode 931\tCurrent Reward: 638.00\n"
          ],
          "name": "stdout"
        },
        {
          "output_type": "stream",
          "text": [
            " 93%|█████████▎| 933/1000 [5:39:37<30:37, 27.42s/it]"
          ],
          "name": "stderr"
        },
        {
          "output_type": "stream",
          "text": [
            "Episode 932\tCurrent Reward: 983.00\n"
          ],
          "name": "stdout"
        },
        {
          "output_type": "stream",
          "text": [
            " 93%|█████████▎| 934/1000 [5:40:38<41:06, 37.38s/it]"
          ],
          "name": "stderr"
        },
        {
          "output_type": "stream",
          "text": [
            "Episode 933\tCurrent Reward: 651.00\n"
          ],
          "name": "stdout"
        },
        {
          "output_type": "stream",
          "text": [
            " 94%|█████████▎| 935/1000 [5:41:05<37:13, 34.36s/it]"
          ],
          "name": "stderr"
        },
        {
          "output_type": "stream",
          "text": [
            "Episode 934\tCurrent Reward: 1026.00\n"
          ],
          "name": "stdout"
        },
        {
          "output_type": "stream",
          "text": [
            " 94%|█████████▎| 936/1000 [5:41:09<26:46, 25.11s/it]"
          ],
          "name": "stderr"
        },
        {
          "output_type": "stream",
          "text": [
            "Episode 935\tCurrent Reward: 247.00\n"
          ],
          "name": "stdout"
        },
        {
          "output_type": "stream",
          "text": [
            " 94%|█████████▎| 937/1000 [5:41:49<31:16, 29.79s/it]"
          ],
          "name": "stderr"
        },
        {
          "output_type": "stream",
          "text": [
            "Episode 936\tCurrent Reward: 770.00\n"
          ],
          "name": "stdout"
        },
        {
          "output_type": "stream",
          "text": [
            " 94%|█████████▍| 938/1000 [5:42:13<28:55, 28.00s/it]"
          ],
          "name": "stderr"
        },
        {
          "output_type": "stream",
          "text": [
            "Episode 937\tCurrent Reward: 624.00\n"
          ],
          "name": "stdout"
        },
        {
          "output_type": "stream",
          "text": [
            " 94%|█████████▍| 939/1000 [5:43:26<42:12, 41.52s/it]"
          ],
          "name": "stderr"
        },
        {
          "output_type": "stream",
          "text": [
            "Episode 938\tCurrent Reward: 964.00\n"
          ],
          "name": "stdout"
        },
        {
          "output_type": "stream",
          "text": [
            " 94%|█████████▍| 940/1000 [5:43:43<34:06, 34.11s/it]"
          ],
          "name": "stderr"
        },
        {
          "output_type": "stream",
          "text": [
            "Episode 939\tCurrent Reward: 637.00\n",
            "==========\n",
            "Epoch: 940, average reward: 754.350000\n",
            "==========\n"
          ],
          "name": "stdout"
        },
        {
          "output_type": "stream",
          "text": [
            " 94%|█████████▍| 941/1000 [5:44:05<30:00, 30.52s/it]"
          ],
          "name": "stderr"
        },
        {
          "output_type": "stream",
          "text": [
            "Episode 940\tCurrent Reward: 771.00\n"
          ],
          "name": "stdout"
        },
        {
          "output_type": "stream",
          "text": [
            " 94%|█████████▍| 942/1000 [5:44:36<29:40, 30.69s/it]"
          ],
          "name": "stderr"
        },
        {
          "output_type": "stream",
          "text": [
            "Episode 941\tCurrent Reward: 612.00\n"
          ],
          "name": "stdout"
        },
        {
          "output_type": "stream",
          "text": [
            " 94%|█████████▍| 943/1000 [5:44:54<25:30, 26.84s/it]"
          ],
          "name": "stderr"
        },
        {
          "output_type": "stream",
          "text": [
            "Episode 942\tCurrent Reward: 635.00\n"
          ],
          "name": "stdout"
        },
        {
          "output_type": "stream",
          "text": [
            " 94%|█████████▍| 944/1000 [5:45:34<28:41, 30.75s/it]"
          ],
          "name": "stderr"
        },
        {
          "output_type": "stream",
          "text": [
            "Episode 943\tCurrent Reward: 773.00\n"
          ],
          "name": "stdout"
        },
        {
          "output_type": "stream",
          "text": [
            " 94%|█████████▍| 945/1000 [5:46:20<32:28, 35.43s/it]"
          ],
          "name": "stderr"
        },
        {
          "output_type": "stream",
          "text": [
            "Episode 944\tCurrent Reward: 1297.00\n"
          ],
          "name": "stdout"
        },
        {
          "output_type": "stream",
          "text": [
            " 95%|█████████▍| 946/1000 [5:47:27<40:19, 44.80s/it]"
          ],
          "name": "stderr"
        },
        {
          "output_type": "stream",
          "text": [
            "Episode 945\tCurrent Reward: 1261.00\n"
          ],
          "name": "stdout"
        },
        {
          "output_type": "stream",
          "text": [
            " 95%|█████████▍| 947/1000 [5:47:51<34:00, 38.50s/it]"
          ],
          "name": "stderr"
        },
        {
          "output_type": "stream",
          "text": [
            "Episode 946\tCurrent Reward: 1031.00\n"
          ],
          "name": "stdout"
        },
        {
          "output_type": "stream",
          "text": [
            " 95%|█████████▍| 948/1000 [5:48:22<31:29, 36.34s/it]"
          ],
          "name": "stderr"
        },
        {
          "output_type": "stream",
          "text": [
            "Episode 947\tCurrent Reward: 718.00\n"
          ],
          "name": "stdout"
        },
        {
          "output_type": "stream",
          "text": [
            " 95%|█████████▍| 949/1000 [5:48:40<26:12, 30.83s/it]"
          ],
          "name": "stderr"
        },
        {
          "output_type": "stream",
          "text": [
            "Episode 948\tCurrent Reward: 636.00\n"
          ],
          "name": "stdout"
        },
        {
          "output_type": "stream",
          "text": [
            " 95%|█████████▌| 950/1000 [5:49:59<37:36, 45.13s/it]"
          ],
          "name": "stderr"
        },
        {
          "output_type": "stream",
          "text": [
            "Episode 949\tCurrent Reward: 933.00\n"
          ],
          "name": "stdout"
        },
        {
          "output_type": "stream",
          "text": [
            " 95%|█████████▌| 951/1000 [5:50:30<33:27, 40.97s/it]"
          ],
          "name": "stderr"
        },
        {
          "output_type": "stream",
          "text": [
            "Episode 950\tCurrent Reward: 713.00\n"
          ],
          "name": "stdout"
        },
        {
          "output_type": "stream",
          "text": [
            " 95%|█████████▌| 952/1000 [5:51:33<38:05, 47.62s/it]"
          ],
          "name": "stderr"
        },
        {
          "output_type": "stream",
          "text": [
            "Episode 951\tCurrent Reward: 1508.00\n"
          ],
          "name": "stdout"
        },
        {
          "output_type": "stream",
          "text": [
            " 95%|█████████▌| 953/1000 [5:51:37<26:55, 34.38s/it]"
          ],
          "name": "stderr"
        },
        {
          "output_type": "stream",
          "text": [
            "Episode 952\tCurrent Reward: 248.00\n"
          ],
          "name": "stdout"
        },
        {
          "output_type": "stream",
          "text": [
            " 95%|█████████▌| 954/1000 [5:51:40<19:14, 25.10s/it]"
          ],
          "name": "stderr"
        },
        {
          "output_type": "stream",
          "text": [
            "Episode 953\tCurrent Reward: 248.00\n"
          ],
          "name": "stdout"
        },
        {
          "output_type": "stream",
          "text": [
            " 96%|█████████▌| 955/1000 [5:51:49<15:17, 20.38s/it]"
          ],
          "name": "stderr"
        },
        {
          "output_type": "stream",
          "text": [
            "Episode 954\tCurrent Reward: 620.00\n"
          ],
          "name": "stdout"
        },
        {
          "output_type": "stream",
          "text": [
            " 96%|█████████▌| 956/1000 [5:52:09<14:42, 20.06s/it]"
          ],
          "name": "stderr"
        },
        {
          "output_type": "stream",
          "text": [
            "Episode 955\tCurrent Reward: 762.00\n"
          ],
          "name": "stdout"
        },
        {
          "output_type": "stream",
          "text": [
            " 96%|█████████▌| 957/1000 [5:52:12<10:47, 15.05s/it]"
          ],
          "name": "stderr"
        },
        {
          "output_type": "stream",
          "text": [
            "Episode 956\tCurrent Reward: 248.00\n"
          ],
          "name": "stdout"
        },
        {
          "output_type": "stream",
          "text": [
            " 96%|█████████▌| 958/1000 [5:52:50<15:20, 21.92s/it]"
          ],
          "name": "stderr"
        },
        {
          "output_type": "stream",
          "text": [
            "Episode 957\tCurrent Reward: 777.00\n"
          ],
          "name": "stdout"
        },
        {
          "output_type": "stream",
          "text": [
            " 96%|█████████▌| 959/1000 [5:53:05<13:28, 19.73s/it]"
          ],
          "name": "stderr"
        },
        {
          "output_type": "stream",
          "text": [
            "Episode 958\tCurrent Reward: 775.00\n"
          ],
          "name": "stdout"
        },
        {
          "output_type": "stream",
          "text": [
            " 96%|█████████▌| 960/1000 [5:53:14<11:10, 16.76s/it]"
          ],
          "name": "stderr"
        },
        {
          "output_type": "stream",
          "text": [
            "Episode 959\tCurrent Reward: 617.00\n",
            "==========\n",
            "Epoch: 960, average reward: 759.150000\n",
            "==========\n"
          ],
          "name": "stdout"
        },
        {
          "output_type": "stream",
          "text": [
            " 96%|█████████▌| 961/1000 [5:54:04<17:21, 26.70s/it]"
          ],
          "name": "stderr"
        },
        {
          "output_type": "stream",
          "text": [
            "Episode 960\tCurrent Reward: 1292.00\n"
          ],
          "name": "stdout"
        },
        {
          "output_type": "stream",
          "text": [
            " 96%|█████████▌| 962/1000 [5:54:20<14:52, 23.49s/it]"
          ],
          "name": "stderr"
        },
        {
          "output_type": "stream",
          "text": [
            "Episode 961\tCurrent Reward: 640.00\n"
          ],
          "name": "stdout"
        },
        {
          "output_type": "stream",
          "text": [
            " 96%|█████████▋| 963/1000 [5:54:42<14:06, 22.87s/it]"
          ],
          "name": "stderr"
        },
        {
          "output_type": "stream",
          "text": [
            "Episode 962\tCurrent Reward: 806.00\n"
          ],
          "name": "stdout"
        },
        {
          "output_type": "stream",
          "text": [
            " 96%|█████████▋| 964/1000 [5:54:50<11:07, 18.55s/it]"
          ],
          "name": "stderr"
        },
        {
          "output_type": "stream",
          "text": [
            "Episode 963\tCurrent Reward: 638.00\n"
          ],
          "name": "stdout"
        },
        {
          "output_type": "stream",
          "text": [
            " 96%|█████████▋| 965/1000 [5:55:06<10:20, 17.72s/it]"
          ],
          "name": "stderr"
        },
        {
          "output_type": "stream",
          "text": [
            "Episode 964\tCurrent Reward: 640.00\n"
          ],
          "name": "stdout"
        },
        {
          "output_type": "stream",
          "text": [
            " 97%|█████████▋| 966/1000 [5:55:26<10:25, 18.38s/it]"
          ],
          "name": "stderr"
        },
        {
          "output_type": "stream",
          "text": [
            "Episode 965\tCurrent Reward: 569.00\n"
          ],
          "name": "stdout"
        },
        {
          "output_type": "stream",
          "text": [
            " 97%|█████████▋| 967/1000 [5:55:44<10:02, 18.25s/it]"
          ],
          "name": "stderr"
        },
        {
          "output_type": "stream",
          "text": [
            "Episode 966\tCurrent Reward: 634.00\n"
          ],
          "name": "stdout"
        },
        {
          "output_type": "stream",
          "text": [
            " 97%|█████████▋| 968/1000 [5:56:00<09:22, 17.58s/it]"
          ],
          "name": "stderr"
        },
        {
          "output_type": "stream",
          "text": [
            "Episode 967\tCurrent Reward: 640.00\n"
          ],
          "name": "stdout"
        },
        {
          "output_type": "stream",
          "text": [
            " 97%|█████████▋| 969/1000 [5:56:10<07:54, 15.30s/it]"
          ],
          "name": "stderr"
        },
        {
          "output_type": "stream",
          "text": [
            "Episode 968\tCurrent Reward: 604.00\n"
          ],
          "name": "stdout"
        },
        {
          "output_type": "stream",
          "text": [
            " 97%|█████████▋| 970/1000 [5:56:40<09:53, 19.77s/it]"
          ],
          "name": "stderr"
        },
        {
          "output_type": "stream",
          "text": [
            "Episode 969\tCurrent Reward: 1020.00\n"
          ],
          "name": "stdout"
        },
        {
          "output_type": "stream",
          "text": [
            " 97%|█████████▋| 971/1000 [5:57:00<09:33, 19.78s/it]"
          ],
          "name": "stderr"
        },
        {
          "output_type": "stream",
          "text": [
            "Episode 970\tCurrent Reward: 615.00\n"
          ],
          "name": "stdout"
        },
        {
          "output_type": "stream",
          "text": [
            " 97%|█████████▋| 972/1000 [5:57:32<10:58, 23.52s/it]"
          ],
          "name": "stderr"
        },
        {
          "output_type": "stream",
          "text": [
            "Episode 971\tCurrent Reward: 1306.00\n"
          ],
          "name": "stdout"
        },
        {
          "output_type": "stream",
          "text": [
            " 97%|█████████▋| 973/1000 [5:57:36<07:59, 17.77s/it]"
          ],
          "name": "stderr"
        },
        {
          "output_type": "stream",
          "text": [
            "Episode 972\tCurrent Reward: 234.00\n"
          ],
          "name": "stdout"
        },
        {
          "output_type": "stream",
          "text": [
            " 97%|█████████▋| 974/1000 [5:58:30<12:19, 28.44s/it]"
          ],
          "name": "stderr"
        },
        {
          "output_type": "stream",
          "text": [
            "Episode 973\tCurrent Reward: 1373.00\n"
          ],
          "name": "stdout"
        },
        {
          "output_type": "stream",
          "text": [
            " 98%|█████████▊| 975/1000 [5:58:34<08:45, 21.02s/it]"
          ],
          "name": "stderr"
        },
        {
          "output_type": "stream",
          "text": [
            "Episode 974\tCurrent Reward: 251.00\n"
          ],
          "name": "stdout"
        },
        {
          "output_type": "stream",
          "text": [
            " 98%|█████████▊| 976/1000 [5:58:43<07:04, 17.69s/it]"
          ],
          "name": "stderr"
        },
        {
          "output_type": "stream",
          "text": [
            "Episode 975\tCurrent Reward: 640.00\n"
          ],
          "name": "stdout"
        },
        {
          "output_type": "stream",
          "text": [
            " 98%|█████████▊| 977/1000 [5:58:47<05:06, 13.35s/it]"
          ],
          "name": "stderr"
        },
        {
          "output_type": "stream",
          "text": [
            "Episode 976\tCurrent Reward: 251.00\n"
          ],
          "name": "stdout"
        },
        {
          "output_type": "stream",
          "text": [
            " 98%|█████████▊| 978/1000 [5:58:56<04:29, 12.26s/it]"
          ],
          "name": "stderr"
        },
        {
          "output_type": "stream",
          "text": [
            "Episode 977\tCurrent Reward: 627.00\n"
          ],
          "name": "stdout"
        },
        {
          "output_type": "stream",
          "text": [
            " 98%|█████████▊| 979/1000 [5:59:25<05:58, 17.07s/it]"
          ],
          "name": "stderr"
        },
        {
          "output_type": "stream",
          "text": [
            "Episode 978\tCurrent Reward: 795.00\n"
          ],
          "name": "stdout"
        },
        {
          "output_type": "stream",
          "text": [
            " 98%|█████████▊| 980/1000 [5:59:59<07:24, 22.24s/it]"
          ],
          "name": "stderr"
        },
        {
          "output_type": "stream",
          "text": [
            "Episode 979\tCurrent Reward: 1318.00\n",
            "==========\n",
            "Epoch: 980, average reward: 744.650000\n",
            "==========\n"
          ],
          "name": "stdout"
        },
        {
          "output_type": "stream",
          "text": [
            " 98%|█████████▊| 981/1000 [6:00:02<05:14, 16.56s/it]"
          ],
          "name": "stderr"
        },
        {
          "output_type": "stream",
          "text": [
            "Episode 980\tCurrent Reward: 249.00\n"
          ],
          "name": "stdout"
        },
        {
          "output_type": "stream",
          "text": [
            " 98%|█████████▊| 982/1000 [6:00:47<07:29, 24.96s/it]"
          ],
          "name": "stderr"
        },
        {
          "output_type": "stream",
          "text": [
            "Episode 981\tCurrent Reward: 1382.00\n"
          ],
          "name": "stdout"
        },
        {
          "output_type": "stream",
          "text": [
            " 98%|█████████▊| 983/1000 [6:00:51<05:18, 18.71s/it]"
          ],
          "name": "stderr"
        },
        {
          "output_type": "stream",
          "text": [
            "Episode 982\tCurrent Reward: 234.00\n"
          ],
          "name": "stdout"
        },
        {
          "output_type": "stream",
          "text": [
            " 98%|█████████▊| 984/1000 [6:01:29<06:31, 24.49s/it]"
          ],
          "name": "stderr"
        },
        {
          "output_type": "stream",
          "text": [
            "Episode 983\tCurrent Reward: 778.00\n"
          ],
          "name": "stdout"
        },
        {
          "output_type": "stream",
          "text": [
            " 98%|█████████▊| 985/1000 [6:01:39<05:01, 20.08s/it]"
          ],
          "name": "stderr"
        },
        {
          "output_type": "stream",
          "text": [
            "Episode 984\tCurrent Reward: 622.00\n"
          ],
          "name": "stdout"
        },
        {
          "output_type": "stream",
          "text": [
            " 99%|█████████▊| 986/1000 [6:01:50<04:02, 17.29s/it]"
          ],
          "name": "stderr"
        },
        {
          "output_type": "stream",
          "text": [
            "Episode 985\tCurrent Reward: 607.00\n"
          ],
          "name": "stdout"
        },
        {
          "output_type": "stream",
          "text": [
            " 99%|█████████▊| 987/1000 [6:02:32<05:23, 24.90s/it]"
          ],
          "name": "stderr"
        },
        {
          "output_type": "stream",
          "text": [
            "Episode 986\tCurrent Reward: 770.00\n"
          ],
          "name": "stdout"
        },
        {
          "output_type": "stream",
          "text": [
            " 99%|█████████▉| 988/1000 [6:02:48<04:26, 22.19s/it]"
          ],
          "name": "stderr"
        },
        {
          "output_type": "stream",
          "text": [
            "Episode 987\tCurrent Reward: 640.00\n"
          ],
          "name": "stdout"
        },
        {
          "output_type": "stream",
          "text": [
            " 99%|█████████▉| 989/1000 [6:03:04<03:44, 20.41s/it]"
          ],
          "name": "stderr"
        },
        {
          "output_type": "stream",
          "text": [
            "Episode 988\tCurrent Reward: 639.00\n"
          ],
          "name": "stdout"
        },
        {
          "output_type": "stream",
          "text": [
            " 99%|█████████▉| 990/1000 [6:03:08<02:32, 15.27s/it]"
          ],
          "name": "stderr"
        },
        {
          "output_type": "stream",
          "text": [
            "Episode 989\tCurrent Reward: 249.00\n"
          ],
          "name": "stdout"
        },
        {
          "output_type": "stream",
          "text": [
            " 99%|█████████▉| 991/1000 [6:03:51<03:34, 23.84s/it]"
          ],
          "name": "stderr"
        },
        {
          "output_type": "stream",
          "text": [
            "Episode 990\tCurrent Reward: 998.00\n"
          ],
          "name": "stdout"
        },
        {
          "output_type": "stream",
          "text": [
            " 99%|█████████▉| 992/1000 [6:04:18<03:17, 24.74s/it]"
          ],
          "name": "stderr"
        },
        {
          "output_type": "stream",
          "text": [
            "Episode 991\tCurrent Reward: 1025.00\n"
          ],
          "name": "stdout"
        },
        {
          "output_type": "stream",
          "text": [
            " 99%|█████████▉| 993/1000 [6:04:26<02:17, 19.64s/it]"
          ],
          "name": "stderr"
        },
        {
          "output_type": "stream",
          "text": [
            "Episode 992\tCurrent Reward: 614.00\n"
          ],
          "name": "stdout"
        },
        {
          "output_type": "stream",
          "text": [
            " 99%|█████████▉| 994/1000 [6:04:40<01:48, 18.02s/it]"
          ],
          "name": "stderr"
        },
        {
          "output_type": "stream",
          "text": [
            "Episode 993\tCurrent Reward: 760.00\n"
          ],
          "name": "stdout"
        },
        {
          "output_type": "stream",
          "text": [
            "100%|█████████▉| 995/1000 [6:05:13<01:52, 22.43s/it]"
          ],
          "name": "stderr"
        },
        {
          "output_type": "stream",
          "text": [
            "Episode 994\tCurrent Reward: 787.00\n"
          ],
          "name": "stdout"
        },
        {
          "output_type": "stream",
          "text": [
            "100%|█████████▉| 996/1000 [6:06:00<01:59, 29.83s/it]"
          ],
          "name": "stderr"
        },
        {
          "output_type": "stream",
          "text": [
            "Episode 995\tCurrent Reward: 992.00\n"
          ],
          "name": "stdout"
        },
        {
          "output_type": "stream",
          "text": [
            "100%|█████████▉| 997/1000 [6:06:32<01:31, 30.53s/it]"
          ],
          "name": "stderr"
        },
        {
          "output_type": "stream",
          "text": [
            "Episode 996\tCurrent Reward: 788.00\n"
          ],
          "name": "stdout"
        },
        {
          "output_type": "stream",
          "text": [
            "100%|█████████▉| 998/1000 [6:07:49<01:28, 44.44s/it]"
          ],
          "name": "stderr"
        },
        {
          "output_type": "stream",
          "text": [
            "Episode 997\tCurrent Reward: 941.00\n"
          ],
          "name": "stdout"
        },
        {
          "output_type": "stream",
          "text": [
            "100%|█████████▉| 999/1000 [6:08:15<00:38, 38.81s/it]"
          ],
          "name": "stderr"
        },
        {
          "output_type": "stream",
          "text": [
            "Episode 998\tCurrent Reward: 799.00\n"
          ],
          "name": "stdout"
        },
        {
          "output_type": "stream",
          "text": [
            "100%|██████████| 1000/1000 [6:08:42<00:00, 22.12s/it]"
          ],
          "name": "stderr"
        },
        {
          "output_type": "stream",
          "text": [
            "Episode 999\tCurrent Reward: 796.00\n",
            "==========\n",
            "Epoch: 1000, average reward: 733.500000\n",
            "==========\n"
          ],
          "name": "stdout"
        },
        {
          "output_type": "stream",
          "text": [
            "\n"
          ],
          "name": "stderr"
        }
      ]
    },
    {
      "cell_type": "markdown",
      "metadata": {
        "id": "Z-x_LYl7FwWl"
      },
      "source": [
        "## Save the deep q-network and sum rewards"
      ]
    },
    {
      "cell_type": "code",
      "metadata": {
        "id": "EgzNM52lDkgk"
      },
      "source": [
        "import json\r\n",
        "\r\n",
        "with open('sum_reward.txt', 'w') as f:\r\n",
        "  for r in sum_rewards:\r\n",
        "    f.write(str(r))\r\n",
        "    f.write('\\n')"
      ],
      "execution_count": null,
      "outputs": []
    },
    {
      "cell_type": "code",
      "metadata": {
        "id": "3uu5abGm6ZRz"
      },
      "source": [
        "def save_model(agent):\r\n",
        "  torch.save(agent.qnetwork_local.state_dict(), 'local_network.pt')\r\n",
        "  torch.save(agent.qnetwork_target.state_dict(), 'target_network.pt')\r\n",
        "  torch.save(agent.optimizer.state_dict(), 'optimizer.pt')"
      ],
      "execution_count": null,
      "outputs": []
    },
    {
      "cell_type": "code",
      "metadata": {
        "id": "wc0D515bFqZr"
      },
      "source": [
        "save_model(agent)"
      ],
      "execution_count": null,
      "outputs": []
    },
    {
      "cell_type": "code",
      "metadata": {
        "id": "8qBjCgS876XG"
      },
      "source": [
        ""
      ],
      "execution_count": null,
      "outputs": []
    },
    {
      "cell_type": "code",
      "metadata": {
        "colab": {
          "base_uri": "https://localhost:8080/",
          "height": 265
        },
        "id": "3Pjpp86z8Sr1",
        "outputId": "15c44fb1-fe3e-478e-8bf6-d8cc808ddcbc"
      },
      "source": [
        "plt.plot(sum_rewards)\n",
        "plt.show()"
      ],
      "execution_count": null,
      "outputs": [
        {
          "output_type": "display_data",
          "data": {
            "image/png": "[encoded data removed]",
            "text/plain": [
              "<Figure size 432x288 with 1 Axes>"
            ]
          },
          "metadata": {
            "tags": [],
            "needs_background": "light"
          }
        }
      ]
    },
    {
      "cell_type": "code",
      "metadata": {
        "colab": {
          "base_uri": "https://localhost:8080/",
          "height": 265
        },
        "id": "RZcpZh_82ujS",
        "outputId": "73bd4326-1802-4abf-b2bd-ea477a4230f4"
      },
      "source": [
        "window_size = 900\r\n",
        "plt.plot([np.mean(sum_rewards[i-window_size:i]) for i in range(len(sum_rewards)) if i >= window_size])\r\n",
        "plt.show()"
      ],
      "execution_count": null,
      "outputs": [
        {
          "output_type": "display_data",
          "data": {
            "image/png": "[encoded data removed]",
            "text/plain": [
              "<Figure size 432x288 with 1 Axes>"
            ]
          },
          "metadata": {
            "tags": [],
            "needs_background": "light"
          }
        }
      ]
    },
    {
      "cell_type": "markdown",
      "metadata": {
        "id": "uUW0NF00FjM1"
      },
      "source": [
        "# Test"
      ]
    },
    {
      "cell_type": "code",
      "metadata": {
        "id": "hwEmCSEH-u81"
      },
      "source": [
        "tmax = 2000\n",
        "previous_frames = deque(maxlen=MAX_FRAMES)\n",
        "\n",
        "obs = env.reset()\n",
        "prev_obs = None\n",
        "sum_reward = 0\n",
        "\n",
        "frames = np.zeros((tmax, 240, 256, 3), dtype=np.uint8)\n",
        "for i in range(MAX_FRAMES):\n",
        "  previous_frames.append(np.zeros(FRAME_SHAPE))\n",
        "previous_frames.append(np.copy(preprocess(obs)))\n",
        "states = np.array(previous_frames)\n",
        "rs = []\n",
        "xs = []\n",
        "ys = []\n",
        "\n",
        "done = False\n",
        "for t in range(tmax):\n",
        "  frames[t] = obs\n",
        "  actions = agent.act(states, noise)\n",
        "  obs, reward, done, info = env.step(actions)\n",
        "  previous_frames.append(np.copy(preprocess(obs)))\n",
        "  next_states = np.array(previous_frames)\n",
        "\n",
        "  sum_reward += reward\n",
        "  states = next_states\n",
        "  \n",
        "  rs.append(reward)\n",
        "  xs.append(info['x_pos'])\n",
        "  ys.append(info['y_pos'])\n",
        "  if done:\n",
        "    break"
      ],
      "execution_count": null,
      "outputs": []
    },
    {
      "cell_type": "code",
      "metadata": {
        "id": "HjJJcr4OicLM"
      },
      "source": [
        "print('Sum of rewards is ', sum(rs))\r\n",
        "plt.plot([sum(rs[:i]) for i in range(len(rs))])\r\n",
        "plt.show()\r\n",
        "\r\n",
        "plt.plot(xs)\r\n",
        "plt.show()"
      ],
      "execution_count": null,
      "outputs": []
    },
    {
      "cell_type": "code",
      "metadata": {
        "id": "xCZRofLJELxb"
      },
      "source": [
        "anim = display_frames(frames[:1000])"
      ],
      "execution_count": null,
      "outputs": []
    },
    {
      "cell_type": "code",
      "metadata": {
        "id": "8hgxtPH27ieg"
      },
      "source": [
        "with open('test_reward.txt', 'w') as f:\r\n",
        "  for r in rs:\r\n",
        "    f.write(str(r))\r\n",
        "    f.write('\\n')"
      ],
      "execution_count": null,
      "outputs": []
    },
    {
      "cell_type": "code",
      "metadata": {
        "id": "nWwj-QDW-u0J"
      },
      "source": [
        "anim"
      ],
      "execution_count": null,
      "outputs": []
    },
    {
      "cell_type": "markdown",
      "metadata": {
        "id": "5QxdULV7FmlG"
      },
      "source": [
        "## Save the gif and last several frames"
      ]
    },
    {
      "cell_type": "code",
      "metadata": {
        "id": "SrUe-fbn5r2-"
      },
      "source": [
        "from matplotlib.animation import PillowWriter\r\n",
        "\r\n",
        "writer = PillowWriter(fps=50)  \r\n",
        "anim.save(\"animation.gif\", writer=writer)"
      ],
      "execution_count": null,
      "outputs": []
    },
    {
      "cell_type": "code",
      "metadata": {
        "id": "mS-X9KbIZ4X1"
      },
      "source": [
        "batch_tensor = torch.from_numpy(frames[800:864]).view(-1,3,240,256)"
      ],
      "execution_count": null,
      "outputs": []
    },
    {
      "cell_type": "code",
      "metadata": {
        "id": "UMKhgtrTaM2n"
      },
      "source": [
        "grid_img = vutils.make_grid(batch_tensor, nrow=8)\r\n",
        "plt.figure(figsize=(16,16))\r\n",
        "plt.axis(\"off\")\r\n",
        "plt.title(\"Agent Actions\")\r\n",
        "plt.imshow(np.transpose(grid_img.cpu(), (1, 2, 0)))"
      ],
      "execution_count": null,
      "outputs": []
    },
    {
      "cell_type": "code",
      "metadata": {
        "id": "GLJXE6REDKHL"
      },
      "source": [
        "from mpl_toolkits.axes_grid1 import ImageGrid"
      ],
      "execution_count": null,
      "outputs": []
    },
    {
      "cell_type": "code",
      "metadata": {
        "id": "-vKiXPZCCkLc"
      },
      "source": [
        "fig = plt.figure(figsize=(20, 20))\r\n",
        "grid = ImageGrid(fig, 111,  # similar to subplot(111)\r\n",
        "          nrows_ncols=(8, 8),  # creates 2x2 grid of axes\r\n",
        "          axes_pad=0.1,  # pad between axes in inch.\r\n",
        "          )\r\n",
        "\r\n",
        "for ax, im in zip(grid, frames[888:952]):\r\n",
        "  # Iterating over the grid returns the Axes.\r\n",
        "  ax.imshow(im)\r\n",
        "\r\n",
        "plt.show()"
      ],
      "execution_count": null,
      "outputs": []
    },
    {
      "cell_type": "code",
      "metadata": {
        "id": "bPb5XMZDXyE5"
      },
      "source": [
        ""
      ],
      "execution_count": null,
      "outputs": []
    }
  ]
}